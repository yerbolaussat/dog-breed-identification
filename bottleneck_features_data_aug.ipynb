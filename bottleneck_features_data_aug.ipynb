{
 "cells": [
  {
   "cell_type": "code",
   "execution_count": 1,
   "metadata": {},
   "outputs": [
    {
     "name": "stderr",
     "output_type": "stream",
     "text": [
      "Using TensorFlow backend.\n"
     ]
    }
   ],
   "source": [
    "from sklearn.datasets import load_files       \n",
    "from keras.utils import np_utils\n",
    "import numpy as np\n",
    "from glob import glob\n",
    "\n",
    "# define function to load train, test, and validation datasets\n",
    "def load_dataset(path):\n",
    "    data = load_files(path)\n",
    "    dog_targets = np_utils.to_categorical(np.array(data['target']), 133)\n",
    "    return dog_targets\n",
    "\n",
    "# load train, test, and validation datasets\n",
    "train_targets = load_dataset('dogImages/train')\n",
    "valid_targets = load_dataset('dogImages/valid')\n",
    "test_targets = load_dataset('dogImages/test')\n",
    "\n",
    "# load list of dog names\n",
    "dog_names = [item[20:-1] for item in sorted(glob(\"dogImages/train/*/\"))]\n"
   ]
  },
  {
   "cell_type": "code",
   "execution_count": null,
   "metadata": {},
   "outputs": [],
   "source": []
  },
  {
   "cell_type": "code",
   "execution_count": null,
   "metadata": {},
   "outputs": [],
   "source": []
  },
  {
   "cell_type": "code",
   "execution_count": null,
   "metadata": {},
   "outputs": [],
   "source": [
    "# Original data (DON'T NEED TO IMPPORT)"
   ]
  },
  {
   "cell_type": "code",
   "execution_count": 1,
   "metadata": {},
   "outputs": [
    {
     "name": "stdout",
     "output_type": "stream",
     "text": [
      "(20040, 224, 224, 3)\n"
     ]
    }
   ],
   "source": [
    "import numpy as np\n",
    "x_train_aug = np.load(open('x_train_aug.npy'))\n",
    "print(x_train_aug.shape)"
   ]
  },
  {
   "cell_type": "code",
   "execution_count": 2,
   "metadata": {},
   "outputs": [],
   "source": [
    "import numpy as np\n",
    "x_train_aug1 = np.load(open('x_aug1.npy'))"
   ]
  },
  {
   "cell_type": "code",
   "execution_count": null,
   "metadata": {},
   "outputs": [],
   "source": []
  },
  {
   "cell_type": "code",
   "execution_count": null,
   "metadata": {},
   "outputs": [],
   "source": []
  },
  {
   "cell_type": "code",
   "execution_count": null,
   "metadata": {},
   "outputs": [],
   "source": []
  },
  {
   "cell_type": "code",
   "execution_count": null,
   "metadata": {},
   "outputs": [],
   "source": [
    "# Original data labels (import in the beginning)"
   ]
  },
  {
   "cell_type": "code",
   "execution_count": null,
   "metadata": {},
   "outputs": [],
   "source": [
    "import numpy as np\n",
    "y_train_aug3x = np.load(open('y_train_aug.npy'))\n",
    "print(y_train_aug.shape)"
   ]
  },
  {
   "cell_type": "code",
   "execution_count": 2,
   "metadata": {},
   "outputs": [
    {
     "ename": "NameError",
     "evalue": "name 'y_train_aug1' is not defined",
     "output_type": "error",
     "traceback": [
      "\u001b[0;31m---------------------------------------------------------------------------\u001b[0m",
      "\u001b[0;31mNameError\u001b[0m                                 Traceback (most recent call last)",
      "\u001b[0;32m<ipython-input-2-de72a5747c09>\u001b[0m in \u001b[0;36m<module>\u001b[0;34m()\u001b[0m\n\u001b[1;32m      1\u001b[0m \u001b[0my_train_aug2x\u001b[0m \u001b[0;34m=\u001b[0m \u001b[0mnp\u001b[0m\u001b[0;34m.\u001b[0m\u001b[0mload\u001b[0m\u001b[0;34m(\u001b[0m\u001b[0mopen\u001b[0m\u001b[0;34m(\u001b[0m\u001b[0;34m'y_aug1.npy'\u001b[0m\u001b[0;34m)\u001b[0m\u001b[0;34m)\u001b[0m\u001b[0;34m\u001b[0m\u001b[0m\n\u001b[0;32m----> 2\u001b[0;31m \u001b[0;32mprint\u001b[0m\u001b[0;34m(\u001b[0m\u001b[0my_train_aug1\u001b[0m\u001b[0;34m.\u001b[0m\u001b[0mshape\u001b[0m\u001b[0;34m)\u001b[0m\u001b[0;34m\u001b[0m\u001b[0m\n\u001b[0m",
      "\u001b[0;31mNameError\u001b[0m: name 'y_train_aug1' is not defined"
     ]
    }
   ],
   "source": [
    "y_train_aug2x = np.load(open('y_aug1.npy'))\n",
    "print(y_train_aug1.shape)"
   ]
  },
  {
   "cell_type": "code",
   "execution_count": null,
   "metadata": {},
   "outputs": [],
   "source": []
  },
  {
   "cell_type": "code",
   "execution_count": null,
   "metadata": {},
   "outputs": [],
   "source": []
  },
  {
   "cell_type": "code",
   "execution_count": null,
   "metadata": {},
   "outputs": [],
   "source": []
  },
  {
   "cell_type": "code",
   "execution_count": null,
   "metadata": {},
   "outputs": [],
   "source": []
  },
  {
   "cell_type": "code",
   "execution_count": null,
   "metadata": {},
   "outputs": [],
   "source": []
  },
  {
   "cell_type": "code",
   "execution_count": null,
   "metadata": {},
   "outputs": [],
   "source": []
  },
  {
   "cell_type": "code",
   "execution_count": null,
   "metadata": {},
   "outputs": [],
   "source": []
  },
  {
   "cell_type": "code",
   "execution_count": null,
   "metadata": {},
   "outputs": [],
   "source": []
  },
  {
   "cell_type": "code",
   "execution_count": null,
   "metadata": {},
   "outputs": [],
   "source": [
    "# Transfer Learning. RESNET50\n",
    "\n",
    "import numpy as np\n",
    "train_resnet_features = np.load('bottleneck_features//train_resnet_features_aug.npy')\n",
    "valid_resnet_features = np.load('bottleneck_features//valid_resnet_features_aug.npy')\n",
    "test_resnet_features = np.load('bottleneck_features//test_resnet_features_aug.npy')\n"
   ]
  },
  {
   "cell_type": "code",
   "execution_count": 48,
   "metadata": {},
   "outputs": [
    {
     "name": "stdout",
     "output_type": "stream",
     "text": [
      "(20040, 1, 1, 2048)\n"
     ]
    }
   ],
   "source": [
    "print(train_resnet_features.shape)"
   ]
  },
  {
   "cell_type": "code",
   "execution_count": 49,
   "metadata": {},
   "outputs": [
    {
     "name": "stdout",
     "output_type": "stream",
     "text": [
      "_________________________________________________________________\n",
      "Layer (type)                 Output Shape              Param #   \n",
      "=================================================================\n",
      "global_average_pooling2d_7 ( (None, 2048)              0         \n",
      "_________________________________________________________________\n",
      "batch_normalization_13 (Batc (None, 2048)              8192      \n",
      "_________________________________________________________________\n",
      "dropout_13 (Dropout)         (None, 2048)              0         \n",
      "_________________________________________________________________\n",
      "dense_13 (Dense)             (None, 266)               545034    \n",
      "_________________________________________________________________\n",
      "batch_normalization_14 (Batc (None, 266)               1064      \n",
      "_________________________________________________________________\n",
      "dropout_14 (Dropout)         (None, 266)               0         \n",
      "_________________________________________________________________\n",
      "dense_14 (Dense)             (None, 133)               35511     \n",
      "=================================================================\n",
      "Total params: 589,801\n",
      "Trainable params: 585,173\n",
      "Non-trainable params: 4,628\n",
      "_________________________________________________________________\n"
     ]
    }
   ],
   "source": [
    "import keras\n",
    "from keras.models import Sequential\n",
    "from keras.layers import Flatten, Dense, Dropout\n",
    "from keras import regularizers\n",
    "from keras.layers import Conv2D, MaxPooling2D, GlobalAveragePooling2D\n",
    "from keras.layers.normalization import BatchNormalization\n",
    "\n",
    "\n",
    "ResNet_model = Sequential()\n",
    "ResNet_model.add(GlobalAveragePooling2D(input_shape=train_resnet_features.shape[1:]))\n",
    "ResNet_model.add(BatchNormalization())\n",
    "ResNet_model.add(Dropout(0.5))\n",
    "\n",
    "ResNet_model.add(Dense(2 * 133,activation='relu'))\n",
    "ResNet_model.add(BatchNormalization())\n",
    "ResNet_model.add(Dropout(0.5))\n",
    "\n",
    "ResNet_model.add(Dense(133, activation='softmax'))\n",
    "\n",
    "ResNet_model.compile(loss='categorical_crossentropy', optimizer='adam', metrics=['accuracy'])\n",
    "\n",
    "ResNet_model.summary()"
   ]
  },
  {
   "cell_type": "code",
   "execution_count": 7,
   "metadata": {},
   "outputs": [
    {
     "name": "stdout",
     "output_type": "stream",
     "text": [
      "Train on 20040 samples, validate on 835 samples\n",
      "Epoch 1/30\n",
      "19968/20040 [============================>.] - ETA: 0s - loss: 2.6129 - acc: 0.4045Epoch 00001: val_loss improved from inf to 0.98403, saving model to saved_models/resnet_transfer_aug.hdf5\n",
      "20040/20040 [==============================] - 8s 377us/step - loss: 2.6095 - acc: 0.4049 - val_loss: 0.9840 - val_acc: 0.7581\n",
      "Epoch 2/30\n",
      "19712/20040 [============================>.] - ETA: 0s - loss: 1.0747 - acc: 0.6999Epoch 00002: val_loss improved from 0.98403 to 0.64796, saving model to saved_models/resnet_transfer_aug.hdf5\n",
      "20040/20040 [==============================] - 1s 63us/step - loss: 1.0719 - acc: 0.7006 - val_loss: 0.6480 - val_acc: 0.8120\n",
      "Epoch 3/30\n",
      "19840/20040 [============================>.] - ETA: 0s - loss: 0.7692 - acc: 0.7761Epoch 00003: val_loss improved from 0.64796 to 0.57368, saving model to saved_models/resnet_transfer_aug.hdf5\n",
      "20040/20040 [==============================] - 1s 61us/step - loss: 0.7683 - acc: 0.7762 - val_loss: 0.5737 - val_acc: 0.8228\n",
      "Epoch 4/30\n",
      "19968/20040 [============================>.] - ETA: 0s - loss: 0.6211 - acc: 0.8162Epoch 00004: val_loss improved from 0.57368 to 0.51210, saving model to saved_models/resnet_transfer_aug.hdf5\n",
      "20040/20040 [==============================] - 1s 61us/step - loss: 0.6212 - acc: 0.8161 - val_loss: 0.5121 - val_acc: 0.8479\n",
      "Epoch 5/30\n",
      "19840/20040 [============================>.] - ETA: 0s - loss: 0.5276 - acc: 0.8402Epoch 00005: val_loss did not improve\n",
      "20040/20040 [==============================] - 1s 59us/step - loss: 0.5278 - acc: 0.8400 - val_loss: 0.5126 - val_acc: 0.8335\n",
      "Epoch 6/30\n",
      "19840/20040 [============================>.] - ETA: 0s - loss: 0.4583 - acc: 0.8564Epoch 00006: val_loss improved from 0.51210 to 0.49261, saving model to saved_models/resnet_transfer_aug.hdf5\n",
      "20040/20040 [==============================] - 1s 61us/step - loss: 0.4577 - acc: 0.8565 - val_loss: 0.4926 - val_acc: 0.8407\n",
      "Epoch 7/30\n",
      "19712/20040 [============================>.] - ETA: 0s - loss: 0.4180 - acc: 0.8696Epoch 00007: val_loss improved from 0.49261 to 0.48553, saving model to saved_models/resnet_transfer_aug.hdf5\n",
      "20040/20040 [==============================] - 1s 61us/step - loss: 0.4171 - acc: 0.8699 - val_loss: 0.4855 - val_acc: 0.8431\n",
      "Epoch 8/30\n",
      "19968/20040 [============================>.] - ETA: 0s - loss: 0.3733 - acc: 0.8820Epoch 00008: val_loss improved from 0.48553 to 0.47364, saving model to saved_models/resnet_transfer_aug.hdf5\n",
      "20040/20040 [==============================] - 1s 61us/step - loss: 0.3734 - acc: 0.8820 - val_loss: 0.4736 - val_acc: 0.8491\n",
      "Epoch 9/30\n",
      "19968/20040 [============================>.] - ETA: 0s - loss: 0.3429 - acc: 0.8937Epoch 00009: val_loss did not improve\n",
      "20040/20040 [==============================] - 1s 59us/step - loss: 0.3432 - acc: 0.8936 - val_loss: 0.4842 - val_acc: 0.8407\n",
      "Epoch 10/30\n",
      "19840/20040 [============================>.] - ETA: 0s - loss: 0.3250 - acc: 0.8984Epoch 00010: val_loss did not improve\n",
      "20040/20040 [==============================] - 1s 59us/step - loss: 0.3244 - acc: 0.8987 - val_loss: 0.4981 - val_acc: 0.8479\n",
      "Epoch 11/30\n",
      "19840/20040 [============================>.] - ETA: 0s - loss: 0.3107 - acc: 0.9002Epoch 00011: val_loss did not improve\n",
      "20040/20040 [==============================] - 1s 60us/step - loss: 0.3099 - acc: 0.9004 - val_loss: 0.4807 - val_acc: 0.8467\n",
      "Epoch 12/30\n",
      "19840/20040 [============================>.] - ETA: 0s - loss: 0.2842 - acc: 0.9076Epoch 00012: val_loss improved from 0.47364 to 0.47137, saving model to saved_models/resnet_transfer_aug.hdf5\n",
      "20040/20040 [==============================] - 1s 60us/step - loss: 0.2839 - acc: 0.9079 - val_loss: 0.4714 - val_acc: 0.8563\n",
      "Epoch 13/30\n",
      "19840/20040 [============================>.] - ETA: 0s - loss: 0.2830 - acc: 0.9076Epoch 00013: val_loss did not improve\n",
      "20040/20040 [==============================] - 1s 59us/step - loss: 0.2824 - acc: 0.9078 - val_loss: 0.4810 - val_acc: 0.8587\n",
      "Epoch 14/30\n",
      "19840/20040 [============================>.] - ETA: 0s - loss: 0.2644 - acc: 0.9132Epoch 00014: val_loss improved from 0.47137 to 0.46685, saving model to saved_models/resnet_transfer_aug.hdf5\n",
      "20040/20040 [==============================] - 1s 61us/step - loss: 0.2648 - acc: 0.9133 - val_loss: 0.4668 - val_acc: 0.8527\n",
      "Epoch 15/30\n",
      "19840/20040 [============================>.] - ETA: 0s - loss: 0.2555 - acc: 0.9160Epoch 00015: val_loss did not improve\n",
      "20040/20040 [==============================] - 1s 59us/step - loss: 0.2555 - acc: 0.9159 - val_loss: 0.4790 - val_acc: 0.8563\n",
      "Epoch 16/30\n",
      "19840/20040 [============================>.] - ETA: 0s - loss: 0.2498 - acc: 0.9171Epoch 00016: val_loss improved from 0.46685 to 0.46500, saving model to saved_models/resnet_transfer_aug.hdf5\n",
      "20040/20040 [==============================] - 1s 61us/step - loss: 0.2497 - acc: 0.9172 - val_loss: 0.4650 - val_acc: 0.8515\n",
      "Epoch 17/30\n",
      "19840/20040 [============================>.] - ETA: 0s - loss: 0.2424 - acc: 0.9205Epoch 00017: val_loss did not improve\n",
      "20040/20040 [==============================] - 1s 59us/step - loss: 0.2432 - acc: 0.9201 - val_loss: 0.5015 - val_acc: 0.8527\n",
      "Epoch 18/30\n",
      "19840/20040 [============================>.] - ETA: 0s - loss: 0.2317 - acc: 0.9233Epoch 00018: val_loss did not improve\n",
      "20040/20040 [==============================] - 1s 60us/step - loss: 0.2326 - acc: 0.9230 - val_loss: 0.4878 - val_acc: 0.8503\n",
      "Epoch 19/30\n",
      "19840/20040 [============================>.] - ETA: 0s - loss: 0.2294 - acc: 0.9247Epoch 00019: val_loss did not improve\n",
      "20040/20040 [==============================] - 1s 60us/step - loss: 0.2297 - acc: 0.9246 - val_loss: 0.4739 - val_acc: 0.8539\n",
      "Epoch 20/30\n",
      "19840/20040 [============================>.] - ETA: 0s - loss: 0.2239 - acc: 0.9255Epoch 00020: val_loss did not improve\n",
      "20040/20040 [==============================] - 1s 60us/step - loss: 0.2240 - acc: 0.9254 - val_loss: 0.4984 - val_acc: 0.8527\n",
      "Epoch 21/30\n",
      "19968/20040 [============================>.] - ETA: 0s - loss: 0.2183 - acc: 0.9286Epoch 00021: val_loss did not improve\n",
      "20040/20040 [==============================] - 1s 59us/step - loss: 0.2182 - acc: 0.9286 - val_loss: 0.4779 - val_acc: 0.8527\n",
      "Epoch 22/30\n",
      "19840/20040 [============================>.] - ETA: 0s - loss: 0.2119 - acc: 0.9283Epoch 00022: val_loss did not improve\n",
      "20040/20040 [==============================] - 1s 59us/step - loss: 0.2119 - acc: 0.9282 - val_loss: 0.5045 - val_acc: 0.8563\n",
      "Epoch 23/30\n",
      "19968/20040 [============================>.] - ETA: 0s - loss: 0.2159 - acc: 0.9294Epoch 00023: val_loss did not improve\n",
      "20040/20040 [==============================] - 1s 60us/step - loss: 0.2163 - acc: 0.9292 - val_loss: 0.5004 - val_acc: 0.8431\n",
      "Epoch 24/30\n",
      "19840/20040 [============================>.] - ETA: 0s - loss: 0.2132 - acc: 0.9282Epoch 00024: val_loss did not improve\n",
      "20040/20040 [==============================] - 1s 59us/step - loss: 0.2130 - acc: 0.9283 - val_loss: 0.5027 - val_acc: 0.8503\n",
      "Epoch 25/30\n",
      "19840/20040 [============================>.] - ETA: 0s - loss: 0.2030 - acc: 0.9311Epoch 00025: val_loss did not improve\n",
      "20040/20040 [==============================] - 1s 59us/step - loss: 0.2027 - acc: 0.9312 - val_loss: 0.5209 - val_acc: 0.8527\n",
      "Epoch 26/30\n",
      "19840/20040 [============================>.] - ETA: 0s - loss: 0.1918 - acc: 0.9346Epoch 00026: val_loss did not improve\n",
      "20040/20040 [==============================] - 1s 59us/step - loss: 0.1918 - acc: 0.9348 - val_loss: 0.5328 - val_acc: 0.8539\n"
     ]
    }
   ],
   "source": [
    "from keras.callbacks import EarlyStopping\n",
    "from keras.callbacks import ModelCheckpoint  \n",
    "\n",
    "checkpointer = ModelCheckpoint(filepath='saved_models/resnet_transfer_aug.hdf5', \n",
    "                               verbose=1, save_best_only=True)\n",
    "\n",
    "\n",
    "history_resnet = ResNet_model.fit(train_resnet_features, y_train_aug3x, \n",
    "          batch_size = 128,\n",
    "          epochs=30,\n",
    "          verbose=1,\n",
    "          validation_data=(valid_resnet_features, valid_targets),\n",
    "          callbacks=[checkpointer, EarlyStopping(min_delta=1e-7, patience=10)\n",
    "          ])"
   ]
  },
  {
   "cell_type": "code",
   "execution_count": 8,
   "metadata": {},
   "outputs": [
    {
     "data": {
      "image/png": "[encoded data removed]",
      "text/plain": [
       "<matplotlib.figure.Figure at 0x7f8ec53e2110>"
      ]
     },
     "metadata": {},
     "output_type": "display_data"
    }
   ],
   "source": [
    "import matplotlib.pyplot as plt\n",
    "plt.subplots(figsize = (10,10))\n",
    "plt.subplot(2, 1, 1)\n",
    "\n",
    "plt.plot(history_resnet.history['acc'], label = \"Training Acc\")\n",
    "plt.plot(history_resnet.history['val_acc'], label = \"Validation Acc\")\n",
    "\n",
    "plt.legend()\n",
    "plt.xlabel(\"Epochs\")\n",
    "plt.ylabel(\"Accuracy\")\n",
    "plt.title(\"Accuracy vs Number of Iterations\")\n",
    "plt.grid()\n",
    "\n",
    "\n",
    "plt.subplot(2, 1, 2)\n",
    "plt.plot(history_resnet.history['loss'], label = \"Training Loss\")\n",
    "plt.plot(history_resnet.history['val_loss'], label = \"Validation loss\")\n",
    "plt.legend()\n",
    "plt.xlabel(\"Epochs\")\n",
    "plt.ylabel(\"Loss\")\n",
    "plt.title(\"Loss vs Number of Iterations\")\n",
    "plt.grid()\n",
    "plt.savefig('plots/training_resnet_aug.png')\n",
    "plt.show()\n"
   ]
  },
  {
   "cell_type": "code",
   "execution_count": 50,
   "metadata": {},
   "outputs": [],
   "source": [
    "### Load the model weights with the best validation loss.\n",
    "ResNet_model.load_weights('saved_models/resnet_transfer_aug.hdf5')"
   ]
  },
  {
   "cell_type": "code",
   "execution_count": 11,
   "metadata": {},
   "outputs": [
    {
     "name": "stdout",
     "output_type": "stream",
     "text": [
      "Test accuracy: 83.1340%\n"
     ]
    }
   ],
   "source": [
    "# get index of predicted dog breed for each image in test set\n",
    "ResNet_predictions = [np.argmax(ResNet_model.predict(np.expand_dims(feature, axis=0))) for feature in test_resnet_features]\n",
    "\n",
    "# report test accuracy\n",
    "test_accuracy = 100.0*np.sum(np.array(ResNet_predictions)==np.argmax(test_targets, axis=1))/len(ResNet_predictions)\n",
    "print('Test accuracy: %.4f%%' % test_accuracy)"
   ]
  },
  {
   "cell_type": "code",
   "execution_count": 12,
   "metadata": {},
   "outputs": [
    {
     "name": "stdout",
     "output_type": "stream",
     "text": [
      "Validation accuracy: 85.1497%\n"
     ]
    }
   ],
   "source": [
    "# get index of predicted dog breed for each image in test set\n",
    "ResNet_predictions = [np.argmax(ResNet_model.predict(np.expand_dims(feature, axis=0))) for feature in valid_resnet_features]\n",
    "\n",
    "# report test accuracy\n",
    "valid_accuracy = 100.0*np.sum(np.array(ResNet_predictions)==np.argmax(valid_targets, axis=1))/len(ResNet_predictions)\n",
    "print('Validation accuracy: %.4f%%' % valid_accuracy)"
   ]
  },
  {
   "cell_type": "code",
   "execution_count": null,
   "metadata": {},
   "outputs": [],
   "source": []
  },
  {
   "cell_type": "code",
   "execution_count": null,
   "metadata": {},
   "outputs": [],
   "source": []
  },
  {
   "cell_type": "code",
   "execution_count": null,
   "metadata": {},
   "outputs": [],
   "source": []
  },
  {
   "cell_type": "code",
   "execution_count": null,
   "metadata": {},
   "outputs": [],
   "source": []
  },
  {
   "cell_type": "code",
   "execution_count": null,
   "metadata": {},
   "outputs": [],
   "source": []
  },
  {
   "cell_type": "code",
   "execution_count": null,
   "metadata": {},
   "outputs": [],
   "source": []
  },
  {
   "cell_type": "code",
   "execution_count": null,
   "metadata": {},
   "outputs": [],
   "source": []
  },
  {
   "cell_type": "code",
   "execution_count": null,
   "metadata": {},
   "outputs": [],
   "source": []
  },
  {
   "cell_type": "code",
   "execution_count": null,
   "metadata": {},
   "outputs": [],
   "source": []
  },
  {
   "cell_type": "code",
   "execution_count": null,
   "metadata": {},
   "outputs": [],
   "source": []
  },
  {
   "cell_type": "code",
   "execution_count": null,
   "metadata": {},
   "outputs": [],
   "source": [
    "# INCEPTION"
   ]
  },
  {
   "cell_type": "code",
   "execution_count": null,
   "metadata": {},
   "outputs": [],
   "source": []
  },
  {
   "cell_type": "code",
   "execution_count": 12,
   "metadata": {},
   "outputs": [],
   "source": [
    "# Transfer Learning + Data Augmentation. inception50"
   ]
  },
  {
   "cell_type": "code",
   "execution_count": 51,
   "metadata": {},
   "outputs": [],
   "source": [
    "import numpy as np\n",
    "train_inception_features = np.load('bottleneck_features//train_inception_features_aug.npy')\n",
    "valid_inception_features = np.load('bottleneck_features//valid_inception_features_aug.npy')\n",
    "test_inception_features = np.load('bottleneck_features//test_inception_features_aug.npy')\n"
   ]
  },
  {
   "cell_type": "code",
   "execution_count": 52,
   "metadata": {},
   "outputs": [
    {
     "name": "stdout",
     "output_type": "stream",
     "text": [
      "(20040, 5, 5, 2048)\n"
     ]
    }
   ],
   "source": [
    "print(train_inception_features.shape)"
   ]
  },
  {
   "cell_type": "code",
   "execution_count": 53,
   "metadata": {},
   "outputs": [
    {
     "name": "stdout",
     "output_type": "stream",
     "text": [
      "_________________________________________________________________\n",
      "Layer (type)                 Output Shape              Param #   \n",
      "=================================================================\n",
      "global_average_pooling2d_8 ( (None, 2048)              0         \n",
      "_________________________________________________________________\n",
      "batch_normalization_15 (Batc (None, 2048)              8192      \n",
      "_________________________________________________________________\n",
      "dropout_15 (Dropout)         (None, 2048)              0         \n",
      "_________________________________________________________________\n",
      "dense_15 (Dense)             (None, 266)               545034    \n",
      "_________________________________________________________________\n",
      "batch_normalization_16 (Batc (None, 266)               1064      \n",
      "_________________________________________________________________\n",
      "dropout_16 (Dropout)         (None, 266)               0         \n",
      "_________________________________________________________________\n",
      "dense_16 (Dense)             (None, 133)               35511     \n",
      "=================================================================\n",
      "Total params: 589,801\n",
      "Trainable params: 585,173\n",
      "Non-trainable params: 4,628\n",
      "_________________________________________________________________\n"
     ]
    }
   ],
   "source": [
    "import keras\n",
    "from keras.models import Sequential\n",
    "from keras.layers import Flatten, Dense, Dropout\n",
    "from keras import regularizers\n",
    "from keras.layers import Conv2D, MaxPooling2D, GlobalAveragePooling2D\n",
    "from keras.layers.normalization import BatchNormalization\n",
    "\n",
    "\n",
    "inception_model = Sequential()\n",
    "inception_model.add(GlobalAveragePooling2D(input_shape=train_inception_features.shape[1:]))\n",
    "inception_model.add(BatchNormalization())\n",
    "inception_model.add(Dropout(0.5))\n",
    "\n",
    "inception_model.add(Dense(2 * 133,activation='relu'))\n",
    "inception_model.add(BatchNormalization())\n",
    "inception_model.add(Dropout(0.5))\n",
    "\n",
    "inception_model.add(Dense(133, activation='softmax'))\n",
    "\n",
    "inception_model.compile(loss='categorical_crossentropy', optimizer='adam', metrics=['accuracy'])\n",
    "\n",
    "inception_model.summary()"
   ]
  },
  {
   "cell_type": "code",
   "execution_count": 17,
   "metadata": {},
   "outputs": [
    {
     "name": "stdout",
     "output_type": "stream",
     "text": [
      "Train on 20040 samples, validate on 835 samples\n",
      "Epoch 1/30\n",
      "19984/20040 [============================>.] - ETA: 0s - loss: 1.5215 - acc: 0.6151Epoch 00001: val_loss improved from inf to 0.57852, saving model to saved_models/inception_transfer_aug.hdf5\n",
      "20040/20040 [==============================] - 19s 951us/step - loss: 1.5201 - acc: 0.6154 - val_loss: 0.5785 - val_acc: 0.8251\n",
      "Epoch 2/30\n",
      "19992/20040 [============================>.] - ETA: 0s - loss: 0.9361 - acc: 0.7269Epoch 00002: val_loss improved from 0.57852 to 0.55865, saving model to saved_models/inception_transfer_aug.hdf5\n",
      "20040/20040 [==============================] - 19s 926us/step - loss: 0.9358 - acc: 0.7269 - val_loss: 0.5586 - val_acc: 0.8323\n",
      "Epoch 3/30\n",
      "20000/20040 [============================>.] - ETA: 0s - loss: 0.8367 - acc: 0.7571Epoch 00003: val_loss improved from 0.55865 to 0.51695, saving model to saved_models/inception_transfer_aug.hdf5\n",
      "20040/20040 [==============================] - 18s 921us/step - loss: 0.8368 - acc: 0.7570 - val_loss: 0.5170 - val_acc: 0.8491\n",
      "Epoch 4/30\n",
      "19992/20040 [============================>.] - ETA: 0s - loss: 0.7677 - acc: 0.7699Epoch 00004: val_loss did not improve\n",
      "20040/20040 [==============================] - 18s 917us/step - loss: 0.7672 - acc: 0.7700 - val_loss: 0.5393 - val_acc: 0.8479\n",
      "Epoch 5/30\n",
      "19992/20040 [============================>.] - ETA: 0s - loss: 0.7055 - acc: 0.7892Epoch 00005: val_loss did not improve\n",
      "20040/20040 [==============================] - 19s 935us/step - loss: 0.7060 - acc: 0.7892 - val_loss: 0.5377 - val_acc: 0.8419\n",
      "Epoch 6/30\n",
      "19976/20040 [============================>.] - ETA: 0s - loss: 0.6659 - acc: 0.8000Epoch 00006: val_loss improved from 0.51695 to 0.50645, saving model to saved_models/inception_transfer_aug.hdf5\n",
      "20040/20040 [==============================] - 19s 929us/step - loss: 0.6661 - acc: 0.7999 - val_loss: 0.5065 - val_acc: 0.8647\n",
      "Epoch 7/30\n",
      "19984/20040 [============================>.] - ETA: 0s - loss: 0.6418 - acc: 0.8048Epoch 00007: val_loss did not improve\n",
      "20040/20040 [==============================] - 18s 919us/step - loss: 0.6419 - acc: 0.8049 - val_loss: 0.5382 - val_acc: 0.8623\n",
      "Epoch 8/30\n",
      "20016/20040 [============================>.] - ETA: 0s - loss: 0.6075 - acc: 0.8132Epoch 00008: val_loss did not improve\n",
      "20040/20040 [==============================] - 19s 925us/step - loss: 0.6072 - acc: 0.8134 - val_loss: 0.5468 - val_acc: 0.8611\n",
      "Epoch 9/30\n",
      "20008/20040 [============================>.] - ETA: 0s - loss: 0.5686 - acc: 0.8254Epoch 00009: val_loss did not improve\n",
      "20040/20040 [==============================] - 18s 920us/step - loss: 0.5685 - acc: 0.8254 - val_loss: 0.5127 - val_acc: 0.8575\n",
      "Epoch 10/30\n",
      "20000/20040 [============================>.] - ETA: 0s - loss: 0.5565 - acc: 0.8284Epoch 00010: val_loss did not improve\n",
      "20040/20040 [==============================] - 18s 908us/step - loss: 0.5563 - acc: 0.8284 - val_loss: 0.5153 - val_acc: 0.8647\n",
      "Epoch 11/30\n",
      "20016/20040 [============================>.] - ETA: 0s - loss: 0.5333 - acc: 0.8316Epoch 00011: val_loss did not improve\n",
      "20040/20040 [==============================] - 19s 933us/step - loss: 0.5330 - acc: 0.8317 - val_loss: 0.5111 - val_acc: 0.8635\n",
      "Epoch 12/30\n",
      "20024/20040 [============================>.] - ETA: 0s - loss: 0.5300 - acc: 0.8356Epoch 00012: val_loss improved from 0.50645 to 0.50126, saving model to saved_models/inception_transfer_aug.hdf5\n",
      "20040/20040 [==============================] - 19s 924us/step - loss: 0.5297 - acc: 0.8357 - val_loss: 0.5013 - val_acc: 0.8683\n",
      "Epoch 13/30\n",
      "20008/20040 [============================>.] - ETA: 0s - loss: 0.5005 - acc: 0.8387Epoch 00013: val_loss did not improve\n",
      "20040/20040 [==============================] - 19s 926us/step - loss: 0.5004 - acc: 0.8388 - val_loss: 0.5199 - val_acc: 0.8635\n",
      "Epoch 14/30\n",
      "20032/20040 [============================>.] - ETA: 0s - loss: 0.5076 - acc: 0.8404Epoch 00014: val_loss did not improve\n",
      "20040/20040 [==============================] - 19s 926us/step - loss: 0.5075 - acc: 0.8404 - val_loss: 0.5194 - val_acc: 0.8659\n",
      "Epoch 15/30\n",
      "20000/20040 [============================>.] - ETA: 0s - loss: 0.4860 - acc: 0.8476Epoch 00015: val_loss did not improve\n",
      "20040/20040 [==============================] - 17s 869us/step - loss: 0.4864 - acc: 0.8475 - val_loss: 0.5226 - val_acc: 0.8623\n",
      "Epoch 16/30\n",
      "19992/20040 [============================>.] - ETA: 0s - loss: 0.4821 - acc: 0.8510Epoch 00016: val_loss did not improve\n",
      "20040/20040 [==============================] - 17s 855us/step - loss: 0.4818 - acc: 0.8510 - val_loss: 0.5251 - val_acc: 0.8575\n",
      "Epoch 17/30\n",
      "19992/20040 [============================>.] - ETA: 0s - loss: 0.4663 - acc: 0.8507Epoch 00017: val_loss did not improve\n",
      "20040/20040 [==============================] - 17s 865us/step - loss: 0.4659 - acc: 0.8508 - val_loss: 0.5174 - val_acc: 0.8611\n",
      "Epoch 18/30\n",
      "20008/20040 [============================>.] - ETA: 0s - loss: 0.4576 - acc: 0.8524Epoch 00018: val_loss did not improve\n",
      "20040/20040 [==============================] - 19s 924us/step - loss: 0.4574 - acc: 0.8524 - val_loss: 0.5355 - val_acc: 0.8599\n",
      "Epoch 19/30\n",
      "20032/20040 [============================>.] - ETA: 0s - loss: 0.4478 - acc: 0.8561Epoch 00019: val_loss did not improve\n",
      "20040/20040 [==============================] - 18s 883us/step - loss: 0.4477 - acc: 0.8561 - val_loss: 0.5196 - val_acc: 0.8695\n",
      "Epoch 20/30\n",
      "20008/20040 [============================>.] - ETA: 0s - loss: 0.4380 - acc: 0.8625Epoch 00020: val_loss did not improve\n",
      "20040/20040 [==============================] - 18s 876us/step - loss: 0.4390 - acc: 0.8623 - val_loss: 0.5278 - val_acc: 0.8527\n",
      "Epoch 21/30\n",
      "20008/20040 [============================>.] - ETA: 0s - loss: 0.4350 - acc: 0.8600Epoch 00021: val_loss did not improve\n",
      "20040/20040 [==============================] - 18s 879us/step - loss: 0.4350 - acc: 0.8599 - val_loss: 0.5121 - val_acc: 0.8671\n",
      "Epoch 22/30\n",
      "19992/20040 [============================>.] - ETA: 0s - loss: 0.4272 - acc: 0.8650Epoch 00022: val_loss did not improve\n",
      "20040/20040 [==============================] - 18s 902us/step - loss: 0.4272 - acc: 0.8651 - val_loss: 0.5227 - val_acc: 0.8563\n"
     ]
    }
   ],
   "source": [
    "from keras.callbacks import EarlyStopping\n",
    "from keras.callbacks import ModelCheckpoint  \n",
    "\n",
    "checkpointer = ModelCheckpoint(filepath='saved_models/inception_transfer_aug.hdf5', \n",
    "                               verbose=1, save_best_only=True)\n",
    "\n",
    "\n",
    "history_inception = inception_model.fit(train_inception_features, y_train_aug3x, \n",
    "          batch_size = 8,\n",
    "          epochs=30,\n",
    "          verbose=1,\n",
    "          validation_data=(valid_inception_features, valid_targets),\n",
    "          callbacks=[checkpointer, EarlyStopping(min_delta=1e-7, patience=10)\n",
    "          ])"
   ]
  },
  {
   "cell_type": "code",
   "execution_count": 18,
   "metadata": {},
   "outputs": [
    {
     "data": {
      "image/png": "[encoded data removed]",
      "text/plain": [
       "<matplotlib.figure.Figure at 0x7f6cf8acb5d0>"
      ]
     },
     "metadata": {},
     "output_type": "display_data"
    }
   ],
   "source": [
    "import matplotlib.pyplot as plt\n",
    "plt.subplots(figsize = (10,10))\n",
    "plt.subplot(2, 1, 1)\n",
    "\n",
    "plt.plot(history_inception.history['acc'], label = \"Training Acc\")\n",
    "plt.plot(history_inception.history['val_acc'], label = \"Validation Acc\")\n",
    "\n",
    "plt.legend()\n",
    "plt.xlabel(\"Epochs\")\n",
    "plt.ylabel(\"Accuracy\")\n",
    "plt.title(\"Accuracy vs Number of Iterations\")\n",
    "plt.grid()\n",
    "\n",
    "\n",
    "plt.subplot(2, 1, 2)\n",
    "plt.plot(history_inception.history['loss'], label = \"Training Loss\")\n",
    "plt.plot(history_inception.history['val_loss'], label = \"Validation loss\")\n",
    "plt.legend()\n",
    "plt.xlabel(\"Epochs\")\n",
    "plt.ylabel(\"Loss\")\n",
    "plt.title(\"Loss vs Number of Iterations\")\n",
    "plt.grid()\n",
    "plt.savefig('plots/training_inception_aug.png')\n",
    "plt.show()\n"
   ]
  },
  {
   "cell_type": "code",
   "execution_count": 54,
   "metadata": {},
   "outputs": [],
   "source": [
    "### Load the model weights with the best validation loss.\n",
    "inception_model.load_weights('saved_models/inception_transfer_aug.hdf5')"
   ]
  },
  {
   "cell_type": "code",
   "execution_count": 20,
   "metadata": {},
   "outputs": [
    {
     "name": "stdout",
     "output_type": "stream",
     "text": [
      "Test accuracy: 85.0478%\n"
     ]
    }
   ],
   "source": [
    "# get index of predicted dog breed for each image in test set\n",
    "inception_predictions = [np.argmax(inception_model.predict(np.expand_dims(feature, axis=0))) for feature in test_inception_features]\n",
    "\n",
    "# report test accuracy\n",
    "test_accuracy = 100.0*np.sum(np.array(inception_predictions)==np.argmax(test_targets, axis=1))/len(inception_predictions)\n",
    "print('Test accuracy: %.4f%%' % test_accuracy)"
   ]
  },
  {
   "cell_type": "code",
   "execution_count": 21,
   "metadata": {},
   "outputs": [
    {
     "name": "stdout",
     "output_type": "stream",
     "text": [
      "Validation accuracy: 86.8263%\n"
     ]
    }
   ],
   "source": [
    "# get index of predicted dog breed for each image in test set\n",
    "inception_predictions = [np.argmax(inception_model.predict(np.expand_dims(feature, axis=0))) for feature in valid_inception_features]\n",
    "\n",
    "# report test accuracy\n",
    "valid_accuracy = 100.0*np.sum(np.array(inception_predictions)==np.argmax(valid_targets, axis=1))/len(inception_predictions)\n",
    "print('Validation accuracy: %.4f%%' % valid_accuracy)"
   ]
  },
  {
   "cell_type": "code",
   "execution_count": null,
   "metadata": {},
   "outputs": [],
   "source": []
  },
  {
   "cell_type": "code",
   "execution_count": null,
   "metadata": {},
   "outputs": [],
   "source": []
  },
  {
   "cell_type": "code",
   "execution_count": null,
   "metadata": {},
   "outputs": [],
   "source": []
  },
  {
   "cell_type": "code",
   "execution_count": null,
   "metadata": {},
   "outputs": [],
   "source": []
  },
  {
   "cell_type": "code",
   "execution_count": null,
   "metadata": {},
   "outputs": [],
   "source": []
  },
  {
   "cell_type": "code",
   "execution_count": null,
   "metadata": {},
   "outputs": [],
   "source": []
  },
  {
   "cell_type": "code",
   "execution_count": null,
   "metadata": {},
   "outputs": [],
   "source": []
  },
  {
   "cell_type": "code",
   "execution_count": null,
   "metadata": {},
   "outputs": [],
   "source": []
  },
  {
   "cell_type": "code",
   "execution_count": null,
   "metadata": {},
   "outputs": [],
   "source": []
  },
  {
   "cell_type": "code",
   "execution_count": null,
   "metadata": {},
   "outputs": [],
   "source": []
  },
  {
   "cell_type": "code",
   "execution_count": null,
   "metadata": {},
   "outputs": [],
   "source": []
  },
  {
   "cell_type": "code",
   "execution_count": null,
   "metadata": {},
   "outputs": [],
   "source": []
  },
  {
   "cell_type": "code",
   "execution_count": null,
   "metadata": {},
   "outputs": [],
   "source": []
  },
  {
   "cell_type": "code",
   "execution_count": null,
   "metadata": {},
   "outputs": [],
   "source": []
  },
  {
   "cell_type": "code",
   "execution_count": null,
   "metadata": {},
   "outputs": [],
   "source": []
  },
  {
   "cell_type": "code",
   "execution_count": 12,
   "metadata": {},
   "outputs": [],
   "source": [
    "# Transfer Learning + Data Augmentation. xception"
   ]
  },
  {
   "cell_type": "code",
   "execution_count": 3,
   "metadata": {},
   "outputs": [],
   "source": [
    "import numpy as np\n",
    "train_xception_features = np.load('bottleneck_features//train_xception_features_aug.npy')\n",
    "valid_xception_features = np.load('bottleneck_features//valid_xception_features_aug.npy')\n",
    "test_xception_features = np.load('bottleneck_features//test_xception_features_aug.npy')\n"
   ]
  },
  {
   "cell_type": "code",
   "execution_count": 4,
   "metadata": {},
   "outputs": [
    {
     "name": "stdout",
     "output_type": "stream",
     "text": [
      "(13360, 7, 7, 2048)\n"
     ]
    }
   ],
   "source": [
    "print(train_xception_features.shape)"
   ]
  },
  {
   "cell_type": "code",
   "execution_count": 5,
   "metadata": {},
   "outputs": [
    {
     "name": "stdout",
     "output_type": "stream",
     "text": [
      "_________________________________________________________________\n",
      "Layer (type)                 Output Shape              Param #   \n",
      "=================================================================\n",
      "global_average_pooling2d_1 ( (None, 2048)              0         \n",
      "_________________________________________________________________\n",
      "batch_normalization_1 (Batch (None, 2048)              8192      \n",
      "_________________________________________________________________\n",
      "dropout_1 (Dropout)          (None, 2048)              0         \n",
      "_________________________________________________________________\n",
      "dense_1 (Dense)              (None, 266)               545034    \n",
      "_________________________________________________________________\n",
      "batch_normalization_2 (Batch (None, 266)               1064      \n",
      "_________________________________________________________________\n",
      "dropout_2 (Dropout)          (None, 266)               0         \n",
      "_________________________________________________________________\n",
      "dense_2 (Dense)              (None, 133)               35511     \n",
      "=================================================================\n",
      "Total params: 589,801\n",
      "Trainable params: 585,173\n",
      "Non-trainable params: 4,628\n",
      "_________________________________________________________________\n"
     ]
    }
   ],
   "source": [
    "import keras\n",
    "from keras.models import Sequential\n",
    "from keras.layers import Flatten, Dense, Dropout\n",
    "from keras import regularizers\n",
    "from keras.layers import Conv2D, MaxPooling2D, GlobalAveragePooling2D\n",
    "from keras.layers.normalization import BatchNormalization\n",
    "\n",
    "\n",
    "xception_model = Sequential()\n",
    "xception_model.add(GlobalAveragePooling2D(input_shape=train_xception_features.shape[1:]))\n",
    "xception_model.add(BatchNormalization())\n",
    "xception_model.add(Dropout(0.5))\n",
    "\n",
    "xception_model.add(Dense(2 * 133,activation='relu'))\n",
    "xception_model.add(BatchNormalization())\n",
    "xception_model.add(Dropout(0.5))\n",
    "\n",
    "xception_model.add(Dense(133, activation='softmax'))\n",
    "\n",
    "xception_model.compile(loss='categorical_crossentropy', optimizer='adam', metrics=['accuracy'])\n",
    "\n",
    "xception_model.summary()"
   ]
  },
  {
   "cell_type": "code",
   "execution_count": 7,
   "metadata": {},
   "outputs": [
    {
     "name": "stdout",
     "output_type": "stream",
     "text": [
      "Train on 13360 samples, validate on 835 samples\n",
      "Epoch 1/30\n",
      "13320/13360 [============================>.] - ETA: 0s - loss: 1.6587 - acc: 0.5849Epoch 00001: val_loss improved from inf to 0.57270, saving model to saved_models/xception_transfer_aug.hdf5\n",
      "13360/13360 [==============================] - 21s 2ms/step - loss: 1.6573 - acc: 0.5853 - val_loss: 0.5727 - val_acc: 0.8204\n",
      "Epoch 2/30\n",
      "13344/13360 [============================>.] - ETA: 0s - loss: 0.9534 - acc: 0.7259Epoch 00002: val_loss improved from 0.57270 to 0.56542, saving model to saved_models/xception_transfer_aug.hdf5\n",
      "13360/13360 [==============================] - 14s 1ms/step - loss: 0.9539 - acc: 0.7258 - val_loss: 0.5654 - val_acc: 0.8240\n",
      "Epoch 3/30\n",
      "13352/13360 [============================>.] - ETA: 0s - loss: 0.8338 - acc: 0.7559Epoch 00003: val_loss improved from 0.56542 to 0.52387, saving model to saved_models/xception_transfer_aug.hdf5\n",
      "13360/13360 [==============================] - 14s 1ms/step - loss: 0.8335 - acc: 0.7560 - val_loss: 0.5239 - val_acc: 0.8323\n",
      "Epoch 4/30\n",
      "13344/13360 [============================>.] - ETA: 0s - loss: 0.7633 - acc: 0.7675Epoch 00004: val_loss improved from 0.52387 to 0.49368, saving model to saved_models/xception_transfer_aug.hdf5\n",
      "13360/13360 [==============================] - 14s 1ms/step - loss: 0.7632 - acc: 0.7675 - val_loss: 0.4937 - val_acc: 0.8407\n",
      "Epoch 5/30\n",
      "13312/13360 [============================>.] - ETA: 0s - loss: 0.7305 - acc: 0.7802Epoch 00005: val_loss did not improve\n",
      "13360/13360 [==============================] - 14s 1ms/step - loss: 0.7304 - acc: 0.7802 - val_loss: 0.5138 - val_acc: 0.8335\n",
      "Epoch 6/30\n",
      "13312/13360 [============================>.] - ETA: 0s - loss: 0.6891 - acc: 0.7862Epoch 00006: val_loss improved from 0.49368 to 0.47636, saving model to saved_models/xception_transfer_aug.hdf5\n",
      "13360/13360 [==============================] - 13s 1ms/step - loss: 0.6883 - acc: 0.7863 - val_loss: 0.4764 - val_acc: 0.8407\n",
      "Epoch 7/30\n",
      "13344/13360 [============================>.] - ETA: 0s - loss: 0.6506 - acc: 0.7983Epoch 00007: val_loss did not improve\n",
      "13360/13360 [==============================] - 13s 995us/step - loss: 0.6504 - acc: 0.7982 - val_loss: 0.5104 - val_acc: 0.8407\n",
      "Epoch 8/30\n",
      "13312/13360 [============================>.] - ETA: 0s - loss: 0.6100 - acc: 0.8117Epoch 00008: val_loss improved from 0.47636 to 0.46412, saving model to saved_models/xception_transfer_aug.hdf5\n",
      "13360/13360 [==============================] - 14s 1ms/step - loss: 0.6106 - acc: 0.8115 - val_loss: 0.4641 - val_acc: 0.8503\n",
      "Epoch 9/30\n",
      "13344/13360 [============================>.] - ETA: 0s - loss: 0.6012 - acc: 0.8097Epoch 00009: val_loss did not improve\n",
      "13360/13360 [==============================] - 14s 1ms/step - loss: 0.6009 - acc: 0.8097 - val_loss: 0.4850 - val_acc: 0.8527\n",
      "Epoch 10/30\n",
      "13328/13360 [============================>.] - ETA: 0s - loss: 0.5722 - acc: 0.8204Epoch 00010: val_loss did not improve\n",
      "13360/13360 [==============================] - 14s 1ms/step - loss: 0.5714 - acc: 0.8206 - val_loss: 0.5082 - val_acc: 0.8455\n",
      "Epoch 11/30\n",
      "13328/13360 [============================>.] - ETA: 0s - loss: 0.5619 - acc: 0.8271Epoch 00011: val_loss improved from 0.46412 to 0.43856, saving model to saved_models/xception_transfer_aug.hdf5\n",
      "13360/13360 [==============================] - 14s 1ms/step - loss: 0.5619 - acc: 0.8271 - val_loss: 0.4386 - val_acc: 0.8611\n",
      "Epoch 12/30\n",
      "13344/13360 [============================>.] - ETA: 0s - loss: 0.5428 - acc: 0.8314Epoch 00012: val_loss did not improve\n",
      "13360/13360 [==============================] - 14s 1ms/step - loss: 0.5432 - acc: 0.8313 - val_loss: 0.4897 - val_acc: 0.8443\n",
      "Epoch 13/30\n",
      "13328/13360 [============================>.] - ETA: 0s - loss: 0.5155 - acc: 0.8377Epoch 00013: val_loss did not improve\n",
      "13360/13360 [==============================] - 15s 1ms/step - loss: 0.5159 - acc: 0.8375 - val_loss: 0.4847 - val_acc: 0.8635\n",
      "Epoch 14/30\n",
      "13352/13360 [============================>.] - ETA: 0s - loss: 0.5045 - acc: 0.8405Epoch 00014: val_loss did not improve\n",
      "13360/13360 [==============================] - 15s 1ms/step - loss: 0.5044 - acc: 0.8406 - val_loss: 0.4630 - val_acc: 0.8647\n",
      "Epoch 15/30\n",
      "13328/13360 [============================>.] - ETA: 0s - loss: 0.5017 - acc: 0.8404Epoch 00015: val_loss did not improve\n",
      "13360/13360 [==============================] - 14s 1ms/step - loss: 0.5009 - acc: 0.8406 - val_loss: 0.4847 - val_acc: 0.8527\n",
      "Epoch 16/30\n",
      "13336/13360 [============================>.] - ETA: 0s - loss: 0.4919 - acc: 0.8427Epoch 00016: val_loss did not improve\n",
      "13360/13360 [==============================] - 14s 1ms/step - loss: 0.4926 - acc: 0.8424 - val_loss: 0.4673 - val_acc: 0.8731\n",
      "Epoch 17/30\n",
      "13344/13360 [============================>.] - ETA: 0s - loss: 0.4649 - acc: 0.8488Epoch 00017: val_loss did not improve\n",
      "13360/13360 [==============================] - 14s 1ms/step - loss: 0.4647 - acc: 0.8489 - val_loss: 0.4751 - val_acc: 0.8551\n",
      "Epoch 18/30\n",
      "13344/13360 [============================>.] - ETA: 0s - loss: 0.4677 - acc: 0.8507Epoch 00018: val_loss did not improve\n",
      "13360/13360 [==============================] - 14s 1ms/step - loss: 0.4676 - acc: 0.8507 - val_loss: 0.4811 - val_acc: 0.8479\n",
      "Epoch 19/30\n",
      "13344/13360 [============================>.] - ETA: 0s - loss: 0.4444 - acc: 0.8557Epoch 00019: val_loss did not improve\n",
      "13360/13360 [==============================] - 14s 1ms/step - loss: 0.4449 - acc: 0.8555 - val_loss: 0.4863 - val_acc: 0.8539\n",
      "Epoch 20/30\n",
      "13344/13360 [============================>.] - ETA: 0s - loss: 0.4524 - acc: 0.8582Epoch 00020: val_loss did not improve\n",
      "13360/13360 [==============================] - 14s 1ms/step - loss: 0.4523 - acc: 0.8582 - val_loss: 0.4969 - val_acc: 0.8455\n",
      "Epoch 21/30\n",
      "13336/13360 [============================>.] - ETA: 0s - loss: 0.4315 - acc: 0.8604Epoch 00021: val_loss did not improve\n",
      "13360/13360 [==============================] - 14s 1ms/step - loss: 0.4320 - acc: 0.8603 - val_loss: 0.4949 - val_acc: 0.8479\n"
     ]
    }
   ],
   "source": [
    "from keras.callbacks import EarlyStopping\n",
    "from keras.callbacks import ModelCheckpoint  \n",
    "\n",
    "checkpointer = ModelCheckpoint(filepath='saved_models/xception_transfer_aug.hdf5', \n",
    "                               verbose=1, save_best_only=True)\n",
    "\n",
    "\n",
    "history_xception = xception_model.fit(train_xception_features, y_train_aug2x, \n",
    "          batch_size = 8,\n",
    "          epochs=30,\n",
    "          verbose=1,\n",
    "          validation_data=(valid_xception_features, valid_targets),\n",
    "          callbacks=[checkpointer, EarlyStopping(min_delta=1e-7, patience=10)\n",
    "          ])"
   ]
  },
  {
   "cell_type": "code",
   "execution_count": 8,
   "metadata": {},
   "outputs": [
    {
     "data": {
      "image/png": "[encoded data removed]",
      "text/plain": [
       "<matplotlib.figure.Figure at 0x7fdd25858a90>"
      ]
     },
     "metadata": {},
     "output_type": "display_data"
    }
   ],
   "source": [
    "import matplotlib.pyplot as plt\n",
    "plt.subplots(figsize = (10,10))\n",
    "plt.subplot(2, 1, 1)\n",
    "\n",
    "plt.plot(history_xception.history['acc'], label = \"Training Acc\")\n",
    "plt.plot(history_xception.history['val_acc'], label = \"Validation Acc\")\n",
    "\n",
    "plt.legend()\n",
    "plt.xlabel(\"Epochs\")\n",
    "plt.ylabel(\"Accuracy\")\n",
    "plt.title(\"Accuracy vs Number of Iterations\")\n",
    "plt.grid()\n",
    "\n",
    "\n",
    "plt.subplot(2, 1, 2)\n",
    "plt.plot(history_xception.history['loss'], label = \"Training Loss\")\n",
    "plt.plot(history_xception.history['val_loss'], label = \"Validation loss\")\n",
    "plt.legend()\n",
    "plt.xlabel(\"Epochs\")\n",
    "plt.ylabel(\"Loss\")\n",
    "plt.title(\"Loss vs Number of Iterations\")\n",
    "plt.grid()\n",
    "plt.savefig('plots/training_xception_aug.png')\n",
    "plt.show()\n"
   ]
  },
  {
   "cell_type": "code",
   "execution_count": 9,
   "metadata": {},
   "outputs": [],
   "source": [
    "### Load the model weights with the best validation loss.\n",
    "xception_model.load_weights('saved_models/xception_transfer_aug.hdf5')"
   ]
  },
  {
   "cell_type": "code",
   "execution_count": 10,
   "metadata": {},
   "outputs": [
    {
     "name": "stdout",
     "output_type": "stream",
     "text": [
      "Test accuracy: 85.2871%\n"
     ]
    }
   ],
   "source": [
    "# get index of predicted dog breed for each image in test set\n",
    "xception_predictions = [np.argmax(xception_model.predict(np.expand_dims(feature, axis=0))) for feature in test_xception_features]\n",
    "\n",
    "# report test accuracy\n",
    "test_accuracy = 100.0*np.sum(np.array(xception_predictions)==np.argmax(test_targets, axis=1))/len(xception_predictions)\n",
    "print('Test accuracy: %.4f%%' % test_accuracy)"
   ]
  },
  {
   "cell_type": "code",
   "execution_count": 11,
   "metadata": {},
   "outputs": [
    {
     "name": "stdout",
     "output_type": "stream",
     "text": [
      "Validation accuracy: 86.1078%\n"
     ]
    }
   ],
   "source": [
    "# get index of predicted dog breed for each image in test set\n",
    "xception_predictions = [np.argmax(xception_model.predict(np.expand_dims(feature, axis=0))) for feature in valid_xception_features]\n",
    "\n",
    "# report test accuracy\n",
    "valid_accuracy = 100.0*np.sum(np.array(xception_predictions)==np.argmax(valid_targets, axis=1))/len(xception_predictions)\n",
    "print('Validation accuracy: %.4f%%' % valid_accuracy)"
   ]
  },
  {
   "cell_type": "code",
   "execution_count": null,
   "metadata": {},
   "outputs": [],
   "source": []
  },
  {
   "cell_type": "code",
   "execution_count": null,
   "metadata": {},
   "outputs": [],
   "source": []
  },
  {
   "cell_type": "code",
   "execution_count": null,
   "metadata": {},
   "outputs": [],
   "source": []
  },
  {
   "cell_type": "code",
   "execution_count": null,
   "metadata": {},
   "outputs": [],
   "source": []
  },
  {
   "cell_type": "code",
   "execution_count": null,
   "metadata": {},
   "outputs": [],
   "source": []
  },
  {
   "cell_type": "code",
   "execution_count": null,
   "metadata": {},
   "outputs": [],
   "source": []
  },
  {
   "cell_type": "code",
   "execution_count": null,
   "metadata": {},
   "outputs": [],
   "source": []
  },
  {
   "cell_type": "code",
   "execution_count": null,
   "metadata": {},
   "outputs": [],
   "source": []
  },
  {
   "cell_type": "code",
   "execution_count": null,
   "metadata": {},
   "outputs": [],
   "source": []
  },
  {
   "cell_type": "code",
   "execution_count": null,
   "metadata": {},
   "outputs": [],
   "source": []
  },
  {
   "cell_type": "code",
   "execution_count": 13,
   "metadata": {},
   "outputs": [],
   "source": [
    "# Transfer Learning + Data Augmentation. vgg19"
   ]
  },
  {
   "cell_type": "code",
   "execution_count": 14,
   "metadata": {},
   "outputs": [],
   "source": [
    "import numpy as np\n",
    "train_vgg19_features = np.load('bottleneck_features//train_vgg19_features_aug.npy')\n",
    "valid_vgg19_features = np.load('bottleneck_features//valid_vgg19_features_aug.npy')\n",
    "test_vgg19_features = np.load('bottleneck_features//test_vgg19_features_aug.npy')\n"
   ]
  },
  {
   "cell_type": "code",
   "execution_count": 15,
   "metadata": {},
   "outputs": [
    {
     "name": "stdout",
     "output_type": "stream",
     "text": [
      "(13360, 7, 7, 512)\n"
     ]
    }
   ],
   "source": [
    "print(train_vgg19_features.shape)"
   ]
  },
  {
   "cell_type": "code",
   "execution_count": 33,
   "metadata": {},
   "outputs": [
    {
     "name": "stdout",
     "output_type": "stream",
     "text": [
      "_________________________________________________________________\n",
      "Layer (type)                 Output Shape              Param #   \n",
      "=================================================================\n",
      "global_average_pooling2d_5 ( (None, 512)               0         \n",
      "_________________________________________________________________\n",
      "batch_normalization_9 (Batch (None, 512)               2048      \n",
      "_________________________________________________________________\n",
      "dropout_9 (Dropout)          (None, 512)               0         \n",
      "_________________________________________________________________\n",
      "dense_9 (Dense)              (None, 266)               136458    \n",
      "_________________________________________________________________\n",
      "batch_normalization_10 (Batc (None, 266)               1064      \n",
      "_________________________________________________________________\n",
      "dropout_10 (Dropout)         (None, 266)               0         \n",
      "_________________________________________________________________\n",
      "dense_10 (Dense)             (None, 133)               35511     \n",
      "=================================================================\n",
      "Total params: 175,081\n",
      "Trainable params: 173,525\n",
      "Non-trainable params: 1,556\n",
      "_________________________________________________________________\n"
     ]
    }
   ],
   "source": [
    "import keras\n",
    "from keras.models import Sequential\n",
    "from keras.layers import Flatten, Dense, Dropout\n",
    "from keras import regularizers\n",
    "from keras.layers import Conv2D, MaxPooling2D, GlobalAveragePooling2D\n",
    "from keras.layers.normalization import BatchNormalization\n",
    "\n",
    "\n",
    "vgg19_model = Sequential()\n",
    "vgg19_model.add(GlobalAveragePooling2D(input_shape=train_vgg19_features.shape[1:]))\n",
    "vgg19_model.add(BatchNormalization())\n",
    "vgg19_model.add(Dropout(0.5))\n",
    "\n",
    "vgg19_model.add(Dense(2 * 133,activation='relu'))\n",
    "vgg19_model.add(BatchNormalization())\n",
    "vgg19_model.add(Dropout(0.5))\n",
    "\n",
    "vgg19_model.add(Dense(133, activation='softmax'))\n",
    "\n",
    "vgg19_model.compile(loss='categorical_crossentropy', optimizer='adam', metrics=['accuracy'])\n",
    "\n",
    "vgg19_model.summary()"
   ]
  },
  {
   "cell_type": "code",
   "execution_count": 34,
   "metadata": {},
   "outputs": [
    {
     "name": "stdout",
     "output_type": "stream",
     "text": [
      "Train on 13360 samples, validate on 835 samples\n",
      "Epoch 1/50\n",
      "13248/13360 [============================>.] - ETA: 0s - loss: 3.5091 - acc: 0.2304Epoch 00001: val_loss improved from inf to 1.38059, saving model to saved_models/vgg19_transfer_aug.hdf5\n",
      "13360/13360 [==============================] - 4s 297us/step - loss: 3.4995 - acc: 0.2320 - val_loss: 1.3806 - val_acc: 0.6192\n",
      "Epoch 2/50\n",
      "13248/13360 [============================>.] - ETA: 0s - loss: 1.8324 - acc: 0.5015Epoch 00002: val_loss improved from 1.38059 to 0.94827, saving model to saved_models/vgg19_transfer_aug.hdf5\n",
      "13360/13360 [==============================] - 3s 246us/step - loss: 1.8305 - acc: 0.5022 - val_loss: 0.9483 - val_acc: 0.7377\n",
      "Epoch 3/50\n",
      "13216/13360 [============================>.] - ETA: 0s - loss: 1.3756 - acc: 0.6021Epoch 00003: val_loss improved from 0.94827 to 0.80822, saving model to saved_models/vgg19_transfer_aug.hdf5\n",
      "13360/13360 [==============================] - 3s 246us/step - loss: 1.3768 - acc: 0.6021 - val_loss: 0.8082 - val_acc: 0.7689\n",
      "Epoch 4/50\n",
      "13248/13360 [============================>.] - ETA: 0s - loss: 1.2352 - acc: 0.6330Epoch 00004: val_loss improved from 0.80822 to 0.72338, saving model to saved_models/vgg19_transfer_aug.hdf5\n",
      "13360/13360 [==============================] - 3s 244us/step - loss: 1.2351 - acc: 0.6331 - val_loss: 0.7234 - val_acc: 0.7832\n",
      "Epoch 5/50\n",
      "13248/13360 [============================>.] - ETA: 0s - loss: 1.1384 - acc: 0.6575Epoch 00005: val_loss improved from 0.72338 to 0.68812, saving model to saved_models/vgg19_transfer_aug.hdf5\n",
      "13360/13360 [==============================] - 3s 244us/step - loss: 1.1371 - acc: 0.6578 - val_loss: 0.6881 - val_acc: 0.7976\n",
      "Epoch 6/50\n",
      "13216/13360 [============================>.] - ETA: 0s - loss: 1.0648 - acc: 0.6758Epoch 00006: val_loss improved from 0.68812 to 0.68510, saving model to saved_models/vgg19_transfer_aug.hdf5\n",
      "13360/13360 [==============================] - 3s 245us/step - loss: 1.0653 - acc: 0.6754 - val_loss: 0.6851 - val_acc: 0.7772\n",
      "Epoch 7/50\n",
      "13248/13360 [============================>.] - ETA: 0s - loss: 1.0266 - acc: 0.6870Epoch 00007: val_loss improved from 0.68510 to 0.66884, saving model to saved_models/vgg19_transfer_aug.hdf5\n",
      "13360/13360 [==============================] - 3s 246us/step - loss: 1.0265 - acc: 0.6872 - val_loss: 0.6688 - val_acc: 0.7820\n",
      "Epoch 8/50\n",
      "13248/13360 [============================>.] - ETA: 0s - loss: 1.0048 - acc: 0.6934Epoch 00008: val_loss did not improve\n",
      "13360/13360 [==============================] - 3s 246us/step - loss: 1.0082 - acc: 0.6926 - val_loss: 0.6763 - val_acc: 0.7976\n",
      "Epoch 9/50\n",
      "13216/13360 [============================>.] - ETA: 0s - loss: 0.9774 - acc: 0.6977Epoch 00009: val_loss improved from 0.66884 to 0.65483, saving model to saved_models/vgg19_transfer_aug.hdf5\n",
      "13360/13360 [==============================] - 3s 249us/step - loss: 0.9766 - acc: 0.6981 - val_loss: 0.6548 - val_acc: 0.7988\n",
      "Epoch 10/50\n",
      "13248/13360 [============================>.] - ETA: 0s - loss: 0.9451 - acc: 0.7122Epoch 00010: val_loss improved from 0.65483 to 0.65195, saving model to saved_models/vgg19_transfer_aug.hdf5\n",
      "13360/13360 [==============================] - 3s 249us/step - loss: 0.9472 - acc: 0.7117 - val_loss: 0.6519 - val_acc: 0.8012\n",
      "Epoch 11/50\n",
      "13248/13360 [============================>.] - ETA: 0s - loss: 0.9242 - acc: 0.7135Epoch 00011: val_loss did not improve\n",
      "13360/13360 [==============================] - 3s 248us/step - loss: 0.9235 - acc: 0.7136 - val_loss: 0.6558 - val_acc: 0.7988\n",
      "Epoch 12/50\n",
      "13216/13360 [============================>.] - ETA: 0s - loss: 0.9047 - acc: 0.7153Epoch 00012: val_loss improved from 0.65195 to 0.64305, saving model to saved_models/vgg19_transfer_aug.hdf5\n",
      "13360/13360 [==============================] - 3s 250us/step - loss: 0.9048 - acc: 0.7152 - val_loss: 0.6430 - val_acc: 0.8120\n",
      "Epoch 13/50\n",
      "13248/13360 [============================>.] - ETA: 0s - loss: 0.8987 - acc: 0.7178Epoch 00013: val_loss did not improve\n",
      "13360/13360 [==============================] - 3s 247us/step - loss: 0.8996 - acc: 0.7183 - val_loss: 0.6580 - val_acc: 0.8072\n",
      "Epoch 14/50\n",
      "13216/13360 [============================>.] - ETA: 0s - loss: 0.8769 - acc: 0.7281Epoch 00014: val_loss did not improve\n",
      "13360/13360 [==============================] - 3s 248us/step - loss: 0.8772 - acc: 0.7277 - val_loss: 0.6486 - val_acc: 0.8024\n",
      "Epoch 15/50\n",
      "13216/13360 [============================>.] - ETA: 0s - loss: 0.8557 - acc: 0.7346Epoch 00015: val_loss improved from 0.64305 to 0.64231, saving model to saved_models/vgg19_transfer_aug.hdf5\n",
      "13360/13360 [==============================] - 3s 250us/step - loss: 0.8567 - acc: 0.7346 - val_loss: 0.6423 - val_acc: 0.8000\n",
      "Epoch 16/50\n",
      "13216/13360 [============================>.] - ETA: 0s - loss: 0.8465 - acc: 0.7324Epoch 00016: val_loss did not improve\n",
      "13360/13360 [==============================] - 3s 247us/step - loss: 0.8455 - acc: 0.7325 - val_loss: 0.6600 - val_acc: 0.8024\n",
      "Epoch 17/50\n",
      "13216/13360 [============================>.] - ETA: 0s - loss: 0.8407 - acc: 0.7346Epoch 00017: val_loss did not improve\n",
      "13360/13360 [==============================] - 3s 248us/step - loss: 0.8424 - acc: 0.7342 - val_loss: 0.6522 - val_acc: 0.8096\n",
      "Epoch 18/50\n",
      "13216/13360 [============================>.] - ETA: 0s - loss: 0.8377 - acc: 0.7368Epoch 00018: val_loss improved from 0.64231 to 0.63789, saving model to saved_models/vgg19_transfer_aug.hdf5\n",
      "13360/13360 [==============================] - 3s 249us/step - loss: 0.8384 - acc: 0.7368 - val_loss: 0.6379 - val_acc: 0.8060\n",
      "Epoch 19/50\n",
      "13344/13360 [============================>.] - ETA: 0s - loss: 0.8462 - acc: 0.7353Epoch 00019: val_loss improved from 0.63789 to 0.63627, saving model to saved_models/vgg19_transfer_aug.hdf5\n",
      "13360/13360 [==============================] - 3s 248us/step - loss: 0.8462 - acc: 0.7353 - val_loss: 0.6363 - val_acc: 0.8060\n",
      "Epoch 20/50\n",
      "13248/13360 [============================>.] - ETA: 0s - loss: 0.8165 - acc: 0.7449Epoch 00020: val_loss improved from 0.63627 to 0.63257, saving model to saved_models/vgg19_transfer_aug.hdf5\n",
      "13360/13360 [==============================] - 3s 249us/step - loss: 0.8176 - acc: 0.7448 - val_loss: 0.6326 - val_acc: 0.8060\n",
      "Epoch 21/50\n",
      "13216/13360 [============================>.] - ETA: 0s - loss: 0.8240 - acc: 0.7427Epoch 00021: val_loss did not improve\n",
      "13360/13360 [==============================] - 3s 248us/step - loss: 0.8243 - acc: 0.7430 - val_loss: 0.6372 - val_acc: 0.8024\n",
      "Epoch 22/50\n",
      "13248/13360 [============================>.] - ETA: 0s - loss: 0.8004 - acc: 0.7496Epoch 00022: val_loss did not improve\n",
      "13360/13360 [==============================] - 3s 247us/step - loss: 0.7998 - acc: 0.7499 - val_loss: 0.6415 - val_acc: 0.8036\n",
      "Epoch 23/50\n",
      "13248/13360 [============================>.] - ETA: 0s - loss: 0.7960 - acc: 0.7520Epoch 00023: val_loss improved from 0.63257 to 0.61628, saving model to saved_models/vgg19_transfer_aug.hdf5\n",
      "13360/13360 [==============================] - 3s 247us/step - loss: 0.7964 - acc: 0.7518 - val_loss: 0.6163 - val_acc: 0.8048\n",
      "Epoch 24/50\n",
      "13248/13360 [============================>.] - ETA: 0s - loss: 0.8077 - acc: 0.7438Epoch 00024: val_loss did not improve\n",
      "13360/13360 [==============================] - 3s 245us/step - loss: 0.8085 - acc: 0.7434 - val_loss: 0.6229 - val_acc: 0.8108\n",
      "Epoch 25/50\n",
      "13248/13360 [============================>.] - ETA: 0s - loss: 0.7926 - acc: 0.7470Epoch 00025: val_loss did not improve\n",
      "13360/13360 [==============================] - 3s 247us/step - loss: 0.7926 - acc: 0.7468 - val_loss: 0.6292 - val_acc: 0.8036\n",
      "Epoch 26/50\n",
      "13216/13360 [============================>.] - ETA: 0s - loss: 0.7843 - acc: 0.7477Epoch 00026: val_loss did not improve\n",
      "13360/13360 [==============================] - 3s 247us/step - loss: 0.7844 - acc: 0.7478 - val_loss: 0.6359 - val_acc: 0.8012\n",
      "Epoch 27/50\n",
      "13184/13360 [============================>.] - ETA: 0s - loss: 0.7731 - acc: 0.7580Epoch 00027: val_loss did not improve\n",
      "13360/13360 [==============================] - 3s 248us/step - loss: 0.7714 - acc: 0.7582 - val_loss: 0.6217 - val_acc: 0.8060\n",
      "Epoch 28/50\n",
      "13248/13360 [============================>.] - ETA: 0s - loss: 0.7588 - acc: 0.7625Epoch 00028: val_loss did not improve\n",
      "13360/13360 [==============================] - 3s 240us/step - loss: 0.7591 - acc: 0.7621 - val_loss: 0.6452 - val_acc: 0.8024\n",
      "Epoch 29/50\n",
      "13248/13360 [============================>.] - ETA: 0s - loss: 0.7554 - acc: 0.7637Epoch 00029: val_loss did not improve\n",
      "13360/13360 [==============================] - 3s 240us/step - loss: 0.7572 - acc: 0.7635 - val_loss: 0.6409 - val_acc: 0.8084\n",
      "Epoch 30/50\n",
      "13248/13360 [============================>.] - ETA: 0s - loss: 0.7803 - acc: 0.7523Epoch 00030: val_loss did not improve\n",
      "13360/13360 [==============================] - 3s 241us/step - loss: 0.7804 - acc: 0.7525 - val_loss: 0.6506 - val_acc: 0.8060\n",
      "Epoch 31/50\n",
      "13248/13360 [============================>.] - ETA: 0s - loss: 0.7673 - acc: 0.7554Epoch 00031: val_loss did not improve\n",
      "13360/13360 [==============================] - 3s 240us/step - loss: 0.7700 - acc: 0.7547 - val_loss: 0.6419 - val_acc: 0.8084\n",
      "Epoch 32/50\n",
      "13216/13360 [============================>.] - ETA: 0s - loss: 0.7712 - acc: 0.7533Epoch 00032: val_loss did not improve\n",
      "13360/13360 [==============================] - 3s 239us/step - loss: 0.7704 - acc: 0.7533 - val_loss: 0.6423 - val_acc: 0.7988\n",
      "Epoch 33/50\n",
      "13184/13360 [============================>.] - ETA: 0s - loss: 0.7546 - acc: 0.7643Epoch 00033: val_loss did not improve\n",
      "13360/13360 [==============================] - 3s 239us/step - loss: 0.7542 - acc: 0.7641 - val_loss: 0.6391 - val_acc: 0.8024\n"
     ]
    }
   ],
   "source": [
    "from keras.callbacks import EarlyStopping\n",
    "from keras.callbacks import ModelCheckpoint  \n",
    "\n",
    "checkpointer = ModelCheckpoint(filepath='saved_models/vgg19_transfer_aug.hdf5', \n",
    "                               verbose=1, save_best_only=True)\n",
    "\n",
    "\n",
    "history_vgg19 = vgg19_model.fit(train_vgg19_features, y_train_aug2x, \n",
    "          batch_size = 32,\n",
    "          epochs=50,\n",
    "          verbose=1,\n",
    "          validation_data=(valid_vgg19_features, valid_targets),\n",
    "          callbacks=[checkpointer, EarlyStopping(min_delta=1e-7, patience=10)\n",
    "          ])"
   ]
  },
  {
   "cell_type": "code",
   "execution_count": 36,
   "metadata": {},
   "outputs": [
    {
     "data": {
      "image/png": "[encoded data removed]",
      "text/plain": [
       "<matplotlib.figure.Figure at 0x7fdb4b7b2a10>"
      ]
     },
     "metadata": {},
     "output_type": "display_data"
    }
   ],
   "source": [
    "import matplotlib.pyplot as plt\n",
    "plt.subplots(figsize = (10,10))\n",
    "plt.subplot(2, 1, 1)\n",
    "\n",
    "plt.plot(history_vgg19.history['acc'], label = \"Training Acc\")\n",
    "plt.plot(history_vgg19.history['val_acc'], label = \"Validation Acc\")\n",
    "\n",
    "plt.legend()\n",
    "plt.xlabel(\"Epochs\")\n",
    "plt.ylabel(\"Accuracy\")\n",
    "plt.title(\"Accuracy vs Number of Iterations\")\n",
    "plt.grid()\n",
    "\n",
    "\n",
    "plt.subplot(2, 1, 2)\n",
    "plt.plot(history_vgg19.history['loss'], label = \"Training Loss\")\n",
    "plt.plot(history_vgg19.history['val_loss'], label = \"Validation loss\")\n",
    "plt.legend()\n",
    "plt.xlabel(\"Epochs\")\n",
    "plt.ylabel(\"Loss\")\n",
    "plt.title(\"Loss vs Number of Iterations\")\n",
    "plt.grid()\n",
    "plt.savefig('plots/training_vgg19_aug.png')\n",
    "plt.show()\n"
   ]
  },
  {
   "cell_type": "code",
   "execution_count": 37,
   "metadata": {},
   "outputs": [],
   "source": [
    "### Load the model weights with the best validation loss.\n",
    "vgg19_model.load_weights('saved_models/vgg19_transfer_aug.hdf5')"
   ]
  },
  {
   "cell_type": "code",
   "execution_count": 40,
   "metadata": {},
   "outputs": [
    {
     "name": "stdout",
     "output_type": "stream",
     "text": [
      "Test accuracy: 79.5455%\n"
     ]
    }
   ],
   "source": [
    "# get index of predicted dog breed for each image in test set\n",
    "vgg19_predictions = [np.argmax(vgg19_model.predict(np.expand_dims(feature, axis=0))) for feature in test_vgg19_features]\n",
    "\n",
    "# report test accuracy\n",
    "test_accuracy = 100.0*np.sum(np.array(vgg19_predictions)==np.argmax(test_targets, axis=1))/len(vgg19_predictions)\n",
    "print('Test accuracy: %.4f%%' % test_accuracy)"
   ]
  },
  {
   "cell_type": "code",
   "execution_count": 39,
   "metadata": {},
   "outputs": [
    {
     "name": "stdout",
     "output_type": "stream",
     "text": [
      "Validation accuracy: 80.4790%\n"
     ]
    }
   ],
   "source": [
    "# get index of predicted dog breed for each image in test set\n",
    "vgg19_predictions = [np.argmax(vgg19_model.predict(np.expand_dims(feature, axis=0))) for feature in valid_vgg19_features]\n",
    "\n",
    "# report test accuracy\n",
    "valid_accuracy = 100.0*np.sum(np.array(vgg19_predictions)==np.argmax(valid_targets, axis=1))/len(vgg19_predictions)\n",
    "print('Validation accuracy: %.4f%%' % valid_accuracy)"
   ]
  },
  {
   "cell_type": "code",
   "execution_count": null,
   "metadata": {},
   "outputs": [],
   "source": []
  },
  {
   "cell_type": "code",
   "execution_count": null,
   "metadata": {},
   "outputs": [],
   "source": []
  },
  {
   "cell_type": "code",
   "execution_count": null,
   "metadata": {},
   "outputs": [],
   "source": []
  },
  {
   "cell_type": "code",
   "execution_count": null,
   "metadata": {},
   "outputs": [],
   "source": []
  },
  {
   "cell_type": "code",
   "execution_count": null,
   "metadata": {},
   "outputs": [],
   "source": []
  },
  {
   "cell_type": "code",
   "execution_count": null,
   "metadata": {},
   "outputs": [],
   "source": []
  },
  {
   "cell_type": "code",
   "execution_count": null,
   "metadata": {},
   "outputs": [],
   "source": []
  },
  {
   "cell_type": "code",
   "execution_count": null,
   "metadata": {},
   "outputs": [],
   "source": []
  },
  {
   "cell_type": "code",
   "execution_count": null,
   "metadata": {},
   "outputs": [],
   "source": []
  },
  {
   "cell_type": "code",
   "execution_count": null,
   "metadata": {},
   "outputs": [],
   "source": []
  },
  {
   "cell_type": "code",
   "execution_count": 22,
   "metadata": {},
   "outputs": [],
   "source": [
    "# Transfer Learning + Data Augmentation. vgg16"
   ]
  },
  {
   "cell_type": "code",
   "execution_count": 23,
   "metadata": {},
   "outputs": [],
   "source": [
    "import numpy as np\n",
    "train_vgg16_features = np.load('bottleneck_features//train_vgg16_features_aug.npy')\n",
    "valid_vgg16_features = np.load('bottleneck_features//valid_vgg16_features_aug.npy')\n",
    "test_vgg16_features = np.load('bottleneck_features//test_vgg16_features_aug.npy')\n"
   ]
  },
  {
   "cell_type": "code",
   "execution_count": 24,
   "metadata": {},
   "outputs": [
    {
     "name": "stdout",
     "output_type": "stream",
     "text": [
      "(13360, 7, 7, 512)\n"
     ]
    }
   ],
   "source": [
    "print(train_vgg16_features.shape)"
   ]
  },
  {
   "cell_type": "code",
   "execution_count": 41,
   "metadata": {},
   "outputs": [
    {
     "name": "stdout",
     "output_type": "stream",
     "text": [
      "_________________________________________________________________\n",
      "Layer (type)                 Output Shape              Param #   \n",
      "=================================================================\n",
      "global_average_pooling2d_6 ( (None, 512)               0         \n",
      "_________________________________________________________________\n",
      "batch_normalization_11 (Batc (None, 512)               2048      \n",
      "_________________________________________________________________\n",
      "dropout_11 (Dropout)         (None, 512)               0         \n",
      "_________________________________________________________________\n",
      "dense_11 (Dense)             (None, 266)               136458    \n",
      "_________________________________________________________________\n",
      "batch_normalization_12 (Batc (None, 266)               1064      \n",
      "_________________________________________________________________\n",
      "dropout_12 (Dropout)         (None, 266)               0         \n",
      "_________________________________________________________________\n",
      "dense_12 (Dense)             (None, 133)               35511     \n",
      "=================================================================\n",
      "Total params: 175,081\n",
      "Trainable params: 173,525\n",
      "Non-trainable params: 1,556\n",
      "_________________________________________________________________\n"
     ]
    }
   ],
   "source": [
    "import keras\n",
    "from keras.models import Sequential\n",
    "from keras.layers import Flatten, Dense, Dropout\n",
    "from keras import regularizers\n",
    "from keras.layers import Conv2D, MaxPooling2D, GlobalAveragePooling2D\n",
    "from keras.layers.normalization import BatchNormalization\n",
    "\n",
    "\n",
    "vgg16_model = Sequential()\n",
    "vgg16_model.add(GlobalAveragePooling2D(input_shape=train_vgg16_features.shape[1:]))\n",
    "vgg16_model.add(BatchNormalization())\n",
    "vgg16_model.add(Dropout(0.5))\n",
    "\n",
    "vgg16_model.add(Dense(2 * 133,activation='relu'))\n",
    "vgg16_model.add(BatchNormalization())\n",
    "vgg16_model.add(Dropout(0.5))\n",
    "\n",
    "vgg16_model.add(Dense(133, activation='softmax'))\n",
    "\n",
    "vgg16_model.compile(loss='categorical_crossentropy', optimizer='adam', metrics=['accuracy'])\n",
    "\n",
    "vgg16_model.summary()"
   ]
  },
  {
   "cell_type": "code",
   "execution_count": 42,
   "metadata": {},
   "outputs": [
    {
     "name": "stdout",
     "output_type": "stream",
     "text": [
      "Train on 13360 samples, validate on 835 samples\n",
      "Epoch 1/50\n",
      "13312/13360 [============================>.] - ETA: 0s - loss: 3.5858 - acc: 0.2139Epoch 00001: val_loss improved from inf to 1.46763, saving model to saved_models/vgg16_transfer_aug.hdf5\n",
      "13360/13360 [==============================] - 4s 302us/step - loss: 3.5814 - acc: 0.2144 - val_loss: 1.4676 - val_acc: 0.6443\n",
      "Epoch 2/50\n",
      "13248/13360 [============================>.] - ETA: 0s - loss: 1.8632 - acc: 0.4898Epoch 00002: val_loss improved from 1.46763 to 0.97540, saving model to saved_models/vgg16_transfer_aug.hdf5\n",
      "13360/13360 [==============================] - 3s 243us/step - loss: 1.8601 - acc: 0.4907 - val_loss: 0.9754 - val_acc: 0.7198\n",
      "Epoch 3/50\n",
      "13216/13360 [============================>.] - ETA: 0s - loss: 1.4440 - acc: 0.5817Epoch 00003: val_loss improved from 0.97540 to 0.84558, saving model to saved_models/vgg16_transfer_aug.hdf5\n",
      "13360/13360 [==============================] - 3s 244us/step - loss: 1.4432 - acc: 0.5814 - val_loss: 0.8456 - val_acc: 0.7545\n",
      "Epoch 4/50\n",
      "13216/13360 [============================>.] - ETA: 0s - loss: 1.2681 - acc: 0.6266Epoch 00004: val_loss improved from 0.84558 to 0.74380, saving model to saved_models/vgg16_transfer_aug.hdf5\n",
      "13360/13360 [==============================] - 3s 245us/step - loss: 1.2689 - acc: 0.6266 - val_loss: 0.7438 - val_acc: 0.7653\n",
      "Epoch 5/50\n",
      "13248/13360 [============================>.] - ETA: 0s - loss: 1.1785 - acc: 0.6492Epoch 00005: val_loss improved from 0.74380 to 0.71177, saving model to saved_models/vgg16_transfer_aug.hdf5\n",
      "13360/13360 [==============================] - 3s 244us/step - loss: 1.1793 - acc: 0.6491 - val_loss: 0.7118 - val_acc: 0.7808\n",
      "Epoch 6/50\n",
      "13312/13360 [============================>.] - ETA: 0s - loss: 1.1015 - acc: 0.6647Epoch 00006: val_loss improved from 0.71177 to 0.70044, saving model to saved_models/vgg16_transfer_aug.hdf5\n",
      "13360/13360 [==============================] - 3s 251us/step - loss: 1.1022 - acc: 0.6644 - val_loss: 0.7004 - val_acc: 0.7844\n",
      "Epoch 7/50\n",
      "13248/13360 [============================>.] - ETA: 0s - loss: 1.0460 - acc: 0.6844Epoch 00007: val_loss improved from 0.70044 to 0.67072, saving model to saved_models/vgg16_transfer_aug.hdf5\n",
      "13360/13360 [==============================] - 3s 246us/step - loss: 1.0462 - acc: 0.6841 - val_loss: 0.6707 - val_acc: 0.7880\n",
      "Epoch 8/50\n",
      "13248/13360 [============================>.] - ETA: 0s - loss: 1.0386 - acc: 0.6806Epoch 00008: val_loss improved from 0.67072 to 0.66361, saving model to saved_models/vgg16_transfer_aug.hdf5\n",
      "13360/13360 [==============================] - 3s 248us/step - loss: 1.0378 - acc: 0.6811 - val_loss: 0.6636 - val_acc: 0.7880\n",
      "Epoch 9/50\n",
      "13152/13360 [============================>.] - ETA: 0s - loss: 0.9794 - acc: 0.6949Epoch 00009: val_loss improved from 0.66361 to 0.65440, saving model to saved_models/vgg16_transfer_aug.hdf5\n",
      "13360/13360 [==============================] - 3s 250us/step - loss: 0.9818 - acc: 0.6942 - val_loss: 0.6544 - val_acc: 0.7892\n",
      "Epoch 10/50\n",
      "13152/13360 [============================>.] - ETA: 0s - loss: 0.9719 - acc: 0.6993Epoch 00010: val_loss did not improve\n",
      "13360/13360 [==============================] - 3s 247us/step - loss: 0.9712 - acc: 0.6996 - val_loss: 0.6602 - val_acc: 0.8000\n",
      "Epoch 11/50\n",
      "13248/13360 [============================>.] - ETA: 0s - loss: 0.9633 - acc: 0.7033Epoch 00011: val_loss improved from 0.65440 to 0.64983, saving model to saved_models/vgg16_transfer_aug.hdf5\n",
      "13360/13360 [==============================] - 3s 249us/step - loss: 0.9642 - acc: 0.7031 - val_loss: 0.6498 - val_acc: 0.8012\n",
      "Epoch 12/50\n",
      "13152/13360 [============================>.] - ETA: 0s - loss: 0.9641 - acc: 0.7040Epoch 00012: val_loss did not improve\n",
      "13360/13360 [==============================] - 3s 251us/step - loss: 0.9643 - acc: 0.7045 - val_loss: 0.6557 - val_acc: 0.7916\n",
      "Epoch 13/50\n",
      "13248/13360 [============================>.] - ETA: 0s - loss: 0.9314 - acc: 0.7165Epoch 00013: val_loss improved from 0.64983 to 0.64495, saving model to saved_models/vgg16_transfer_aug.hdf5\n",
      "13360/13360 [==============================] - 3s 248us/step - loss: 0.9325 - acc: 0.7162 - val_loss: 0.6449 - val_acc: 0.7904\n",
      "Epoch 14/50\n",
      "13184/13360 [============================>.] - ETA: 0s - loss: 0.9354 - acc: 0.7118Epoch 00014: val_loss did not improve\n",
      "13360/13360 [==============================] - 3s 250us/step - loss: 0.9362 - acc: 0.7118 - val_loss: 0.6759 - val_acc: 0.7749\n",
      "Epoch 15/50\n",
      "13152/13360 [============================>.] - ETA: 0s - loss: 0.9001 - acc: 0.7198Epoch 00015: val_loss did not improve\n",
      "13360/13360 [==============================] - 3s 248us/step - loss: 0.9029 - acc: 0.7188 - val_loss: 0.6735 - val_acc: 0.7820\n",
      "Epoch 16/50\n",
      "13248/13360 [============================>.] - ETA: 0s - loss: 0.9025 - acc: 0.7217Epoch 00016: val_loss did not improve\n",
      "13360/13360 [==============================] - 3s 248us/step - loss: 0.9035 - acc: 0.7214 - val_loss: 0.6546 - val_acc: 0.7940\n",
      "Epoch 17/50\n",
      "13248/13360 [============================>.] - ETA: 0s - loss: 0.8822 - acc: 0.7219Epoch 00017: val_loss did not improve\n",
      "13360/13360 [==============================] - 3s 247us/step - loss: 0.8820 - acc: 0.7222 - val_loss: 0.6462 - val_acc: 0.7892\n",
      "Epoch 18/50\n",
      "13248/13360 [============================>.] - ETA: 0s - loss: 0.8706 - acc: 0.7266Epoch 00018: val_loss improved from 0.64495 to 0.63764, saving model to saved_models/vgg16_transfer_aug.hdf5\n",
      "13360/13360 [==============================] - 3s 249us/step - loss: 0.8703 - acc: 0.7266 - val_loss: 0.6376 - val_acc: 0.7820\n",
      "Epoch 19/50\n",
      "13216/13360 [============================>.] - ETA: 0s - loss: 0.8735 - acc: 0.7250Epoch 00019: val_loss did not improve\n",
      "13360/13360 [==============================] - 3s 247us/step - loss: 0.8727 - acc: 0.7249 - val_loss: 0.6503 - val_acc: 0.7820\n",
      "Epoch 20/50\n",
      "13216/13360 [============================>.] - ETA: 0s - loss: 0.8513 - acc: 0.7295Epoch 00020: val_loss did not improve\n",
      "13360/13360 [==============================] - 3s 248us/step - loss: 0.8515 - acc: 0.7296 - val_loss: 0.6751 - val_acc: 0.7820\n",
      "Epoch 21/50\n",
      "13248/13360 [============================>.] - ETA: 0s - loss: 0.8638 - acc: 0.7317Epoch 00021: val_loss did not improve\n",
      "13360/13360 [==============================] - 3s 249us/step - loss: 0.8637 - acc: 0.7315 - val_loss: 0.6562 - val_acc: 0.7868\n",
      "Epoch 22/50\n",
      "13248/13360 [============================>.] - ETA: 0s - loss: 0.8527 - acc: 0.7329Epoch 00022: val_loss did not improve\n",
      "13360/13360 [==============================] - 3s 248us/step - loss: 0.8523 - acc: 0.7332 - val_loss: 0.6577 - val_acc: 0.7832\n",
      "Epoch 23/50\n",
      "13216/13360 [============================>.] - ETA: 0s - loss: 0.8284 - acc: 0.7387Epoch 00023: val_loss did not improve\n",
      "13360/13360 [==============================] - 3s 245us/step - loss: 0.8280 - acc: 0.7385 - val_loss: 0.6432 - val_acc: 0.7904\n",
      "Epoch 24/50\n",
      "13184/13360 [============================>.] - ETA: 0s - loss: 0.8336 - acc: 0.7374Epoch 00024: val_loss did not improve\n",
      "13360/13360 [==============================] - 3s 246us/step - loss: 0.8331 - acc: 0.7378 - val_loss: 0.6445 - val_acc: 0.7940\n",
      "Epoch 25/50\n",
      "13184/13360 [============================>.] - ETA: 0s - loss: 0.8231 - acc: 0.7413Epoch 00025: val_loss improved from 0.63764 to 0.63390, saving model to saved_models/vgg16_transfer_aug.hdf5\n",
      "13360/13360 [==============================] - 3s 249us/step - loss: 0.8248 - acc: 0.7411 - val_loss: 0.6339 - val_acc: 0.7988\n",
      "Epoch 26/50\n",
      "13248/13360 [============================>.] - ETA: 0s - loss: 0.8197 - acc: 0.7381Epoch 00026: val_loss did not improve\n",
      "13360/13360 [==============================] - 3s 246us/step - loss: 0.8194 - acc: 0.7382 - val_loss: 0.6377 - val_acc: 0.8000\n",
      "Epoch 27/50\n",
      "13216/13360 [============================>.] - ETA: 0s - loss: 0.8158 - acc: 0.7470Epoch 00027: val_loss did not improve\n",
      "13360/13360 [==============================] - 3s 247us/step - loss: 0.8171 - acc: 0.7465 - val_loss: 0.6369 - val_acc: 0.8024\n",
      "Epoch 28/50\n",
      "13248/13360 [============================>.] - ETA: 0s - loss: 0.8256 - acc: 0.7446Epoch 00028: val_loss did not improve\n",
      "13360/13360 [==============================] - 3s 246us/step - loss: 0.8268 - acc: 0.7442 - val_loss: 0.6437 - val_acc: 0.7928\n"
     ]
    },
    {
     "name": "stdout",
     "output_type": "stream",
     "text": [
      "Epoch 29/50\n",
      "13248/13360 [============================>.] - ETA: 0s - loss: 0.8328 - acc: 0.7378Epoch 00029: val_loss improved from 0.63390 to 0.63151, saving model to saved_models/vgg16_transfer_aug.hdf5\n",
      "13360/13360 [==============================] - 3s 242us/step - loss: 0.8345 - acc: 0.7374 - val_loss: 0.6315 - val_acc: 0.8012\n",
      "Epoch 30/50\n",
      "13248/13360 [============================>.] - ETA: 0s - loss: 0.8129 - acc: 0.7455Epoch 00030: val_loss did not improve\n",
      "13360/13360 [==============================] - 3s 240us/step - loss: 0.8123 - acc: 0.7454 - val_loss: 0.6529 - val_acc: 0.7856\n",
      "Epoch 31/50\n",
      "13248/13360 [============================>.] - ETA: 0s - loss: 0.8087 - acc: 0.7437Epoch 00031: val_loss did not improve\n",
      "13360/13360 [==============================] - 3s 240us/step - loss: 0.8075 - acc: 0.7438 - val_loss: 0.6378 - val_acc: 0.7964\n",
      "Epoch 32/50\n",
      "13248/13360 [============================>.] - ETA: 0s - loss: 0.8027 - acc: 0.7443Epoch 00032: val_loss did not improve\n",
      "13360/13360 [==============================] - 3s 240us/step - loss: 0.8033 - acc: 0.7440 - val_loss: 0.6394 - val_acc: 0.7988\n",
      "Epoch 33/50\n",
      "13248/13360 [============================>.] - ETA: 0s - loss: 0.7865 - acc: 0.7498Epoch 00033: val_loss improved from 0.63151 to 0.61894, saving model to saved_models/vgg16_transfer_aug.hdf5\n",
      "13360/13360 [==============================] - 3s 240us/step - loss: 0.7857 - acc: 0.7501 - val_loss: 0.6189 - val_acc: 0.8024\n",
      "Epoch 34/50\n",
      "13248/13360 [============================>.] - ETA: 0s - loss: 0.7777 - acc: 0.7544Epoch 00034: val_loss did not improve\n",
      "13360/13360 [==============================] - 3s 239us/step - loss: 0.7785 - acc: 0.7544 - val_loss: 0.6226 - val_acc: 0.7952\n",
      "Epoch 35/50\n",
      "13248/13360 [============================>.] - ETA: 0s - loss: 0.7869 - acc: 0.7449Epoch 00035: val_loss did not improve\n",
      "13360/13360 [==============================] - 3s 239us/step - loss: 0.7864 - acc: 0.7452 - val_loss: 0.6259 - val_acc: 0.7988\n",
      "Epoch 36/50\n",
      "13216/13360 [============================>.] - ETA: 0s - loss: 0.7756 - acc: 0.7562Epoch 00036: val_loss did not improve\n",
      "13360/13360 [==============================] - 3s 241us/step - loss: 0.7743 - acc: 0.7561 - val_loss: 0.6370 - val_acc: 0.7988\n",
      "Epoch 37/50\n",
      "13248/13360 [============================>.] - ETA: 0s - loss: 0.7717 - acc: 0.7576Epoch 00037: val_loss did not improve\n",
      "13360/13360 [==============================] - 3s 241us/step - loss: 0.7711 - acc: 0.7576 - val_loss: 0.6226 - val_acc: 0.8048\n",
      "Epoch 38/50\n",
      "13280/13360 [============================>.] - ETA: 0s - loss: 0.7695 - acc: 0.7537Epoch 00038: val_loss did not improve\n",
      "13360/13360 [==============================] - 3s 240us/step - loss: 0.7699 - acc: 0.7538 - val_loss: 0.6232 - val_acc: 0.8072\n",
      "Epoch 39/50\n",
      "13248/13360 [============================>.] - ETA: 0s - loss: 0.7543 - acc: 0.7592Epoch 00039: val_loss improved from 0.61894 to 0.61840, saving model to saved_models/vgg16_transfer_aug.hdf5\n",
      "13360/13360 [==============================] - 3s 244us/step - loss: 0.7538 - acc: 0.7591 - val_loss: 0.6184 - val_acc: 0.8036\n",
      "Epoch 40/50\n",
      "13248/13360 [============================>.] - ETA: 0s - loss: 0.7633 - acc: 0.7588Epoch 00040: val_loss did not improve\n",
      "13360/13360 [==============================] - 3s 241us/step - loss: 0.7650 - acc: 0.7585 - val_loss: 0.6309 - val_acc: 0.7952\n",
      "Epoch 41/50\n",
      "13216/13360 [============================>.] - ETA: 0s - loss: 0.7651 - acc: 0.7576Epoch 00041: val_loss did not improve\n",
      "13360/13360 [==============================] - 3s 242us/step - loss: 0.7654 - acc: 0.7574 - val_loss: 0.6347 - val_acc: 0.8036\n",
      "Epoch 42/50\n",
      "13248/13360 [============================>.] - ETA: 0s - loss: 0.7772 - acc: 0.7534Epoch 00042: val_loss did not improve\n",
      "13360/13360 [==============================] - 3s 242us/step - loss: 0.7778 - acc: 0.7534 - val_loss: 0.6333 - val_acc: 0.8000\n",
      "Epoch 43/50\n",
      "13248/13360 [============================>.] - ETA: 0s - loss: 0.7474 - acc: 0.7613Epoch 00043: val_loss improved from 0.61840 to 0.61267, saving model to saved_models/vgg16_transfer_aug.hdf5\n",
      "13360/13360 [==============================] - 3s 244us/step - loss: 0.7472 - acc: 0.7613 - val_loss: 0.6127 - val_acc: 0.8072\n",
      "Epoch 44/50\n",
      "13248/13360 [============================>.] - ETA: 0s - loss: 0.7630 - acc: 0.7526Epoch 00044: val_loss did not improve\n",
      "13360/13360 [==============================] - 3s 242us/step - loss: 0.7641 - acc: 0.7522 - val_loss: 0.6132 - val_acc: 0.8036\n",
      "Epoch 45/50\n",
      "13248/13360 [============================>.] - ETA: 0s - loss: 0.7583 - acc: 0.7594Epoch 00045: val_loss did not improve\n",
      "13360/13360 [==============================] - 3s 240us/step - loss: 0.7581 - acc: 0.7594 - val_loss: 0.6432 - val_acc: 0.7964\n",
      "Epoch 46/50\n",
      "13248/13360 [============================>.] - ETA: 0s - loss: 0.7364 - acc: 0.7661Epoch 00046: val_loss improved from 0.61267 to 0.60297, saving model to saved_models/vgg16_transfer_aug.hdf5\n",
      "13360/13360 [==============================] - 3s 242us/step - loss: 0.7381 - acc: 0.7659 - val_loss: 0.6030 - val_acc: 0.8048\n",
      "Epoch 47/50\n",
      "13248/13360 [============================>.] - ETA: 0s - loss: 0.7297 - acc: 0.7681Epoch 00047: val_loss did not improve\n",
      "13360/13360 [==============================] - 3s 242us/step - loss: 0.7309 - acc: 0.7677 - val_loss: 0.6151 - val_acc: 0.8072\n",
      "Epoch 48/50\n",
      "13248/13360 [============================>.] - ETA: 0s - loss: 0.7342 - acc: 0.7686Epoch 00048: val_loss did not improve\n",
      "13360/13360 [==============================] - 3s 241us/step - loss: 0.7334 - acc: 0.7688 - val_loss: 0.6287 - val_acc: 0.7976\n",
      "Epoch 49/50\n",
      "13248/13360 [============================>.] - ETA: 0s - loss: 0.7380 - acc: 0.7654Epoch 00049: val_loss did not improve\n",
      "13360/13360 [==============================] - 3s 241us/step - loss: 0.7384 - acc: 0.7651 - val_loss: 0.6115 - val_acc: 0.8072\n",
      "Epoch 50/50\n",
      "13248/13360 [============================>.] - ETA: 0s - loss: 0.7158 - acc: 0.7712Epoch 00050: val_loss did not improve\n",
      "13360/13360 [==============================] - 3s 241us/step - loss: 0.7172 - acc: 0.7705 - val_loss: 0.6188 - val_acc: 0.8012\n"
     ]
    }
   ],
   "source": [
    "from keras.callbacks import EarlyStopping\n",
    "from keras.callbacks import ModelCheckpoint  \n",
    "\n",
    "checkpointer = ModelCheckpoint(filepath='saved_models/vgg16_transfer_aug.hdf5', \n",
    "                               verbose=1, save_best_only=True)\n",
    "\n",
    "\n",
    "history_vgg16 = vgg16_model.fit(train_vgg16_features, y_train_aug2x, \n",
    "          batch_size = 32,\n",
    "          epochs=50,\n",
    "          verbose=1,\n",
    "          validation_data=(valid_vgg16_features, valid_targets),\n",
    "          callbacks=[checkpointer, EarlyStopping(min_delta=1e-7, patience=10)\n",
    "          ])"
   ]
  },
  {
   "cell_type": "code",
   "execution_count": 43,
   "metadata": {},
   "outputs": [
    {
     "data": {
      "image/png": "[encoded data removed]",
      "text/plain": [
       "<matplotlib.figure.Figure at 0x7fdb4ac6c210>"
      ]
     },
     "metadata": {},
     "output_type": "display_data"
    }
   ],
   "source": [
    "import matplotlib.pyplot as plt\n",
    "plt.subplots(figsize = (10,10))\n",
    "plt.subplot(2, 1, 1)\n",
    "\n",
    "plt.plot(history_vgg16.history['acc'], label = \"Training Acc\")\n",
    "plt.plot(history_vgg16.history['val_acc'], label = \"Validation Acc\")\n",
    "\n",
    "plt.legend()\n",
    "plt.xlabel(\"Epochs\")\n",
    "plt.ylabel(\"Accuracy\")\n",
    "plt.title(\"Accuracy vs Number of Iterations\")\n",
    "plt.grid()\n",
    "\n",
    "\n",
    "plt.subplot(2, 1, 2)\n",
    "plt.plot(history_vgg16.history['loss'], label = \"Training Loss\")\n",
    "plt.plot(history_vgg16.history['val_loss'], label = \"Validation loss\")\n",
    "plt.legend()\n",
    "plt.xlabel(\"Epochs\")\n",
    "plt.ylabel(\"Loss\")\n",
    "plt.title(\"Loss vs Number of Iterations\")\n",
    "plt.grid()\n",
    "plt.savefig('plots/training_vgg16_aug.png')\n",
    "plt.show()\n"
   ]
  },
  {
   "cell_type": "code",
   "execution_count": 44,
   "metadata": {},
   "outputs": [],
   "source": [
    "### Load the model weights with the best validation loss.\n",
    "vgg16_model.load_weights('saved_models/vgg16_transfer_aug.hdf5')"
   ]
  },
  {
   "cell_type": "code",
   "execution_count": 45,
   "metadata": {},
   "outputs": [
    {
     "name": "stdout",
     "output_type": "stream",
     "text": [
      "Test accuracy: 80.1435%\n"
     ]
    }
   ],
   "source": [
    "# get index of predicted dog breed for each image in test set\n",
    "vgg16_predictions = [np.argmax(vgg16_model.predict(np.expand_dims(feature, axis=0))) for feature in test_vgg16_features]\n",
    "\n",
    "# report test accuracy\n",
    "test_accuracy = 100.0*np.sum(np.array(vgg16_predictions)==np.argmax(test_targets, axis=1))/len(vgg16_predictions)\n",
    "print('Test accuracy: %.4f%%' % test_accuracy)"
   ]
  },
  {
   "cell_type": "code",
   "execution_count": 46,
   "metadata": {},
   "outputs": [
    {
     "name": "stdout",
     "output_type": "stream",
     "text": [
      "Validation accuracy: 80.4790%\n"
     ]
    }
   ],
   "source": [
    "# get index of predicted dog breed for each image in test set\n",
    "vgg16_predictions = [np.argmax(vgg16_model.predict(np.expand_dims(feature, axis=0))) for feature in valid_vgg16_features]\n",
    "\n",
    "# report test accuracy\n",
    "valid_accuracy = 100.0*np.sum(np.array(vgg16_predictions)==np.argmax(valid_targets, axis=1))/len(vgg16_predictions)\n",
    "print('Validation accuracy: %.4f%%' % valid_accuracy)"
   ]
  },
  {
   "cell_type": "code",
   "execution_count": null,
   "metadata": {},
   "outputs": [],
   "source": []
  },
  {
   "cell_type": "code",
   "execution_count": null,
   "metadata": {},
   "outputs": [],
   "source": []
  },
  {
   "cell_type": "code",
   "execution_count": null,
   "metadata": {},
   "outputs": [],
   "source": []
  },
  {
   "cell_type": "code",
   "execution_count": null,
   "metadata": {},
   "outputs": [],
   "source": []
  },
  {
   "cell_type": "code",
   "execution_count": null,
   "metadata": {},
   "outputs": [],
   "source": []
  },
  {
   "cell_type": "code",
   "execution_count": null,
   "metadata": {},
   "outputs": [],
   "source": []
  },
  {
   "cell_type": "code",
   "execution_count": null,
   "metadata": {},
   "outputs": [],
   "source": []
  },
  {
   "cell_type": "code",
   "execution_count": null,
   "metadata": {},
   "outputs": [],
   "source": []
  },
  {
   "cell_type": "code",
   "execution_count": null,
   "metadata": {},
   "outputs": [],
   "source": [
    "# INCEPTION"
   ]
  },
  {
   "cell_type": "code",
   "execution_count": 10,
   "metadata": {},
   "outputs": [
    {
     "name": "stdout",
     "output_type": "stream",
     "text": [
      "Done extracting weights\n"
     ]
    }
   ],
   "source": [
    "from keras.applications.inception_v3 import InceptionV3\n",
    "from keras.layers import Input\n",
    "input_tensor = Input(shape = (224,224,3))\n",
    "inception = InceptionV3(input_tensor = input_tensor, include_top=False, weights='imagenet')\n",
    "print \"Done extracting weights\""
   ]
  },
  {
   "cell_type": "code",
   "execution_count": null,
   "metadata": {},
   "outputs": [],
   "source": []
  },
  {
   "cell_type": "code",
   "execution_count": 12,
   "metadata": {},
   "outputs": [],
   "source": [
    "from keras.applications.inception_v3 import preprocess_input\n",
    "train_tensors_inception = preprocess_input(x_train_aug)\n",
    "# train_tensors_inception = preprocess_input(x_train_aug)\n"
   ]
  },
  {
   "cell_type": "code",
   "execution_count": 15,
   "metadata": {},
   "outputs": [],
   "source": [
    "valid_tensors_inception = preprocess_input(valid_tensors_original)\n",
    "test_tensors_inception = preprocess_input(test_tensors_original)"
   ]
  },
  {
   "cell_type": "code",
   "execution_count": 16,
   "metadata": {},
   "outputs": [
    {
     "name": "stdout",
     "output_type": "stream",
     "text": [
      "(20040, 5, 5, 2048)\n"
     ]
    }
   ],
   "source": [
    "train_inception_features2 = inception.predict(train_tensors_inception)\n",
    "print(train_inception_features2.shape)"
   ]
  },
  {
   "cell_type": "code",
   "execution_count": 17,
   "metadata": {},
   "outputs": [
    {
     "name": "stdout",
     "output_type": "stream",
     "text": [
      "(835, 5, 5, 2048)\n"
     ]
    }
   ],
   "source": [
    "valid_inception_features = inception.predict(valid_tensors_inception)\n",
    "print(valid_inception_features.shape)"
   ]
  },
  {
   "cell_type": "code",
   "execution_count": 18,
   "metadata": {},
   "outputs": [
    {
     "name": "stdout",
     "output_type": "stream",
     "text": [
      "(836, 5, 5, 2048)\n"
     ]
    }
   ],
   "source": [
    "test_inception_features = inception.predict(test_tensors_inception)\n",
    "print(test_inception_features.shape)"
   ]
  },
  {
   "cell_type": "code",
   "execution_count": 20,
   "metadata": {},
   "outputs": [],
   "source": [
    "np.save(open('bottleneck_features//train_inception_features.npy', 'w'), train_inception_features2)\n",
    "np.save(open('bottleneck_features//valid_inception_features.npy', 'w'), valid_inception_features)\n",
    "np.save(open('bottleneck_features//test_inception_features.npy', 'w'), test_inception_features)"
   ]
  },
  {
   "cell_type": "code",
   "execution_count": null,
   "metadata": {},
   "outputs": [],
   "source": []
  },
  {
   "cell_type": "code",
   "execution_count": null,
   "metadata": {},
   "outputs": [],
   "source": [
    "# Alternatively just use saved pretrained features\n",
    "bottleneck_features = np.load('bottleneck_features/DogInceptionV3Data.npz')\n",
    "train_inception_features = bottleneck_features['train']\n",
    "valid_inception_features = bottleneck_features['valid']\n",
    "test_inception_features = bottleneck_features['test']"
   ]
  },
  {
   "cell_type": "code",
   "execution_count": 24,
   "metadata": {},
   "outputs": [
    {
     "name": "stdout",
     "output_type": "stream",
     "text": [
      "(20040, 5, 5, 2048)\n"
     ]
    }
   ],
   "source": [
    "print(train_inception_features2.shape)"
   ]
  },
  {
   "cell_type": "code",
   "execution_count": 30,
   "metadata": {},
   "outputs": [
    {
     "name": "stdout",
     "output_type": "stream",
     "text": [
      "_________________________________________________________________\n",
      "Layer (type)                 Output Shape              Param #   \n",
      "=================================================================\n",
      "global_average_pooling2d_3 ( (None, 2048)              0         \n",
      "_________________________________________________________________\n",
      "batch_normalization_99 (Batc (None, 2048)              8192      \n",
      "_________________________________________________________________\n",
      "dropout_5 (Dropout)          (None, 2048)              0         \n",
      "_________________________________________________________________\n",
      "dense_5 (Dense)              (None, 266)               545034    \n",
      "_________________________________________________________________\n",
      "batch_normalization_100 (Bat (None, 266)               1064      \n",
      "_________________________________________________________________\n",
      "dropout_6 (Dropout)          (None, 266)               0         \n",
      "_________________________________________________________________\n",
      "dense_6 (Dense)              (None, 133)               35511     \n",
      "=================================================================\n",
      "Total params: 589,801\n",
      "Trainable params: 585,173\n",
      "Non-trainable params: 4,628\n",
      "_________________________________________________________________\n"
     ]
    }
   ],
   "source": [
    "import keras\n",
    "from keras.models import Sequential\n",
    "from keras.layers import Flatten, Dense, Dropout\n",
    "from keras import regularizers\n",
    "from keras.layers import Conv2D, MaxPooling2D, GlobalAveragePooling2D\n",
    "from keras.layers.normalization import BatchNormalization\n",
    "\n",
    "\n",
    "Inception_model = Sequential()\n",
    "\n",
    "Inception_model.add(GlobalAveragePooling2D(input_shape=train_inception_features2.shape[1:]))\n",
    "Inception_model.add(BatchNormalization())\n",
    "Inception_model.add(Dropout(0.5))\n",
    "Inception_model.add(Dense(2 * 133,activation='relu'))\n",
    "Inception_model.add(BatchNormalization())\n",
    "Inception_model.add(Dropout(0.5))\n",
    "\n",
    "Inception_model.add(Dense(133, activation='softmax'))\n",
    "Inception_model.compile(loss='categorical_crossentropy', optimizer='adam', metrics=['accuracy'])\n",
    "\n",
    "Inception_model.summary()"
   ]
  },
  {
   "cell_type": "code",
   "execution_count": 31,
   "metadata": {
    "scrolled": true
   },
   "outputs": [
    {
     "name": "stdout",
     "output_type": "stream",
     "text": [
      "Train on 20040 samples, validate on 835 samples\n",
      "Epoch 1/30\n",
      "20032/20040 [============================>.] - ETA: 0s - loss: 1.5124 - acc: 0.6151Epoch 00001: val_loss improved from inf to 0.57071, saving model to saved_models/weights.best.inception_augmented.hdf5\n",
      "20040/20040 [==============================] - 21s 1ms/step - loss: 1.5124 - acc: 0.6151 - val_loss: 0.5707 - val_acc: 0.8240\n",
      "Epoch 2/30\n",
      "20008/20040 [============================>.] - ETA: 0s - loss: 0.9494 - acc: 0.7305Epoch 00002: val_loss improved from 0.57071 to 0.56070, saving model to saved_models/weights.best.inception_augmented.hdf5\n",
      "20040/20040 [==============================] - 20s 980us/step - loss: 0.9492 - acc: 0.7304 - val_loss: 0.5607 - val_acc: 0.8299\n",
      "Epoch 3/30\n",
      "20016/20040 [============================>.] - ETA: 0s - loss: 0.8248 - acc: 0.7584Epoch 00003: val_loss improved from 0.56070 to 0.53468, saving model to saved_models/weights.best.inception_augmented.hdf5\n",
      "20040/20040 [==============================] - 20s 978us/step - loss: 0.8247 - acc: 0.7584 - val_loss: 0.5347 - val_acc: 0.8491\n",
      "Epoch 4/30\n",
      "20024/20040 [============================>.] - ETA: 0s - loss: 0.7503 - acc: 0.7775Epoch 00004: val_loss improved from 0.53468 to 0.50296, saving model to saved_models/weights.best.inception_augmented.hdf5\n",
      "20040/20040 [==============================] - 20s 976us/step - loss: 0.7506 - acc: 0.7774 - val_loss: 0.5030 - val_acc: 0.8491\n",
      "Epoch 5/30\n",
      "19984/20040 [============================>.] - ETA: 0s - loss: 0.7070 - acc: 0.7877Epoch 00005: val_loss did not improve\n",
      "20040/20040 [==============================] - 19s 960us/step - loss: 0.7071 - acc: 0.7874 - val_loss: 0.5421 - val_acc: 0.8407\n",
      "Epoch 6/30\n",
      "19992/20040 [============================>.] - ETA: 0s - loss: 0.6589 - acc: 0.8024Epoch 00006: val_loss did not improve\n",
      "20040/20040 [==============================] - 19s 962us/step - loss: 0.6589 - acc: 0.8024 - val_loss: 0.5386 - val_acc: 0.8575\n",
      "Epoch 7/30\n",
      "19984/20040 [============================>.] - ETA: 0s - loss: 0.6295 - acc: 0.8028Epoch 00007: val_loss did not improve\n",
      "20040/20040 [==============================] - 19s 959us/step - loss: 0.6293 - acc: 0.8028 - val_loss: 0.5662 - val_acc: 0.8479\n",
      "Epoch 8/30\n",
      "19984/20040 [============================>.] - ETA: 0s - loss: 0.6085 - acc: 0.8119Epoch 00008: val_loss did not improve\n",
      "20040/20040 [==============================] - 19s 961us/step - loss: 0.6092 - acc: 0.8118 - val_loss: 0.5303 - val_acc: 0.8575\n",
      "Epoch 9/30\n",
      "20032/20040 [============================>.] - ETA: 0s - loss: 0.5830 - acc: 0.8181Epoch 00009: val_loss did not improve\n",
      "20040/20040 [==============================] - 19s 958us/step - loss: 0.5832 - acc: 0.8180 - val_loss: 0.5414 - val_acc: 0.8599\n",
      "Epoch 10/30\n",
      "20000/20040 [============================>.] - ETA: 0s - loss: 0.5531 - acc: 0.8276Epoch 00010: val_loss did not improve\n",
      "20040/20040 [==============================] - 19s 947us/step - loss: 0.5537 - acc: 0.8275 - val_loss: 0.5260 - val_acc: 0.8587\n",
      "Epoch 11/30\n",
      "20024/20040 [============================>.] - ETA: 0s - loss: 0.5354 - acc: 0.8301Epoch 00011: val_loss did not improve\n",
      "20040/20040 [==============================] - 19s 949us/step - loss: 0.5354 - acc: 0.8300 - val_loss: 0.5231 - val_acc: 0.8551\n",
      "Epoch 12/30\n",
      "20000/20040 [============================>.] - ETA: 0s - loss: 0.5224 - acc: 0.8373Epoch 00012: val_loss did not improve\n",
      "20040/20040 [==============================] - 19s 946us/step - loss: 0.5222 - acc: 0.8373 - val_loss: 0.5547 - val_acc: 0.8551\n",
      "Epoch 13/30\n",
      "20016/20040 [============================>.] - ETA: 0s - loss: 0.5140 - acc: 0.8401Epoch 00013: val_loss did not improve\n",
      "20040/20040 [==============================] - 19s 952us/step - loss: 0.5142 - acc: 0.8400 - val_loss: 0.5065 - val_acc: 0.8515\n",
      "Epoch 14/30\n",
      "20032/20040 [============================>.] - ETA: 0s - loss: 0.4941 - acc: 0.8432Epoch 00014: val_loss did not improve\n",
      "20040/20040 [==============================] - 19s 950us/step - loss: 0.4940 - acc: 0.8432 - val_loss: 0.5314 - val_acc: 0.8527\n",
      "Epoch 15/30\n",
      "20032/20040 [============================>.] - ETA: 0s - loss: 0.5017 - acc: 0.8385Epoch 00015: val_loss did not improve\n",
      "20040/20040 [==============================] - 20s 989us/step - loss: 0.5016 - acc: 0.8385 - val_loss: 0.5066 - val_acc: 0.8527\n",
      "Epoch 16/30\n",
      "20016/20040 [============================>.] - ETA: 0s - loss: 0.4661 - acc: 0.8514Epoch 00016: val_loss did not improve\n",
      "20040/20040 [==============================] - 19s 967us/step - loss: 0.4659 - acc: 0.8515 - val_loss: 0.5405 - val_acc: 0.8575\n",
      "Epoch 17/30\n",
      "20008/20040 [============================>.] - ETA: 0s - loss: 0.4651 - acc: 0.8506Epoch 00017: val_loss did not improve\n",
      "20040/20040 [==============================] - 19s 966us/step - loss: 0.4653 - acc: 0.8505 - val_loss: 0.5242 - val_acc: 0.8503\n",
      "Epoch 18/30\n",
      "20024/20040 [============================>.] - ETA: 0s - loss: 0.4571 - acc: 0.8560Epoch 00018: val_loss did not improve\n",
      "20040/20040 [==============================] - 19s 967us/step - loss: 0.4569 - acc: 0.8560 - val_loss: 0.5546 - val_acc: 0.8527\n",
      "Epoch 19/30\n",
      "20000/20040 [============================>.] - ETA: 0s - loss: 0.4592 - acc: 0.8557Epoch 00019: val_loss did not improve\n",
      "20040/20040 [==============================] - 18s 913us/step - loss: 0.4591 - acc: 0.8557 - val_loss: 0.5055 - val_acc: 0.8683\n"
     ]
    }
   ],
   "source": [
    "from keras.callbacks import EarlyStopping\n",
    "from keras.callbacks import ModelCheckpoint  \n",
    "\n",
    "checkpointer = ModelCheckpoint(filepath='saved_models/weights.best.inception_augmented.hdf5', \n",
    "                               verbose=1, save_best_only=True)\n",
    "\n",
    "\n",
    "history_inception = Inception_model.fit(train_inception_features2, y_train_aug, \n",
    "          batch_size = 8,\n",
    "          epochs=30,\n",
    "          verbose=1,\n",
    "          validation_data=(valid_inception_features, valid_targets),\n",
    "          callbacks=[checkpointer, EarlyStopping(min_delta=1e-7, patience=10)\n",
    "          ])"
   ]
  },
  {
   "cell_type": "code",
   "execution_count": 48,
   "metadata": {},
   "outputs": [
    {
     "name": "stdout",
     "output_type": "stream",
     "text": [
      "[0.61511976047904193, 0.73043912175648706, 0.75843313373253496, 0.77744510978043913, 0.78742514970059885, 0.80239520958083832, 0.80284431137724555, 0.81177644710578845, 0.81801397205588822, 0.82749500998003989, 0.83003992015968064, 0.83727544910179641, 0.84001996007984037, 0.84316367265469061, 0.83852295409181632, 0.85154690618762474, 0.85054890219560875, 0.85603792415169666, 0.85573852295409181]\n"
     ]
    }
   ],
   "source": [
    "print history_inception.history['acc']"
   ]
  },
  {
   "cell_type": "code",
   "execution_count": 50,
   "metadata": {},
   "outputs": [
    {
     "data": {
      "image/png": "[encoded data removed]",
      "text/plain": [
       "<matplotlib.figure.Figure at 0x7fb7b5281610>"
      ]
     },
     "metadata": {},
     "output_type": "display_data"
    }
   ],
   "source": [
    "import matplotlib.pyplot as plt\n",
    "plt.subplots(figsize = (10,10))\n",
    "plt.subplot(2, 1, 1)\n",
    "\n",
    "plt.plot(history_inception.history['acc'], label = \"Training Acc\")\n",
    "plt.plot(history_inception.history['val_acc'], label = \"Validation Acc\")\n",
    "\n",
    "plt.legend()\n",
    "plt.xlabel(\"iterations (number of batches)\")\n",
    "plt.ylabel(\"Acc\")\n",
    "plt.title(\"Training Loss vs Number of Iterations\")\n",
    "plt.grid()\n",
    "\n",
    "\n",
    "plt.subplot(2, 1, 2)\n",
    "plt.plot(history_inception.history['loss'], label = \"Training Loss\")\n",
    "plt.plot(history_inception.history['val_loss'], label = \"Validation loss\")\n",
    "plt.legend()\n",
    "plt.xlabel(\"iterations (number of batches)\")\n",
    "plt.ylabel(\"Loss\")\n",
    "plt.title(\"Test Loss vs Number of Iterations\")\n",
    "plt.grid()\n",
    "plt.show()"
   ]
  },
  {
   "cell_type": "code",
   "execution_count": 46,
   "metadata": {},
   "outputs": [
    {
     "ename": "NameError",
     "evalue": "name 'Inception_model' is not defined",
     "output_type": "error",
     "traceback": [
      "\u001b[0;31m---------------------------------------------------------------------------\u001b[0m",
      "\u001b[0;31mNameError\u001b[0m                                 Traceback (most recent call last)",
      "\u001b[0;32m<ipython-input-46-cf62e130aa11>\u001b[0m in \u001b[0;36m<module>\u001b[0;34m()\u001b[0m\n\u001b[1;32m      1\u001b[0m \u001b[0;31m### Load the model weights with the best validation loss.\u001b[0m\u001b[0;34m\u001b[0m\u001b[0;34m\u001b[0m\u001b[0m\n\u001b[0;32m----> 2\u001b[0;31m \u001b[0mInception_model\u001b[0m\u001b[0;34m.\u001b[0m\u001b[0mload_weights\u001b[0m\u001b[0;34m(\u001b[0m\u001b[0;34m'saved_models/weights.best.inception_augmented.hdf5'\u001b[0m\u001b[0;34m)\u001b[0m\u001b[0;34m\u001b[0m\u001b[0m\n\u001b[0m",
      "\u001b[0;31mNameError\u001b[0m: name 'Inception_model' is not defined"
     ]
    }
   ],
   "source": [
    "### Load the model weights with the best validation loss.\n",
    "Inception_model.load_weights('saved_models/weights.best.inception_augmented.hdf5')"
   ]
  },
  {
   "cell_type": "code",
   "execution_count": 35,
   "metadata": {},
   "outputs": [
    {
     "name": "stdout",
     "output_type": "stream",
     "text": [
      "Test accuracy: 81.0000%\n"
     ]
    }
   ],
   "source": [
    "Inception_predictions = [np.argmax(Inception_model.predict(np.expand_dims(feature, axis=0))) for feature in test_inception_features]\n",
    "\n",
    "# report test accuracy\n",
    "test_accuracy = 100.0*np.sum(np.array(Inception_predictions)==np.argmax(test_targets, axis=1))/len(Inception_predictions)\n",
    "print('Test accuracy: %.4f%%' % test_accuracy)"
   ]
  },
  {
   "cell_type": "code",
   "execution_count": null,
   "metadata": {},
   "outputs": [],
   "source": []
  },
  {
   "cell_type": "code",
   "execution_count": null,
   "metadata": {},
   "outputs": [],
   "source": []
  },
  {
   "cell_type": "code",
   "execution_count": null,
   "metadata": {},
   "outputs": [],
   "source": []
  },
  {
   "cell_type": "code",
   "execution_count": null,
   "metadata": {},
   "outputs": [],
   "source": []
  },
  {
   "cell_type": "code",
   "execution_count": null,
   "metadata": {},
   "outputs": [],
   "source": []
  },
  {
   "cell_type": "code",
   "execution_count": null,
   "metadata": {},
   "outputs": [],
   "source": [
    "# xception"
   ]
  },
  {
   "cell_type": "code",
   "execution_count": 6,
   "metadata": {},
   "outputs": [
    {
     "name": "stdout",
     "output_type": "stream",
     "text": [
      "Done extracting weights\n"
     ]
    }
   ],
   "source": [
    "from keras.applications.xception import Xception\n",
    "from keras.layers import Input\n",
    "input_tensor = Input(shape = (224,224,3))\n",
    "xception = Xception(input_tensor = input_tensor, include_top=False, weights='imagenet')\n",
    "print \"Done extracting weights\""
   ]
  },
  {
   "cell_type": "code",
   "execution_count": null,
   "metadata": {},
   "outputs": [],
   "source": []
  },
  {
   "cell_type": "code",
   "execution_count": 23,
   "metadata": {},
   "outputs": [],
   "source": [
    "from keras.applications.xception import preprocess_input\n",
    "train_tensors_xception = preprocess_input(x_train_aug1)\n",
    "# train_tensors_xception = preprocess_input(x_train_aug)\n"
   ]
  },
  {
   "cell_type": "code",
   "execution_count": 24,
   "metadata": {},
   "outputs": [],
   "source": [
    "valid_tensors_xception = preprocess_input(valid_tensors_original)\n",
    "test_tensors_xception = preprocess_input(test_tensors_original)"
   ]
  },
  {
   "cell_type": "code",
   "execution_count": 27,
   "metadata": {},
   "outputs": [
    {
     "name": "stdout",
     "output_type": "stream",
     "text": [
      "(13360, 7, 7, 2048)\n"
     ]
    }
   ],
   "source": [
    "train_xception_features2 = xception.predict(train_tensors_xception)\n",
    "print(train_xception_features2.shape)"
   ]
  },
  {
   "cell_type": "code",
   "execution_count": 28,
   "metadata": {},
   "outputs": [
    {
     "name": "stdout",
     "output_type": "stream",
     "text": [
      "(835, 7, 7, 2048)\n"
     ]
    }
   ],
   "source": [
    "valid_xception_features = xception.predict(valid_tensors_xception)\n",
    "print(valid_xception_features.shape)"
   ]
  },
  {
   "cell_type": "code",
   "execution_count": 29,
   "metadata": {},
   "outputs": [
    {
     "name": "stdout",
     "output_type": "stream",
     "text": [
      "(836, 7, 7, 2048)\n"
     ]
    }
   ],
   "source": [
    "test_xception_features = xception.predict(test_tensors_xception)\n",
    "print(test_xception_features.shape)"
   ]
  },
  {
   "cell_type": "code",
   "execution_count": null,
   "metadata": {},
   "outputs": [],
   "source": [
    "np.save(open('bottleneck_features//train_xception_features_aug.npy', 'w'), train_xception_features2)\n",
    "np.save(open('bottleneck_features//valid_xception_features_aug.npy', 'w'), valid_xception_features)\n",
    "np.save(open('bottleneck_features//test_xception_features_aug.npy', 'w'), test_xception_features)"
   ]
  },
  {
   "cell_type": "code",
   "execution_count": null,
   "metadata": {},
   "outputs": [],
   "source": []
  },
  {
   "cell_type": "code",
   "execution_count": 30,
   "metadata": {},
   "outputs": [
    {
     "name": "stdout",
     "output_type": "stream",
     "text": [
      "(13360, 7, 7, 2048)\n"
     ]
    }
   ],
   "source": [
    "print(train_xception_features2.shape)"
   ]
  },
  {
   "cell_type": "code",
   "execution_count": 31,
   "metadata": {},
   "outputs": [
    {
     "name": "stdout",
     "output_type": "stream",
     "text": [
      "_________________________________________________________________\n",
      "Layer (type)                 Output Shape              Param #   \n",
      "=================================================================\n",
      "global_average_pooling2d_1 ( (None, 2048)              0         \n",
      "_________________________________________________________________\n",
      "batch_normalization_5 (Batch (None, 2048)              8192      \n",
      "_________________________________________________________________\n",
      "dropout_1 (Dropout)          (None, 2048)              0         \n",
      "_________________________________________________________________\n",
      "dense_1 (Dense)              (None, 266)               545034    \n",
      "_________________________________________________________________\n",
      "batch_normalization_6 (Batch (None, 266)               1064      \n",
      "_________________________________________________________________\n",
      "dropout_2 (Dropout)          (None, 266)               0         \n",
      "_________________________________________________________________\n",
      "dense_2 (Dense)              (None, 133)               35511     \n",
      "=================================================================\n",
      "Total params: 589,801\n",
      "Trainable params: 585,173\n",
      "Non-trainable params: 4,628\n",
      "_________________________________________________________________\n"
     ]
    }
   ],
   "source": [
    "import keras\n",
    "from keras.models import Sequential\n",
    "from keras.layers import Flatten, Dense, Dropout\n",
    "from keras import regularizers\n",
    "from keras.layers import Conv2D, MaxPooling2D, GlobalAveragePooling2D\n",
    "from keras.layers.normalization import BatchNormalization\n",
    "\n",
    "\n",
    "xception_model = Sequential()\n",
    "\n",
    "xception_model.add(GlobalAveragePooling2D(input_shape=train_xception_features2.shape[1:]))\n",
    "xception_model.add(BatchNormalization())\n",
    "xception_model.add(Dropout(0.5))\n",
    "xception_model.add(Dense(2 * 133,activation='relu'))\n",
    "xception_model.add(BatchNormalization())\n",
    "xception_model.add(Dropout(0.5))\n",
    "\n",
    "xception_model.add(Dense(133, activation='softmax'))\n",
    "xception_model.compile(loss='categorical_crossentropy', optimizer='adam', metrics=['accuracy'])\n",
    "\n",
    "xception_model.summary()"
   ]
  },
  {
   "cell_type": "code",
   "execution_count": 41,
   "metadata": {},
   "outputs": [
    {
     "name": "stdout",
     "output_type": "stream",
     "text": [
      "Train on 13360 samples, validate on 835 samples\n",
      "Epoch 1/20\n",
      "13352/13360 [============================>.] - ETA: 0s - loss: 0.5052 - acc: 0.8388Epoch 00001: val_loss improved from inf to 0.49907, saving model to saved_models/weights.best.xception_augmented_2.hdf5\n",
      "13360/13360 [==============================] - 14s 1ms/step - loss: 0.5052 - acc: 0.8388 - val_loss: 0.4991 - val_acc: 0.8515\n",
      "Epoch 2/20\n",
      "13344/13360 [============================>.] - ETA: 0s - loss: 0.5064 - acc: 0.8388Epoch 00002: val_loss improved from 0.49907 to 0.49848, saving model to saved_models/weights.best.xception_augmented_2.hdf5\n",
      "13360/13360 [==============================] - 14s 1ms/step - loss: 0.5062 - acc: 0.8388 - val_loss: 0.4985 - val_acc: 0.8563\n",
      "Epoch 3/20\n",
      "13328/13360 [============================>.] - ETA: 0s - loss: 0.4774 - acc: 0.8456Epoch 00003: val_loss improved from 0.49848 to 0.49004, saving model to saved_models/weights.best.xception_augmented_2.hdf5\n",
      "13360/13360 [==============================] - 14s 1ms/step - loss: 0.4779 - acc: 0.8456 - val_loss: 0.4900 - val_acc: 0.8623\n",
      "Epoch 4/20\n",
      "13336/13360 [============================>.] - ETA: 0s - loss: 0.4708 - acc: 0.8529Epoch 00004: val_loss improved from 0.49004 to 0.47538, saving model to saved_models/weights.best.xception_augmented_2.hdf5\n",
      "13360/13360 [==============================] - 15s 1ms/step - loss: 0.4710 - acc: 0.8526 - val_loss: 0.4754 - val_acc: 0.8527\n",
      "Epoch 5/20\n",
      "13312/13360 [============================>.] - ETA: 0s - loss: 0.4562 - acc: 0.8558Epoch 00005: val_loss improved from 0.47538 to 0.47173, saving model to saved_models/weights.best.xception_augmented_2.hdf5\n",
      "13360/13360 [==============================] - 15s 1ms/step - loss: 0.4557 - acc: 0.8561 - val_loss: 0.4717 - val_acc: 0.8479\n",
      "Epoch 6/20\n",
      "13312/13360 [============================>.] - ETA: 0s - loss: 0.4473 - acc: 0.8546Epoch 00006: val_loss did not improve\n",
      "13360/13360 [==============================] - 15s 1ms/step - loss: 0.4492 - acc: 0.8541 - val_loss: 0.4718 - val_acc: 0.8563\n",
      "Epoch 7/20\n",
      "13344/13360 [============================>.] - ETA: 0s - loss: 0.4523 - acc: 0.8563Epoch 00007: val_loss did not improve\n",
      "13360/13360 [==============================] - 15s 1ms/step - loss: 0.4524 - acc: 0.8562 - val_loss: 0.5150 - val_acc: 0.8419\n",
      "Epoch 8/20\n",
      "13352/13360 [============================>.] - ETA: 0s - loss: 0.4379 - acc: 0.8613Epoch 00008: val_loss did not improve\n",
      "13360/13360 [==============================] - 15s 1ms/step - loss: 0.4381 - acc: 0.8612 - val_loss: 0.4915 - val_acc: 0.8563\n",
      "Epoch 9/20\n",
      "13352/13360 [============================>.] - ETA: 0s - loss: 0.4289 - acc: 0.8614Epoch 00009: val_loss did not improve\n",
      "13360/13360 [==============================] - 15s 1ms/step - loss: 0.4289 - acc: 0.8613 - val_loss: 0.5098 - val_acc: 0.8443\n",
      "Epoch 10/20\n",
      "13312/13360 [============================>.] - ETA: 0s - loss: 0.4181 - acc: 0.8637Epoch 00010: val_loss did not improve\n",
      "13360/13360 [==============================] - 15s 1ms/step - loss: 0.4189 - acc: 0.8632 - val_loss: 0.4863 - val_acc: 0.8527\n",
      "Epoch 11/20\n",
      "13336/13360 [============================>.] - ETA: 0s - loss: 0.4084 - acc: 0.8646Epoch 00011: val_loss did not improve\n",
      "13360/13360 [==============================] - 15s 1ms/step - loss: 0.4088 - acc: 0.8645 - val_loss: 0.4854 - val_acc: 0.8551\n",
      "Epoch 12/20\n",
      "13320/13360 [============================>.] - ETA: 0s - loss: 0.4123 - acc: 0.8667Epoch 00012: val_loss did not improve\n",
      "13360/13360 [==============================] - 15s 1ms/step - loss: 0.4118 - acc: 0.8668 - val_loss: 0.4831 - val_acc: 0.8503\n",
      "Epoch 13/20\n",
      "13336/13360 [============================>.] - ETA: 0s - loss: 0.4062 - acc: 0.8685Epoch 00013: val_loss did not improve\n",
      "13360/13360 [==============================] - 15s 1ms/step - loss: 0.4060 - acc: 0.8686 - val_loss: 0.5204 - val_acc: 0.8419\n",
      "Epoch 14/20\n",
      "13328/13360 [============================>.] - ETA: 0s - loss: 0.3979 - acc: 0.8706Epoch 00014: val_loss did not improve\n",
      "13360/13360 [==============================] - 15s 1ms/step - loss: 0.3977 - acc: 0.8707 - val_loss: 0.5086 - val_acc: 0.8563\n",
      "Epoch 15/20\n",
      "13328/13360 [============================>.] - ETA: 0s - loss: 0.3810 - acc: 0.8767Epoch 00015: val_loss did not improve\n",
      "13360/13360 [==============================] - 15s 1ms/step - loss: 0.3811 - acc: 0.8766 - val_loss: 0.4797 - val_acc: 0.8539\n",
      "Epoch 16/20\n",
      "13344/13360 [============================>.] - ETA: 0s - loss: 0.3917 - acc: 0.8746Epoch 00016: val_loss did not improve\n",
      "13360/13360 [==============================] - 15s 1ms/step - loss: 0.3915 - acc: 0.8746 - val_loss: 0.4954 - val_acc: 0.8587\n",
      "Epoch 17/20\n",
      "13352/13360 [============================>.] - ETA: 0s - loss: 0.3885 - acc: 0.8761Epoch 00017: val_loss did not improve\n",
      "13360/13360 [==============================] - 15s 1ms/step - loss: 0.3887 - acc: 0.8760 - val_loss: 0.5096 - val_acc: 0.8599\n",
      "Epoch 18/20\n",
      "13312/13360 [============================>.] - ETA: 0s - loss: 0.3730 - acc: 0.8780Epoch 00018: val_loss did not improve\n",
      "13360/13360 [==============================] - 15s 1ms/step - loss: 0.3739 - acc: 0.8779 - val_loss: 0.4896 - val_acc: 0.8503\n",
      "Epoch 19/20\n",
      "13312/13360 [============================>.] - ETA: 0s - loss: 0.3557 - acc: 0.8819Epoch 00019: val_loss did not improve\n",
      "13360/13360 [==============================] - 15s 1ms/step - loss: 0.3558 - acc: 0.8820 - val_loss: 0.4915 - val_acc: 0.8587\n",
      "Epoch 20/20\n",
      "13328/13360 [============================>.] - ETA: 0s - loss: 0.3705 - acc: 0.8796Epoch 00020: val_loss did not improve\n",
      "13360/13360 [==============================] - 15s 1ms/step - loss: 0.3703 - acc: 0.8796 - val_loss: 0.5060 - val_acc: 0.8563\n"
     ]
    }
   ],
   "source": [
    "from keras.callbacks import EarlyStopping\n",
    "from keras.callbacks import ModelCheckpoint  \n",
    "\n",
    "checkpointer = ModelCheckpoint(filepath='saved_models/weights.best.xception_augmented_2.hdf5', \n",
    "                               verbose=1, save_best_only=True)\n",
    "\n",
    "\n",
    "history_xception = xception_model.fit(train_xception_features2, y_train_aug1,\n",
    "          batch_size = 8,\n",
    "          epochs=20,\n",
    "          verbose=1,\n",
    "          validation_data=(valid_xception_features, valid_targets),\n",
    "          callbacks=[checkpointer, EarlyStopping(min_delta=1e-7, patience=15)\n",
    "          ])"
   ]
  },
  {
   "cell_type": "code",
   "execution_count": 42,
   "metadata": {},
   "outputs": [],
   "source": [
    "### Load the model weights with the best validation loss.\n",
    "xception_model.load_weights('saved_models/weights.best.xception_augmented_2.hdf5')"
   ]
  },
  {
   "cell_type": "code",
   "execution_count": 43,
   "metadata": {},
   "outputs": [
    {
     "name": "stdout",
     "output_type": "stream",
     "text": [
      "Test accuracy: 85.4067%\n"
     ]
    }
   ],
   "source": [
    "xception_predictions = [np.argmax(xception_model.predict(np.expand_dims(feature, axis=0))) for feature in test_xception_features]\n",
    "\n",
    "# report test accuracy\n",
    "test_accuracy = 100.0*np.sum(np.array(xception_predictions)==np.argmax(test_targets, axis=1))/len(xception_predictions)\n",
    "print('Test accuracy: %.4f%%' % test_accuracy)"
   ]
  },
  {
   "cell_type": "code",
   "execution_count": 44,
   "metadata": {},
   "outputs": [
    {
     "data": {
      "image/png": "[encoded data removed]",
      "text/plain": [
       "<matplotlib.figure.Figure at 0x7f990808afd0>"
      ]
     },
     "metadata": {},
     "output_type": "display_data"
    }
   ],
   "source": [
    "import matplotlib.pyplot as plt\n",
    "plt.subplots(figsize = (10,10))\n",
    "plt.subplot(2, 1, 1)\n",
    "\n",
    "plt.plot(history_xception.history['acc'], label = \"Training Acc\")\n",
    "plt.plot(history_xception.history['val_acc'], label = \"Validation Acc\")\n",
    "\n",
    "plt.legend()\n",
    "plt.xlabel(\"iterations (number of batches)\")\n",
    "plt.ylabel(\"Acc\")\n",
    "plt.title(\"Training Loss vs Number of Iterations\")\n",
    "plt.grid()\n",
    "\n",
    "\n",
    "plt.subplot(2, 1, 2)\n",
    "plt.plot(history_xception.history['loss'], label = \"Training Loss\")\n",
    "plt.plot(history_xception.history['val_loss'], label = \"Validation loss\")\n",
    "plt.legend()\n",
    "plt.xlabel(\"iterations (number of batches)\")\n",
    "plt.ylabel(\"Loss\")\n",
    "plt.title(\"Test Loss vs Number of Iterations\")\n",
    "plt.grid()\n",
    "plt.show()"
   ]
  },
  {
   "cell_type": "code",
   "execution_count": null,
   "metadata": {},
   "outputs": [],
   "source": []
  },
  {
   "cell_type": "code",
   "execution_count": null,
   "metadata": {},
   "outputs": [],
   "source": []
  },
  {
   "cell_type": "code",
   "execution_count": null,
   "metadata": {},
   "outputs": [],
   "source": []
  },
  {
   "cell_type": "code",
   "execution_count": null,
   "metadata": {},
   "outputs": [],
   "source": [
    "# vgg16"
   ]
  },
  {
   "cell_type": "code",
   "execution_count": 3,
   "metadata": {},
   "outputs": [
    {
     "name": "stderr",
     "output_type": "stream",
     "text": [
      "Using TensorFlow backend.\n"
     ]
    },
    {
     "name": "stdout",
     "output_type": "stream",
     "text": [
      "Done extracting weights\n"
     ]
    }
   ],
   "source": [
    "from keras.applications.vgg16 import VGG16\n",
    "vgg16 = VGG16(include_top=False, weights='imagenet')\n",
    "print \"Done extracting weights\""
   ]
  },
  {
   "cell_type": "code",
   "execution_count": 4,
   "metadata": {},
   "outputs": [],
   "source": [
    "from keras.applications.vgg16 import preprocess_input\n",
    "\n",
    "train_tensors_vgg16 = preprocess_input(x_train_aug1)\n",
    "valid_tensors_vgg16 = preprocess_input(valid_tensors_original)\n",
    "test_tensors_vgg16 = preprocess_input(test_tensors_original)"
   ]
  },
  {
   "cell_type": "code",
   "execution_count": 12,
   "metadata": {},
   "outputs": [
    {
     "name": "stdout",
     "output_type": "stream",
     "text": [
      "13360\n"
     ]
    }
   ],
   "source": [
    "print (train_tensors_vgg16.shape[0])"
   ]
  },
  {
   "cell_type": "code",
   "execution_count": 13,
   "metadata": {},
   "outputs": [
    {
     "name": "stdout",
     "output_type": "stream",
     "text": [
      "(13360, 7, 7, 512)\n"
     ]
    }
   ],
   "source": [
    "train_vgg16_features = vgg16.predict(train_tensors_vgg16[0:10])\n",
    "for i in np.arange(10, train_tensors_vgg16.shape[0], 10):\n",
    "    print i\n",
    "    y_predict0 = vgg16.predict(train_tensors_vgg16[i:i+10])\n",
    "    train_vgg16_features = np.concatenate((train_vgg16_features, y_predict0), axis = 0)\n",
    "print(train_vgg16_features.shape)"
   ]
  },
  {
   "cell_type": "code",
   "execution_count": 10,
   "metadata": {},
   "outputs": [
    {
     "name": "stdout",
     "output_type": "stream",
     "text": [
      "(835, 7, 7, 512)\n"
     ]
    }
   ],
   "source": [
    "valid_vgg16_features = vgg16.predict(valid_tensors_vgg16[0:5])\n",
    "for i in np.arange(5, valid_tensors_vgg16.shape[0], 10):\n",
    "    y_predict0 = vgg16.predict(valid_tensors_vgg16[i:i+10])\n",
    "    valid_vgg16_features = np.concatenate((valid_vgg16_features, y_predict0), axis = 0)\n",
    "print(valid_vgg16_features.shape)\n"
   ]
  },
  {
   "cell_type": "code",
   "execution_count": 11,
   "metadata": {},
   "outputs": [
    {
     "name": "stdout",
     "output_type": "stream",
     "text": [
      "(836, 7, 7, 512)\n"
     ]
    }
   ],
   "source": [
    "test_vgg16_features = vgg16.predict(test_tensors_vgg16[0:6])\n",
    "for i in np.arange(6, test_tensors_vgg16.shape[0], 10):\n",
    "    y_predict0 = vgg16.predict(test_tensors_vgg16[i:i+10])\n",
    "    test_vgg16_features = np.concatenate((test_vgg16_features, y_predict0), axis = 0)\n",
    "print(test_vgg16_features.shape)"
   ]
  },
  {
   "cell_type": "code",
   "execution_count": 14,
   "metadata": {},
   "outputs": [],
   "source": [
    "np.save(open('bottleneck_features//train_vgg16_features_aug.npy', 'w'), train_vgg16_features)\n",
    "np.save(open('bottleneck_features//valid_vgg16_features_aug.npy', 'w'), valid_vgg16_features)\n",
    "np.save(open('bottleneck_features//test_vgg16_features_aug.npy', 'w'), test_vgg16_features)"
   ]
  },
  {
   "cell_type": "code",
   "execution_count": null,
   "metadata": {},
   "outputs": [],
   "source": []
  },
  {
   "cell_type": "code",
   "execution_count": null,
   "metadata": {},
   "outputs": [],
   "source": [
    "# Alternatively just use saved pretrained features\n",
    "bottleneck_features = np.load('bottleneck_features/Dogvgg16V3Data.npz')\n",
    "train_vgg16_features = bottleneck_features['train']\n",
    "valid_vgg16_features = bottleneck_features['valid']\n",
    "test_vgg16_features = bottleneck_features['test']"
   ]
  },
  {
   "cell_type": "code",
   "execution_count": null,
   "metadata": {},
   "outputs": [],
   "source": [
    "print(train_vgg16_features.shape)"
   ]
  },
  {
   "cell_type": "code",
   "execution_count": 31,
   "metadata": {},
   "outputs": [
    {
     "name": "stdout",
     "output_type": "stream",
     "text": [
      "_________________________________________________________________\n",
      "Layer (type)                 Output Shape              Param #   \n",
      "=================================================================\n",
      "global_average_pooling2d_4 ( (None, 512)               0         \n",
      "_________________________________________________________________\n",
      "batch_normalization_7 (Batch (None, 512)               2048      \n",
      "_________________________________________________________________\n",
      "dropout_7 (Dropout)          (None, 512)               0         \n",
      "_________________________________________________________________\n",
      "dense_7 (Dense)              (None, 266)               136458    \n",
      "_________________________________________________________________\n",
      "batch_normalization_8 (Batch (None, 266)               1064      \n",
      "_________________________________________________________________\n",
      "dropout_8 (Dropout)          (None, 266)               0         \n",
      "_________________________________________________________________\n",
      "dense_8 (Dense)              (None, 133)               35511     \n",
      "=================================================================\n",
      "Total params: 175,081\n",
      "Trainable params: 173,525\n",
      "Non-trainable params: 1,556\n",
      "_________________________________________________________________\n"
     ]
    }
   ],
   "source": [
    "import keras\n",
    "from keras.models import Sequential\n",
    "from keras.layers import Flatten, Dense, Dropout\n",
    "from keras import regularizers\n",
    "from keras.layers import Conv2D, MaxPooling2D, GlobalAveragePooling2D\n",
    "from keras.layers.normalization import BatchNormalization\n",
    "\n",
    "\n",
    "vgg16_model = Sequential()\n",
    "\n",
    "vgg16_model.add(GlobalAveragePooling2D(input_shape=train_vgg16_features.shape[1:]))\n",
    "vgg16_model.add(BatchNormalization())\n",
    "vgg16_model.add(Dropout(0.5))\n",
    "vgg16_model.add(Dense(2 * 133,activation='relu'))\n",
    "vgg16_model.add(BatchNormalization())\n",
    "vgg16_model.add(Dropout(0.5))\n",
    "\n",
    "vgg16_model.add(Dense(133, activation='softmax'))\n",
    "vgg16_model.compile(loss='categorical_crossentropy', optimizer='adam', metrics=['accuracy'])\n",
    "\n",
    "vgg16_model.summary()"
   ]
  },
  {
   "cell_type": "code",
   "execution_count": 32,
   "metadata": {},
   "outputs": [
    {
     "ename": "NameError",
     "evalue": "name 'y_train_aug1' is not defined",
     "output_type": "error",
     "traceback": [
      "\u001b[0;31m---------------------------------------------------------------------------\u001b[0m",
      "\u001b[0;31mNameError\u001b[0m                                 Traceback (most recent call last)",
      "\u001b[0;32m<ipython-input-32-c754927f954d>\u001b[0m in \u001b[0;36m<module>\u001b[0;34m()\u001b[0m\n\u001b[1;32m      6\u001b[0m \u001b[0;34m\u001b[0m\u001b[0m\n\u001b[1;32m      7\u001b[0m \u001b[0;34m\u001b[0m\u001b[0m\n\u001b[0;32m----> 8\u001b[0;31m history_vgg16 = vgg16_model.fit(train_vgg16_features, y_train_aug1, \n\u001b[0m\u001b[1;32m      9\u001b[0m           \u001b[0mbatch_size\u001b[0m \u001b[0;34m=\u001b[0m \u001b[0;36m8\u001b[0m\u001b[0;34m,\u001b[0m\u001b[0;34m\u001b[0m\u001b[0m\n\u001b[1;32m     10\u001b[0m           \u001b[0mepochs\u001b[0m\u001b[0;34m=\u001b[0m\u001b[0;36m50\u001b[0m\u001b[0;34m,\u001b[0m\u001b[0;34m\u001b[0m\u001b[0m\n",
      "\u001b[0;31mNameError\u001b[0m: name 'y_train_aug1' is not defined"
     ]
    }
   ],
   "source": [
    "from keras.callbacks import EarlyStopping\n",
    "from keras.callbacks import ModelCheckpoint  \n",
    "\n",
    "checkpointer = ModelCheckpoint(filepath='saved_models/weights.best.vgg16_augmented.hdf5', \n",
    "                               verbose=1, save_best_only=True)\n",
    "\n",
    "\n",
    "history_vgg16 = vgg16_model.fit(train_vgg16_features, y_train_aug1, \n",
    "          batch_size = 8,\n",
    "          epochs=50,\n",
    "          verbose=1,\n",
    "          validation_data=(valid_vgg16_features, valid_targets),\n",
    "          callbacks=[checkpointer, EarlyStopping(min_delta=1e-7, patience=15)\n",
    "          ])"
   ]
  },
  {
   "cell_type": "code",
   "execution_count": 21,
   "metadata": {},
   "outputs": [],
   "source": [
    "### Load the model weights with the best validation loss.\n",
    "vgg16_model.load_weights('saved_models/weights.best.vgg16_augmented.hdf5')"
   ]
  },
  {
   "cell_type": "code",
   "execution_count": 23,
   "metadata": {},
   "outputs": [
    {
     "name": "stdout",
     "output_type": "stream",
     "text": [
      "Test accuracy: 79.9043%\n"
     ]
    }
   ],
   "source": [
    "vgg16_predictions = [np.argmax(vgg16_model.predict(np.expand_dims(feature, axis=0))) for feature in test_vgg16_features]\n",
    "\n",
    "# report test accuracy\n",
    "test_accuracy = 100.0*np.sum(np.array(vgg16_predictions)==np.argmax(test_targets, axis=1))/len(vgg16_predictions)\n",
    "print('Test accuracy: %.4f%%' % test_accuracy)"
   ]
  },
  {
   "cell_type": "code",
   "execution_count": null,
   "metadata": {},
   "outputs": [],
   "source": []
  },
  {
   "cell_type": "code",
   "execution_count": null,
   "metadata": {},
   "outputs": [],
   "source": []
  },
  {
   "cell_type": "code",
   "execution_count": null,
   "metadata": {},
   "outputs": [],
   "source": []
  },
  {
   "cell_type": "code",
   "execution_count": null,
   "metadata": {},
   "outputs": [],
   "source": []
  },
  {
   "cell_type": "code",
   "execution_count": null,
   "metadata": {},
   "outputs": [],
   "source": []
  },
  {
   "cell_type": "code",
   "execution_count": null,
   "metadata": {},
   "outputs": [],
   "source": []
  },
  {
   "cell_type": "code",
   "execution_count": null,
   "metadata": {},
   "outputs": [],
   "source": [
    "# vgg19"
   ]
  },
  {
   "cell_type": "code",
   "execution_count": 3,
   "metadata": {},
   "outputs": [
    {
     "name": "stderr",
     "output_type": "stream",
     "text": [
      "Using TensorFlow backend.\n"
     ]
    },
    {
     "name": "stdout",
     "output_type": "stream",
     "text": [
      "Done extracting weights\n"
     ]
    }
   ],
   "source": [
    "from keras.applications.vgg19 import VGG19\n",
    "vgg19 = VGG19(include_top=False, weights='imagenet')\n",
    "print \"Done extracting weights\""
   ]
  },
  {
   "cell_type": "code",
   "execution_count": 4,
   "metadata": {},
   "outputs": [],
   "source": [
    "from keras.applications.vgg19 import preprocess_input\n",
    "\n",
    "train_tensors_vgg19 = preprocess_input(x_train_aug1)\n",
    "valid_tensors_vgg19 = preprocess_input(valid_tensors_original)\n",
    "test_tensors_vgg19 = preprocess_input(test_tensors_original)"
   ]
  },
  {
   "cell_type": "code",
   "execution_count": 5,
   "metadata": {},
   "outputs": [
    {
     "name": "stdout",
     "output_type": "stream",
     "text": [
      "13360\n"
     ]
    }
   ],
   "source": [
    "print (train_tensors_vgg19.shape[0])"
   ]
  },
  {
   "cell_type": "code",
   "execution_count": 6,
   "metadata": {},
   "outputs": [
    {
     "name": "stdout",
     "output_type": "stream",
     "text": [
      "10\n",
      "20\n",
      "30\n",
      "40\n",
      "50\n",
      "60\n",
      "70\n",
      "80\n",
      "90\n",
      "100\n",
      "110\n",
      "120\n",
      "130\n",
      "140\n",
      "150\n",
      "160\n",
      "170\n",
      "180\n",
      "190\n",
      "200\n",
      "210\n",
      "220\n",
      "230\n",
      "240\n",
      "250\n",
      "260\n",
      "270\n",
      "280\n",
      "290\n",
      "300\n",
      "310\n",
      "320\n",
      "330\n",
      "340\n",
      "350\n",
      "360\n",
      "370\n",
      "380\n",
      "390\n",
      "400\n",
      "410\n",
      "420\n",
      "430\n",
      "440\n",
      "450\n",
      "460\n",
      "470\n",
      "480\n",
      "490\n",
      "500\n",
      "510\n",
      "520\n",
      "530\n",
      "540\n",
      "550\n",
      "560\n",
      "570\n",
      "580\n",
      "590\n",
      "600\n",
      "610\n",
      "620\n",
      "630\n",
      "640\n",
      "650\n",
      "660\n",
      "670\n",
      "680\n",
      "690\n",
      "700\n",
      "710\n",
      "720\n",
      "730\n",
      "740\n",
      "750\n",
      "760\n",
      "770\n",
      "780\n",
      "790\n",
      "800\n",
      "810\n",
      "820\n",
      "830\n",
      "840\n",
      "850\n",
      "860\n",
      "870\n",
      "880\n",
      "890\n",
      "900\n",
      "910\n",
      "920\n",
      "930\n",
      "940\n",
      "950\n",
      "960\n",
      "970\n",
      "980\n",
      "990\n",
      "1000\n",
      "1010\n",
      "1020\n",
      "1030\n",
      "1040\n",
      "1050\n",
      "1060\n",
      "1070\n",
      "1080\n",
      "1090\n",
      "1100\n",
      "1110\n",
      "1120\n",
      "1130\n",
      "1140\n",
      "1150\n",
      "1160\n",
      "1170\n",
      "1180\n",
      "1190\n",
      "1200\n",
      "1210\n",
      "1220\n",
      "1230\n",
      "1240\n",
      "1250\n",
      "1260\n",
      "1270\n",
      "1280\n",
      "1290\n",
      "1300\n",
      "1310\n",
      "1320\n",
      "1330\n",
      "1340\n",
      "1350\n",
      "1360\n",
      "1370\n",
      "1380\n",
      "1390\n",
      "1400\n",
      "1410\n",
      "1420\n",
      "1430\n",
      "1440\n",
      "1450\n",
      "1460\n",
      "1470\n",
      "1480\n",
      "1490\n",
      "1500\n",
      "1510\n",
      "1520\n",
      "1530\n",
      "1540\n",
      "1550\n",
      "1560\n",
      "1570\n",
      "1580\n",
      "1590\n",
      "1600\n",
      "1610\n",
      "1620\n",
      "1630\n",
      "1640\n",
      "1650\n",
      "1660\n",
      "1670\n",
      "1680\n",
      "1690\n",
      "1700\n",
      "1710\n",
      "1720\n",
      "1730\n",
      "1740\n",
      "1750\n",
      "1760\n",
      "1770\n",
      "1780\n",
      "1790\n",
      "1800\n",
      "1810\n",
      "1820\n",
      "1830\n",
      "1840\n",
      "1850\n",
      "1860\n",
      "1870\n",
      "1880\n",
      "1890\n",
      "1900\n",
      "1910\n",
      "1920\n",
      "1930\n",
      "1940\n",
      "1950\n",
      "1960\n",
      "1970\n",
      "1980\n",
      "1990\n",
      "2000\n",
      "2010\n",
      "2020\n",
      "2030\n",
      "2040\n",
      "2050\n",
      "2060\n",
      "2070\n",
      "2080\n",
      "2090\n",
      "2100\n",
      "2110\n",
      "2120\n",
      "2130\n",
      "2140\n",
      "2150\n",
      "2160\n",
      "2170\n",
      "2180\n",
      "2190\n",
      "2200\n",
      "2210\n",
      "2220\n",
      "2230\n",
      "2240\n",
      "2250\n",
      "2260\n",
      "2270\n",
      "2280\n",
      "2290\n",
      "2300\n",
      "2310\n",
      "2320\n",
      "2330\n",
      "2340\n",
      "2350\n",
      "2360\n",
      "2370\n",
      "2380\n",
      "2390\n",
      "2400\n",
      "2410\n",
      "2420\n",
      "2430\n",
      "2440\n",
      "2450\n",
      "2460\n",
      "2470\n",
      "2480\n",
      "2490\n",
      "2500\n",
      "2510\n",
      "2520\n",
      "2530\n",
      "2540\n",
      "2550\n",
      "2560\n",
      "2570\n",
      "2580\n",
      "2590\n",
      "2600\n",
      "2610\n",
      "2620\n",
      "2630\n",
      "2640\n",
      "2650\n",
      "2660\n",
      "2670\n",
      "2680\n",
      "2690\n",
      "2700\n",
      "2710\n",
      "2720\n",
      "2730\n",
      "2740\n",
      "2750\n",
      "2760\n",
      "2770\n",
      "2780\n",
      "2790\n",
      "2800\n",
      "2810\n",
      "2820\n",
      "2830\n",
      "2840\n",
      "2850\n",
      "2860\n",
      "2870\n",
      "2880\n",
      "2890\n",
      "2900\n",
      "2910\n",
      "2920\n",
      "2930\n",
      "2940\n",
      "2950\n",
      "2960\n",
      "2970\n",
      "2980\n",
      "2990\n",
      "3000\n",
      "3010\n",
      "3020\n",
      "3030\n",
      "3040\n",
      "3050\n",
      "3060\n",
      "3070\n",
      "3080\n",
      "3090\n",
      "3100\n",
      "3110\n",
      "3120\n",
      "3130\n",
      "3140\n",
      "3150\n",
      "3160\n",
      "3170\n",
      "3180\n",
      "3190\n",
      "3200\n",
      "3210\n",
      "3220\n",
      "3230\n",
      "3240\n",
      "3250\n",
      "3260\n",
      "3270\n",
      "3280\n",
      "3290\n",
      "3300\n",
      "3310\n",
      "3320\n",
      "3330\n",
      "3340\n",
      "3350\n",
      "3360\n",
      "3370\n",
      "3380\n",
      "3390\n",
      "3400\n",
      "3410\n",
      "3420\n",
      "3430\n",
      "3440\n",
      "3450\n",
      "3460\n",
      "3470\n",
      "3480\n",
      "3490\n",
      "3500\n",
      "3510\n",
      "3520\n",
      "3530\n",
      "3540\n",
      "3550\n",
      "3560\n",
      "3570\n",
      "3580\n",
      "3590\n",
      "3600\n",
      "3610\n",
      "3620\n",
      "3630\n",
      "3640\n",
      "3650\n",
      "3660\n",
      "3670\n",
      "3680\n",
      "3690\n",
      "3700\n",
      "3710\n",
      "3720\n",
      "3730\n",
      "3740\n",
      "3750\n",
      "3760\n",
      "3770\n",
      "3780\n",
      "3790\n",
      "3800\n",
      "3810\n",
      "3820\n",
      "3830\n",
      "3840\n",
      "3850\n",
      "3860\n",
      "3870\n",
      "3880\n",
      "3890\n",
      "3900\n",
      "3910\n",
      "3920\n",
      "3930\n",
      "3940\n",
      "3950\n",
      "3960\n",
      "3970\n",
      "3980\n",
      "3990\n",
      "4000\n",
      "4010\n",
      "4020\n",
      "4030\n",
      "4040\n",
      "4050\n",
      "4060\n",
      "4070\n",
      "4080\n",
      "4090\n",
      "4100\n",
      "4110\n",
      "4120\n",
      "4130\n",
      "4140\n",
      "4150\n",
      "4160\n",
      "4170\n",
      "4180\n",
      "4190\n",
      "4200\n",
      "4210\n",
      "4220\n",
      "4230\n",
      "4240\n",
      "4250\n",
      "4260\n",
      "4270\n",
      "4280\n",
      "4290\n",
      "4300\n",
      "4310\n",
      "4320\n",
      "4330\n",
      "4340\n",
      "4350\n",
      "4360\n",
      "4370\n",
      "4380\n",
      "4390\n",
      "4400\n",
      "4410\n",
      "4420\n",
      "4430\n",
      "4440\n",
      "4450\n",
      "4460\n",
      "4470\n",
      "4480\n",
      "4490\n",
      "4500\n",
      "4510\n",
      "4520\n",
      "4530\n",
      "4540\n",
      "4550\n",
      "4560\n",
      "4570\n",
      "4580\n",
      "4590\n",
      "4600\n",
      "4610\n",
      "4620\n",
      "4630\n",
      "4640\n",
      "4650\n",
      "4660\n",
      "4670\n",
      "4680\n",
      "4690\n",
      "4700\n",
      "4710\n",
      "4720\n",
      "4730\n",
      "4740\n",
      "4750\n",
      "4760\n",
      "4770\n",
      "4780\n",
      "4790\n",
      "4800\n",
      "4810\n",
      "4820\n",
      "4830\n",
      "4840\n",
      "4850\n",
      "4860\n",
      "4870\n",
      "4880\n",
      "4890\n",
      "4900\n",
      "4910\n",
      "4920\n",
      "4930\n",
      "4940\n",
      "4950\n",
      "4960\n",
      "4970\n",
      "4980\n",
      "4990\n",
      "5000\n",
      "5010\n",
      "5020\n",
      "5030\n",
      "5040\n",
      "5050\n",
      "5060\n",
      "5070\n",
      "5080\n",
      "5090\n",
      "5100\n",
      "5110\n",
      "5120\n",
      "5130\n",
      "5140\n",
      "5150\n",
      "5160\n",
      "5170\n",
      "5180\n",
      "5190\n",
      "5200\n",
      "5210\n",
      "5220\n",
      "5230\n",
      "5240\n",
      "5250\n",
      "5260\n",
      "5270\n",
      "5280\n",
      "5290\n",
      "5300\n",
      "5310\n",
      "5320\n",
      "5330\n",
      "5340\n",
      "5350\n",
      "5360\n",
      "5370\n",
      "5380\n",
      "5390\n",
      "5400\n",
      "5410\n",
      "5420\n",
      "5430\n",
      "5440\n",
      "5450\n",
      "5460\n",
      "5470\n",
      "5480\n",
      "5490\n",
      "5500\n",
      "5510\n",
      "5520\n",
      "5530\n",
      "5540\n",
      "5550\n",
      "5560\n",
      "5570\n",
      "5580\n",
      "5590\n",
      "5600\n",
      "5610\n",
      "5620\n",
      "5630\n",
      "5640\n",
      "5650\n",
      "5660\n",
      "5670\n",
      "5680\n",
      "5690\n",
      "5700\n",
      "5710\n",
      "5720\n",
      "5730\n",
      "5740\n",
      "5750\n",
      "5760\n",
      "5770\n",
      "5780\n",
      "5790\n",
      "5800\n",
      "5810\n",
      "5820\n",
      "5830\n",
      "5840\n",
      "5850\n",
      "5860\n",
      "5870\n",
      "5880\n",
      "5890\n",
      "5900\n",
      "5910\n",
      "5920\n",
      "5930\n",
      "5940\n",
      "5950\n",
      "5960\n",
      "5970\n",
      "5980\n",
      "5990\n",
      "6000\n",
      "6010\n",
      "6020\n",
      "6030\n",
      "6040\n",
      "6050\n",
      "6060\n",
      "6070\n",
      "6080\n",
      "6090\n",
      "6100\n",
      "6110\n",
      "6120\n",
      "6130\n",
      "6140\n",
      "6150\n",
      "6160\n",
      "6170\n",
      "6180\n",
      "6190\n",
      "6200\n",
      "6210\n",
      "6220\n",
      "6230\n",
      "6240\n",
      "6250\n",
      "6260\n",
      "6270\n",
      "6280\n",
      "6290\n",
      "6300\n",
      "6310\n",
      "6320\n",
      "6330\n",
      "6340\n",
      "6350\n",
      "6360\n",
      "6370\n",
      "6380\n",
      "6390\n",
      "6400\n",
      "6410\n",
      "6420\n",
      "6430\n",
      "6440\n",
      "6450\n",
      "6460\n",
      "6470\n",
      "6480\n",
      "6490\n",
      "6500\n",
      "6510\n",
      "6520\n",
      "6530\n",
      "6540\n",
      "6550\n",
      "6560\n",
      "6570\n",
      "6580\n",
      "6590\n",
      "6600\n",
      "6610\n",
      "6620\n",
      "6630\n",
      "6640\n",
      "6650\n",
      "6660\n",
      "6670\n",
      "6680\n",
      "6690\n",
      "6700\n",
      "6710\n",
      "6720\n",
      "6730\n",
      "6740\n",
      "6750\n",
      "6760\n",
      "6770\n",
      "6780\n",
      "6790\n",
      "6800\n",
      "6810\n",
      "6820\n",
      "6830\n",
      "6840\n",
      "6850\n",
      "6860\n",
      "6870\n",
      "6880\n",
      "6890\n",
      "6900\n",
      "6910\n",
      "6920\n",
      "6930\n",
      "6940\n",
      "6950\n",
      "6960\n",
      "6970\n",
      "6980\n",
      "6990\n",
      "7000\n",
      "7010\n",
      "7020\n",
      "7030\n",
      "7040\n",
      "7050\n",
      "7060\n",
      "7070\n",
      "7080\n",
      "7090\n",
      "7100\n",
      "7110\n",
      "7120\n",
      "7130\n",
      "7140\n",
      "7150\n",
      "7160\n",
      "7170\n",
      "7180\n",
      "7190\n",
      "7200\n",
      "7210\n",
      "7220\n",
      "7230\n",
      "7240\n",
      "7250\n",
      "7260\n",
      "7270\n",
      "7280\n",
      "7290\n",
      "7300\n",
      "7310\n",
      "7320\n",
      "7330\n",
      "7340\n",
      "7350\n",
      "7360\n",
      "7370\n",
      "7380\n",
      "7390\n",
      "7400\n",
      "7410\n",
      "7420\n",
      "7430\n",
      "7440\n",
      "7450\n",
      "7460\n",
      "7470\n",
      "7480\n",
      "7490\n",
      "7500\n",
      "7510\n",
      "7520\n",
      "7530\n",
      "7540\n",
      "7550\n",
      "7560\n",
      "7570\n",
      "7580\n",
      "7590\n",
      "7600\n",
      "7610\n",
      "7620\n",
      "7630\n",
      "7640\n",
      "7650\n",
      "7660\n",
      "7670\n",
      "7680\n",
      "7690\n",
      "7700\n",
      "7710\n",
      "7720\n",
      "7730\n",
      "7740\n",
      "7750\n",
      "7760\n",
      "7770\n",
      "7780\n",
      "7790\n",
      "7800\n",
      "7810\n",
      "7820\n",
      "7830\n",
      "7840\n",
      "7850\n",
      "7860\n",
      "7870\n",
      "7880\n",
      "7890\n",
      "7900\n",
      "7910\n",
      "7920\n",
      "7930\n",
      "7940\n",
      "7950\n",
      "7960\n",
      "7970\n",
      "7980\n",
      "7990\n",
      "8000\n",
      "8010\n",
      "8020\n",
      "8030\n",
      "8040\n",
      "8050\n",
      "8060\n",
      "8070\n",
      "8080\n",
      "8090\n",
      "8100\n",
      "8110\n",
      "8120\n",
      "8130\n",
      "8140\n",
      "8150\n",
      "8160\n",
      "8170\n",
      "8180\n",
      "8190\n",
      "8200\n",
      "8210\n",
      "8220\n",
      "8230\n",
      "8240\n",
      "8250\n",
      "8260\n",
      "8270\n",
      "8280\n",
      "8290\n",
      "8300\n",
      "8310\n",
      "8320\n",
      "8330\n",
      "8340\n",
      "8350\n",
      "8360\n",
      "8370\n",
      "8380\n",
      "8390\n",
      "8400\n",
      "8410\n",
      "8420\n",
      "8430\n",
      "8440\n",
      "8450\n",
      "8460\n",
      "8470\n",
      "8480\n",
      "8490\n",
      "8500\n",
      "8510\n",
      "8520\n",
      "8530\n",
      "8540\n",
      "8550\n",
      "8560\n",
      "8570\n",
      "8580\n",
      "8590\n",
      "8600\n",
      "8610\n",
      "8620\n",
      "8630\n",
      "8640\n",
      "8650\n",
      "8660\n",
      "8670\n",
      "8680\n",
      "8690\n",
      "8700\n",
      "8710\n",
      "8720\n",
      "8730\n",
      "8740\n",
      "8750\n",
      "8760\n",
      "8770\n",
      "8780\n",
      "8790\n",
      "8800\n",
      "8810\n",
      "8820\n",
      "8830\n",
      "8840\n",
      "8850\n",
      "8860\n",
      "8870\n",
      "8880\n",
      "8890\n",
      "8900\n",
      "8910\n",
      "8920\n",
      "8930\n",
      "8940\n",
      "8950\n",
      "8960\n",
      "8970\n",
      "8980\n",
      "8990\n",
      "9000\n",
      "9010\n",
      "9020\n",
      "9030\n",
      "9040\n",
      "9050\n",
      "9060\n",
      "9070\n",
      "9080\n",
      "9090\n",
      "9100\n",
      "9110\n",
      "9120\n",
      "9130\n",
      "9140\n",
      "9150\n",
      "9160\n",
      "9170\n",
      "9180\n",
      "9190\n",
      "9200\n",
      "9210\n",
      "9220\n",
      "9230\n",
      "9240\n",
      "9250\n",
      "9260\n",
      "9270\n",
      "9280\n",
      "9290\n",
      "9300\n",
      "9310\n",
      "9320\n",
      "9330\n",
      "9340\n",
      "9350\n",
      "9360\n",
      "9370\n",
      "9380\n",
      "9390\n",
      "9400\n",
      "9410\n",
      "9420\n",
      "9430\n",
      "9440\n",
      "9450\n",
      "9460\n",
      "9470\n",
      "9480\n",
      "9490\n",
      "9500\n",
      "9510\n",
      "9520\n",
      "9530\n",
      "9540\n",
      "9550\n",
      "9560\n",
      "9570\n",
      "9580\n",
      "9590\n",
      "9600\n",
      "9610\n",
      "9620\n",
      "9630\n",
      "9640\n",
      "9650\n",
      "9660\n",
      "9670\n",
      "9680\n",
      "9690\n",
      "9700\n",
      "9710\n",
      "9720\n",
      "9730\n",
      "9740\n",
      "9750\n",
      "9760\n",
      "9770\n",
      "9780\n",
      "9790\n",
      "9800\n",
      "9810\n",
      "9820\n",
      "9830\n",
      "9840\n",
      "9850\n",
      "9860\n",
      "9870\n",
      "9880\n",
      "9890\n",
      "9900\n",
      "9910\n",
      "9920\n",
      "9930\n",
      "9940\n",
      "9950\n",
      "9960\n",
      "9970\n",
      "9980\n",
      "9990\n",
      "10000\n",
      "10010\n",
      "10020\n",
      "10030\n",
      "10040\n",
      "10050\n",
      "10060\n",
      "10070\n",
      "10080\n",
      "10090\n",
      "10100\n",
      "10110\n",
      "10120\n",
      "10130\n",
      "10140\n",
      "10150\n",
      "10160\n",
      "10170\n",
      "10180\n",
      "10190\n",
      "10200\n",
      "10210\n",
      "10220\n",
      "10230\n",
      "10240\n",
      "10250\n",
      "10260\n",
      "10270\n",
      "10280\n",
      "10290\n",
      "10300\n",
      "10310\n",
      "10320\n",
      "10330\n",
      "10340\n",
      "10350\n",
      "10360\n",
      "10370\n",
      "10380\n",
      "10390\n",
      "10400\n",
      "10410\n",
      "10420\n",
      "10430\n",
      "10440\n",
      "10450\n",
      "10460\n",
      "10470\n",
      "10480\n",
      "10490\n",
      "10500\n",
      "10510\n",
      "10520\n",
      "10530\n",
      "10540\n",
      "10550\n",
      "10560\n",
      "10570\n",
      "10580\n",
      "10590\n",
      "10600\n",
      "10610\n",
      "10620\n",
      "10630\n",
      "10640\n",
      "10650\n",
      "10660\n",
      "10670\n",
      "10680\n",
      "10690\n",
      "10700\n",
      "10710\n",
      "10720\n",
      "10730\n",
      "10740\n",
      "10750\n",
      "10760\n",
      "10770\n",
      "10780\n",
      "10790\n",
      "10800\n",
      "10810\n",
      "10820\n",
      "10830\n",
      "10840\n",
      "10850\n",
      "10860\n",
      "10870\n",
      "10880\n",
      "10890\n",
      "10900\n",
      "10910\n",
      "10920\n",
      "10930\n",
      "10940\n",
      "10950\n",
      "10960\n",
      "10970\n",
      "10980\n",
      "10990\n",
      "11000\n",
      "11010\n",
      "11020\n",
      "11030\n",
      "11040\n",
      "11050\n",
      "11060\n",
      "11070\n",
      "11080\n",
      "11090\n",
      "11100\n",
      "11110\n",
      "11120\n",
      "11130\n",
      "11140\n",
      "11150\n",
      "11160\n",
      "11170\n",
      "11180\n",
      "11190\n",
      "11200\n",
      "11210\n",
      "11220\n",
      "11230\n",
      "11240\n",
      "11250\n",
      "11260\n",
      "11270\n",
      "11280\n",
      "11290\n",
      "11300\n",
      "11310\n",
      "11320\n",
      "11330\n",
      "11340\n",
      "11350\n",
      "11360\n",
      "11370\n",
      "11380\n",
      "11390\n",
      "11400\n",
      "11410\n",
      "11420\n",
      "11430\n",
      "11440\n",
      "11450\n",
      "11460\n",
      "11470\n",
      "11480\n",
      "11490\n",
      "11500\n",
      "11510\n",
      "11520\n",
      "11530\n",
      "11540\n",
      "11550\n",
      "11560\n",
      "11570\n",
      "11580\n",
      "11590\n",
      "11600\n",
      "11610\n",
      "11620\n",
      "11630\n",
      "11640\n",
      "11650\n",
      "11660\n",
      "11670\n",
      "11680\n",
      "11690\n",
      "11700\n",
      "11710\n",
      "11720\n",
      "11730\n",
      "11740\n",
      "11750\n",
      "11760\n",
      "11770\n",
      "11780\n",
      "11790\n",
      "11800\n",
      "11810\n",
      "11820\n",
      "11830\n",
      "11840\n",
      "11850\n",
      "11860\n",
      "11870\n",
      "11880\n",
      "11890\n",
      "11900\n",
      "11910\n",
      "11920\n",
      "11930\n",
      "11940\n",
      "11950\n",
      "11960\n",
      "11970\n",
      "11980\n",
      "11990\n",
      "12000\n",
      "12010\n",
      "12020\n",
      "12030\n",
      "12040\n",
      "12050\n",
      "12060\n",
      "12070\n",
      "12080\n",
      "12090\n",
      "12100\n",
      "12110\n",
      "12120\n",
      "12130\n",
      "12140\n",
      "12150\n",
      "12160\n",
      "12170\n",
      "12180\n",
      "12190\n",
      "12200\n",
      "12210\n",
      "12220\n",
      "12230\n",
      "12240\n",
      "12250\n",
      "12260\n",
      "12270\n",
      "12280\n",
      "12290\n",
      "12300\n",
      "12310\n",
      "12320\n",
      "12330\n",
      "12340\n",
      "12350\n",
      "12360\n",
      "12370\n",
      "12380\n",
      "12390\n",
      "12400\n",
      "12410\n",
      "12420\n",
      "12430\n",
      "12440\n",
      "12450\n",
      "12460\n",
      "12470\n",
      "12480\n",
      "12490\n",
      "12500\n",
      "12510\n",
      "12520\n",
      "12530\n",
      "12540\n",
      "12550\n",
      "12560\n",
      "12570\n",
      "12580\n",
      "12590\n",
      "12600\n",
      "12610\n",
      "12620\n",
      "12630\n",
      "12640\n",
      "12650\n",
      "12660\n",
      "12670\n",
      "12680\n",
      "12690\n",
      "12700\n",
      "12710\n",
      "12720\n",
      "12730\n",
      "12740\n",
      "12750\n",
      "12760\n",
      "12770\n",
      "12780\n",
      "12790\n",
      "12800\n",
      "12810\n",
      "12820\n",
      "12830\n",
      "12840\n",
      "12850\n",
      "12860\n",
      "12870\n",
      "12880\n",
      "12890\n",
      "12900\n",
      "12910\n",
      "12920\n",
      "12930\n",
      "12940\n",
      "12950\n",
      "12960\n",
      "12970\n",
      "12980\n",
      "12990\n",
      "13000\n",
      "13010\n",
      "13020\n",
      "13030\n",
      "13040\n",
      "13050\n",
      "13060\n",
      "13070\n",
      "13080\n",
      "13090\n",
      "13100\n",
      "13110\n",
      "13120\n",
      "13130\n",
      "13140\n",
      "13150\n",
      "13160\n",
      "13170\n",
      "13180\n",
      "13190\n",
      "13200\n",
      "13210\n",
      "13220\n",
      "13230\n",
      "13240\n",
      "13250\n",
      "13260\n",
      "13270\n",
      "13280\n",
      "13290\n",
      "13300\n",
      "13310\n",
      "13320\n",
      "13330\n",
      "13340\n",
      "13350\n",
      "(13360, 7, 7, 512)\n"
     ]
    }
   ],
   "source": [
    "train_vgg19_features = vgg19.predict(train_tensors_vgg19[0:10])\n",
    "for i in np.arange(10, train_tensors_vgg19.shape[0], 10):\n",
    "    print i\n",
    "    y_predict0 = vgg19.predict(train_tensors_vgg19[i:i+10])\n",
    "    train_vgg19_features = np.concatenate((train_vgg19_features, y_predict0), axis = 0)\n",
    "print(train_vgg19_features.shape)"
   ]
  },
  {
   "cell_type": "code",
   "execution_count": 7,
   "metadata": {},
   "outputs": [
    {
     "name": "stdout",
     "output_type": "stream",
     "text": [
      "(835, 7, 7, 512)\n"
     ]
    }
   ],
   "source": [
    "valid_vgg19_features = vgg19.predict(valid_tensors_vgg19[0:5])\n",
    "for i in np.arange(5, valid_tensors_vgg19.shape[0], 10):\n",
    "    y_predict0 = vgg19.predict(valid_tensors_vgg19[i:i+10])\n",
    "    valid_vgg19_features = np.concatenate((valid_vgg19_features, y_predict0), axis = 0)\n",
    "print(valid_vgg19_features.shape)\n"
   ]
  },
  {
   "cell_type": "code",
   "execution_count": 8,
   "metadata": {},
   "outputs": [
    {
     "name": "stdout",
     "output_type": "stream",
     "text": [
      "(836, 7, 7, 512)\n"
     ]
    }
   ],
   "source": [
    "test_vgg19_features = vgg19.predict(test_tensors_vgg19[0:6])\n",
    "for i in np.arange(6, test_tensors_vgg19.shape[0], 10):\n",
    "    y_predict0 = vgg19.predict(test_tensors_vgg19[i:i+10])\n",
    "    test_vgg19_features = np.concatenate((test_vgg19_features, y_predict0), axis = 0)\n",
    "print(test_vgg19_features.shape)"
   ]
  },
  {
   "cell_type": "code",
   "execution_count": 9,
   "metadata": {},
   "outputs": [],
   "source": [
    "np.save(open('bottleneck_features//train_vgg19_features_aug.npy', 'w'), train_vgg19_features)\n",
    "np.save(open('bottleneck_features//valid_vgg19_features_aug.npy', 'w'), valid_vgg19_features)\n",
    "np.save(open('bottleneck_features//test_vgg19_features_aug.npy', 'w'), test_vgg19_features)"
   ]
  },
  {
   "cell_type": "code",
   "execution_count": null,
   "metadata": {},
   "outputs": [],
   "source": []
  },
  {
   "cell_type": "code",
   "execution_count": null,
   "metadata": {},
   "outputs": [],
   "source": [
    "# Alternatively just use saved pretrained features\n",
    "bottleneck_features = np.load('bottleneck_features/Dogvgg19V3Data.npz')\n",
    "train_vgg19_features = bottleneck_features['train']\n",
    "valid_vgg19_features = bottleneck_features['valid']\n",
    "test_vgg19_features = bottleneck_features['test']"
   ]
  },
  {
   "cell_type": "code",
   "execution_count": 11,
   "metadata": {},
   "outputs": [
    {
     "name": "stdout",
     "output_type": "stream",
     "text": [
      "(13360, 7, 7, 512)\n"
     ]
    }
   ],
   "source": [
    "print(train_vgg19_features.shape)"
   ]
  },
  {
   "cell_type": "code",
   "execution_count": 12,
   "metadata": {},
   "outputs": [
    {
     "name": "stdout",
     "output_type": "stream",
     "text": [
      "_________________________________________________________________\n",
      "Layer (type)                 Output Shape              Param #   \n",
      "=================================================================\n",
      "global_average_pooling2d_1 ( (None, 512)               0         \n",
      "_________________________________________________________________\n",
      "batch_normalization_1 (Batch (None, 512)               2048      \n",
      "_________________________________________________________________\n",
      "dropout_1 (Dropout)          (None, 512)               0         \n",
      "_________________________________________________________________\n",
      "dense_1 (Dense)              (None, 266)               136458    \n",
      "_________________________________________________________________\n",
      "batch_normalization_2 (Batch (None, 266)               1064      \n",
      "_________________________________________________________________\n",
      "dropout_2 (Dropout)          (None, 266)               0         \n",
      "_________________________________________________________________\n",
      "dense_2 (Dense)              (None, 133)               35511     \n",
      "=================================================================\n",
      "Total params: 175,081\n",
      "Trainable params: 173,525\n",
      "Non-trainable params: 1,556\n",
      "_________________________________________________________________\n"
     ]
    }
   ],
   "source": [
    "import keras\n",
    "from keras.models import Sequential\n",
    "from keras.layers import Flatten, Dense, Dropout\n",
    "from keras import regularizers\n",
    "from keras.layers import Conv2D, MaxPooling2D, GlobalAveragePooling2D\n",
    "from keras.layers.normalization import BatchNormalization\n",
    "\n",
    "\n",
    "vgg19_model = Sequential()\n",
    "\n",
    "vgg19_model.add(GlobalAveragePooling2D(input_shape=train_vgg19_features.shape[1:]))\n",
    "vgg19_model.add(BatchNormalization())\n",
    "vgg19_model.add(Dropout(0.5))\n",
    "vgg19_model.add(Dense(2 * 133,activation='relu'))\n",
    "vgg19_model.add(BatchNormalization())\n",
    "vgg19_model.add(Dropout(0.5))\n",
    "\n",
    "vgg19_model.add(Dense(133, activation='softmax'))\n",
    "vgg19_model.compile(loss='categorical_crossentropy', optimizer='adam', metrics=['accuracy'])\n",
    "\n",
    "vgg19_model.summary()"
   ]
  },
  {
   "cell_type": "code",
   "execution_count": 15,
   "metadata": {
    "scrolled": true
   },
   "outputs": [
    {
     "name": "stdout",
     "output_type": "stream",
     "text": [
      "Train on 13360 samples, validate on 835 samples\n",
      "Epoch 1/30\n",
      "13312/13360 [============================>.] - ETA: 0s - loss: 3.2672 - acc: 0.2537Epoch 00001: val_loss improved from inf to 1.19753, saving model to saved_models/weights.best.vgg19_augmented.hdf5\n",
      "13360/13360 [==============================] - 7s 504us/step - loss: 3.2641 - acc: 0.2540 - val_loss: 1.1975 - val_acc: 0.6862\n",
      "Epoch 2/30\n",
      "13232/13360 [============================>.] - ETA: 0s - loss: 1.7565 - acc: 0.5075Epoch 00002: val_loss improved from 1.19753 to 0.86758, saving model to saved_models/weights.best.vgg19_augmented.hdf5\n",
      "13360/13360 [==============================] - 5s 405us/step - loss: 1.7546 - acc: 0.5082 - val_loss: 0.8676 - val_acc: 0.7377\n",
      "Epoch 3/30\n",
      "13296/13360 [============================>.] - ETA: 0s - loss: 1.4340 - acc: 0.5796Epoch 00003: val_loss improved from 0.86758 to 0.77133, saving model to saved_models/weights.best.vgg19_augmented.hdf5\n",
      "13360/13360 [==============================] - 6s 412us/step - loss: 1.4354 - acc: 0.5797 - val_loss: 0.7713 - val_acc: 0.7617\n",
      "Epoch 4/30\n",
      "13328/13360 [============================>.] - ETA: 0s - loss: 1.3168 - acc: 0.6113Epoch 00004: val_loss improved from 0.77133 to 0.71640, saving model to saved_models/weights.best.vgg19_augmented.hdf5\n",
      "13360/13360 [==============================] - 5s 409us/step - loss: 1.3160 - acc: 0.6115 - val_loss: 0.7164 - val_acc: 0.7749\n",
      "Epoch 5/30\n",
      "13248/13360 [============================>.] - ETA: 0s - loss: 1.2686 - acc: 0.6249Epoch 00005: val_loss improved from 0.71640 to 0.71241, saving model to saved_models/weights.best.vgg19_augmented.hdf5\n",
      "13360/13360 [==============================] - 6s 413us/step - loss: 1.2681 - acc: 0.6253 - val_loss: 0.7124 - val_acc: 0.7772\n",
      "Epoch 6/30\n",
      "13344/13360 [============================>.] - ETA: 0s - loss: 1.2230 - acc: 0.6315Epoch 00006: val_loss improved from 0.71241 to 0.69674, saving model to saved_models/weights.best.vgg19_augmented.hdf5\n",
      "13360/13360 [==============================] - 6s 417us/step - loss: 1.2226 - acc: 0.6315 - val_loss: 0.6967 - val_acc: 0.7772\n",
      "Epoch 7/30\n",
      "13248/13360 [============================>.] - ETA: 0s - loss: 1.1708 - acc: 0.6490Epoch 00007: val_loss improved from 0.69674 to 0.67164, saving model to saved_models/weights.best.vgg19_augmented.hdf5\n",
      "13360/13360 [==============================] - 6s 415us/step - loss: 1.1715 - acc: 0.6488 - val_loss: 0.6716 - val_acc: 0.7784\n",
      "Epoch 8/30\n",
      "13344/13360 [============================>.] - ETA: 0s - loss: 1.1390 - acc: 0.6583Epoch 00008: val_loss did not improve\n",
      "13360/13360 [==============================] - 6s 417us/step - loss: 1.1390 - acc: 0.6581 - val_loss: 0.6946 - val_acc: 0.7868\n",
      "Epoch 9/30\n",
      "13312/13360 [============================>.] - ETA: 0s - loss: 1.1048 - acc: 0.6701Epoch 00009: val_loss did not improve\n",
      "13360/13360 [==============================] - 6s 417us/step - loss: 1.1044 - acc: 0.6701 - val_loss: 0.6730 - val_acc: 0.7976\n",
      "Epoch 10/30\n",
      "13344/13360 [============================>.] - ETA: 0s - loss: 1.0915 - acc: 0.6729Epoch 00010: val_loss improved from 0.67164 to 0.65960, saving model to saved_models/weights.best.vgg19_augmented.hdf5\n",
      "13360/13360 [==============================] - 6s 417us/step - loss: 1.0914 - acc: 0.6729 - val_loss: 0.6596 - val_acc: 0.7820\n",
      "Epoch 11/30\n",
      "13248/13360 [============================>.] - ETA: 0s - loss: 1.0932 - acc: 0.6700Epoch 00011: val_loss improved from 0.65960 to 0.65554, saving model to saved_models/weights.best.vgg19_augmented.hdf5\n",
      "13360/13360 [==============================] - 6s 421us/step - loss: 1.0916 - acc: 0.6701 - val_loss: 0.6555 - val_acc: 0.7928\n",
      "Epoch 12/30\n",
      "13328/13360 [============================>.] - ETA: 0s - loss: 1.0512 - acc: 0.6859Epoch 00012: val_loss did not improve\n",
      "13360/13360 [==============================] - 6s 419us/step - loss: 1.0522 - acc: 0.6853 - val_loss: 0.6647 - val_acc: 0.7988\n",
      "Epoch 13/30\n",
      "13232/13360 [============================>.] - ETA: 0s - loss: 1.0707 - acc: 0.6787Epoch 00013: val_loss did not improve\n",
      "13360/13360 [==============================] - 6s 421us/step - loss: 1.0716 - acc: 0.6790 - val_loss: 0.6587 - val_acc: 0.7988\n",
      "Epoch 14/30\n",
      "13280/13360 [============================>.] - ETA: 0s - loss: 1.0295 - acc: 0.6872Epoch 00014: val_loss improved from 0.65554 to 0.64298, saving model to saved_models/weights.best.vgg19_augmented.hdf5\n",
      "13360/13360 [==============================] - 6s 416us/step - loss: 1.0293 - acc: 0.6874 - val_loss: 0.6430 - val_acc: 0.7976\n",
      "Epoch 15/30\n",
      "13296/13360 [============================>.] - ETA: 0s - loss: 1.0034 - acc: 0.6940Epoch 00015: val_loss improved from 0.64298 to 0.62665, saving model to saved_models/weights.best.vgg19_augmented.hdf5\n",
      "13360/13360 [==============================] - 6s 419us/step - loss: 1.0037 - acc: 0.6939 - val_loss: 0.6267 - val_acc: 0.8096\n",
      "Epoch 16/30\n",
      "13312/13360 [============================>.] - ETA: 0s - loss: 1.0011 - acc: 0.6957Epoch 00016: val_loss did not improve\n",
      "13360/13360 [==============================] - 6s 417us/step - loss: 1.0024 - acc: 0.6951 - val_loss: 0.6374 - val_acc: 0.8024\n",
      "Epoch 17/30\n",
      "13312/13360 [============================>.] - ETA: 0s - loss: 1.0099 - acc: 0.6883Epoch 00017: val_loss did not improve\n",
      "13360/13360 [==============================] - 6s 419us/step - loss: 1.0101 - acc: 0.6882 - val_loss: 0.6334 - val_acc: 0.8024\n",
      "Epoch 18/30\n",
      "13232/13360 [============================>.] - ETA: 0s - loss: 1.0153 - acc: 0.6862Epoch 00018: val_loss did not improve\n",
      "13360/13360 [==============================] - 6s 415us/step - loss: 1.0139 - acc: 0.6868 - val_loss: 0.6459 - val_acc: 0.7928\n",
      "Epoch 19/30\n",
      "13248/13360 [============================>.] - ETA: 0s - loss: 0.9794 - acc: 0.7007Epoch 00019: val_loss did not improve\n",
      "13360/13360 [==============================] - 6s 417us/step - loss: 0.9795 - acc: 0.7007 - val_loss: 0.6299 - val_acc: 0.8000\n",
      "Epoch 20/30\n",
      "13264/13360 [============================>.] - ETA: 0s - loss: 0.9814 - acc: 0.7014Epoch 00020: val_loss did not improve\n",
      "13360/13360 [==============================] - 6s 415us/step - loss: 0.9829 - acc: 0.7012 - val_loss: 0.6415 - val_acc: 0.7844\n",
      "Epoch 21/30\n",
      "13232/13360 [============================>.] - ETA: 0s - loss: 0.9555 - acc: 0.7061Epoch 00021: val_loss did not improve\n",
      "13360/13360 [==============================] - 6s 417us/step - loss: 0.9552 - acc: 0.7060 - val_loss: 0.6544 - val_acc: 0.7928\n",
      "Epoch 22/30\n",
      "13248/13360 [============================>.] - ETA: 0s - loss: 0.9670 - acc: 0.7012Epoch 00022: val_loss did not improve\n",
      "13360/13360 [==============================] - 6s 415us/step - loss: 0.9671 - acc: 0.7010 - val_loss: 0.6475 - val_acc: 0.7940\n",
      "Epoch 23/30\n",
      "13296/13360 [============================>.] - ETA: 0s - loss: 0.9478 - acc: 0.7059Epoch 00023: val_loss did not improve\n",
      "13360/13360 [==============================] - 6s 415us/step - loss: 0.9477 - acc: 0.7061 - val_loss: 0.6437 - val_acc: 0.8012\n",
      "Epoch 24/30\n",
      "13312/13360 [============================>.] - ETA: 0s - loss: 0.9590 - acc: 0.7087Epoch 00024: val_loss did not improve\n",
      "13360/13360 [==============================] - 6s 415us/step - loss: 0.9595 - acc: 0.7085 - val_loss: 0.6297 - val_acc: 0.8036\n",
      "Epoch 25/30\n",
      "13344/13360 [============================>.] - ETA: 0s - loss: 0.9341 - acc: 0.7097Epoch 00025: val_loss did not improve\n",
      "13360/13360 [==============================] - 6s 416us/step - loss: 0.9346 - acc: 0.7094 - val_loss: 0.6365 - val_acc: 0.8024\n",
      "Epoch 26/30\n",
      "13296/13360 [============================>.] - ETA: 0s - loss: 0.9430 - acc: 0.7083Epoch 00026: val_loss did not improve\n",
      "13360/13360 [==============================] - 6s 417us/step - loss: 0.9439 - acc: 0.7077 - val_loss: 0.6424 - val_acc: 0.8000\n",
      "Epoch 27/30\n",
      "13280/13360 [============================>.] - ETA: 0s - loss: 0.9294 - acc: 0.7111Epoch 00027: val_loss did not improve\n",
      "13360/13360 [==============================] - 6s 416us/step - loss: 0.9295 - acc: 0.7110 - val_loss: 0.6268 - val_acc: 0.7964\n",
      "Epoch 28/30\n",
      "13296/13360 [============================>.] - ETA: 0s - loss: 0.9383 - acc: 0.7113Epoch 00028: val_loss did not improve\n",
      "13360/13360 [==============================] - 5s 411us/step - loss: 0.9395 - acc: 0.7106 - val_loss: 0.6350 - val_acc: 0.8048\n"
     ]
    },
    {
     "name": "stdout",
     "output_type": "stream",
     "text": [
      "Epoch 29/30\n",
      "13232/13360 [============================>.] - ETA: 0s - loss: 0.9207 - acc: 0.7179Epoch 00029: val_loss did not improve\n",
      "13360/13360 [==============================] - 5s 407us/step - loss: 0.9205 - acc: 0.7175 - val_loss: 0.6355 - val_acc: 0.8048\n",
      "Epoch 30/30\n",
      "13248/13360 [============================>.] - ETA: 0s - loss: 0.9144 - acc: 0.7157Epoch 00030: val_loss improved from 0.62665 to 0.62614, saving model to saved_models/weights.best.vgg19_augmented.hdf5\n",
      "13360/13360 [==============================] - 5s 404us/step - loss: 0.9158 - acc: 0.7150 - val_loss: 0.6261 - val_acc: 0.8000\n"
     ]
    }
   ],
   "source": [
    "from keras.callbacks import EarlyStopping\n",
    "from keras.callbacks import ModelCheckpoint  \n",
    "\n",
    "checkpointer = ModelCheckpoint(filepath='saved_models/weights.best.vgg19_augmented.hdf5', \n",
    "                               verbose=1, save_best_only=True)\n",
    "\n",
    "\n",
    "history_vgg19 = vgg19_model.fit(train_vgg19_features, y_train_aug1, \n",
    "          batch_size = 16,\n",
    "          epochs=30,\n",
    "          verbose=1,\n",
    "          validation_data=(valid_vgg19_features, valid_targets),\n",
    "          callbacks=[checkpointer, EarlyStopping(min_delta=1e-7, patience=15)\n",
    "          ])"
   ]
  },
  {
   "cell_type": "code",
   "execution_count": 18,
   "metadata": {},
   "outputs": [
    {
     "data": {
      "image/png": "[encoded data removed]",
      "text/plain": [
       "<matplotlib.figure.Figure at 0x7f8151756090>"
      ]
     },
     "metadata": {},
     "output_type": "display_data"
    }
   ],
   "source": [
    "import matplotlib.pyplot as plt\n",
    "plt.subplots(figsize = (10,10))\n",
    "plt.subplot(2, 1, 1)\n",
    "\n",
    "plt.plot(history_vgg19.history['acc'], label = \"Training Acc\")\n",
    "plt.plot(history_vgg19.history['val_acc'], label = \"Validation Acc\")\n",
    "\n",
    "plt.legend()\n",
    "plt.xlabel(\"iterations (number of batches)\")\n",
    "plt.ylabel(\"Acc\")\n",
    "plt.title(\"Training Loss vs Number of Iterations\")\n",
    "plt.grid()\n",
    "\n",
    "\n",
    "plt.subplot(2, 1, 2)\n",
    "plt.plot(history_vgg19.history['loss'], label = \"Training Loss\")\n",
    "plt.plot(history_vgg19.history['val_loss'], label = \"Validation loss\")\n",
    "plt.legend()\n",
    "plt.xlabel(\"iterations (number of batches)\")\n",
    "plt.ylabel(\"Loss\")\n",
    "plt.title(\"Test Loss vs Number of Iterations\")\n",
    "plt.grid()\n",
    "plt.show()"
   ]
  },
  {
   "cell_type": "code",
   "execution_count": 19,
   "metadata": {},
   "outputs": [],
   "source": [
    "### Load the model weights with the best validation loss.\n",
    "vgg19_model.load_weights('saved_models/weights.best.vgg19_augmented.hdf5')"
   ]
  },
  {
   "cell_type": "code",
   "execution_count": 21,
   "metadata": {},
   "outputs": [
    {
     "name": "stdout",
     "output_type": "stream",
     "text": [
      "Test accuracy: 79.5455%\n"
     ]
    }
   ],
   "source": [
    "vgg19_predictions = [np.argmax(vgg19_model.predict(np.expand_dims(feature, axis=0))) for feature in test_vgg19_features]\n",
    "\n",
    "# report test accuracy\n",
    "test_accuracy = 100.0*np.sum(np.array(vgg19_predictions)==np.argmax(test_targets, axis=1))/len(vgg19_predictions)\n",
    "print('Test accuracy: %.4f%%' % test_accuracy)"
   ]
  },
  {
   "cell_type": "code",
   "execution_count": null,
   "metadata": {},
   "outputs": [],
   "source": []
  },
  {
   "cell_type": "code",
   "execution_count": null,
   "metadata": {},
   "outputs": [],
   "source": []
  },
  {
   "cell_type": "code",
   "execution_count": null,
   "metadata": {},
   "outputs": [],
   "source": []
  },
  {
   "cell_type": "code",
   "execution_count": null,
   "metadata": {},
   "outputs": [],
   "source": []
  },
  {
   "cell_type": "code",
   "execution_count": null,
   "metadata": {},
   "outputs": [],
   "source": []
  },
  {
   "cell_type": "code",
   "execution_count": null,
   "metadata": {},
   "outputs": [],
   "source": []
  },
  {
   "cell_type": "code",
   "execution_count": null,
   "metadata": {},
   "outputs": [],
   "source": []
  },
  {
   "cell_type": "code",
   "execution_count": null,
   "metadata": {},
   "outputs": [],
   "source": []
  },
  {
   "cell_type": "code",
   "execution_count": 61,
   "metadata": {},
   "outputs": [],
   "source": [
    "# ENSEMBLE: valid accuracy"
   ]
  },
  {
   "cell_type": "code",
   "execution_count": 62,
   "metadata": {},
   "outputs": [],
   "source": [
    "# Calculate prediction vectors\n",
    "vgg16_predict_valid = vgg16_model.predict(valid_vgg16_features)\n",
    "vgg19_predict_valid = vgg19_model.predict(valid_vgg19_features)\n",
    "resnet_predict_valid = ResNet_model.predict(valid_resnet_features)\n",
    "inception_predict_valid = inception_model.predict(valid_inception_features)\n",
    "xception_predict_valid = xception_model.predict(valid_xception_features)"
   ]
  },
  {
   "cell_type": "code",
   "execution_count": 63,
   "metadata": {},
   "outputs": [],
   "source": [
    "# Calculating \"weights\"\n",
    "vgg16_valid_accuracy = 1.0*np.sum(np.argmax(vgg16_predict_valid, axis = 1)==np.argmax(valid_targets, axis=1))/len(valid_targets)\n",
    "vgg19_valid_accuracy = 1.0*np.sum(np.argmax(vgg19_predict_valid, axis = 1)==np.argmax(valid_targets, axis=1))/len(valid_targets)\n",
    "resnet_valid_accuracy = 1.0*np.sum(np.argmax(resnet_predict_valid, axis = 1)==np.argmax(valid_targets, axis=1))/len(valid_targets)\n",
    "inception_valid_accuracy = 1.0*np.sum(np.argmax(inception_predict_valid, axis = 1)==np.argmax(valid_targets, axis=1))/len(valid_targets)\n",
    "xception_valid_accuracy = 1.0*np.sum(np.argmax(xception_predict_valid, axis = 1)==np.argmax(valid_targets, axis=1))/len(valid_targets)"
   ]
  },
  {
   "cell_type": "code",
   "execution_count": 64,
   "metadata": {},
   "outputs": [
    {
     "name": "stdout",
     "output_type": "stream",
     "text": [
      "(835, 133)\n"
     ]
    }
   ],
   "source": [
    "ensemble_weights =  np.add(vgg16_valid_accuracy*vgg16_predict_valid, vgg19_valid_accuracy*vgg19_predict_valid)\n",
    "ensemble_weights = np.add(ensemble_weights, resnet_valid_accuracy*resnet_predict_valid)\n",
    "ensemble_weights = np.add(ensemble_weights, inception_valid_accuracy*inception_predict_valid)\n",
    "ensemble_weights = np.add(ensemble_weights, xception_valid_accuracy*xception_predict_valid)\n",
    "print ensemble_weights.shape"
   ]
  },
  {
   "cell_type": "code",
   "execution_count": 65,
   "metadata": {},
   "outputs": [],
   "source": [
    "ensemble_predictions = np.argmax(ensemble_weights, axis = 1)"
   ]
  },
  {
   "cell_type": "code",
   "execution_count": 66,
   "metadata": {},
   "outputs": [
    {
     "name": "stdout",
     "output_type": "stream",
     "text": [
      "validation accuracy: 90.7784%\n"
     ]
    }
   ],
   "source": [
    "ensemble_valid_accuracy = 100.0*np.sum(ensemble_predictions==np.argmax(valid_targets, axis=1))/len(ensemble_predictions)\n",
    "print('validation accuracy: %.4f%%' % ensemble_valid_accuracy)"
   ]
  },
  {
   "cell_type": "code",
   "execution_count": null,
   "metadata": {},
   "outputs": [],
   "source": []
  },
  {
   "cell_type": "code",
   "execution_count": null,
   "metadata": {},
   "outputs": [],
   "source": []
  },
  {
   "cell_type": "code",
   "execution_count": 55,
   "metadata": {},
   "outputs": [],
   "source": [
    "# ENSEMBLE: test accuracy"
   ]
  },
  {
   "cell_type": "code",
   "execution_count": 56,
   "metadata": {},
   "outputs": [],
   "source": [
    "# Calculate prediction vectors\n",
    "vgg16_predict_test = vgg16_model.predict(test_vgg16_features)\n",
    "vgg19_predict_test = vgg19_model.predict(test_vgg19_features)\n",
    "resnet_predict_test = ResNet_model.predict(test_resnet_features)\n",
    "inception_predict_test = inception_model.predict(test_inception_features)\n",
    "xception_predict_test = xception_model.predict(test_xception_features)"
   ]
  },
  {
   "cell_type": "code",
   "execution_count": 57,
   "metadata": {},
   "outputs": [],
   "source": [
    "# Calculating \"weights\"\n",
    "vgg16_test_accuracy = 1.0*np.sum(np.argmax(vgg16_predict_test, axis = 1)==np.argmax(test_targets, axis=1))/len(test_targets)\n",
    "vgg19_test_accuracy = 1.0*np.sum(np.argmax(vgg19_predict_test, axis = 1)==np.argmax(test_targets, axis=1))/len(test_targets)\n",
    "resnet_test_accuracy = 1.0*np.sum(np.argmax(resnet_predict_test, axis = 1)==np.argmax(test_targets, axis=1))/len(test_targets)\n",
    "inception_test_accuracy = 1.0*np.sum(np.argmax(inception_predict_test, axis = 1)==np.argmax(test_targets, axis=1))/len(test_targets)\n",
    "xception_test_accuracy = 1.0*np.sum(np.argmax(xception_predict_test, axis = 1)==np.argmax(test_targets, axis=1))/len(test_targets)"
   ]
  },
  {
   "cell_type": "code",
   "execution_count": 58,
   "metadata": {},
   "outputs": [
    {
     "name": "stdout",
     "output_type": "stream",
     "text": [
      "(836, 133)\n"
     ]
    }
   ],
   "source": [
    "ensemble_weights =  np.add(vgg16_test_accuracy*vgg16_predict_test, vgg19_test_accuracy*vgg19_predict_test)\n",
    "ensemble_weights = np.add(ensemble_weights, resnet_test_accuracy*resnet_predict_test)\n",
    "ensemble_weights = np.add(ensemble_weights, inception_test_accuracy*inception_predict_test)\n",
    "ensemble_weights = np.add(ensemble_weights, xception_test_accuracy*xception_predict_test)\n",
    "print ensemble_weights.shape"
   ]
  },
  {
   "cell_type": "code",
   "execution_count": 59,
   "metadata": {},
   "outputs": [],
   "source": [
    "ensemble_predictions = np.argmax(ensemble_weights, axis = 1)"
   ]
  },
  {
   "cell_type": "code",
   "execution_count": 60,
   "metadata": {},
   "outputs": [
    {
     "name": "stdout",
     "output_type": "stream",
     "text": [
      "testation accuracy: 88.3971%\n"
     ]
    }
   ],
   "source": [
    "ensemble_test_accuracy = 100.0*np.sum(ensemble_predictions==np.argmax(test_targets, axis=1))/len(ensemble_predictions)\n",
    "print('testation accuracy: %.4f%%' % ensemble_test_accuracy)"
   ]
  },
  {
   "cell_type": "code",
   "execution_count": null,
   "metadata": {},
   "outputs": [],
   "source": []
  },
  {
   "cell_type": "code",
   "execution_count": null,
   "metadata": {},
   "outputs": [],
   "source": []
  }
 ],
 "metadata": {
  "kernelspec": {
   "display_name": "Python 2",
   "language": "python",
   "name": "python2"
  },
  "language_info": {
   "codemirror_mode": {
    "name": "ipython",
    "version": 2
   },
   "file_extension": ".py",
   "mimetype": "text/x-python",
   "name": "python",
   "nbconvert_exporter": "python",
   "pygments_lexer": "ipython2",
   "version": "2.7.12"
  }
 },
 "nbformat": 4,
 "nbformat_minor": 2
}
