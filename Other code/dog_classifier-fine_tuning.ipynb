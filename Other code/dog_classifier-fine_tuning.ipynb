{
 "cells": [
  {
   "cell_type": "code",
   "execution_count": 1,
   "metadata": {},
   "outputs": [
    {
     "name": "stderr",
     "output_type": "stream",
     "text": [
      "Using TensorFlow backend.\n"
     ]
    },
    {
     "name": "stdout",
     "output_type": "stream",
     "text": [
      "There are 133 total dog categories.\n",
      "There are 8351 total dog images.\n",
      "\n",
      "There are 6680 training dog images.\n",
      "There are 835 validation dog images.\n",
      "There are 836 test dog images.\n"
     ]
    }
   ],
   "source": [
    "from sklearn.datasets import load_files       \n",
    "from keras.utils import np_utils\n",
    "import numpy as np\n",
    "from glob import glob\n",
    "\n",
    "# define function to load train, test, and validation datasets\n",
    "def load_dataset(path):\n",
    "    data = load_files(path)\n",
    "    dog_files = np.array(data['filenames'])\n",
    "    dog_targets = np_utils.to_categorical(np.array(data['target']), 133)\n",
    "    return dog_files, dog_targets\n",
    "\n",
    "# load train, test, and validation datasets\n",
    "train_files, train_targets = load_dataset('dogImages/train')\n",
    "valid_files, valid_targets = load_dataset('dogImages/valid')\n",
    "test_files, test_targets = load_dataset('dogImages/test')\n",
    "\n",
    "# load list of dog names\n",
    "dog_names = [item[20:-1] for item in sorted(glob(\"dogImages/train/*/\"))]\n",
    "\n",
    "# print statistics about the dataset\n",
    "print('There are %d total dog categories.' % len(dog_names))\n",
    "print('There are %s total dog images.\\n' % len(np.hstack([train_files, valid_files, test_files])))\n",
    "print('There are %d training dog images.' % len(train_files))\n",
    "print('There are %d validation dog images.' % len(valid_files))\n",
    "print('There are %d test dog images.'% len(test_files))"
   ]
  },
  {
   "cell_type": "code",
   "execution_count": 3,
   "metadata": {},
   "outputs": [
    {
     "name": "stdout",
     "output_type": "stream",
     "text": [
      "['Affenpinscher', 'Afghan_hound', 'Airedale_terrier', 'Akita', 'Alaskan_malamute', 'American_eskimo_dog', 'American_foxhound', 'American_staffordshire_terrier', 'American_water_spaniel', 'Anatolian_shepherd_dog', 'Australian_cattle_dog', 'Australian_shepherd', 'Australian_terrier', 'Basenji', 'Basset_hound', 'Beagle', 'Bearded_collie', 'Beauceron', 'Bedlington_terrier', 'Belgian_malinois', 'Belgian_sheepdog', 'Belgian_tervuren', 'Bernese_mountain_dog', 'Bichon_frise', 'Black_and_tan_coonhound', 'Black_russian_terrier', 'Bloodhound', 'Bluetick_coonhound', 'Border_collie', 'Border_terrier', 'Borzoi', 'Boston_terrier', 'Bouvier_des_flandres', 'Boxer', 'Boykin_spaniel', 'Briard', 'Brittany', 'Brussels_griffon', 'Bull_terrier', 'Bulldog', 'Bullmastiff', 'Cairn_terrier', 'Canaan_dog', 'Cane_corso', 'Cardigan_welsh_corgi', 'Cavalier_king_charles_spaniel', 'Chesapeake_bay_retriever', 'Chihuahua', 'Chinese_crested', 'Chinese_shar-pei', 'Chow_chow', 'Clumber_spaniel', 'Cocker_spaniel', 'Collie', 'Curly-coated_retriever', 'Dachshund', 'Dalmatian', 'Dandie_dinmont_terrier', 'Doberman_pinscher', 'Dogue_de_bordeaux', 'English_cocker_spaniel', 'English_setter', 'English_springer_spaniel', 'English_toy_spaniel', 'Entlebucher_mountain_dog', 'Field_spaniel', 'Finnish_spitz', 'Flat-coated_retriever', 'French_bulldog', 'German_pinscher', 'German_shepherd_dog', 'German_shorthaired_pointer', 'German_wirehaired_pointer', 'Giant_schnauzer', 'Glen_of_imaal_terrier', 'Golden_retriever', 'Gordon_setter', 'Great_dane', 'Great_pyrenees', 'Greater_swiss_mountain_dog', 'Greyhound', 'Havanese', 'Ibizan_hound', 'Icelandic_sheepdog', 'Irish_red_and_white_setter', 'Irish_setter', 'Irish_terrier', 'Irish_water_spaniel', 'Irish_wolfhound', 'Italian_greyhound', 'Japanese_chin', 'Keeshond', 'Kerry_blue_terrier', 'Komondor', 'Kuvasz', 'Labrador_retriever', 'Lakeland_terrier', 'Leonberger', 'Lhasa_apso', 'Lowchen', 'Maltese', 'Manchester_terrier', 'Mastiff', 'Miniature_schnauzer', 'Neapolitan_mastiff', 'Newfoundland', 'Norfolk_terrier', 'Norwegian_buhund', 'Norwegian_elkhound', 'Norwegian_lundehund', 'Norwich_terrier', 'Nova_scotia_duck_tolling_retriever', 'Old_english_sheepdog', 'Otterhound', 'Papillon', 'Parson_russell_terrier', 'Pekingese', 'Pembroke_welsh_corgi', 'Petit_basset_griffon_vendeen', 'Pharaoh_hound', 'Plott', 'Pointer', 'Pomeranian', 'Poodle', 'Portuguese_water_dog', 'Saint_bernard', 'Silky_terrier', 'Smooth_fox_terrier', 'Tibetan_mastiff', 'Welsh_springer_spaniel', 'Wirehaired_pointing_griffon', 'Xoloitzcuintli', 'Yorkshire_terrier']\n"
     ]
    }
   ],
   "source": [
    "print(dog_names)"
   ]
  },
  {
   "cell_type": "code",
   "execution_count": 4,
   "metadata": {},
   "outputs": [],
   "source": [
    "from keras.preprocessing import image                  \n",
    "from tqdm import tqdm\n",
    "\n",
    "def path_to_tensor(img_path):\n",
    "    # loads RGB image as PIL.Image.Image type\n",
    "    img = image.load_img(img_path, target_size=(224, 224))\n",
    "    # convert PIL.Image.Image type to 3D tensor with shape (224, 224, 3)\n",
    "    x = image.img_to_array(img)\n",
    "    # convert 3D tensor to 4D tensor with shape (1, 224, 224, 3) and return 4D tensor\n",
    "    return np.expand_dims(x, axis=0)\n",
    "\n",
    "def paths_to_tensor(img_paths):\n",
    "    list_of_tensors = [path_to_tensor(img_path) for img_path in tqdm(img_paths)]\n",
    "    return np.vstack(list_of_tensors)"
   ]
  },
  {
   "cell_type": "code",
   "execution_count": null,
   "metadata": {},
   "outputs": [],
   "source": []
  },
  {
   "cell_type": "code",
   "execution_count": 7,
   "metadata": {},
   "outputs": [
    {
     "name": "stderr",
     "output_type": "stream",
     "text": [
      "100%|██████████| 6680/6680 [02:17<00:00, 48.49it/s]\n",
      "100%|██████████| 835/835 [00:59<00:00, 14.11it/s]\n",
      "100%|██████████| 836/836 [00:12<00:00, 68.01it/s]\n"
     ]
    }
   ],
   "source": [
    "from PIL import ImageFile                            \n",
    "ImageFile.LOAD_TRUNCATED_IMAGES = True                 \n",
    "\n",
    "# pre-process the data for Keras\n",
    "train_tensors_original = paths_to_tensor(train_files).astype('float32')\n",
    "valid_tensors_original = paths_to_tensor(valid_files).astype('float32')\n",
    "test_tensors_original = paths_to_tensor(test_files).astype('float32')"
   ]
  },
  {
   "cell_type": "code",
   "execution_count": 8,
   "metadata": {},
   "outputs": [],
   "source": [
    "np.save(open('train_tensors_original.npy', 'w'), train_tensors_original)\n",
    "np.save(open('valid_tensors_original.npy', 'w'), valid_tensors_original)\n",
    "np.save(open('test_tensors_original.npy', 'w'), test_tensors_original)"
   ]
  },
  {
   "cell_type": "code",
   "execution_count": null,
   "metadata": {},
   "outputs": [],
   "source": []
  },
  {
   "cell_type": "code",
   "execution_count": null,
   "metadata": {},
   "outputs": [],
   "source": []
  },
  {
   "cell_type": "code",
   "execution_count": 8,
   "metadata": {},
   "outputs": [
    {
     "name": "stdout",
     "output_type": "stream",
     "text": [
      "Done extracting features\n"
     ]
    }
   ],
   "source": [
    "# Transfer Learning. RESNET50\n",
    "from keras.applications.resnet50 import ResNet50\n",
    "resnet = ResNet50(include_top=False, weights='imagenet')\n",
    "print \"Done extracting features\""
   ]
  },
  {
   "cell_type": "code",
   "execution_count": 13,
   "metadata": {},
   "outputs": [],
   "source": [
    "import numpy as np\n",
    "train_tensors_original = np.load(open('train_tensors_original.npy'))\n",
    "test_tensors_original = np.load(open('test_tensors_original.npy'))\n",
    "valid_tensors_original = np.load(open('valid_tensors_original.npy'))"
   ]
  },
  {
   "cell_type": "code",
   "execution_count": 14,
   "metadata": {},
   "outputs": [],
   "source": [
    "from keras.applications.resnet50 import preprocess_input\n",
    "train_tensors1 = preprocess_input(train_tensors_original)\n",
    "valid_tensors1 = preprocess_input(valid_tensors_original)\n",
    "test_tensors1 = preprocess_input(test_tensors_original)"
   ]
  },
  {
   "cell_type": "code",
   "execution_count": 4,
   "metadata": {},
   "outputs": [
    {
     "name": "stdout",
     "output_type": "stream",
     "text": [
      "(6680, 1, 1, 2048)\n"
     ]
    }
   ],
   "source": [
    "train_resnet_features = resnet.predict(train_tensors1)\n",
    "print(train_resnet_features.shape)"
   ]
  },
  {
   "cell_type": "code",
   "execution_count": 5,
   "metadata": {},
   "outputs": [
    {
     "name": "stdout",
     "output_type": "stream",
     "text": [
      "(835, 1, 1, 2048)\n"
     ]
    }
   ],
   "source": [
    "valid_resnet_features = resnet.predict(valid_tensors1)\n",
    "print(valid_resnet_features.shape)"
   ]
  },
  {
   "cell_type": "code",
   "execution_count": 6,
   "metadata": {},
   "outputs": [
    {
     "name": "stdout",
     "output_type": "stream",
     "text": [
      "(836, 1, 1, 2048)\n"
     ]
    }
   ],
   "source": [
    "test_resnet_features = resnet.predict(test_tensors1)\n",
    "print(test_resnet_features.shape)"
   ]
  },
  {
   "cell_type": "code",
   "execution_count": 7,
   "metadata": {},
   "outputs": [],
   "source": [
    "np.save(open('bottleneck_features//train_resnet_features.npy', 'w'), train_resnet_features)\n",
    "np.save(open('bottleneck_features//valid_resnet_features.npy', 'w'), valid_resnet_features)\n",
    "np.save(open('bottleneck_features//test_resnet_features.npy', 'w'), test_resnet_features)"
   ]
  },
  {
   "cell_type": "code",
   "execution_count": null,
   "metadata": {},
   "outputs": [],
   "source": []
  },
  {
   "cell_type": "code",
   "execution_count": 3,
   "metadata": {},
   "outputs": [],
   "source": [
    "# Alternatively just use saved pretrained features\n",
    "bottleneck_features = np.load('bottleneck_features/DogResnet50Data.npz')\n",
    "train_resnet_features = bottleneck_features['train']\n",
    "valid_resnet_features = bottleneck_features['valid']\n",
    "test_resnet_features = bottleneck_features['test']"
   ]
  },
  {
   "cell_type": "code",
   "execution_count": null,
   "metadata": {},
   "outputs": [],
   "source": []
  },
  {
   "cell_type": "code",
   "execution_count": null,
   "metadata": {},
   "outputs": [],
   "source": []
  },
  {
   "cell_type": "code",
   "execution_count": 2,
   "metadata": {},
   "outputs": [],
   "source": [
    "train_resnet_features = np.load(open('bottleneck_features//train_resnet_features.npy'))\n",
    "valid_resnet_features = np.load(open('bottleneck_features//valid_resnet_features.npy'))\n",
    "test_resnet_features = np.load(open('bottleneck_features//test_resnet_features.npy'))"
   ]
  },
  {
   "cell_type": "code",
   "execution_count": null,
   "metadata": {},
   "outputs": [],
   "source": []
  },
  {
   "cell_type": "code",
   "execution_count": 32,
   "metadata": {},
   "outputs": [
    {
     "name": "stdout",
     "output_type": "stream",
     "text": [
      "(6680, 1, 1, 2048)\n"
     ]
    }
   ],
   "source": [
    "print(train_resnet_features.shape)"
   ]
  },
  {
   "cell_type": "code",
   "execution_count": 48,
   "metadata": {},
   "outputs": [
    {
     "name": "stdout",
     "output_type": "stream",
     "text": [
      "_________________________________________________________________\n",
      "Layer (type)                 Output Shape              Param #   \n",
      "=================================================================\n",
      "global_average_pooling2d_6 ( (None, 2048)              0         \n",
      "_________________________________________________________________\n",
      "dropout_3 (Dropout)          (None, 2048)              0         \n",
      "_________________________________________________________________\n",
      "dense_6 (Dense)              (None, 133)               272517    \n",
      "=================================================================\n",
      "Total params: 272,517\n",
      "Trainable params: 272,517\n",
      "Non-trainable params: 0\n",
      "_________________________________________________________________\n"
     ]
    }
   ],
   "source": [
    "import keras\n",
    "from keras.models import Sequential\n",
    "from keras.layers import Flatten, Dense, Dropout\n",
    "from keras import regularizers\n",
    "from keras.layers import Conv2D, MaxPooling2D, GlobalAveragePooling2D\n",
    "\n",
    "#Top model\n",
    "ResNet_model = Sequential()\n",
    "ResNet_model.add(GlobalAveragePooling2D(input_shape=train_resnet_features.shape[1:]))\n",
    "ResNet_model.add(Dropout(0.5))\n",
    "\n",
    "# ResNet_model.add(Dense(266, activation='relu'))\n",
    "# ResNet_model.add(Dropout(0.5))\n",
    "\n",
    "ResNet_model.add(Dense(133, activation='softmax'))\n",
    "\n",
    "ResNet_model.compile(loss='categorical_crossentropy', optimizer='adam', metrics=['accuracy'])\n",
    "\n",
    "ResNet_model.summary()"
   ]
  },
  {
   "cell_type": "code",
   "execution_count": 49,
   "metadata": {
    "scrolled": true
   },
   "outputs": [
    {
     "name": "stdout",
     "output_type": "stream",
     "text": [
      "Train on 6680 samples, validate on 835 samples\n",
      "Epoch 1/30\n",
      "5120/6680 [=====================>........] - ETA: 0s - loss: 3.7969 - acc: 0.2000Epoch 00001: val_loss improved from inf to 1.44714, saving model to saved_models/weights.best.resnet_ft.hdf5\n",
      "6680/6680 [==============================] - 1s 147us/step - loss: 3.3864 - acc: 0.2608 - val_loss: 1.4471 - val_acc: 0.6551\n",
      "Epoch 2/30\n",
      "6656/6680 [============================>.] - ETA: 0s - loss: 1.2618 - acc: 0.6572Epoch 00002: val_loss improved from 1.44714 to 0.93926, saving model to saved_models/weights.best.resnet_ft.hdf5\n",
      "6680/6680 [==============================] - 0s 36us/step - loss: 1.2599 - acc: 0.6579 - val_loss: 0.9393 - val_acc: 0.7365\n",
      "Epoch 3/30\n",
      "6656/6680 [============================>.] - ETA: 0s - loss: 0.7954 - acc: 0.7782Epoch 00003: val_loss improved from 0.93926 to 0.78416, saving model to saved_models/weights.best.resnet_ft.hdf5\n",
      "6680/6680 [==============================] - 0s 37us/step - loss: 0.7963 - acc: 0.7781 - val_loss: 0.7842 - val_acc: 0.7713\n",
      "Epoch 4/30\n",
      "6656/6680 [============================>.] - ETA: 0s - loss: 0.5891 - acc: 0.8359Epoch 00004: val_loss improved from 0.78416 to 0.71073, saving model to saved_models/weights.best.resnet_ft.hdf5\n",
      "6680/6680 [==============================] - 0s 37us/step - loss: 0.5885 - acc: 0.8364 - val_loss: 0.7107 - val_acc: 0.7808\n",
      "Epoch 5/30\n",
      "6400/6680 [===========================>..] - ETA: 0s - loss: 0.4720 - acc: 0.8698Epoch 00005: val_loss improved from 0.71073 to 0.67831, saving model to saved_models/weights.best.resnet_ft.hdf5\n",
      "6680/6680 [==============================] - 0s 38us/step - loss: 0.4686 - acc: 0.8710 - val_loss: 0.6783 - val_acc: 0.7868\n",
      "Epoch 6/30\n",
      "6016/6680 [==========================>...] - ETA: 0s - loss: 0.3830 - acc: 0.8944Epoch 00006: val_loss improved from 0.67831 to 0.63690, saving model to saved_models/weights.best.resnet_ft.hdf5\n",
      "6680/6680 [==============================] - 0s 43us/step - loss: 0.3824 - acc: 0.8945 - val_loss: 0.6369 - val_acc: 0.8036\n",
      "Epoch 7/30\n",
      "5632/6680 [========================>.....] - ETA: 0s - loss: 0.3206 - acc: 0.9125Epoch 00007: val_loss improved from 0.63690 to 0.63094, saving model to saved_models/weights.best.resnet_ft.hdf5\n",
      "6680/6680 [==============================] - 0s 42us/step - loss: 0.3162 - acc: 0.9142 - val_loss: 0.6309 - val_acc: 0.8024\n",
      "Epoch 8/30\n",
      "6400/6680 [===========================>..] - ETA: 0s - loss: 0.2801 - acc: 0.9244Epoch 00008: val_loss improved from 0.63094 to 0.61190, saving model to saved_models/weights.best.resnet_ft.hdf5\n",
      "6680/6680 [==============================] - 0s 38us/step - loss: 0.2781 - acc: 0.9246 - val_loss: 0.6119 - val_acc: 0.8072\n",
      "Epoch 9/30\n",
      "6272/6680 [===========================>..] - ETA: 0s - loss: 0.2400 - acc: 0.9436- ETA: 0s - loss: 0.2313 - acc: 0.9Epoch 00009: val_loss improved from 0.61190 to 0.59087, saving model to saved_models/weights.best.resnet_ft.hdf5\n",
      "6680/6680 [==============================] - 0s 38us/step - loss: 0.2415 - acc: 0.9430 - val_loss: 0.5909 - val_acc: 0.8216\n",
      "Epoch 10/30\n",
      "6656/6680 [============================>.] - ETA: 0s - loss: 0.2181 - acc: 0.9471Epoch 00010: val_loss improved from 0.59087 to 0.57496, saving model to saved_models/weights.best.resnet_ft.hdf5\n",
      "6680/6680 [==============================] - 0s 37us/step - loss: 0.2180 - acc: 0.9472 - val_loss: 0.5750 - val_acc: 0.8132\n",
      "Epoch 11/30\n",
      "6272/6680 [===========================>..] - ETA: 0s - loss: 0.1884 - acc: 0.9560Epoch 00011: val_loss did not improve\n",
      "6680/6680 [==============================] - 0s 37us/step - loss: 0.1885 - acc: 0.9558 - val_loss: 0.5786 - val_acc: 0.8120\n",
      "Epoch 12/30\n",
      "6656/6680 [============================>.] - ETA: 0s - loss: 0.1686 - acc: 0.9632Epoch 00012: val_loss did not improve\n",
      "6680/6680 [==============================] - 0s 44us/step - loss: 0.1689 - acc: 0.9627 - val_loss: 0.5774 - val_acc: 0.8132\n",
      "Epoch 13/30\n",
      "6656/6680 [============================>.] - ETA: 0s - loss: 0.1511 - acc: 0.9674Epoch 00013: val_loss improved from 0.57496 to 0.56807, saving model to saved_models/weights.best.resnet_ft.hdf5\n",
      "6680/6680 [==============================] - 0s 37us/step - loss: 0.1508 - acc: 0.9675 - val_loss: 0.5681 - val_acc: 0.8156\n",
      "Epoch 14/30\n",
      "6656/6680 [============================>.] - ETA: 0s - loss: 0.1366 - acc: 0.9695Epoch 00014: val_loss improved from 0.56807 to 0.56769, saving model to saved_models/weights.best.resnet_ft.hdf5\n",
      "6680/6680 [==============================] - 0s 37us/step - loss: 0.1372 - acc: 0.9692 - val_loss: 0.5677 - val_acc: 0.8204\n",
      "Epoch 15/30\n",
      "5632/6680 [========================>.....] - ETA: 0s - loss: 0.1266 - acc: 0.9725Epoch 00015: val_loss did not improve\n",
      "6680/6680 [==============================] - 0s 40us/step - loss: 0.1297 - acc: 0.9710 - val_loss: 0.5772 - val_acc: 0.8204\n",
      "Epoch 16/30\n",
      "6528/6680 [============================>.] - ETA: 0s - loss: 0.1136 - acc: 0.9792Epoch 00016: val_loss improved from 0.56769 to 0.56725, saving model to saved_models/weights.best.resnet_ft.hdf5\n",
      "6680/6680 [==============================] - 0s 37us/step - loss: 0.1137 - acc: 0.9792 - val_loss: 0.5673 - val_acc: 0.8192\n",
      "Epoch 17/30\n",
      "6272/6680 [===========================>..] - ETA: 0s - loss: 0.1126 - acc: 0.9764Epoch 00017: val_loss improved from 0.56725 to 0.56166, saving model to saved_models/weights.best.resnet_ft.hdf5\n",
      "6680/6680 [==============================] - 0s 38us/step - loss: 0.1118 - acc: 0.9768 - val_loss: 0.5617 - val_acc: 0.8251\n",
      "Epoch 18/30\n",
      "6528/6680 [============================>.] - ETA: 0s - loss: 0.0998 - acc: 0.9798Epoch 00018: val_loss did not improve\n",
      "6680/6680 [==============================] - 0s 35us/step - loss: 0.1002 - acc: 0.9795 - val_loss: 0.5677 - val_acc: 0.8263\n",
      "Epoch 19/30\n",
      "6272/6680 [===========================>..] - ETA: 0s - loss: 0.0932 - acc: 0.9821Epoch 00019: val_loss did not improve\n",
      "6680/6680 [==============================] - 0s 37us/step - loss: 0.0925 - acc: 0.9823 - val_loss: 0.5721 - val_acc: 0.8156\n",
      "Epoch 20/30\n",
      "6528/6680 [============================>.] - ETA: 0s - loss: 0.0907 - acc: 0.9827Epoch 00020: val_loss improved from 0.56166 to 0.55628, saving model to saved_models/weights.best.resnet_ft.hdf5\n",
      "6680/6680 [==============================] - 0s 37us/step - loss: 0.0915 - acc: 0.9825 - val_loss: 0.5563 - val_acc: 0.8251\n",
      "Epoch 21/30\n",
      "6528/6680 [============================>.] - ETA: 0s - loss: 0.0891 - acc: 0.9818Epoch 00021: val_loss did not improve\n",
      "6680/6680 [==============================] - 0s 36us/step - loss: 0.0888 - acc: 0.9819 - val_loss: 0.5747 - val_acc: 0.8251\n",
      "Epoch 22/30\n",
      "6656/6680 [============================>.] - ETA: 0s - loss: 0.0798 - acc: 0.9842Epoch 00022: val_loss did not improve\n",
      "6680/6680 [==============================] - 0s 35us/step - loss: 0.0800 - acc: 0.9840 - val_loss: 0.5711 - val_acc: 0.8168\n",
      "Epoch 23/30\n",
      "6528/6680 [============================>.] - ETA: 0s - loss: 0.0743 - acc: 0.9865Epoch 00023: val_loss improved from 0.55628 to 0.55320, saving model to saved_models/weights.best.resnet_ft.hdf5\n",
      "6680/6680 [==============================] - 0s 37us/step - loss: 0.0740 - acc: 0.9867 - val_loss: 0.5532 - val_acc: 0.8323\n",
      "Epoch 24/30\n",
      "6144/6680 [==========================>...] - ETA: 0s - loss: 0.0701 - acc: 0.9876Epoch 00024: val_loss did not improve\n",
      "6680/6680 [==============================] - 0s 37us/step - loss: 0.0704 - acc: 0.9880 - val_loss: 0.5643 - val_acc: 0.8335\n",
      "Epoch 25/30\n",
      "6400/6680 [===========================>..] - ETA: 0s - loss: 0.0657 - acc: 0.9888Epoch 00025: val_loss did not improve\n",
      "6680/6680 [==============================] - 0s 36us/step - loss: 0.0660 - acc: 0.9886 - val_loss: 0.5679 - val_acc: 0.8251\n",
      "Epoch 26/30\n",
      "6400/6680 [===========================>..] - ETA: 0s - loss: 0.0659 - acc: 0.9870Epoch 00026: val_loss did not improve\n",
      "6680/6680 [==============================] - 0s 36us/step - loss: 0.0662 - acc: 0.9870 - val_loss: 0.5616 - val_acc: 0.8287\n",
      "Epoch 27/30\n",
      "6400/6680 [===========================>..] - ETA: 0s - loss: 0.0591 - acc: 0.9903Epoch 00027: val_loss improved from 0.55320 to 0.54652, saving model to saved_models/weights.best.resnet_ft.hdf5\n",
      "6680/6680 [==============================] - 0s 38us/step - loss: 0.0590 - acc: 0.9901 - val_loss: 0.5465 - val_acc: 0.8323\n"
     ]
    },
    {
     "name": "stdout",
     "output_type": "stream",
     "text": [
      "Epoch 28/30\n",
      "5120/6680 [=====================>........] - ETA: 0s - loss: 0.0577 - acc: 0.9889Epoch 00028: val_loss did not improve\n",
      "6680/6680 [==============================] - 0s 34us/step - loss: 0.0599 - acc: 0.9879 - val_loss: 0.5748 - val_acc: 0.8299\n",
      "Epoch 29/30\n",
      "6656/6680 [============================>.] - ETA: 0s - loss: 0.0521 - acc: 0.9926Epoch 00029: val_loss did not improve\n",
      "6680/6680 [==============================] - 0s 35us/step - loss: 0.0521 - acc: 0.9927 - val_loss: 0.5632 - val_acc: 0.8383\n",
      "Epoch 30/30\n",
      "5120/6680 [=====================>........] - ETA: 0s - loss: 0.0542 - acc: 0.9895Epoch 00030: val_loss did not improve\n",
      "6680/6680 [==============================] - 0s 34us/step - loss: 0.0534 - acc: 0.9901 - val_loss: 0.5669 - val_acc: 0.8287\n"
     ]
    },
    {
     "data": {
      "text/plain": [
       "<keras.callbacks.History at 0x7f0c2fa5df90>"
      ]
     },
     "execution_count": 49,
     "metadata": {},
     "output_type": "execute_result"
    }
   ],
   "source": [
    "from keras.callbacks import EarlyStopping\n",
    "from keras.callbacks import ModelCheckpoint  \n",
    "\n",
    "checkpointer = ModelCheckpoint(filepath='saved_models/weights.best.resnet_ft.hdf5', \n",
    "                               verbose=1, save_best_only=True)\n",
    "\n",
    "\n",
    "ResNet_model.fit(train_resnet_features, train_targets, \n",
    "          batch_size = 128,\n",
    "          epochs=30,\n",
    "          verbose=1,\n",
    "          validation_data=(valid_resnet_features, valid_targets),\n",
    "          callbacks=[checkpointer, EarlyStopping(min_delta=1e-7, patience=15)\n",
    "          ])"
   ]
  },
  {
   "cell_type": "code",
   "execution_count": 50,
   "metadata": {},
   "outputs": [],
   "source": [
    "### Load the model weights with the best validation loss.\n",
    "ResNet_model.load_weights('saved_models/weights.best.resnet_ft.hdf5')"
   ]
  },
  {
   "cell_type": "code",
   "execution_count": 51,
   "metadata": {},
   "outputs": [
    {
     "name": "stdout",
     "output_type": "stream",
     "text": [
      "Test accuracy: 82.0000%\n"
     ]
    }
   ],
   "source": [
    "# get index of predicted dog breed for each image in test set\n",
    "ResNet50_predictions = [np.argmax(ResNet_model.predict(np.expand_dims(feature, axis=0))) for feature in test_resnet_features]\n",
    "\n",
    "# report test accuracy\n",
    "test_accuracy = 100*np.sum(np.array(ResNet50_predictions)==np.argmax(test_targets, axis=1))/len(ResNet50_predictions)\n",
    "print('Test accuracy: %.4f%%' % test_accuracy)"
   ]
  },
  {
   "cell_type": "code",
   "execution_count": 39,
   "metadata": {},
   "outputs": [],
   "source": [
    "from keras.models import Model\n",
    "base_model = keras.applications.ResNet50(include_top=False, weights='imagenet')\n",
    "top_model = Sequential()\n",
    "top_model.add(GlobalAveragePooling2D(input_shape=train_resnet_features.shape[1:]))\n",
    "top_model.add(Dense(133, activation='softmax'))\n",
    "top_model.load_weights('saved_models/weights.best.resnet_ft.hdf5')\n",
    "model = Model(inputs = base_model.input, outputs = top_model(base_model.output))"
   ]
  },
  {
   "cell_type": "code",
   "execution_count": 52,
   "metadata": {},
   "outputs": [],
   "source": [
    "from keras.models import Model\n",
    "base_model = resnet\n",
    "top_model = ResNet_model\n",
    "model = Model(inputs = base_model.input, outputs = top_model(base_model.output))"
   ]
  },
  {
   "cell_type": "code",
   "execution_count": 53,
   "metadata": {},
   "outputs": [
    {
     "name": "stdout",
     "output_type": "stream",
     "text": [
      "__________________________________________________________________________________________________\n",
      "Layer (type)                    Output Shape         Param #     Connected to                     \n",
      "==================================================================================================\n",
      "input_1 (InputLayer)            (None, None, None, 3 0                                            \n",
      "__________________________________________________________________________________________________\n",
      "conv1 (Conv2D)                  (None, None, None, 6 9472        input_1[0][0]                    \n",
      "__________________________________________________________________________________________________\n",
      "bn_conv1 (BatchNormalization)   (None, None, None, 6 256         conv1[0][0]                      \n",
      "__________________________________________________________________________________________________\n",
      "activation_1 (Activation)       (None, None, None, 6 0           bn_conv1[0][0]                   \n",
      "__________________________________________________________________________________________________\n",
      "max_pooling2d_1 (MaxPooling2D)  (None, None, None, 6 0           activation_1[0][0]               \n",
      "__________________________________________________________________________________________________\n",
      "res2a_branch2a (Conv2D)         (None, None, None, 6 4160        max_pooling2d_1[0][0]            \n",
      "__________________________________________________________________________________________________\n",
      "bn2a_branch2a (BatchNormalizati (None, None, None, 6 256         res2a_branch2a[0][0]             \n",
      "__________________________________________________________________________________________________\n",
      "activation_2 (Activation)       (None, None, None, 6 0           bn2a_branch2a[0][0]              \n",
      "__________________________________________________________________________________________________\n",
      "res2a_branch2b (Conv2D)         (None, None, None, 6 36928       activation_2[0][0]               \n",
      "__________________________________________________________________________________________________\n",
      "bn2a_branch2b (BatchNormalizati (None, None, None, 6 256         res2a_branch2b[0][0]             \n",
      "__________________________________________________________________________________________________\n",
      "activation_3 (Activation)       (None, None, None, 6 0           bn2a_branch2b[0][0]              \n",
      "__________________________________________________________________________________________________\n",
      "res2a_branch2c (Conv2D)         (None, None, None, 2 16640       activation_3[0][0]               \n",
      "__________________________________________________________________________________________________\n",
      "res2a_branch1 (Conv2D)          (None, None, None, 2 16640       max_pooling2d_1[0][0]            \n",
      "__________________________________________________________________________________________________\n",
      "bn2a_branch2c (BatchNormalizati (None, None, None, 2 1024        res2a_branch2c[0][0]             \n",
      "__________________________________________________________________________________________________\n",
      "bn2a_branch1 (BatchNormalizatio (None, None, None, 2 1024        res2a_branch1[0][0]              \n",
      "__________________________________________________________________________________________________\n",
      "add_1 (Add)                     (None, None, None, 2 0           bn2a_branch2c[0][0]              \n",
      "                                                                 bn2a_branch1[0][0]               \n",
      "__________________________________________________________________________________________________\n",
      "activation_4 (Activation)       (None, None, None, 2 0           add_1[0][0]                      \n",
      "__________________________________________________________________________________________________\n",
      "res2b_branch2a (Conv2D)         (None, None, None, 6 16448       activation_4[0][0]               \n",
      "__________________________________________________________________________________________________\n",
      "bn2b_branch2a (BatchNormalizati (None, None, None, 6 256         res2b_branch2a[0][0]             \n",
      "__________________________________________________________________________________________________\n",
      "activation_5 (Activation)       (None, None, None, 6 0           bn2b_branch2a[0][0]              \n",
      "__________________________________________________________________________________________________\n",
      "res2b_branch2b (Conv2D)         (None, None, None, 6 36928       activation_5[0][0]               \n",
      "__________________________________________________________________________________________________\n",
      "bn2b_branch2b (BatchNormalizati (None, None, None, 6 256         res2b_branch2b[0][0]             \n",
      "__________________________________________________________________________________________________\n",
      "activation_6 (Activation)       (None, None, None, 6 0           bn2b_branch2b[0][0]              \n",
      "__________________________________________________________________________________________________\n",
      "res2b_branch2c (Conv2D)         (None, None, None, 2 16640       activation_6[0][0]               \n",
      "__________________________________________________________________________________________________\n",
      "bn2b_branch2c (BatchNormalizati (None, None, None, 2 1024        res2b_branch2c[0][0]             \n",
      "__________________________________________________________________________________________________\n",
      "add_2 (Add)                     (None, None, None, 2 0           bn2b_branch2c[0][0]              \n",
      "                                                                 activation_4[0][0]               \n",
      "__________________________________________________________________________________________________\n",
      "activation_7 (Activation)       (None, None, None, 2 0           add_2[0][0]                      \n",
      "__________________________________________________________________________________________________\n",
      "res2c_branch2a (Conv2D)         (None, None, None, 6 16448       activation_7[0][0]               \n",
      "__________________________________________________________________________________________________\n",
      "bn2c_branch2a (BatchNormalizati (None, None, None, 6 256         res2c_branch2a[0][0]             \n",
      "__________________________________________________________________________________________________\n",
      "activation_8 (Activation)       (None, None, None, 6 0           bn2c_branch2a[0][0]              \n",
      "__________________________________________________________________________________________________\n",
      "res2c_branch2b (Conv2D)         (None, None, None, 6 36928       activation_8[0][0]               \n",
      "__________________________________________________________________________________________________\n",
      "bn2c_branch2b (BatchNormalizati (None, None, None, 6 256         res2c_branch2b[0][0]             \n",
      "__________________________________________________________________________________________________\n",
      "activation_9 (Activation)       (None, None, None, 6 0           bn2c_branch2b[0][0]              \n",
      "__________________________________________________________________________________________________\n",
      "res2c_branch2c (Conv2D)         (None, None, None, 2 16640       activation_9[0][0]               \n",
      "__________________________________________________________________________________________________\n",
      "bn2c_branch2c (BatchNormalizati (None, None, None, 2 1024        res2c_branch2c[0][0]             \n",
      "__________________________________________________________________________________________________\n",
      "add_3 (Add)                     (None, None, None, 2 0           bn2c_branch2c[0][0]              \n",
      "                                                                 activation_7[0][0]               \n",
      "__________________________________________________________________________________________________\n",
      "activation_10 (Activation)      (None, None, None, 2 0           add_3[0][0]                      \n",
      "__________________________________________________________________________________________________\n",
      "res3a_branch2a (Conv2D)         (None, None, None, 1 32896       activation_10[0][0]              \n",
      "__________________________________________________________________________________________________\n",
      "bn3a_branch2a (BatchNormalizati (None, None, None, 1 512         res3a_branch2a[0][0]             \n",
      "__________________________________________________________________________________________________\n",
      "activation_11 (Activation)      (None, None, None, 1 0           bn3a_branch2a[0][0]              \n",
      "__________________________________________________________________________________________________\n",
      "res3a_branch2b (Conv2D)         (None, None, None, 1 147584      activation_11[0][0]              \n",
      "__________________________________________________________________________________________________\n",
      "bn3a_branch2b (BatchNormalizati (None, None, None, 1 512         res3a_branch2b[0][0]             \n",
      "__________________________________________________________________________________________________\n",
      "activation_12 (Activation)      (None, None, None, 1 0           bn3a_branch2b[0][0]              \n",
      "__________________________________________________________________________________________________\n",
      "res3a_branch2c (Conv2D)         (None, None, None, 5 66048       activation_12[0][0]              \n",
      "__________________________________________________________________________________________________\n",
      "res3a_branch1 (Conv2D)          (None, None, None, 5 131584      activation_10[0][0]              \n",
      "__________________________________________________________________________________________________\n",
      "bn3a_branch2c (BatchNormalizati (None, None, None, 5 2048        res3a_branch2c[0][0]             \n",
      "__________________________________________________________________________________________________\n",
      "bn3a_branch1 (BatchNormalizatio (None, None, None, 5 2048        res3a_branch1[0][0]              \n",
      "__________________________________________________________________________________________________\n",
      "add_4 (Add)                     (None, None, None, 5 0           bn3a_branch2c[0][0]              \n",
      "                                                                 bn3a_branch1[0][0]               \n",
      "__________________________________________________________________________________________________\n",
      "activation_13 (Activation)      (None, None, None, 5 0           add_4[0][0]                      \n",
      "__________________________________________________________________________________________________\n",
      "res3b_branch2a (Conv2D)         (None, None, None, 1 65664       activation_13[0][0]              \n",
      "__________________________________________________________________________________________________\n",
      "bn3b_branch2a (BatchNormalizati (None, None, None, 1 512         res3b_branch2a[0][0]             \n",
      "__________________________________________________________________________________________________\n",
      "activation_14 (Activation)      (None, None, None, 1 0           bn3b_branch2a[0][0]              \n",
      "__________________________________________________________________________________________________\n",
      "res3b_branch2b (Conv2D)         (None, None, None, 1 147584      activation_14[0][0]              \n",
      "__________________________________________________________________________________________________\n",
      "bn3b_branch2b (BatchNormalizati (None, None, None, 1 512         res3b_branch2b[0][0]             \n",
      "__________________________________________________________________________________________________\n",
      "activation_15 (Activation)      (None, None, None, 1 0           bn3b_branch2b[0][0]              \n",
      "__________________________________________________________________________________________________\n",
      "res3b_branch2c (Conv2D)         (None, None, None, 5 66048       activation_15[0][0]              \n",
      "__________________________________________________________________________________________________\n",
      "bn3b_branch2c (BatchNormalizati (None, None, None, 5 2048        res3b_branch2c[0][0]             \n",
      "__________________________________________________________________________________________________\n",
      "add_5 (Add)                     (None, None, None, 5 0           bn3b_branch2c[0][0]              \n",
      "                                                                 activation_13[0][0]              \n",
      "__________________________________________________________________________________________________\n",
      "activation_16 (Activation)      (None, None, None, 5 0           add_5[0][0]                      \n",
      "__________________________________________________________________________________________________\n",
      "res3c_branch2a (Conv2D)         (None, None, None, 1 65664       activation_16[0][0]              \n",
      "__________________________________________________________________________________________________\n",
      "bn3c_branch2a (BatchNormalizati (None, None, None, 1 512         res3c_branch2a[0][0]             \n",
      "__________________________________________________________________________________________________\n",
      "activation_17 (Activation)      (None, None, None, 1 0           bn3c_branch2a[0][0]              \n",
      "__________________________________________________________________________________________________\n",
      "res3c_branch2b (Conv2D)         (None, None, None, 1 147584      activation_17[0][0]              \n",
      "__________________________________________________________________________________________________\n",
      "bn3c_branch2b (BatchNormalizati (None, None, None, 1 512         res3c_branch2b[0][0]             \n",
      "__________________________________________________________________________________________________\n",
      "activation_18 (Activation)      (None, None, None, 1 0           bn3c_branch2b[0][0]              \n",
      "__________________________________________________________________________________________________\n",
      "res3c_branch2c (Conv2D)         (None, None, None, 5 66048       activation_18[0][0]              \n",
      "__________________________________________________________________________________________________\n",
      "bn3c_branch2c (BatchNormalizati (None, None, None, 5 2048        res3c_branch2c[0][0]             \n",
      "__________________________________________________________________________________________________\n",
      "add_6 (Add)                     (None, None, None, 5 0           bn3c_branch2c[0][0]              \n",
      "                                                                 activation_16[0][0]              \n",
      "__________________________________________________________________________________________________\n",
      "activation_19 (Activation)      (None, None, None, 5 0           add_6[0][0]                      \n",
      "__________________________________________________________________________________________________\n",
      "res3d_branch2a (Conv2D)         (None, None, None, 1 65664       activation_19[0][0]              \n",
      "__________________________________________________________________________________________________\n",
      "bn3d_branch2a (BatchNormalizati (None, None, None, 1 512         res3d_branch2a[0][0]             \n",
      "__________________________________________________________________________________________________\n",
      "activation_20 (Activation)      (None, None, None, 1 0           bn3d_branch2a[0][0]              \n",
      "__________________________________________________________________________________________________\n",
      "res3d_branch2b (Conv2D)         (None, None, None, 1 147584      activation_20[0][0]              \n",
      "__________________________________________________________________________________________________\n",
      "bn3d_branch2b (BatchNormalizati (None, None, None, 1 512         res3d_branch2b[0][0]             \n",
      "__________________________________________________________________________________________________\n",
      "activation_21 (Activation)      (None, None, None, 1 0           bn3d_branch2b[0][0]              \n",
      "__________________________________________________________________________________________________\n",
      "res3d_branch2c (Conv2D)         (None, None, None, 5 66048       activation_21[0][0]              \n",
      "__________________________________________________________________________________________________\n",
      "bn3d_branch2c (BatchNormalizati (None, None, None, 5 2048        res3d_branch2c[0][0]             \n",
      "__________________________________________________________________________________________________\n",
      "add_7 (Add)                     (None, None, None, 5 0           bn3d_branch2c[0][0]              \n",
      "                                                                 activation_19[0][0]              \n",
      "__________________________________________________________________________________________________\n",
      "activation_22 (Activation)      (None, None, None, 5 0           add_7[0][0]                      \n",
      "__________________________________________________________________________________________________\n",
      "res4a_branch2a (Conv2D)         (None, None, None, 2 131328      activation_22[0][0]              \n",
      "__________________________________________________________________________________________________\n",
      "bn4a_branch2a (BatchNormalizati (None, None, None, 2 1024        res4a_branch2a[0][0]             \n",
      "__________________________________________________________________________________________________\n",
      "activation_23 (Activation)      (None, None, None, 2 0           bn4a_branch2a[0][0]              \n",
      "__________________________________________________________________________________________________\n",
      "res4a_branch2b (Conv2D)         (None, None, None, 2 590080      activation_23[0][0]              \n",
      "__________________________________________________________________________________________________\n",
      "bn4a_branch2b (BatchNormalizati (None, None, None, 2 1024        res4a_branch2b[0][0]             \n",
      "__________________________________________________________________________________________________\n",
      "activation_24 (Activation)      (None, None, None, 2 0           bn4a_branch2b[0][0]              \n",
      "__________________________________________________________________________________________________\n",
      "res4a_branch2c (Conv2D)         (None, None, None, 1 263168      activation_24[0][0]              \n",
      "__________________________________________________________________________________________________\n",
      "res4a_branch1 (Conv2D)          (None, None, None, 1 525312      activation_22[0][0]              \n",
      "__________________________________________________________________________________________________\n",
      "bn4a_branch2c (BatchNormalizati (None, None, None, 1 4096        res4a_branch2c[0][0]             \n",
      "__________________________________________________________________________________________________\n",
      "bn4a_branch1 (BatchNormalizatio (None, None, None, 1 4096        res4a_branch1[0][0]              \n",
      "__________________________________________________________________________________________________\n",
      "add_8 (Add)                     (None, None, None, 1 0           bn4a_branch2c[0][0]              \n",
      "                                                                 bn4a_branch1[0][0]               \n",
      "__________________________________________________________________________________________________\n",
      "activation_25 (Activation)      (None, None, None, 1 0           add_8[0][0]                      \n",
      "__________________________________________________________________________________________________\n",
      "res4b_branch2a (Conv2D)         (None, None, None, 2 262400      activation_25[0][0]              \n",
      "__________________________________________________________________________________________________\n",
      "bn4b_branch2a (BatchNormalizati (None, None, None, 2 1024        res4b_branch2a[0][0]             \n",
      "__________________________________________________________________________________________________\n",
      "activation_26 (Activation)      (None, None, None, 2 0           bn4b_branch2a[0][0]              \n",
      "__________________________________________________________________________________________________\n",
      "res4b_branch2b (Conv2D)         (None, None, None, 2 590080      activation_26[0][0]              \n",
      "__________________________________________________________________________________________________\n",
      "bn4b_branch2b (BatchNormalizati (None, None, None, 2 1024        res4b_branch2b[0][0]             \n",
      "__________________________________________________________________________________________________\n",
      "activation_27 (Activation)      (None, None, None, 2 0           bn4b_branch2b[0][0]              \n",
      "__________________________________________________________________________________________________\n",
      "res4b_branch2c (Conv2D)         (None, None, None, 1 263168      activation_27[0][0]              \n",
      "__________________________________________________________________________________________________\n",
      "bn4b_branch2c (BatchNormalizati (None, None, None, 1 4096        res4b_branch2c[0][0]             \n",
      "__________________________________________________________________________________________________\n",
      "add_9 (Add)                     (None, None, None, 1 0           bn4b_branch2c[0][0]              \n",
      "                                                                 activation_25[0][0]              \n",
      "__________________________________________________________________________________________________\n",
      "activation_28 (Activation)      (None, None, None, 1 0           add_9[0][0]                      \n",
      "__________________________________________________________________________________________________\n",
      "res4c_branch2a (Conv2D)         (None, None, None, 2 262400      activation_28[0][0]              \n",
      "__________________________________________________________________________________________________\n",
      "bn4c_branch2a (BatchNormalizati (None, None, None, 2 1024        res4c_branch2a[0][0]             \n",
      "__________________________________________________________________________________________________\n",
      "activation_29 (Activation)      (None, None, None, 2 0           bn4c_branch2a[0][0]              \n",
      "__________________________________________________________________________________________________\n",
      "res4c_branch2b (Conv2D)         (None, None, None, 2 590080      activation_29[0][0]              \n",
      "__________________________________________________________________________________________________\n",
      "bn4c_branch2b (BatchNormalizati (None, None, None, 2 1024        res4c_branch2b[0][0]             \n",
      "__________________________________________________________________________________________________\n",
      "activation_30 (Activation)      (None, None, None, 2 0           bn4c_branch2b[0][0]              \n",
      "__________________________________________________________________________________________________\n",
      "res4c_branch2c (Conv2D)         (None, None, None, 1 263168      activation_30[0][0]              \n",
      "__________________________________________________________________________________________________\n",
      "bn4c_branch2c (BatchNormalizati (None, None, None, 1 4096        res4c_branch2c[0][0]             \n",
      "__________________________________________________________________________________________________\n",
      "add_10 (Add)                    (None, None, None, 1 0           bn4c_branch2c[0][0]              \n",
      "                                                                 activation_28[0][0]              \n",
      "__________________________________________________________________________________________________\n",
      "activation_31 (Activation)      (None, None, None, 1 0           add_10[0][0]                     \n",
      "__________________________________________________________________________________________________\n",
      "res4d_branch2a (Conv2D)         (None, None, None, 2 262400      activation_31[0][0]              \n",
      "__________________________________________________________________________________________________\n",
      "bn4d_branch2a (BatchNormalizati (None, None, None, 2 1024        res4d_branch2a[0][0]             \n",
      "__________________________________________________________________________________________________\n",
      "activation_32 (Activation)      (None, None, None, 2 0           bn4d_branch2a[0][0]              \n",
      "__________________________________________________________________________________________________\n",
      "res4d_branch2b (Conv2D)         (None, None, None, 2 590080      activation_32[0][0]              \n",
      "__________________________________________________________________________________________________\n",
      "bn4d_branch2b (BatchNormalizati (None, None, None, 2 1024        res4d_branch2b[0][0]             \n",
      "__________________________________________________________________________________________________\n",
      "activation_33 (Activation)      (None, None, None, 2 0           bn4d_branch2b[0][0]              \n",
      "__________________________________________________________________________________________________\n",
      "res4d_branch2c (Conv2D)         (None, None, None, 1 263168      activation_33[0][0]              \n",
      "__________________________________________________________________________________________________\n",
      "bn4d_branch2c (BatchNormalizati (None, None, None, 1 4096        res4d_branch2c[0][0]             \n",
      "__________________________________________________________________________________________________\n",
      "add_11 (Add)                    (None, None, None, 1 0           bn4d_branch2c[0][0]              \n",
      "                                                                 activation_31[0][0]              \n",
      "__________________________________________________________________________________________________\n",
      "activation_34 (Activation)      (None, None, None, 1 0           add_11[0][0]                     \n",
      "__________________________________________________________________________________________________\n",
      "res4e_branch2a (Conv2D)         (None, None, None, 2 262400      activation_34[0][0]              \n",
      "__________________________________________________________________________________________________\n",
      "bn4e_branch2a (BatchNormalizati (None, None, None, 2 1024        res4e_branch2a[0][0]             \n",
      "__________________________________________________________________________________________________\n",
      "activation_35 (Activation)      (None, None, None, 2 0           bn4e_branch2a[0][0]              \n",
      "__________________________________________________________________________________________________\n",
      "res4e_branch2b (Conv2D)         (None, None, None, 2 590080      activation_35[0][0]              \n",
      "__________________________________________________________________________________________________\n",
      "bn4e_branch2b (BatchNormalizati (None, None, None, 2 1024        res4e_branch2b[0][0]             \n",
      "__________________________________________________________________________________________________\n",
      "activation_36 (Activation)      (None, None, None, 2 0           bn4e_branch2b[0][0]              \n",
      "__________________________________________________________________________________________________\n",
      "res4e_branch2c (Conv2D)         (None, None, None, 1 263168      activation_36[0][0]              \n",
      "__________________________________________________________________________________________________\n",
      "bn4e_branch2c (BatchNormalizati (None, None, None, 1 4096        res4e_branch2c[0][0]             \n",
      "__________________________________________________________________________________________________\n",
      "add_12 (Add)                    (None, None, None, 1 0           bn4e_branch2c[0][0]              \n",
      "                                                                 activation_34[0][0]              \n",
      "__________________________________________________________________________________________________\n",
      "activation_37 (Activation)      (None, None, None, 1 0           add_12[0][0]                     \n",
      "__________________________________________________________________________________________________\n",
      "res4f_branch2a (Conv2D)         (None, None, None, 2 262400      activation_37[0][0]              \n",
      "__________________________________________________________________________________________________\n",
      "bn4f_branch2a (BatchNormalizati (None, None, None, 2 1024        res4f_branch2a[0][0]             \n",
      "__________________________________________________________________________________________________\n",
      "activation_38 (Activation)      (None, None, None, 2 0           bn4f_branch2a[0][0]              \n",
      "__________________________________________________________________________________________________\n",
      "res4f_branch2b (Conv2D)         (None, None, None, 2 590080      activation_38[0][0]              \n",
      "__________________________________________________________________________________________________\n",
      "bn4f_branch2b (BatchNormalizati (None, None, None, 2 1024        res4f_branch2b[0][0]             \n",
      "__________________________________________________________________________________________________\n",
      "activation_39 (Activation)      (None, None, None, 2 0           bn4f_branch2b[0][0]              \n",
      "__________________________________________________________________________________________________\n",
      "res4f_branch2c (Conv2D)         (None, None, None, 1 263168      activation_39[0][0]              \n",
      "__________________________________________________________________________________________________\n",
      "bn4f_branch2c (BatchNormalizati (None, None, None, 1 4096        res4f_branch2c[0][0]             \n",
      "__________________________________________________________________________________________________\n",
      "add_13 (Add)                    (None, None, None, 1 0           bn4f_branch2c[0][0]              \n",
      "                                                                 activation_37[0][0]              \n",
      "__________________________________________________________________________________________________\n",
      "activation_40 (Activation)      (None, None, None, 1 0           add_13[0][0]                     \n",
      "__________________________________________________________________________________________________\n",
      "res5a_branch2a (Conv2D)         (None, None, None, 5 524800      activation_40[0][0]              \n",
      "__________________________________________________________________________________________________\n",
      "bn5a_branch2a (BatchNormalizati (None, None, None, 5 2048        res5a_branch2a[0][0]             \n",
      "__________________________________________________________________________________________________\n",
      "activation_41 (Activation)      (None, None, None, 5 0           bn5a_branch2a[0][0]              \n",
      "__________________________________________________________________________________________________\n",
      "res5a_branch2b (Conv2D)         (None, None, None, 5 2359808     activation_41[0][0]              \n",
      "__________________________________________________________________________________________________\n",
      "bn5a_branch2b (BatchNormalizati (None, None, None, 5 2048        res5a_branch2b[0][0]             \n",
      "__________________________________________________________________________________________________\n",
      "activation_42 (Activation)      (None, None, None, 5 0           bn5a_branch2b[0][0]              \n",
      "__________________________________________________________________________________________________\n",
      "res5a_branch2c (Conv2D)         (None, None, None, 2 1050624     activation_42[0][0]              \n",
      "__________________________________________________________________________________________________\n",
      "res5a_branch1 (Conv2D)          (None, None, None, 2 2099200     activation_40[0][0]              \n",
      "__________________________________________________________________________________________________\n",
      "bn5a_branch2c (BatchNormalizati (None, None, None, 2 8192        res5a_branch2c[0][0]             \n",
      "__________________________________________________________________________________________________\n",
      "bn5a_branch1 (BatchNormalizatio (None, None, None, 2 8192        res5a_branch1[0][0]              \n",
      "__________________________________________________________________________________________________\n",
      "add_14 (Add)                    (None, None, None, 2 0           bn5a_branch2c[0][0]              \n",
      "                                                                 bn5a_branch1[0][0]               \n",
      "__________________________________________________________________________________________________\n",
      "activation_43 (Activation)      (None, None, None, 2 0           add_14[0][0]                     \n",
      "__________________________________________________________________________________________________\n",
      "res5b_branch2a (Conv2D)         (None, None, None, 5 1049088     activation_43[0][0]              \n",
      "__________________________________________________________________________________________________\n",
      "bn5b_branch2a (BatchNormalizati (None, None, None, 5 2048        res5b_branch2a[0][0]             \n",
      "__________________________________________________________________________________________________\n",
      "activation_44 (Activation)      (None, None, None, 5 0           bn5b_branch2a[0][0]              \n",
      "__________________________________________________________________________________________________\n",
      "res5b_branch2b (Conv2D)         (None, None, None, 5 2359808     activation_44[0][0]              \n",
      "__________________________________________________________________________________________________\n",
      "bn5b_branch2b (BatchNormalizati (None, None, None, 5 2048        res5b_branch2b[0][0]             \n",
      "__________________________________________________________________________________________________\n",
      "activation_45 (Activation)      (None, None, None, 5 0           bn5b_branch2b[0][0]              \n",
      "__________________________________________________________________________________________________\n",
      "res5b_branch2c (Conv2D)         (None, None, None, 2 1050624     activation_45[0][0]              \n",
      "__________________________________________________________________________________________________\n",
      "bn5b_branch2c (BatchNormalizati (None, None, None, 2 8192        res5b_branch2c[0][0]             \n",
      "__________________________________________________________________________________________________\n",
      "add_15 (Add)                    (None, None, None, 2 0           bn5b_branch2c[0][0]              \n",
      "                                                                 activation_43[0][0]              \n",
      "__________________________________________________________________________________________________\n",
      "activation_46 (Activation)      (None, None, None, 2 0           add_15[0][0]                     \n",
      "__________________________________________________________________________________________________\n",
      "res5c_branch2a (Conv2D)         (None, None, None, 5 1049088     activation_46[0][0]              \n",
      "__________________________________________________________________________________________________\n",
      "bn5c_branch2a (BatchNormalizati (None, None, None, 5 2048        res5c_branch2a[0][0]             \n",
      "__________________________________________________________________________________________________\n",
      "activation_47 (Activation)      (None, None, None, 5 0           bn5c_branch2a[0][0]              \n",
      "__________________________________________________________________________________________________\n",
      "res5c_branch2b (Conv2D)         (None, None, None, 5 2359808     activation_47[0][0]              \n",
      "__________________________________________________________________________________________________\n",
      "bn5c_branch2b (BatchNormalizati (None, None, None, 5 2048        res5c_branch2b[0][0]             \n",
      "__________________________________________________________________________________________________\n",
      "activation_48 (Activation)      (None, None, None, 5 0           bn5c_branch2b[0][0]              \n",
      "__________________________________________________________________________________________________\n",
      "res5c_branch2c (Conv2D)         (None, None, None, 2 1050624     activation_48[0][0]              \n",
      "__________________________________________________________________________________________________\n",
      "bn5c_branch2c (BatchNormalizati (None, None, None, 2 8192        res5c_branch2c[0][0]             \n",
      "__________________________________________________________________________________________________\n",
      "add_16 (Add)                    (None, None, None, 2 0           bn5c_branch2c[0][0]              \n",
      "                                                                 activation_46[0][0]              \n",
      "__________________________________________________________________________________________________\n",
      "activation_49 (Activation)      (None, None, None, 2 0           add_16[0][0]                     \n",
      "__________________________________________________________________________________________________\n",
      "avg_pool (AveragePooling2D)     (None, None, None, 2 0           activation_49[0][0]              \n",
      "__________________________________________________________________________________________________\n",
      "sequential_6 (Sequential)       (None, 133)          272517      avg_pool[0][0]                   \n",
      "==================================================================================================\n",
      "Total params: 23,860,229\n",
      "Trainable params: 1,327,237\n",
      "Non-trainable params: 22,532,992\n",
      "__________________________________________________________________________________________________\n"
     ]
    }
   ],
   "source": [
    "from keras import optimizers\n",
    "for layer in model.layers[:169]:\n",
    "    layer.trainable = False\n",
    "\n",
    "model.compile(loss='categorical_crossentropy', optimizer=optimizers.SGD(lr1e-4, momentum=0.9), metrics=['accuracy'])\n",
    "\n",
    "model.summary()"
   ]
  },
  {
   "cell_type": "code",
   "execution_count": null,
   "metadata": {},
   "outputs": [],
   "source": []
  },
  {
   "cell_type": "code",
   "execution_count": 31,
   "metadata": {},
   "outputs": [],
   "source": [
    "from keras.preprocessing.image import ImageDataGenerator\n",
    "\n",
    "# create and configure augmented image generator\n",
    "datagen = ImageDataGenerator(\n",
    "    preprocessing_function=preprocess_input,\n",
    "    rotation_range = 20,\n",
    "    width_shift_range=0.1,  # randomly shift images horizontally (10% of total width)\n",
    "    height_shift_range=0.1,  # randomly shift images vertically (10% of total height)\n",
    "    horizontal_flip=True, # randomly flip images horizontally\n",
    "    shear_range = 0.2, # rnadomly applying shear transformation\n",
    "    zoom_range = 0.2, # randomly zooming inside pictures\n",
    "    fill_mode = 'nearest')\n",
    "# fit augmented image generator on data\n",
    "datagen.fit(train_tensors_original)"
   ]
  },
  {
   "cell_type": "code",
   "execution_count": 54,
   "metadata": {},
   "outputs": [
    {
     "name": "stdout",
     "output_type": "stream",
     "text": [
      "Train on 6680 samples, validate on 835 samples\n",
      "Epoch 1/10\n",
      "6656/6680 [============================>.] - ETA: 0s - loss: 0.3367 - acc: 0.9004Epoch 00001: val_loss improved from inf to 1.03077, saving model to saved_models/weights.best_resnet_augmented.from_scratch.hdf5\n",
      "6680/6680 [==============================] - 119s 18ms/step - loss: 0.3368 - acc: 0.9003 - val_loss: 1.0308 - val_acc: 0.7234\n",
      "Epoch 2/10\n",
      "6656/6680 [============================>.] - ETA: 0s - loss: 0.3300 - acc: 0.8993Epoch 00002: val_loss improved from 1.03077 to 1.02371, saving model to saved_models/weights.best_resnet_augmented.from_scratch.hdf5\n",
      "6680/6680 [==============================] - 119s 18ms/step - loss: 0.3298 - acc: 0.8994 - val_loss: 1.0237 - val_acc: 0.7234\n",
      "Epoch 3/10\n",
      "6656/6680 [============================>.] - ETA: 0s - loss: 0.3281 - acc: 0.9013Epoch 00003: val_loss improved from 1.02371 to 1.01962, saving model to saved_models/weights.best_resnet_augmented.from_scratch.hdf5\n",
      "6680/6680 [==============================] - 119s 18ms/step - loss: 0.3289 - acc: 0.9009 - val_loss: 1.0196 - val_acc: 0.7210\n",
      "Epoch 4/10\n",
      "6656/6680 [============================>.] - ETA: 0s - loss: 0.3145 - acc: 0.9061Epoch 00004: val_loss improved from 1.01962 to 1.00883, saving model to saved_models/weights.best_resnet_augmented.from_scratch.hdf5\n",
      "6680/6680 [==============================] - 118s 18ms/step - loss: 0.3152 - acc: 0.9060 - val_loss: 1.0088 - val_acc: 0.7257\n",
      "Epoch 5/10\n",
      "6656/6680 [============================>.] - ETA: 0s - loss: 0.3174 - acc: 0.9034Epoch 00005: val_loss improved from 1.00883 to 1.00761, saving model to saved_models/weights.best_resnet_augmented.from_scratch.hdf5\n",
      "6680/6680 [==============================] - 118s 18ms/step - loss: 0.3179 - acc: 0.9033 - val_loss: 1.0076 - val_acc: 0.7234\n",
      "Epoch 6/10\n",
      "6656/6680 [============================>.] - ETA: 0s - loss: 0.3122 - acc: 0.9081Epoch 00006: val_loss improved from 1.00761 to 1.00339, saving model to saved_models/weights.best_resnet_augmented.from_scratch.hdf5\n",
      "6680/6680 [==============================] - 119s 18ms/step - loss: 0.3156 - acc: 0.9073 - val_loss: 1.0034 - val_acc: 0.7222\n",
      "Epoch 7/10\n",
      "6656/6680 [============================>.] - ETA: 0s - loss: 0.3054 - acc: 0.9123Epoch 00007: val_loss improved from 1.00339 to 0.99689, saving model to saved_models/weights.best_resnet_augmented.from_scratch.hdf5\n",
      "6680/6680 [==============================] - 119s 18ms/step - loss: 0.3058 - acc: 0.9121 - val_loss: 0.9969 - val_acc: 0.7281\n",
      "Epoch 8/10\n",
      "6656/6680 [============================>.] - ETA: 0s - loss: 0.3045 - acc: 0.9126Epoch 00008: val_loss improved from 0.99689 to 0.99041, saving model to saved_models/weights.best_resnet_augmented.from_scratch.hdf5\n",
      "6680/6680 [==============================] - 119s 18ms/step - loss: 0.3049 - acc: 0.9124 - val_loss: 0.9904 - val_acc: 0.7281\n",
      "Epoch 9/10\n",
      "6656/6680 [============================>.] - ETA: 0s - loss: 0.2994 - acc: 0.9123Epoch 00009: val_loss improved from 0.99041 to 0.98757, saving model to saved_models/weights.best_resnet_augmented.from_scratch.hdf5\n",
      "6680/6680 [==============================] - 119s 18ms/step - loss: 0.2994 - acc: 0.9121 - val_loss: 0.9876 - val_acc: 0.7269\n",
      "Epoch 10/10\n",
      "6656/6680 [============================>.] - ETA: 0s - loss: 0.2903 - acc: 0.9165Epoch 00010: val_loss improved from 0.98757 to 0.98327, saving model to saved_models/weights.best_resnet_augmented.from_scratch.hdf5\n",
      "6680/6680 [==============================] - 119s 18ms/step - loss: 0.2906 - acc: 0.9162 - val_loss: 0.9833 - val_acc: 0.7305\n"
     ]
    },
    {
     "data": {
      "text/plain": [
       "<keras.callbacks.History at 0x7f0c341faed0>"
      ]
     },
     "execution_count": 54,
     "metadata": {},
     "output_type": "execute_result"
    }
   ],
   "source": [
    "# WITH DATA AUGMENTATION (need to recompile the model before running)\n",
    "\n",
    "from keras.callbacks import ModelCheckpoint  \n",
    "from keras.callbacks import EarlyStopping\n",
    "\n",
    "epochs = 10\n",
    "batch_size = 64\n",
    "\n",
    "checkpointer = ModelCheckpoint(filepath='saved_models/weights.best_resnet_augmented.from_scratch.hdf5', \n",
    "                               verbose=1, save_best_only=True)\n",
    "\n",
    "## Using Image Augmentation\n",
    "# model.fit_generator(datagen.flow(train_tensors_original, train_targets, batch_size=batch_size),\n",
    "#                     validation_data=(valid_tensors1, valid_targets), \n",
    "#                     steps_per_epoch=train_tensors_original.shape[0] // batch_size,\n",
    "#                     epochs=epochs, callbacks=[checkpointer, EarlyStopping(min_delta=1e-7, patience=15)], verbose=1)\n",
    "\n",
    "\n",
    "\n",
    "model.fit(train_tensors1, train_targets, batch_size=batch_size,\n",
    "                    validation_data=(valid_tensors1, valid_targets), \n",
    "                    epochs=epochs, callbacks=[checkpointer, EarlyStopping(min_delta=1e-7, patience=15)], verbose=1)\n",
    "\n"
   ]
  },
  {
   "cell_type": "code",
   "execution_count": null,
   "metadata": {},
   "outputs": [],
   "source": []
  },
  {
   "cell_type": "code",
   "execution_count": 55,
   "metadata": {},
   "outputs": [],
   "source": [
    "### Load the model weights with the best validation loss.\n",
    "model.load_weights('saved_models/weights.best_resnet_augmented.from_scratch.hdf5')"
   ]
  },
  {
   "cell_type": "code",
   "execution_count": 56,
   "metadata": {},
   "outputs": [
    {
     "name": "stdout",
     "output_type": "stream",
     "text": [
      "Test accuracy: 74.0000%\n"
     ]
    }
   ],
   "source": [
    "# get index of predicted dog breed for each image in test set\n",
    "model_predictions = [np.argmax(model.predict(np.expand_dims(feature, axis=0))) for feature in test_tensors1]\n",
    "\n",
    "# report test accuracy\n",
    "test_accuracy = 100*np.sum(np.array(model_predictions)==np.argmax(test_targets, axis=1))/len(model_predictions)\n",
    "print('Test accuracy: %.4f%%' % test_accuracy)"
   ]
  },
  {
   "cell_type": "code",
   "execution_count": null,
   "metadata": {},
   "outputs": [],
   "source": []
  }
 ],
 "metadata": {
  "kernelspec": {
   "display_name": "Python 2",
   "language": "python",
   "name": "python2"
  },
  "language_info": {
   "codemirror_mode": {
    "name": "ipython",
    "version": 2
   },
   "file_extension": ".py",
   "mimetype": "text/x-python",
   "name": "python",
   "nbconvert_exporter": "python",
   "pygments_lexer": "ipython2",
   "version": "2.7.12"
  }
 },
 "nbformat": 4,
 "nbformat_minor": 2
}
