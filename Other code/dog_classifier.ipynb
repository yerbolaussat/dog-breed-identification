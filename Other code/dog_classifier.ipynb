{
 "cells": [
  {
   "cell_type": "code",
   "execution_count": 1,
   "metadata": {},
   "outputs": [
    {
     "name": "stderr",
     "output_type": "stream",
     "text": [
      "Using TensorFlow backend.\n"
     ]
    },
    {
     "name": "stdout",
     "output_type": "stream",
     "text": [
      "There are 133 total dog categories.\n",
      "There are 8351 total dog images.\n",
      "\n",
      "There are 6680 training dog images.\n",
      "There are 835 validation dog images.\n",
      "There are 836 test dog images.\n"
     ]
    }
   ],
   "source": [
    "from sklearn.datasets import load_files       \n",
    "from keras.utils import np_utils\n",
    "import numpy as np\n",
    "from glob import glob\n",
    "\n",
    "# define function to load train, test, and validation datasets\n",
    "def load_dataset(path):\n",
    "    data = load_files(path)\n",
    "    dog_files = np.array(data['filenames'])\n",
    "    dog_targets = np_utils.to_categorical(np.array(data['target']), 133)\n",
    "    return dog_files, dog_targets\n",
    "\n",
    "# load train, test, and validation datasets\n",
    "train_files, train_targets = load_dataset('dogImages/train')\n",
    "valid_files, valid_targets = load_dataset('dogImages/valid')\n",
    "valid_files, test_targets = load_dataset('dogImages/test')\n",
    "\n",
    "# load list of dog names\n",
    "dog_names = [item[20:-1] for item in sorted(glob(\"dogImages/train/*/\"))]\n",
    "\n",
    "# print statistics about the dataset\n",
    "print('There are %d total dog categories.' % len(dog_names))\n",
    "print('There are %s total dog images.\\n' % len(np.hstack([train_files, valid_files, test_files])))\n",
    "print('There are %d training dog images.' % len(train_files))\n",
    "print('There are %d validation dog images.' % len(valid_files))\n",
    "print('There are %d test dog images.'% len(test_files))"
   ]
  },
  {
   "cell_type": "code",
   "execution_count": 42,
   "metadata": {},
   "outputs": [
    {
     "name": "stdout",
     "output_type": "stream",
     "text": [
      "(6680, 133)\n"
     ]
    }
   ],
   "source": [
    "print train_targets.shape"
   ]
  },
  {
   "cell_type": "code",
   "execution_count": 43,
   "metadata": {},
   "outputs": [],
   "source": [
    "all_targets = np.vstack([train_targets, valid_targets, test_targets])\n"
   ]
  },
  {
   "cell_type": "code",
   "execution_count": 100,
   "metadata": {},
   "outputs": [
    {
     "data": {
      "image/png": "[encoded data removed]",
      "text/plain": [
       "<matplotlib.figure.Figure at 0x7f6f46448750>"
      ]
     },
     "metadata": {},
     "output_type": "display_data"
    }
   ],
   "source": [
    "x =  np.argmax(all_targets,axis=1)\n",
    "plt.title(\"Number of Photos per Dog Breed\")\n",
    "plt.xlabel(\"breed code\")\n",
    "plt.ylabel(\"Number of photos\")\n",
    "plt.hist(x, bins=133);\n",
    "plt.savefig('plots/histogram.png')"
   ]
  },
  {
   "cell_type": "code",
   "execution_count": 102,
   "metadata": {},
   "outputs": [
    {
     "name": "stdout",
     "output_type": "stream",
     "text": [
      "Norwegian_buhund 33\n",
      "Alaskan_malamute 96\n"
     ]
    }
   ],
   "source": [
    "%matplotlib inline\n",
    "num_per_class = []\n",
    "total = 0\n",
    "for i in range(133):\n",
    "    per_class_i = len(np.where(np.argmax(all_targets, axis = 1) == i)[0])\n",
    "    num_per_class.append(per_class_i)\n",
    "    total+=per_class_i\n",
    "    \n",
    "num_per_class_array = np.array(num_per_class)\n",
    "\n",
    "# print num_per_class_array\n",
    "\n",
    "hist, bin_edges=np.histogram(num_per_class_array, bins='auto')\n",
    "# print hist\n",
    "\n",
    "min_i = np.argmin(num_per_class)\n",
    "max_i = np.argmax(num_per_class)\n",
    "print dog_names[min_i],num_per_class[min_i]\n",
    "print dog_names[max_i],num_per_class[max_i]"
   ]
  },
  {
   "cell_type": "code",
   "execution_count": 2,
   "metadata": {},
   "outputs": [
    {
     "name": "stdout",
     "output_type": "stream",
     "text": [
      "['Affenpinscher', 'Afghan_hound', 'Airedale_terrier', 'Akita', 'Alaskan_malamute', 'American_eskimo_dog', 'American_foxhound', 'American_staffordshire_terrier', 'American_water_spaniel', 'Anatolian_shepherd_dog', 'Australian_cattle_dog', 'Australian_shepherd', 'Australian_terrier', 'Basenji', 'Basset_hound', 'Beagle', 'Bearded_collie', 'Beauceron', 'Bedlington_terrier', 'Belgian_malinois', 'Belgian_sheepdog', 'Belgian_tervuren', 'Bernese_mountain_dog', 'Bichon_frise', 'Black_and_tan_coonhound', 'Black_russian_terrier', 'Bloodhound', 'Bluetick_coonhound', 'Border_collie', 'Border_terrier', 'Borzoi', 'Boston_terrier', 'Bouvier_des_flandres', 'Boxer', 'Boykin_spaniel', 'Briard', 'Brittany', 'Brussels_griffon', 'Bull_terrier', 'Bulldog', 'Bullmastiff', 'Cairn_terrier', 'Canaan_dog', 'Cane_corso', 'Cardigan_welsh_corgi', 'Cavalier_king_charles_spaniel', 'Chesapeake_bay_retriever', 'Chihuahua', 'Chinese_crested', 'Chinese_shar-pei', 'Chow_chow', 'Clumber_spaniel', 'Cocker_spaniel', 'Collie', 'Curly-coated_retriever', 'Dachshund', 'Dalmatian', 'Dandie_dinmont_terrier', 'Doberman_pinscher', 'Dogue_de_bordeaux', 'English_cocker_spaniel', 'English_setter', 'English_springer_spaniel', 'English_toy_spaniel', 'Entlebucher_mountain_dog', 'Field_spaniel', 'Finnish_spitz', 'Flat-coated_retriever', 'French_bulldog', 'German_pinscher', 'German_shepherd_dog', 'German_shorthaired_pointer', 'German_wirehaired_pointer', 'Giant_schnauzer', 'Glen_of_imaal_terrier', 'Golden_retriever', 'Gordon_setter', 'Great_dane', 'Great_pyrenees', 'Greater_swiss_mountain_dog', 'Greyhound', 'Havanese', 'Ibizan_hound', 'Icelandic_sheepdog', 'Irish_red_and_white_setter', 'Irish_setter', 'Irish_terrier', 'Irish_water_spaniel', 'Irish_wolfhound', 'Italian_greyhound', 'Japanese_chin', 'Keeshond', 'Kerry_blue_terrier', 'Komondor', 'Kuvasz', 'Labrador_retriever', 'Lakeland_terrier', 'Leonberger', 'Lhasa_apso', 'Lowchen', 'Maltese', 'Manchester_terrier', 'Mastiff', 'Miniature_schnauzer', 'Neapolitan_mastiff', 'Newfoundland', 'Norfolk_terrier', 'Norwegian_buhund', 'Norwegian_elkhound', 'Norwegian_lundehund', 'Norwich_terrier', 'Nova_scotia_duck_tolling_retriever', 'Old_english_sheepdog', 'Otterhound', 'Papillon', 'Parson_russell_terrier', 'Pekingese', 'Pembroke_welsh_corgi', 'Petit_basset_griffon_vendeen', 'Pharaoh_hound', 'Plott', 'Pointer', 'Pomeranian', 'Poodle', 'Portuguese_water_dog', 'Saint_bernard', 'Silky_terrier', 'Smooth_fox_terrier', 'Tibetan_mastiff', 'Welsh_springer_spaniel', 'Wirehaired_pointing_griffon', 'Xoloitzcuintli', 'Yorkshire_terrier']\n"
     ]
    }
   ],
   "source": [
    "print(dog_names)"
   ]
  },
  {
   "cell_type": "code",
   "execution_count": 3,
   "metadata": {},
   "outputs": [],
   "source": [
    "from keras.applications.resnet50 import ResNet50\n",
    "\n",
    "# define ResNet50 model\n",
    "ResNet50_model = ResNet50(weights='imagenet')"
   ]
  },
  {
   "cell_type": "code",
   "execution_count": 4,
   "metadata": {},
   "outputs": [],
   "source": [
    "from keras.preprocessing import image                  \n",
    "from tqdm import tqdm\n",
    "\n",
    "def path_to_tensor(img_path):\n",
    "    # loads RGB image as PIL.Image.Image type\n",
    "    img = image.load_img(img_path, target_size=(224, 224))\n",
    "    # convert PIL.Image.Image type to 3D tensor with shape (224, 224, 3)\n",
    "    x = image.img_to_array(img)\n",
    "    # convert 3D tensor to 4D tensor with shape (1, 224, 224, 3) and return 4D tensor\n",
    "    return np.expand_dims(x, axis=0)\n",
    "\n",
    "def paths_to_tensor(img_paths):\n",
    "    list_of_tensors = [path_to_tensor(img_path) for img_path in tqdm(img_paths)]\n",
    "    return np.vstack(list_of_tensors)"
   ]
  },
  {
   "cell_type": "code",
   "execution_count": 5,
   "metadata": {},
   "outputs": [
    {
     "name": "stderr",
     "output_type": "stream",
     "text": [
      "100%|██████████| 10/10 [00:00<00:00, 268.75it/s]"
     ]
    },
    {
     "name": "stdout",
     "output_type": "stream",
     "text": [
      "(224, 224, 3)\n"
     ]
    },
    {
     "name": "stderr",
     "output_type": "stream",
     "text": [
      "\n"
     ]
    },
    {
     "data": {
      "text/plain": [
       "<matplotlib.image.AxesImage at 0x7f17d07b3dd0>"
      ]
     },
     "execution_count": 5,
     "metadata": {},
     "output_type": "execute_result"
    },
    {
     "data": {
      "image/png": "[encoded data removed]",
      "text/plain": [
       "<matplotlib.figure.Figure at 0x7f17e50a63d0>"
      ]
     },
     "metadata": {},
     "output_type": "display_data"
    }
   ],
   "source": [
    "import PIL\n",
    "from matplotlib import pyplot as plt\n",
    "plt.ion()\n",
    "\n",
    "a = paths_to_tensor(train_files[0:10])\n",
    "print a[2].shape\n",
    "im_example = PIL.Image.fromarray(np.uint8(a[2]))\n",
    "plt.imshow(im_example)"
   ]
  },
  {
   "cell_type": "code",
   "execution_count": null,
   "metadata": {},
   "outputs": [],
   "source": []
  },
  {
   "cell_type": "code",
   "execution_count": null,
   "metadata": {},
   "outputs": [],
   "source": [
    "from keras.applications.resnet50 import preprocess_input, decode_predictions\n",
    "\n",
    "img = preprocess_input(a)\n",
    "decode_predictions(ResNet50_model.predict(img), top=1)\n"
   ]
  },
  {
   "cell_type": "code",
   "execution_count": null,
   "metadata": {},
   "outputs": [],
   "source": [
    "from PIL import ImageFile                            \n",
    "ImageFile.LOAD_TRUNCATED_IMAGES = True                 \n",
    "\n",
    "# pre-process the data for Keras\n",
    "train_tensors = paths_to_tensor(train_files).astype('float32')/255\n",
    "valid_tensors = paths_to_tensor(valid_files).astype('float32')/255\n",
    "test_tensors = paths_to_tensor(test_files).astype('float32')/255"
   ]
  },
  {
   "cell_type": "code",
   "execution_count": null,
   "metadata": {},
   "outputs": [],
   "source": [
    "np.save(open('train_tensors.npy', 'w'), train_tensors)\n",
    "np.save(open('valid_tensors.npy', 'w'), valid_tensors)\n",
    "np.save(open('test_tensors.npy', 'w'), test_tensors)"
   ]
  },
  {
   "cell_type": "code",
   "execution_count": null,
   "metadata": {},
   "outputs": [],
   "source": [
    "from keras.preprocessing.image import ImageDataGenerator\n",
    "\n",
    "# create and configure augmented image generator\n",
    "datagen = ImageDataGenerator(\n",
    "    rotation_range = 20,\n",
    "    width_shift_range=0.1,  # randomly shift images horizontally (10% of total width)\n",
    "    height_shift_range=0.1,  # randomly shift images vertically (10% of total height)\n",
    "    horizontal_flip=True, # randomly flip images horizontally\n",
    "    shear_range = 0.2, # rnadomly applying shear transformation\n",
    "    zoom_range = 0.2, # randomly zooming inside pictures\n",
    "    fill_mode = 'nearest')\n",
    "# fit augmented image generator on data\n",
    "datagen.fit(train_tensors)"
   ]
  },
  {
   "cell_type": "code",
   "execution_count": null,
   "metadata": {},
   "outputs": [],
   "source": [
    "print(train_tensors.shape)"
   ]
  },
  {
   "cell_type": "code",
   "execution_count": 286,
   "metadata": {},
   "outputs": [
    {
     "name": "stdout",
     "output_type": "stream",
     "text": [
      "_________________________________________________________________\n",
      "Layer (type)                 Output Shape              Param #   \n",
      "=================================================================\n",
      "batch_normalization_31 (Batc (None, 224, 224, 3)       12        \n",
      "_________________________________________________________________\n",
      "conv2d_26 (Conv2D)           (None, 222, 222, 16)      448       \n",
      "_________________________________________________________________\n",
      "max_pooling2d_27 (MaxPooling (None, 111, 111, 16)      0         \n",
      "_________________________________________________________________\n",
      "batch_normalization_32 (Batc (None, 111, 111, 16)      64        \n",
      "_________________________________________________________________\n",
      "conv2d_27 (Conv2D)           (None, 109, 109, 32)      4640      \n",
      "_________________________________________________________________\n",
      "max_pooling2d_28 (MaxPooling (None, 54, 54, 32)        0         \n",
      "_________________________________________________________________\n",
      "batch_normalization_33 (Batc (None, 54, 54, 32)        128       \n",
      "_________________________________________________________________\n",
      "conv2d_28 (Conv2D)           (None, 52, 52, 64)        18496     \n",
      "_________________________________________________________________\n",
      "max_pooling2d_29 (MaxPooling (None, 26, 26, 64)        0         \n",
      "_________________________________________________________________\n",
      "batch_normalization_34 (Batc (None, 26, 26, 64)        256       \n",
      "_________________________________________________________________\n",
      "conv2d_29 (Conv2D)           (None, 24, 24, 128)       73856     \n",
      "_________________________________________________________________\n",
      "max_pooling2d_30 (MaxPooling (None, 12, 12, 128)       0         \n",
      "_________________________________________________________________\n",
      "batch_normalization_35 (Batc (None, 12, 12, 128)       512       \n",
      "_________________________________________________________________\n",
      "conv2d_30 (Conv2D)           (None, 10, 10, 256)       295168    \n",
      "_________________________________________________________________\n",
      "max_pooling2d_31 (MaxPooling (None, 5, 5, 256)         0         \n",
      "_________________________________________________________________\n",
      "batch_normalization_36 (Batc (None, 5, 5, 256)         1024      \n",
      "_________________________________________________________________\n",
      "global_average_pooling2d_20  (None, 256)               0         \n",
      "_________________________________________________________________\n",
      "dropout_23 (Dropout)         (None, 256)               0         \n",
      "_________________________________________________________________\n",
      "dense_35 (Dense)             (None, 266)               68362     \n",
      "_________________________________________________________________\n",
      "dropout_24 (Dropout)         (None, 266)               0         \n",
      "_________________________________________________________________\n",
      "dense_36 (Dense)             (None, 133)               35511     \n",
      "=================================================================\n",
      "Total params: 498,477\n",
      "Trainable params: 497,479\n",
      "Non-trainable params: 998\n",
      "_________________________________________________________________\n"
     ]
    }
   ],
   "source": [
    "from keras.layers import Conv2D, MaxPooling2D, GlobalAveragePooling2D\n",
    "from keras.layers import Dropout, Flatten, Dense, Activation\n",
    "from keras.models import Sequential\n",
    "from keras.layers.normalization import BatchNormalization\n",
    "\n",
    "model = Sequential()\n",
    "model.add(BatchNormalization(input_shape=(224, 224, 3)))\n",
    "model.add(Conv2D(filters=16, kernel_size=3, kernel_initializer='he_normal', activation='relu'))\n",
    "model.add(MaxPooling2D(pool_size=2))\n",
    "model.add(BatchNormalization())\n",
    "\n",
    "model.add(Conv2D(filters=32, kernel_size=3, kernel_initializer='he_normal', activation='relu'))\n",
    "model.add(MaxPooling2D(pool_size=2))\n",
    "model.add(BatchNormalization())\n",
    "\n",
    "model.add(Conv2D(filters=64, kernel_size=3, kernel_initializer='he_normal', activation='relu'))\n",
    "model.add(MaxPooling2D(pool_size=2))\n",
    "model.add(BatchNormalization())\n",
    "\n",
    "model.add(Conv2D(filters=128, kernel_size=3, kernel_initializer='he_normal', activation='relu'))\n",
    "model.add(MaxPooling2D(pool_size=2))\n",
    "model.add(BatchNormalization())\n",
    "\n",
    "model.add(Conv2D(filters=256, kernel_size=3, kernel_initializer='he_normal', activation='relu'))\n",
    "model.add(MaxPooling2D(pool_size=2))\n",
    "model.add(BatchNormalization())\n",
    "\n",
    "# Use with data augmentation example\n",
    "model.add(GlobalAveragePooling2D())\n",
    "model.add(Dropout(0.5))\n",
    "\n",
    "model.add(Dense(266, activation='relu'))\n",
    "model.add(Dropout(0.5))\n",
    "# END: Use with data augmentation example\n",
    "\n",
    "\n",
    "model.add(Dense(133, activation='softmax'))\n",
    "\n",
    "model.compile(optimizer='adam', loss='categorical_crossentropy', metrics=['accuracy'])\n",
    "\n",
    "model.summary()"
   ]
  },
  {
   "cell_type": "code",
   "execution_count": null,
   "metadata": {},
   "outputs": [],
   "source": [
    "# NO DATA AUGMENTATION\n",
    "\n",
    "from keras.callbacks import ModelCheckpoint  \n",
    "from keras.callbacks import EarlyStopping\n",
    "\n",
    "epochs = 200\n",
    "batch_size = 16\n",
    "\n",
    "checkpointer = ModelCheckpoint(filepath='saved_models/weights.best_not_augmented.from_scratch.hdf5', \n",
    "                               verbose=1, save_best_only=True)\n",
    "\n",
    "### Using Image Augmentation\n",
    "model.fit(train_tensors, train_targets, batch_size=batch_size,\n",
    "                    validation_data=(valid_tensors, valid_targets), \n",
    "                    epochs=epochs, callbacks=[checkpointer, EarlyStopping(min_delta=1e-7, patience=15)], verbose=1)"
   ]
  },
  {
   "cell_type": "code",
   "execution_count": 287,
   "metadata": {
    "collapsed": true
   },
   "outputs": [
    {
     "ename": "ValueError",
     "evalue": "You are trying to load a weight file containing 12 layers into a model with 13 layers.",
     "output_type": "error",
     "traceback": [
      "\u001b[0;31m-----------------------------------------------------------------------\u001b[0m",
      "\u001b[0;31mValueError\u001b[0m                            Traceback (most recent call last)",
      "\u001b[0;32m<ipython-input-287-27d22d376e61>\u001b[0m in \u001b[0;36m<module>\u001b[0;34m()\u001b[0m\n\u001b[0;32m----> 1\u001b[0;31m \u001b[0mmodel\u001b[0m\u001b[0;34m.\u001b[0m\u001b[0mload_weights\u001b[0m\u001b[0;34m(\u001b[0m\u001b[0;34m'saved_models/weights.best_not_augmented.from_scratch.hdf5'\u001b[0m\u001b[0;34m)\u001b[0m\u001b[0;34m\u001b[0m\u001b[0m\n\u001b[0m",
      "\u001b[0;32m/usr/local/lib/python2.7/dist-packages/keras/models.pyc\u001b[0m in \u001b[0;36mload_weights\u001b[0;34m(self, filepath, by_name)\u001b[0m\n\u001b[1;32m    731\u001b[0m             \u001b[0mtopology\u001b[0m\u001b[0;34m.\u001b[0m\u001b[0mload_weights_from_hdf5_group_by_name\u001b[0m\u001b[0;34m(\u001b[0m\u001b[0mf\u001b[0m\u001b[0;34m,\u001b[0m \u001b[0mlayers\u001b[0m\u001b[0;34m)\u001b[0m\u001b[0;34m\u001b[0m\u001b[0m\n\u001b[1;32m    732\u001b[0m         \u001b[0;32melse\u001b[0m\u001b[0;34m:\u001b[0m\u001b[0;34m\u001b[0m\u001b[0m\n\u001b[0;32m--> 733\u001b[0;31m             \u001b[0mtopology\u001b[0m\u001b[0;34m.\u001b[0m\u001b[0mload_weights_from_hdf5_group\u001b[0m\u001b[0;34m(\u001b[0m\u001b[0mf\u001b[0m\u001b[0;34m,\u001b[0m \u001b[0mlayers\u001b[0m\u001b[0;34m)\u001b[0m\u001b[0;34m\u001b[0m\u001b[0m\n\u001b[0m\u001b[1;32m    734\u001b[0m         \u001b[0;32mif\u001b[0m \u001b[0mhasattr\u001b[0m\u001b[0;34m(\u001b[0m\u001b[0mf\u001b[0m\u001b[0;34m,\u001b[0m \u001b[0;34m'close'\u001b[0m\u001b[0;34m)\u001b[0m\u001b[0;34m:\u001b[0m\u001b[0;34m\u001b[0m\u001b[0m\n\u001b[1;32m    735\u001b[0m             \u001b[0mf\u001b[0m\u001b[0;34m.\u001b[0m\u001b[0mclose\u001b[0m\u001b[0;34m(\u001b[0m\u001b[0;34m)\u001b[0m\u001b[0;34m\u001b[0m\u001b[0m\n",
      "\u001b[0;32m/usr/local/lib/python2.7/dist-packages/keras/engine/topology.pyc\u001b[0m in \u001b[0;36mload_weights_from_hdf5_group\u001b[0;34m(f, layers)\u001b[0m\n\u001b[1;32m   3113\u001b[0m                          \u001b[0;34m'containing '\u001b[0m \u001b[0;34m+\u001b[0m \u001b[0mstr\u001b[0m\u001b[0;34m(\u001b[0m\u001b[0mlen\u001b[0m\u001b[0;34m(\u001b[0m\u001b[0mlayer_names\u001b[0m\u001b[0;34m)\u001b[0m\u001b[0;34m)\u001b[0m \u001b[0;34m+\u001b[0m\u001b[0;34m\u001b[0m\u001b[0m\n\u001b[1;32m   3114\u001b[0m                          \u001b[0;34m' layers into a model with '\u001b[0m \u001b[0;34m+\u001b[0m\u001b[0;34m\u001b[0m\u001b[0m\n\u001b[0;32m-> 3115\u001b[0;31m                          str(len(filtered_layers)) + ' layers.')\n\u001b[0m\u001b[1;32m   3116\u001b[0m \u001b[0;34m\u001b[0m\u001b[0m\n\u001b[1;32m   3117\u001b[0m     \u001b[0;31m# We batch weight value assignments in a single backend call\u001b[0m\u001b[0;34m\u001b[0m\u001b[0;34m\u001b[0m\u001b[0m\n",
      "\u001b[0;31mValueError\u001b[0m: You are trying to load a weight file containing 12 layers into a model with 13 layers."
     ]
    }
   ],
   "source": [
    "model.load_weights('saved_models/weights.best_not_augmented.from_scratch.hdf5')"
   ]
  },
  {
   "cell_type": "code",
   "execution_count": null,
   "metadata": {},
   "outputs": [],
   "source": [
    "dog_breed_predictions = [np.argmax(model.predict(np.expand_dims(tensor, axis=0))) for tensor in test_tensors]\n",
    "\n",
    "# report test accuracy\n",
    "test_accuracy = 100*np.sum(np.array(dog_breed_predictions)==np.argmax(test_targets, axis=1))/len(dog_breed_predictions)\n",
    "print('Test accuracy: %.4f%%' % test_accuracy)"
   ]
  },
  {
   "cell_type": "code",
   "execution_count": null,
   "metadata": {},
   "outputs": [],
   "source": [
    "pic_i = 16\n",
    "print(np.argmax(model.predict(test_tensors[pic_i:pic_i+1])))\n",
    "print(model.predict(test_tensors[pic_i:pic_i+1]).argsort())\n",
    "print(np.argmax(test_targets[pic_i]))"
   ]
  },
  {
   "cell_type": "code",
   "execution_count": null,
   "metadata": {},
   "outputs": [],
   "source": []
  },
  {
   "cell_type": "code",
   "execution_count": null,
   "metadata": {},
   "outputs": [],
   "source": []
  },
  {
   "cell_type": "code",
   "execution_count": null,
   "metadata": {},
   "outputs": [],
   "source": []
  },
  {
   "cell_type": "code",
   "execution_count": null,
   "metadata": {},
   "outputs": [],
   "source": [
    "# WITH DATA AUGMENTATION (need to recompile the model before running)\n",
    "\n",
    "from keras.callbacks import ModelCheckpoint  \n",
    "from keras.callbacks import EarlyStopping\n",
    "\n",
    "epochs = 10\n",
    "batch_size = 32\n",
    "\n",
    "checkpointer = ModelCheckpoint(filepath='saved_models/weights.bestaugmented.from_scratch.hdf5', \n",
    "                               verbose=1, save_best_only=True)\n",
    "\n",
    "### Using Image Augmentation\n",
    "model.fit_generator(datagen.flow(train_tensors, train_targets, batch_size=batch_size),\n",
    "                    validation_data=(valid_tensors, valid_targets), \n",
    "                    steps_per_epoch=train_tensors.shape[0] // batch_size,\n",
    "                    epochs=epochs, callbacks=[checkpointer, EarlyStopping(min_delta=1e-7, patience=15)], verbose=1)"
   ]
  },
  {
   "cell_type": "code",
   "execution_count": 290,
   "metadata": {},
   "outputs": [],
   "source": [
    "model.load_weights('saved_models/weights.bestaugmented.from_scratch.hdf5')"
   ]
  },
  {
   "cell_type": "code",
   "execution_count": 291,
   "metadata": {},
   "outputs": [
    {
     "name": "stdout",
     "output_type": "stream",
     "text": [
      "Test accuracy: 57.0000%\n"
     ]
    }
   ],
   "source": [
    "dog_breed_predictions = [np.argmax(model.predict(np.expand_dims(tensor, axis=0))) for tensor in test_tensors]\n",
    "\n",
    "# report test accuracy\n",
    "test_accuracy = 100*np.sum(np.array(dog_breed_predictions)==np.argmax(test_targets, axis=1))/len(dog_breed_predictions)\n",
    "print('Test accuracy: %.4f%%' % test_accuracy)"
   ]
  },
  {
   "cell_type": "code",
   "execution_count": null,
   "metadata": {},
   "outputs": [],
   "source": [
    "print(np.argmax(model.predict(test_tensors[4:5])))\n",
    "print(model.predict(test_tensors[4:5]).argsort())\n",
    "print(np.argmax(test_targets[4]))"
   ]
  },
  {
   "cell_type": "code",
   "execution_count": null,
   "metadata": {},
   "outputs": [],
   "source": []
  },
  {
   "cell_type": "code",
   "execution_count": null,
   "metadata": {},
   "outputs": [],
   "source": []
  },
  {
   "cell_type": "code",
   "execution_count": null,
   "metadata": {},
   "outputs": [],
   "source": []
  },
  {
   "cell_type": "code",
   "execution_count": null,
   "metadata": {},
   "outputs": [],
   "source": []
  },
  {
   "cell_type": "code",
   "execution_count": null,
   "metadata": {},
   "outputs": [],
   "source": []
  },
  {
   "cell_type": "code",
   "execution_count": null,
   "metadata": {},
   "outputs": [],
   "source": []
  },
  {
   "cell_type": "code",
   "execution_count": null,
   "metadata": {},
   "outputs": [],
   "source": []
  },
  {
   "cell_type": "code",
   "execution_count": 6,
   "metadata": {},
   "outputs": [],
   "source": [
    "import numpy as np\n",
    "train_tensors_original = np.load(open('train_tensors_original.npy'))\n",
    "test_tensors_original = np.load(open('test_tensors_original.npy'))\n",
    "valid_tensors_original = np.load(open('valid_tensors_original.npy'))\n"
   ]
  },
  {
   "cell_type": "code",
   "execution_count": 7,
   "metadata": {},
   "outputs": [
    {
     "name": "stdout",
     "output_type": "stream",
     "text": [
      "Done extracting features\n"
     ]
    }
   ],
   "source": [
    "# Transfer Learning. RESNET50\n",
    "from keras.applications.resnet50 import ResNet50\n",
    "resnet = ResNet50(include_top=False, weights='imagenet')\n",
    "print \"Done extracting features\""
   ]
  },
  {
   "cell_type": "code",
   "execution_count": null,
   "metadata": {},
   "outputs": [],
   "source": [
    "train_tensors_original = train_tensors * 255\n",
    "valid_tensors_original = valid_tensors * 255\n",
    "test_tensors_original = test_tensors * 255\n"
   ]
  },
  {
   "cell_type": "code",
   "execution_count": 8,
   "metadata": {},
   "outputs": [
    {
     "name": "stdout",
     "output_type": "stream",
     "text": [
      "[[[  65.   80.   77.]\n",
      "  [  66.   81.   78.]\n",
      "  [  68.   83.   80.]\n",
      "  ..., \n",
      "  [ 219.  246.  255.]\n",
      "  [ 219.  246.  255.]\n",
      "  [ 219.  246.  255.]]\n",
      "\n",
      " [[  64.   79.   76.]\n",
      "  [  65.   80.   77.]\n",
      "  [  68.   83.   80.]\n",
      "  ..., \n",
      "  [ 219.  246.  255.]\n",
      "  [ 219.  246.  255.]\n",
      "  [ 219.  246.  255.]]\n",
      "\n",
      " [[  61.   76.   73.]\n",
      "  [  63.   78.   75.]\n",
      "  [  68.   83.   80.]\n",
      "  ..., \n",
      "  [ 219.  246.  255.]\n",
      "  [ 219.  246.  255.]\n",
      "  [ 219.  246.  255.]]\n",
      "\n",
      " ..., \n",
      " [[  91.  115.  151.]\n",
      "  [  79.  102.  136.]\n",
      "  [  16.   34.   58.]\n",
      "  ..., \n",
      "  [  10.   34.   60.]\n",
      "  [  54.   72.   96.]\n",
      "  [  64.   82.  106.]]\n",
      "\n",
      " [[  91.  115.  151.]\n",
      "  [  70.   93.  127.]\n",
      "  [   9.   27.   51.]\n",
      "  ..., \n",
      "  [  15.   39.   67.]\n",
      "  [  44.   61.   87.]\n",
      "  [  50.   67.   93.]]\n",
      "\n",
      " [[  99.  123.  159.]\n",
      "  [  83.  106.  140.]\n",
      "  [  24.   42.   66.]\n",
      "  ..., \n",
      "  [  17.   40.   71.]\n",
      "  [  37.   54.   82.]\n",
      "  [  39.   56.   84.]]]\n"
     ]
    },
    {
     "data": {
      "text/plain": [
       "<matplotlib.image.AxesImage at 0x7f176af40b10>"
      ]
     },
     "execution_count": 8,
     "metadata": {},
     "output_type": "execute_result"
    },
    {
     "data": {
      "image/png": "[encoded data removed]",
      "text/plain": [
       "<matplotlib.figure.Figure at 0x7f176b6cda10>"
      ]
     },
     "metadata": {},
     "output_type": "display_data"
    }
   ],
   "source": [
    "print(train_tensors_original[10])\n",
    "im_example = PIL.Image.fromarray(np.uint8(train_tensors_original[10]))\n",
    "plt.imshow(im_example)"
   ]
  },
  {
   "cell_type": "code",
   "execution_count": 9,
   "metadata": {},
   "outputs": [],
   "source": [
    "from keras.applications.resnet50 import preprocess_input\n",
    "train_tensors1 = preprocess_input(train_tensors_original)\n",
    "valid_tensors1 = preprocess_input(valid_tensors_original)\n",
    "test_tensors1 = preprocess_input(test_tensors_original)"
   ]
  },
  {
   "cell_type": "code",
   "execution_count": 10,
   "metadata": {},
   "outputs": [
    {
     "name": "stdout",
     "output_type": "stream",
     "text": [
      "(6680, 1, 1, 2048)\n"
     ]
    }
   ],
   "source": [
    "train_resnet_features = resnet.predict(train_tensors1)\n",
    "print(train_resnet_features.shape)"
   ]
  },
  {
   "cell_type": "code",
   "execution_count": 11,
   "metadata": {},
   "outputs": [
    {
     "name": "stdout",
     "output_type": "stream",
     "text": [
      "(835, 1, 1, 2048)\n"
     ]
    }
   ],
   "source": [
    "valid_resnet_features = resnet.predict(valid_tensors1)\n",
    "print(valid_resnet_features.shape)"
   ]
  },
  {
   "cell_type": "code",
   "execution_count": 12,
   "metadata": {},
   "outputs": [
    {
     "name": "stdout",
     "output_type": "stream",
     "text": [
      "(836, 1, 1, 2048)\n"
     ]
    }
   ],
   "source": [
    "test_resnet_features = resnet.predict(test_tensors1)\n",
    "print(test_resnet_features.shape)"
   ]
  },
  {
   "cell_type": "code",
   "execution_count": 13,
   "metadata": {},
   "outputs": [],
   "source": [
    "np.save(open('bottleneck_features//train_resnet_features.npy', 'w'), train_resnet_features)\n",
    "np.save(open('bottleneck_features//valid_resnet_features.npy', 'w'), valid_resnet_features)\n",
    "np.save(open('bottleneck_features//test_resnet_features.npy', 'w'), test_resnet_features)"
   ]
  },
  {
   "cell_type": "code",
   "execution_count": null,
   "metadata": {},
   "outputs": [],
   "source": []
  },
  {
   "cell_type": "code",
   "execution_count": null,
   "metadata": {},
   "outputs": [],
   "source": []
  },
  {
   "cell_type": "code",
   "execution_count": null,
   "metadata": {},
   "outputs": [],
   "source": []
  },
  {
   "cell_type": "code",
   "execution_count": 21,
   "metadata": {},
   "outputs": [],
   "source": [
    "import numpy as np\n",
    "train_resnet_features = np.load(open('bottleneck_features//train_resnet_features.npy'))\n",
    "valid_resnet_features = np.load(open('bottleneck_features//valid_resnet_features.npy'))\n",
    "test_resnet_features = np.load(open('bottleneck_features//test_resnet_features.npy'))\n"
   ]
  },
  {
   "cell_type": "code",
   "execution_count": 4,
   "metadata": {},
   "outputs": [],
   "source": [
    "# Alternatively just use saved pretrained features\n",
    "bottleneck_features = np.load('bottleneck_features/DogResnet50Data.npz')\n",
    "train_resnet_features = bottleneck_features['train']\n",
    "valid_resnet_features = bottleneck_features['valid']\n",
    "test_resnet_features = bottleneck_features['test']"
   ]
  },
  {
   "cell_type": "code",
   "execution_count": 14,
   "metadata": {},
   "outputs": [
    {
     "name": "stdout",
     "output_type": "stream",
     "text": [
      "(6680, 1, 1, 2048)\n"
     ]
    }
   ],
   "source": [
    "print(train_resnet_features.shape)"
   ]
  },
  {
   "cell_type": "code",
   "execution_count": 15,
   "metadata": {},
   "outputs": [
    {
     "name": "stdout",
     "output_type": "stream",
     "text": [
      "_________________________________________________________________\n",
      "Layer (type)                 Output Shape              Param #   \n",
      "=================================================================\n",
      "global_average_pooling2d_1 ( (None, 2048)              0         \n",
      "_________________________________________________________________\n",
      "dropout_1 (Dropout)          (None, 2048)              0         \n",
      "_________________________________________________________________\n",
      "dense_1 (Dense)              (None, 133)               272517    \n",
      "=================================================================\n",
      "Total params: 272,517\n",
      "Trainable params: 272,517\n",
      "Non-trainable params: 0\n",
      "_________________________________________________________________\n"
     ]
    }
   ],
   "source": [
    "import keras\n",
    "from keras.models import Sequential\n",
    "from keras.layers import Flatten, Dense, Dropout\n",
    "from keras import regularizers\n",
    "from keras.layers import Conv2D, MaxPooling2D, GlobalAveragePooling2D\n",
    "\n",
    "\n",
    "ResNet_model = Sequential()\n",
    "ResNet_model.add(GlobalAveragePooling2D(input_shape=train_resnet_features.shape[1:]))\n",
    "ResNet_model.add(Dropout(0.5))\n",
    "\n",
    "ResNet_model.add(Dense(133, activation='softmax'))\n",
    "\n",
    "ResNet_model.compile(loss='categorical_crossentropy', optimizer='adam', metrics=['accuracy'])\n",
    "\n",
    "ResNet_model.summary()"
   ]
  },
  {
   "cell_type": "code",
   "execution_count": 16,
   "metadata": {},
   "outputs": [
    {
     "name": "stdout",
     "output_type": "stream",
     "text": [
      "Train on 6680 samples, validate on 835 samples\n",
      "Epoch 1/30\n",
      "6144/6680 [==========================>...] - ETA: 0s - loss: 3.6347 - acc: 0.2165  Epoch 00001: val_loss improved from inf to 1.47207, saving model to saved_models/weights.best.resnet.hdf5\n",
      "6680/6680 [==============================] - 1s 192us/step - loss: 3.4997 - acc: 0.2386 - val_loss: 1.4721 - val_acc: 0.6539\n",
      "Epoch 2/30\n",
      "5888/6680 [=========================>....] - ETA: 0s - loss: 1.2761 - acc: 0.6535Epoch 00002: val_loss improved from 1.47207 to 0.91314, saving model to saved_models/weights.best.resnet.hdf5\n",
      "6680/6680 [==============================] - 0s 40us/step - loss: 1.2474 - acc: 0.6621 - val_loss: 0.9131 - val_acc: 0.7497\n",
      "Epoch 3/30\n",
      "6272/6680 [===========================>..] - ETA: 0s - loss: 0.8026 - acc: 0.7769Epoch 00003: val_loss improved from 0.91314 to 0.78595, saving model to saved_models/weights.best.resnet.hdf5\n",
      "6680/6680 [==============================] - 0s 39us/step - loss: 0.7954 - acc: 0.7795 - val_loss: 0.7860 - val_acc: 0.7749\n",
      "Epoch 4/30\n",
      "6016/6680 [==========================>...] - ETA: 0s - loss: 0.6079 - acc: 0.8314Epoch 00004: val_loss improved from 0.78595 to 0.69530, saving model to saved_models/weights.best.resnet.hdf5\n",
      "6680/6680 [==============================] - 0s 40us/step - loss: 0.6027 - acc: 0.8329 - val_loss: 0.6953 - val_acc: 0.7868\n",
      "Epoch 5/30\n",
      "6272/6680 [===========================>..] - ETA: 0s - loss: 0.4757 - acc: 0.8634Epoch 00005: val_loss improved from 0.69530 to 0.64422, saving model to saved_models/weights.best.resnet.hdf5\n",
      "6680/6680 [==============================] - 0s 39us/step - loss: 0.4772 - acc: 0.8639 - val_loss: 0.6442 - val_acc: 0.8084\n",
      "Epoch 6/30\n",
      "6144/6680 [==========================>...] - ETA: 0s - loss: 0.3870 - acc: 0.8963Epoch 00006: val_loss improved from 0.64422 to 0.61333, saving model to saved_models/weights.best.resnet.hdf5\n",
      "6680/6680 [==============================] - 0s 40us/step - loss: 0.3862 - acc: 0.8958 - val_loss: 0.6133 - val_acc: 0.8132\n",
      "Epoch 7/30\n",
      "6144/6680 [==========================>...] - ETA: 0s - loss: 0.3243 - acc: 0.9157Epoch 00007: val_loss improved from 0.61333 to 0.60923, saving model to saved_models/weights.best.resnet.hdf5\n",
      "6680/6680 [==============================] - 0s 39us/step - loss: 0.3254 - acc: 0.9145 - val_loss: 0.6092 - val_acc: 0.8084\n",
      "Epoch 8/30\n",
      "6016/6680 [==========================>...] - ETA: 0s - loss: 0.2768 - acc: 0.9320Epoch 00008: val_loss improved from 0.60923 to 0.59746, saving model to saved_models/weights.best.resnet.hdf5\n",
      "6680/6680 [==============================] - 0s 40us/step - loss: 0.2789 - acc: 0.9307 - val_loss: 0.5975 - val_acc: 0.8216\n",
      "Epoch 9/30\n",
      "6272/6680 [===========================>..] - ETA: 0s - loss: 0.2434 - acc: 0.9359Epoch 00009: val_loss improved from 0.59746 to 0.58320, saving model to saved_models/weights.best.resnet.hdf5\n",
      "6680/6680 [==============================] - 0s 40us/step - loss: 0.2432 - acc: 0.9365 - val_loss: 0.5832 - val_acc: 0.8263\n",
      "Epoch 10/30\n",
      "6144/6680 [==========================>...] - ETA: 0s - loss: 0.2182 - acc: 0.9487Epoch 00010: val_loss improved from 0.58320 to 0.57374, saving model to saved_models/weights.best.resnet.hdf5\n",
      "6680/6680 [==============================] - 0s 40us/step - loss: 0.2177 - acc: 0.9487 - val_loss: 0.5737 - val_acc: 0.8156\n",
      "Epoch 11/30\n",
      "6144/6680 [==========================>...] - ETA: 0s - loss: 0.1845 - acc: 0.9564Epoch 00011: val_loss did not improve\n",
      "6680/6680 [==============================] - 0s 38us/step - loss: 0.1846 - acc: 0.9569 - val_loss: 0.5775 - val_acc: 0.8204\n",
      "Epoch 12/30\n",
      "6272/6680 [===========================>..] - ETA: 0s - loss: 0.1751 - acc: 0.9566Epoch 00012: val_loss improved from 0.57374 to 0.57362, saving model to saved_models/weights.best.resnet.hdf5\n",
      "6680/6680 [==============================] - 0s 39us/step - loss: 0.1750 - acc: 0.9570 - val_loss: 0.5736 - val_acc: 0.8192\n",
      "Epoch 13/30\n",
      "6016/6680 [==========================>...] - ETA: 0s - loss: 0.1621 - acc: 0.9629Epoch 00013: val_loss did not improve\n",
      "6680/6680 [==============================] - 0s 38us/step - loss: 0.1604 - acc: 0.9641 - val_loss: 0.5738 - val_acc: 0.8192\n",
      "Epoch 14/30\n",
      "6144/6680 [==========================>...] - ETA: 0s - loss: 0.1412 - acc: 0.9715Epoch 00014: val_loss improved from 0.57362 to 0.56217, saving model to saved_models/weights.best.resnet.hdf5\n",
      "6680/6680 [==============================] - 0s 40us/step - loss: 0.1418 - acc: 0.9714 - val_loss: 0.5622 - val_acc: 0.8251\n",
      "Epoch 15/30\n",
      "6144/6680 [==========================>...] - ETA: 0s - loss: 0.1200 - acc: 0.9741Epoch 00015: val_loss improved from 0.56217 to 0.55211, saving model to saved_models/weights.best.resnet.hdf5\n",
      "6680/6680 [==============================] - 0s 40us/step - loss: 0.1199 - acc: 0.9746 - val_loss: 0.5521 - val_acc: 0.8204\n",
      "Epoch 16/30\n",
      "5888/6680 [=========================>....] - ETA: 0s - loss: 0.1229 - acc: 0.9716Epoch 00016: val_loss did not improve\n",
      "6680/6680 [==============================] - 0s 39us/step - loss: 0.1225 - acc: 0.9725 - val_loss: 0.5526 - val_acc: 0.8180\n",
      "Epoch 17/30\n",
      "6144/6680 [==========================>...] - ETA: 0s - loss: 0.1158 - acc: 0.9749Epoch 00017: val_loss did not improve\n",
      "6680/6680 [==============================] - 0s 37us/step - loss: 0.1154 - acc: 0.9747 - val_loss: 0.5562 - val_acc: 0.8204\n",
      "Epoch 18/30\n",
      "6144/6680 [==========================>...] - ETA: 0s - loss: 0.1013 - acc: 0.9801Epoch 00018: val_loss did not improve\n",
      "6680/6680 [==============================] - 0s 37us/step - loss: 0.1014 - acc: 0.9799 - val_loss: 0.5572 - val_acc: 0.8060\n",
      "Epoch 19/30\n",
      "6144/6680 [==========================>...] - ETA: 0s - loss: 0.0938 - acc: 0.9836Epoch 00019: val_loss did not improve\n",
      "6680/6680 [==============================] - 0s 37us/step - loss: 0.0925 - acc: 0.9843 - val_loss: 0.5661 - val_acc: 0.8240\n",
      "Epoch 20/30\n",
      "6144/6680 [==========================>...] - ETA: 0s - loss: 0.0893 - acc: 0.9837Epoch 00020: val_loss did not improve\n",
      "6680/6680 [==============================] - 0s 38us/step - loss: 0.0878 - acc: 0.9841 - val_loss: 0.5772 - val_acc: 0.8192\n",
      "Epoch 21/30\n",
      "5888/6680 [=========================>....] - ETA: 0s - loss: 0.0876 - acc: 0.9822Epoch 00021: val_loss did not improve\n",
      "6680/6680 [==============================] - 0s 39us/step - loss: 0.0886 - acc: 0.9813 - val_loss: 0.5580 - val_acc: 0.8251\n",
      "Epoch 22/30\n",
      "5888/6680 [=========================>....] - ETA: 0s - loss: 0.0777 - acc: 0.9866Epoch 00022: val_loss did not improve\n",
      "6680/6680 [==============================] - 0s 38us/step - loss: 0.0771 - acc: 0.9859 - val_loss: 0.5566 - val_acc: 0.8287\n",
      "Epoch 23/30\n",
      "6272/6680 [===========================>..] - ETA: 0s - loss: 0.0703 - acc: 0.9884Epoch 00023: val_loss improved from 0.55211 to 0.54269, saving model to saved_models/weights.best.resnet.hdf5\n",
      "6680/6680 [==============================] - 0s 39us/step - loss: 0.0697 - acc: 0.9886 - val_loss: 0.5427 - val_acc: 0.8263\n",
      "Epoch 24/30\n",
      "6144/6680 [==========================>...] - ETA: 0s - loss: 0.0693 - acc: 0.9881Epoch 00024: val_loss did not improve\n",
      "6680/6680 [==============================] - 0s 38us/step - loss: 0.0694 - acc: 0.9885 - val_loss: 0.5495 - val_acc: 0.8240\n",
      "Epoch 25/30\n",
      "6144/6680 [==========================>...] - ETA: 0s - loss: 0.0688 - acc: 0.9884Epoch 00025: val_loss did not improve\n",
      "6680/6680 [==============================] - 0s 39us/step - loss: 0.0674 - acc: 0.9889 - val_loss: 0.5608 - val_acc: 0.8228\n",
      "Epoch 26/30\n",
      "6016/6680 [==========================>...] - ETA: 0s - loss: 0.0634 - acc: 0.9884Epoch 00026: val_loss did not improve\n",
      "6680/6680 [==============================] - 0s 38us/step - loss: 0.0642 - acc: 0.9882 - val_loss: 0.5652 - val_acc: 0.8216\n",
      "Epoch 27/30\n",
      "6144/6680 [==========================>...] - ETA: 0s - loss: 0.0630 - acc: 0.9891Epoch 00027: val_loss did not improve\n",
      "6680/6680 [==============================] - 0s 38us/step - loss: 0.0630 - acc: 0.9891 - val_loss: 0.5774 - val_acc: 0.8240\n",
      "Epoch 28/30\n",
      "6144/6680 [==========================>...] - ETA: 0s - loss: 0.0610 - acc: 0.9886Epoch 00028: val_loss did not improve\n",
      "6680/6680 [==============================] - 0s 38us/step - loss: 0.0600 - acc: 0.9894 - val_loss: 0.5787 - val_acc: 0.8275\n",
      "Epoch 29/30\n"
     ]
    },
    {
     "name": "stdout",
     "output_type": "stream",
     "text": [
      "6016/6680 [==========================>...] - ETA: 0s - loss: 0.0534 - acc: 0.9914Epoch 00029: val_loss did not improve\n",
      "6680/6680 [==============================] - 0s 39us/step - loss: 0.0539 - acc: 0.9913 - val_loss: 0.5587 - val_acc: 0.8299\n",
      "Epoch 30/30\n",
      "6400/6680 [===========================>..] - ETA: 0s - loss: 0.0538 - acc: 0.9909Epoch 00030: val_loss did not improve\n",
      "6680/6680 [==============================] - 0s 36us/step - loss: 0.0542 - acc: 0.9909 - val_loss: 0.5646 - val_acc: 0.8168\n"
     ]
    },
    {
     "data": {
      "text/plain": [
       "<keras.callbacks.History at 0x7f176b6cd0d0>"
      ]
     },
     "execution_count": 16,
     "metadata": {},
     "output_type": "execute_result"
    }
   ],
   "source": [
    "from keras.callbacks import EarlyStopping\n",
    "from keras.callbacks import ModelCheckpoint  \n",
    "\n",
    "checkpointer = ModelCheckpoint(filepath='saved_models/weights.best.resnet.hdf5', \n",
    "                               verbose=1, save_best_only=True)\n",
    "\n",
    "\n",
    "ResNet_model.fit(train_resnet_features, train_targets, \n",
    "          batch_size = 128,\n",
    "          epochs=30,\n",
    "          verbose=1,\n",
    "          validation_data=(valid_resnet_features, valid_targets),\n",
    "          callbacks=[checkpointer, EarlyStopping(min_delta=1e-7, patience=15)\n",
    "          ])"
   ]
  },
  {
   "cell_type": "code",
   "execution_count": 17,
   "metadata": {},
   "outputs": [],
   "source": [
    "### Load the model weights with the best validation loss.\n",
    "ResNet_model.load_weights('saved_models/weights.best.resnet.hdf5')"
   ]
  },
  {
   "cell_type": "code",
   "execution_count": 18,
   "metadata": {},
   "outputs": [
    {
     "name": "stdout",
     "output_type": "stream",
     "text": [
      "Test accuracy: 83.0000%\n"
     ]
    }
   ],
   "source": [
    "# get index of predicted dog breed for each image in test set\n",
    "ResNet50_predictions = [np.argmax(ResNet_model.predict(np.expand_dims(feature, axis=0))) for feature in test_resnet_features]\n",
    "\n",
    "# report test accuracy\n",
    "test_accuracy = 100*np.sum(np.array(ResNet50_predictions)==np.argmax(test_targets, axis=1))/len(ResNet50_predictions)\n",
    "print('Test accuracy: %.4f%%' % test_accuracy)"
   ]
  },
  {
   "cell_type": "code",
   "execution_count": null,
   "metadata": {},
   "outputs": [],
   "source": []
  },
  {
   "cell_type": "code",
   "execution_count": null,
   "metadata": {},
   "outputs": [],
   "source": []
  },
  {
   "cell_type": "code",
   "execution_count": null,
   "metadata": {},
   "outputs": [],
   "source": []
  },
  {
   "cell_type": "code",
   "execution_count": null,
   "metadata": {},
   "outputs": [],
   "source": []
  },
  {
   "cell_type": "code",
   "execution_count": null,
   "metadata": {},
   "outputs": [],
   "source": []
  },
  {
   "cell_type": "code",
   "execution_count": null,
   "metadata": {},
   "outputs": [],
   "source": [
    "# INCEPTION"
   ]
  },
  {
   "cell_type": "code",
   "execution_count": null,
   "metadata": {},
   "outputs": [],
   "source": [
    "from keras.applications.inception_v3 import InceptionV3\n",
    "inception = InceptionV3(include_top=False, weights='imagenet')\n",
    "print \"Done extracting features\""
   ]
  },
  {
   "cell_type": "code",
   "execution_count": null,
   "metadata": {},
   "outputs": [],
   "source": [
    "from keras.applications.inception_v3 import preprocess_input\n",
    "train_tensors2 = preprocess_input(train_tensors_original)\n",
    "valid_tensors2 = preprocess_input(valid_tensors_original)\n",
    "test_tensors2 = preprocess_input(test_tensors_original)"
   ]
  },
  {
   "cell_type": "code",
   "execution_count": null,
   "metadata": {},
   "outputs": [],
   "source": [
    "train_inception_features = inception.predict(train_tensors2)\n",
    "print(train_inception_features.shape)"
   ]
  },
  {
   "cell_type": "code",
   "execution_count": null,
   "metadata": {},
   "outputs": [],
   "source": [
    "valid_inception_features = inception.predict(valid_tensors2)\n",
    "print(valid_inception_features.shape)"
   ]
  },
  {
   "cell_type": "code",
   "execution_count": null,
   "metadata": {},
   "outputs": [],
   "source": [
    "test_inception_features = inception.predict(test_tensors2)\n",
    "print(test_inception_features.shape)"
   ]
  },
  {
   "cell_type": "code",
   "execution_count": null,
   "metadata": {},
   "outputs": [],
   "source": [
    "np.save(open('bottleneck_features//train_inception_features.npy', 'w'), train_inception_features)\n",
    "np.save(open('bottleneck_features//valid_inception_features.npy', 'w'), valid_inception_features)\n",
    "np.save(open('bottleneck_features//test_inception_features.npy', 'w'), test_inception_features)"
   ]
  },
  {
   "cell_type": "code",
   "execution_count": null,
   "metadata": {},
   "outputs": [],
   "source": []
  },
  {
   "cell_type": "code",
   "execution_count": null,
   "metadata": {},
   "outputs": [],
   "source": [
    "# Alternatively just use saved pretrained features\n",
    "bottleneck_features = np.load('bottleneck_features/DogInceptionV3Data.npz')\n",
    "train_inception_features = bottleneck_features['train']\n",
    "valid_inception_features = bottleneck_features['valid']\n",
    "test_inception_features = bottleneck_features['test']"
   ]
  },
  {
   "cell_type": "code",
   "execution_count": null,
   "metadata": {},
   "outputs": [],
   "source": [
    "print(train_inception_features.shape)"
   ]
  },
  {
   "cell_type": "code",
   "execution_count": null,
   "metadata": {},
   "outputs": [],
   "source": [
    "import keras\n",
    "from keras.models import Sequential\n",
    "from keras.layers import Flatten, Dense, Dropout\n",
    "from keras import regularizers\n",
    "\n",
    "Inception_model = Sequential()\n",
    "\n",
    "Inception_model = Sequential()\n",
    "Inception_model.add(GlobalAveragePooling2D(input_shape=train_inception_features.shape[1:]))\n",
    "Inception_model.add(Dropout(0.5))\n",
    "Inception_model.add(Dense(133, activation='softmax'))\n",
    "Inception_model.compile(loss='categorical_crossentropy', optimizer='adam', metrics=['accuracy'])\n",
    "\n",
    "Inception_model.summary()"
   ]
  },
  {
   "cell_type": "code",
   "execution_count": null,
   "metadata": {},
   "outputs": [],
   "source": [
    "from keras.callbacks import EarlyStopping\n",
    "from keras.callbacks import ModelCheckpoint  \n",
    "\n",
    "checkpointer = ModelCheckpoint(filepath='saved_models/weights.best.inception.hdf5', \n",
    "                               verbose=1, save_best_only=True)\n",
    "\n",
    "\n",
    "score = Inception_model.fit(train_inception_features, train_targets, \n",
    "          batch_size = 8,\n",
    "          epochs=30,\n",
    "          verbose=1,\n",
    "          validation_data=(valid_inception_features, valid_targets),\n",
    "          callbacks=[checkpointer, EarlyStopping(min_delta=1e-7, patience=15)\n",
    "          ])"
   ]
  },
  {
   "cell_type": "code",
   "execution_count": 334,
   "metadata": {},
   "outputs": [],
   "source": [
    "### Load the model weights with the best validation loss.\n",
    "Inception_model.load_weights('saved_models/weights.best.inception.hdf5')"
   ]
  },
  {
   "cell_type": "code",
   "execution_count": 335,
   "metadata": {},
   "outputs": [
    {
     "name": "stdout",
     "output_type": "stream",
     "text": [
      "Test accuracy: 81.0000%\n"
     ]
    }
   ],
   "source": [
    "Inception_predictions = [np.argmax(Inception_model.predict(np.expand_dims(feature, axis=0))) for feature in test_inception_features]\n",
    "\n",
    "# report test accuracy\n",
    "test_accuracy = 100*np.sum(np.array(Inception_predictions)==np.argmax(test_targets, axis=1))/len(Inception_predictions)\n",
    "print('Test accuracy: %.4f%%' % test_accuracy)"
   ]
  },
  {
   "cell_type": "code",
   "execution_count": null,
   "metadata": {},
   "outputs": [],
   "source": []
  },
  {
   "cell_type": "code",
   "execution_count": null,
   "metadata": {},
   "outputs": [],
   "source": []
  },
  {
   "cell_type": "code",
   "execution_count": null,
   "metadata": {},
   "outputs": [],
   "source": []
  },
  {
   "cell_type": "code",
   "execution_count": null,
   "metadata": {},
   "outputs": [],
   "source": []
  },
  {
   "cell_type": "code",
   "execution_count": null,
   "metadata": {},
   "outputs": [],
   "source": []
  },
  {
   "cell_type": "code",
   "execution_count": null,
   "metadata": {},
   "outputs": [],
   "source": [
    "#XCEPTION"
   ]
  },
  {
   "cell_type": "code",
   "execution_count": null,
   "metadata": {},
   "outputs": [],
   "source": [
    "from keras.applications.xception import Xception\n",
    "xception = Xception(include_top=False, weights='imagenet')\n",
    "print \"Done extracting features\""
   ]
  },
  {
   "cell_type": "code",
   "execution_count": null,
   "metadata": {},
   "outputs": [],
   "source": [
    "from keras.applications.xception import preprocess_input\n",
    "train_tensors3 = preprocess_input(train_tensors_original)\n",
    "valid_tensors3 = preprocess_input(valid_tensors_original)\n",
    "test_tensors3 = preprocess_input(test_tensors_original)"
   ]
  },
  {
   "cell_type": "code",
   "execution_count": null,
   "metadata": {},
   "outputs": [],
   "source": [
    "train_xception_features = xception.predict(train_tensors3)\n",
    "print(train_xception_features.shape)"
   ]
  },
  {
   "cell_type": "code",
   "execution_count": null,
   "metadata": {},
   "outputs": [],
   "source": [
    "valid_xception_features = xception.predict(valid_tensors3)\n",
    "print(valid_xception_features.shape)"
   ]
  },
  {
   "cell_type": "code",
   "execution_count": null,
   "metadata": {},
   "outputs": [],
   "source": [
    "test_xception_features = xception.predict(test_tensors3)\n",
    "print(test_xception_features.shape)"
   ]
  },
  {
   "cell_type": "code",
   "execution_count": null,
   "metadata": {},
   "outputs": [],
   "source": [
    "np.save(open('bottleneck_features//train_xception_features.npy', 'w'), train_xception_features)\n",
    "np.save(open('bottleneck_features//valid_xception_features.npy', 'w'), valid_xception_features)\n",
    "np.save(open('bottleneck_features//test_xception_features.npy', 'w'), test_xception_features)"
   ]
  },
  {
   "cell_type": "code",
   "execution_count": null,
   "metadata": {},
   "outputs": [],
   "source": []
  },
  {
   "cell_type": "code",
   "execution_count": null,
   "metadata": {},
   "outputs": [],
   "source": [
    "# Alternatively just use saved pretrained features\n",
    "bottleneck_features = np.load('bottleneck_features/DogXceptionData.npz')\n",
    "train_xception_features = bottleneck_features['train']\n",
    "valid_xception_features = bottleneck_features['valid']\n",
    "test_xception_features = bottleneck_features['test']"
   ]
  },
  {
   "cell_type": "code",
   "execution_count": null,
   "metadata": {},
   "outputs": [],
   "source": [
    "print(train_xception_features.shape)"
   ]
  },
  {
   "cell_type": "code",
   "execution_count": null,
   "metadata": {},
   "outputs": [],
   "source": [
    "import keras\n",
    "from keras.models import Sequential\n",
    "from keras.layers import Flatten, Dense, Dropout\n",
    "from keras import regularizers\n",
    "\n",
    "Xception_model = Sequential()\n",
    "\n",
    "Xception_model = Sequential()\n",
    "Xception_model.add(GlobalAveragePooling2D(input_shape=train_xception_features.shape[1:]))\n",
    "Xception_model.add(Dropout(0.5))\n",
    "Xception_model.add(Dense(133, activation='softmax'))\n",
    "\n",
    "Xception_model.compile(loss='categorical_crossentropy', optimizer='adam', metrics=['accuracy'])\n",
    "\n",
    "Xception_model.summary()"
   ]
  },
  {
   "cell_type": "code",
   "execution_count": null,
   "metadata": {},
   "outputs": [],
   "source": [
    "from keras.callbacks import EarlyStopping\n",
    "from keras.callbacks import ModelCheckpoint  \n",
    "\n",
    "checkpointer = ModelCheckpoint(filepath='saved_models/weights.best.xception.hdf5', \n",
    "                               verbose=1, save_best_only=True)\n",
    "\n",
    "\n",
    "score = Xception_model.fit(train_xception_features, train_targets, \n",
    "          batch_size = 16,\n",
    "          epochs=30,\n",
    "          verbose=1,\n",
    "          validation_data=(valid_xception_features, valid_targets),\n",
    "          callbacks=[checkpointer, EarlyStopping(min_delta=1e-7, patience=15)\n",
    "          ])"
   ]
  },
  {
   "cell_type": "code",
   "execution_count": 336,
   "metadata": {},
   "outputs": [],
   "source": [
    "### Load the model weights with the best validation loss.\n",
    "Xception_model.load_weights('saved_models/weights.best.xception.hdf5')"
   ]
  },
  {
   "cell_type": "code",
   "execution_count": 337,
   "metadata": {},
   "outputs": [
    {
     "name": "stdout",
     "output_type": "stream",
     "text": [
      "Test accuracy: 84.0000%\n"
     ]
    }
   ],
   "source": [
    "Xception_predictions = [np.argmax(Xception_model.predict(np.expand_dims(feature, axis=0))) for feature in test_xception_features]\n",
    "\n",
    "# report test accuracy\n",
    "test_accuracy = 100*np.sum(np.array(Xception_predictions)==np.argmax(test_targets, axis=1))/len(Xception_predictions)\n",
    "print('Test accuracy: %.4f%%' % test_accuracy)"
   ]
  },
  {
   "cell_type": "code",
   "execution_count": null,
   "metadata": {},
   "outputs": [],
   "source": []
  },
  {
   "cell_type": "code",
   "execution_count": null,
   "metadata": {},
   "outputs": [],
   "source": []
  },
  {
   "cell_type": "code",
   "execution_count": null,
   "metadata": {},
   "outputs": [],
   "source": []
  },
  {
   "cell_type": "code",
   "execution_count": null,
   "metadata": {},
   "outputs": [],
   "source": []
  },
  {
   "cell_type": "code",
   "execution_count": null,
   "metadata": {},
   "outputs": [],
   "source": []
  },
  {
   "cell_type": "code",
   "execution_count": null,
   "metadata": {},
   "outputs": [],
   "source": [
    "from keras.applications.vgg19 import VGG19\n",
    "vgg19 = VGG19(include_top=False, weights='imagenet')\n",
    "print \"Done extracting features\""
   ]
  },
  {
   "cell_type": "code",
   "execution_count": null,
   "metadata": {},
   "outputs": [],
   "source": [
    "from keras.applications.vgg19 import preprocess_input\n",
    "train_tensors4 = preprocess_input(train_tensors_original)\n",
    "valid_tensors4 = preprocess_input(valid_tensors_original)\n",
    "test_tensors4 = preprocess_input(test_tensors_original)"
   ]
  },
  {
   "cell_type": "code",
   "execution_count": null,
   "metadata": {},
   "outputs": [],
   "source": [
    "train_vgg19_features = vgg19.predict(train_tensors4)\n",
    "print(train_vgg19_features.shape)"
   ]
  },
  {
   "cell_type": "code",
   "execution_count": null,
   "metadata": {},
   "outputs": [],
   "source": [
    "valid_vgg19_features = vgg19.predict(valid_tensors4)\n",
    "print(valid_vgg19_features.shape)"
   ]
  },
  {
   "cell_type": "code",
   "execution_count": null,
   "metadata": {},
   "outputs": [],
   "source": [
    "test_vgg19_features = vgg19.predict(test_tensors4)\n",
    "print(test_vgg19_features.shape)"
   ]
  },
  {
   "cell_type": "code",
   "execution_count": null,
   "metadata": {},
   "outputs": [],
   "source": [
    "np.save(open('bottleneck_features//train_vgg19_features.npy', 'w'), train_vgg19_features)\n",
    "np.save(open('bottleneck_features//valid_vgg19_features.npy', 'w'), valid_vgg19_features)\n",
    "np.save(open('bottleneck_features//test_vgg19_features.npy', 'w'), test_vgg19_features)"
   ]
  },
  {
   "cell_type": "code",
   "execution_count": null,
   "metadata": {},
   "outputs": [],
   "source": []
  },
  {
   "cell_type": "code",
   "execution_count": null,
   "metadata": {},
   "outputs": [],
   "source": [
    "# Alternatively just use saved pretrained features\n",
    "bottleneck_features = np.load('bottleneck_features/DogVGG19Data.npz')\n",
    "train_vgg19_features = bottleneck_features['train']\n",
    "valid_vgg19_features = bottleneck_features['valid']\n",
    "test_vgg19_features = bottleneck_features['test']"
   ]
  },
  {
   "cell_type": "code",
   "execution_count": null,
   "metadata": {},
   "outputs": [],
   "source": [
    "print(train_vgg19_features.shape)"
   ]
  },
  {
   "cell_type": "code",
   "execution_count": null,
   "metadata": {},
   "outputs": [],
   "source": [
    "import keras\n",
    "from keras.models import Sequential\n",
    "from keras.layers import Flatten, Dense, Dropout\n",
    "from keras import regularizers\n",
    "\n",
    "vgg19_model = Sequential()\n",
    "\n",
    "\n",
    "vgg19_model = Sequential()\n",
    "# vgg19_model.add(Flatten(input_shape=train_vgg19_features[0].shape))\n",
    "vgg19_model.add(GlobalAveragePooling2D(input_shape=train_vgg19_features.shape[1:]))\n",
    "\n",
    "# model.add(Dense(10 * len(breed_codes),activation='relu'))\n",
    "# model.add(Dropout(0.5))\n",
    "\n",
    "# model.add(Dense(6 * len(breed_codes),activation='relu'))\n",
    "# model.add(Dropout(0.5))\n",
    "\n",
    "vgg19_model.add(Dense(2 * 133,activation='relu'))\n",
    "vgg19_model.add(Dropout(0.5))\n",
    "\n",
    "vgg19_model.add(Dense(2 * 133,activation='relu'))\n",
    "vgg19_model.add(Dropout(0.5))\n",
    "\n",
    "vgg19_model.add(Dense(133, activation='softmax'))\n",
    "\n",
    "vgg19_model.compile(loss='categorical_crossentropy', optimizer='adam', metrics=['accuracy'])\n",
    "\n",
    "vgg19_model.summary()"
   ]
  },
  {
   "cell_type": "code",
   "execution_count": null,
   "metadata": {},
   "outputs": [],
   "source": [
    "from keras.callbacks import EarlyStopping\n",
    "from keras.callbacks import ModelCheckpoint  \n",
    "\n",
    "checkpointer = ModelCheckpoint(filepath='saved_models/weights.best.vgg19.hdf5', \n",
    "                               verbose=1, save_best_only=True)\n",
    "\n",
    "\n",
    "score = vgg19_model.fit(train_vgg19_features, train_targets, \n",
    "          batch_size = 64,\n",
    "          epochs=30,\n",
    "          verbose=1,\n",
    "          validation_data=(valid_vgg19_features, valid_targets),\n",
    "          callbacks=[checkpointer, EarlyStopping(min_delta=1e-7, patience=15)\n",
    "          ])"
   ]
  },
  {
   "cell_type": "code",
   "execution_count": 338,
   "metadata": {},
   "outputs": [],
   "source": [
    "### Load the model weights with the best validation loss.\n",
    "vgg19_model.load_weights('saved_models/weights.best.vgg19.hdf5')"
   ]
  },
  {
   "cell_type": "code",
   "execution_count": 339,
   "metadata": {},
   "outputs": [
    {
     "name": "stdout",
     "output_type": "stream",
     "text": [
      "Test accuracy: 77.0000%\n"
     ]
    }
   ],
   "source": [
    "vgg19_predictions = [np.argmax(vgg19_model.predict(np.expand_dims(feature, axis=0))) for feature in test_vgg19_features]\n",
    "\n",
    "# report test accuracy\n",
    "test_accuracy = 100*np.sum(np.array(vgg19_predictions)==np.argmax(test_targets, axis=1))/len(vgg19_predictions)\n",
    "print('Test accuracy: %.4f%%' % test_accuracy)"
   ]
  },
  {
   "cell_type": "code",
   "execution_count": null,
   "metadata": {},
   "outputs": [],
   "source": []
  },
  {
   "cell_type": "code",
   "execution_count": null,
   "metadata": {},
   "outputs": [],
   "source": []
  },
  {
   "cell_type": "code",
   "execution_count": null,
   "metadata": {},
   "outputs": [],
   "source": []
  },
  {
   "cell_type": "code",
   "execution_count": null,
   "metadata": {},
   "outputs": [],
   "source": []
  },
  {
   "cell_type": "code",
   "execution_count": null,
   "metadata": {},
   "outputs": [],
   "source": []
  },
  {
   "cell_type": "code",
   "execution_count": null,
   "metadata": {},
   "outputs": [],
   "source": []
  },
  {
   "cell_type": "code",
   "execution_count": null,
   "metadata": {},
   "outputs": [],
   "source": []
  },
  {
   "cell_type": "code",
   "execution_count": null,
   "metadata": {},
   "outputs": [],
   "source": [
    "from keras.applications.vgg16 import VGG16\n",
    "vgg16 = VGG16(include_top=False, weights='imagenet')\n",
    "print \"Done extracting features\""
   ]
  },
  {
   "cell_type": "code",
   "execution_count": null,
   "metadata": {},
   "outputs": [],
   "source": [
    "from keras.applications.vgg16 import preprocess_input\n",
    "train_tensors4 = preprocess_input(train_tensors_original)\n",
    "valid_tensors4 = preprocess_input(valid_tensors_original)\n",
    "test_tensors4 = preprocess_input(test_tensors_original)"
   ]
  },
  {
   "cell_type": "code",
   "execution_count": null,
   "metadata": {},
   "outputs": [],
   "source": [
    "train_vgg16_features = vgg16.predict(train_tensors4)\n",
    "print(train_vgg16_features.shape)"
   ]
  },
  {
   "cell_type": "code",
   "execution_count": null,
   "metadata": {},
   "outputs": [],
   "source": [
    "valid_vgg16_features = vgg16.predict(valid_tensors4)\n",
    "print(valid_vgg16_features.shape)"
   ]
  },
  {
   "cell_type": "code",
   "execution_count": null,
   "metadata": {},
   "outputs": [],
   "source": [
    "test_vgg16_features = vgg16.predict(test_tensors4)\n",
    "print(test_vgg16_features.shape)"
   ]
  },
  {
   "cell_type": "code",
   "execution_count": null,
   "metadata": {},
   "outputs": [],
   "source": [
    "np.save(open('bottleneck_features//train_vgg16_features.npy', 'w'), train_vgg16_features)\n",
    "np.save(open('bottleneck_features//valid_vgg16_features.npy', 'w'), valid_vgg16_features)\n",
    "np.save(open('bottleneck_features//test_vgg16_features.npy', 'w'), test_vgg16_features)"
   ]
  },
  {
   "cell_type": "code",
   "execution_count": null,
   "metadata": {},
   "outputs": [],
   "source": []
  },
  {
   "cell_type": "code",
   "execution_count": null,
   "metadata": {},
   "outputs": [],
   "source": [
    "# Alternatively just use saved pretrained features\n",
    "bottleneck_features = np.load('bottleneck_features/DogVGG16Data.npz')\n",
    "train_vgg16_features = bottleneck_features['train']\n",
    "valid_vgg16_features = bottleneck_features['valid']\n",
    "test_vgg16_features = bottleneck_features['test']"
   ]
  },
  {
   "cell_type": "code",
   "execution_count": null,
   "metadata": {},
   "outputs": [],
   "source": [
    "print(train_vgg16_features.shape)"
   ]
  },
  {
   "cell_type": "code",
   "execution_count": null,
   "metadata": {},
   "outputs": [],
   "source": [
    "import keras\n",
    "from keras.models import Sequential\n",
    "from keras.layers import Flatten, Dense, Dropout\n",
    "from keras import regularizers\n",
    "\n",
    "vgg16_model = Sequential()\n",
    "\n",
    "vgg16_model = Sequential()\n",
    "vgg16_model.add(GlobalAveragePooling2D(input_shape=train_vgg16_features.shape[1:]))\n",
    "\n",
    "vgg16_model.add(Dense(2 * 133,activation='relu'))\n",
    "vgg16_model.add(Dropout(0.5))\n",
    "\n",
    "vgg16_model.add(Dense(2 * 133,activation='relu'))\n",
    "vgg16_model.add(Dropout(0.5))\n",
    "\n",
    "vgg16_model.add(Dense(133, activation='softmax'))\n",
    "\n",
    "\n",
    "vgg16_model.compile(loss='categorical_crossentropy', optimizer='adam', metrics=['accuracy'])\n",
    "\n",
    "vgg16_model.summary()"
   ]
  },
  {
   "cell_type": "code",
   "execution_count": null,
   "metadata": {},
   "outputs": [],
   "source": [
    "from keras.callbacks import EarlyStopping\n",
    "from keras.callbacks import ModelCheckpoint  \n",
    "\n",
    "checkpointer = ModelCheckpoint(filepath='saved_models/weights.best.vgg16.hdf5', \n",
    "                               verbose=1, save_best_only=True)\n",
    "\n",
    "\n",
    "score = vgg16_model.fit(train_vgg16_features, train_targets, \n",
    "          batch_size = 64,\n",
    "          epochs=30,\n",
    "          verbose=1,\n",
    "          validation_data=(valid_vgg16_features, valid_targets),\n",
    "          callbacks=[checkpointer, EarlyStopping(min_delta=1e-7, patience=15)\n",
    "          ])"
   ]
  },
  {
   "cell_type": "code",
   "execution_count": null,
   "metadata": {},
   "outputs": [],
   "source": [
    "### Load the model weights with the best validation loss.\n",
    "vgg16_model.load_weights('saved_models/weights.best.vgg16.hdf5')"
   ]
  },
  {
   "cell_type": "code",
   "execution_count": null,
   "metadata": {},
   "outputs": [],
   "source": [
    "vgg16_predictions = [np.argmax(vgg16_model.predict(np.expand_dims(feature, axis=0))) for feature in test_vgg16_features]\n",
    "\n",
    "# report test accuracy\n",
    "test_accuracy = 100*np.sum(np.array(vgg16_predictions)==np.argmax(test_targets, axis=1))/len(vgg16_predictions)\n",
    "print('Test accuracy: %.4f%%' % test_accuracy)"
   ]
  },
  {
   "cell_type": "code",
   "execution_count": null,
   "metadata": {},
   "outputs": [],
   "source": []
  },
  {
   "cell_type": "code",
   "execution_count": null,
   "metadata": {},
   "outputs": [],
   "source": []
  },
  {
   "cell_type": "code",
   "execution_count": null,
   "metadata": {},
   "outputs": [],
   "source": []
  },
  {
   "cell_type": "code",
   "execution_count": null,
   "metadata": {},
   "outputs": [],
   "source": []
  },
  {
   "cell_type": "code",
   "execution_count": null,
   "metadata": {},
   "outputs": [],
   "source": []
  },
  {
   "cell_type": "code",
   "execution_count": null,
   "metadata": {},
   "outputs": [],
   "source": []
  },
  {
   "cell_type": "code",
   "execution_count": null,
   "metadata": {},
   "outputs": [],
   "source": []
  },
  {
   "cell_type": "code",
   "execution_count": null,
   "metadata": {},
   "outputs": [],
   "source": [
    "# ENSEMBLE"
   ]
  },
  {
   "cell_type": "code",
   "execution_count": null,
   "metadata": {},
   "outputs": [],
   "source": [
    "print np.where(np.array(Xception_predictions)!=np.argmax(test_targets, axis=1))"
   ]
  },
  {
   "cell_type": "code",
   "execution_count": null,
   "metadata": {},
   "outputs": [],
   "source": [
    "print np.where(np.array(Inception_predictions)!=np.argmax(test_targets, axis=1))"
   ]
  },
  {
   "cell_type": "code",
   "execution_count": null,
   "metadata": {},
   "outputs": [],
   "source": [
    "print np.where(np.array(ResNet50_predictions)!=np.argmax(test_targets, axis=1))"
   ]
  },
  {
   "cell_type": "code",
   "execution_count": null,
   "metadata": {},
   "outputs": [],
   "source": [
    "print np.where(np.array(vgg19_predictions)!=np.argmax(test_targets, axis=1))"
   ]
  },
  {
   "cell_type": "code",
   "execution_count": null,
   "metadata": {
    "scrolled": true
   },
   "outputs": [],
   "source": [
    "print np.where(np.array(vgg16_predictions)!=np.argmax(test_targets, axis=1))"
   ]
  },
  {
   "cell_type": "code",
   "execution_count": null,
   "metadata": {},
   "outputs": [],
   "source": []
  },
  {
   "cell_type": "code",
   "execution_count": null,
   "metadata": {},
   "outputs": [],
   "source": []
  },
  {
   "cell_type": "code",
   "execution_count": null,
   "metadata": {},
   "outputs": [],
   "source": []
  },
  {
   "cell_type": "code",
   "execution_count": 275,
   "metadata": {},
   "outputs": [],
   "source": [
    "vgg16_predict_weights = vgg16_model.predict(valid_vgg16_features)\n",
    "vgg19_predict_weights = vgg19_model.predict(valid_vgg19_features)\n",
    "resnet_predict_weights = ResNet_model.predict(valid_resnet_features)\n",
    "inception_predict_weights = Inception_model.predict(valid_inception_features)\n",
    "xception_predict_weights = Xception_model.predict(valid_xception_features)"
   ]
  },
  {
   "cell_type": "code",
   "execution_count": 295,
   "metadata": {},
   "outputs": [],
   "source": [
    "vgg16_valid_accuracy = 1.0*np.sum(np.argmax(vgg16_predict_weights, axis = 1)==np.argmax(valid_targets, axis=1))/len(ensemble_predictions)\n",
    "vgg19_valid_accuracy = 1.0*np.sum(np.argmax(vgg19_predict_weights, axis = 1)==np.argmax(valid_targets, axis=1))/len(ensemble_predictions)\n",
    "resnet_valid_accuracy = 1.0*np.sum(np.argmax(resnet_predict_weights, axis = 1)==np.argmax(valid_targets, axis=1))/len(ensemble_predictions)\n",
    "inception_valid_accuracy = 1.0*np.sum(np.argmax(inception_predict_weights, axis = 1)==np.argmax(valid_targets, axis=1))/len(ensemble_predictions)\n",
    "xception_valid_accuracy = 1.0*np.sum(np.argmax(xception_predict_weights, axis = 1)==np.argmax(valid_targets, axis=1))/len(ensemble_predictions)"
   ]
  },
  {
   "cell_type": "code",
   "execution_count": 300,
   "metadata": {},
   "outputs": [
    {
     "name": "stdout",
     "output_type": "stream",
     "text": [
      "0.779640718563\n"
     ]
    }
   ],
   "source": [
    "print vgg19_valid_accuracy"
   ]
  },
  {
   "cell_type": "code",
   "execution_count": 313,
   "metadata": {},
   "outputs": [
    {
     "name": "stdout",
     "output_type": "stream",
     "text": [
      "(835, 133)\n"
     ]
    }
   ],
   "source": [
    "ensemble_weights =  np.add(vgg16_valid_accuracy*vgg16_predict_weights, vgg19_valid_accuracy*vgg19_predict_weights)\n",
    "ensemble_weights = np.add(ensemble_weights, resnet_valid_accuracy*resnet_predict_weights)\n",
    "ensemble_weights = np.add(ensemble_weights, inception_valid_accuracy*inception_predict_weights)\n",
    "ensemble_weights = np.add(ensemble_weights, xception_valid_accuracy*xception_predict_weights)\n",
    "print ensemble_weights.shape"
   ]
  },
  {
   "cell_type": "code",
   "execution_count": 314,
   "metadata": {},
   "outputs": [],
   "source": [
    "ensemble_predictions = np.argmax(ensemble_weights, axis = 1)"
   ]
  },
  {
   "cell_type": "code",
   "execution_count": 315,
   "metadata": {},
   "outputs": [
    {
     "name": "stdout",
     "output_type": "stream",
     "text": [
      "(array([  1,   5,  11,  24,  26,  67,  69,  72,  94, 100, 120, 134, 152,\n",
      "       160, 166, 168, 178, 179, 191, 197, 198, 214, 222, 235, 259, 261,\n",
      "       276, 283, 293, 295, 296, 307, 322, 324, 326, 333, 353, 374, 381,\n",
      "       411, 415, 416, 418, 442, 461, 470, 472, 480, 484, 487, 490, 498,\n",
      "       526, 533, 535, 557, 559, 560, 573, 580, 592, 598, 611, 628, 637,\n",
      "       639, 643, 661, 686, 712, 724, 728, 733, 734, 738, 746, 752, 753,\n",
      "       757, 760, 777, 780, 817]),)\n"
     ]
    }
   ],
   "source": [
    "print np.where(ensemble_predictions!=np.argmax(valid_targets, axis=1))"
   ]
  },
  {
   "cell_type": "code",
   "execution_count": 333,
   "metadata": {},
   "outputs": [
    {
     "name": "stdout",
     "output_type": "stream",
     "text": [
      "Test accuracy: 90.0000%\n"
     ]
    }
   ],
   "source": [
    "valid_accuracy = 100*np.sum(ensemble_predictions==np.argmax(valid_targets, axis=1))/len(ensemble_predictions)\n",
    "print('Test accuracy: %.4f%%' % valid_accuracy)"
   ]
  },
  {
   "cell_type": "code",
   "execution_count": null,
   "metadata": {},
   "outputs": [],
   "source": []
  },
  {
   "cell_type": "code",
   "execution_count": 325,
   "metadata": {},
   "outputs": [],
   "source": [
    "vgg16_pr = np_utils.to_categorical( np.argmax(vgg16_predict_weights, axis = 1), 133)\n",
    "vgg19_pr = np_utils.to_categorical( np.argmax(vgg19_predict_weights, axis = 1), 133)\n",
    "resnet_pr = np_utils.to_categorical( np.argmax(resnet_predict_weights, axis = 1), 133)\n",
    "inception_pr = np_utils.to_categorical( np.argmax(inception_predict_weights, axis = 1), 133)\n",
    "xception_pr = np_utils.to_categorical( np.argmax(xception_predict_weights, axis = 1), 133)\n"
   ]
  },
  {
   "cell_type": "code",
   "execution_count": 326,
   "metadata": {},
   "outputs": [
    {
     "name": "stdout",
     "output_type": "stream",
     "text": [
      "(835, 133)\n"
     ]
    }
   ],
   "source": [
    "ensemble_pr =  np.add(vgg16_valid_accuracy*vgg16_pr, vgg19_valid_accuracy*vgg19_pr)\n",
    "ensemble_pr = np.add(ensemble_pr, resnet_valid_accuracy*resnet_pr)\n",
    "ensemble_pr = np.add(ensemble_pr, inception_valid_accuracy*inception_pr)\n",
    "ensemble_pr = np.add(ensemble_pr, xception_valid_accuracy*xception_pr)\n",
    "print ensemble_pr.shape"
   ]
  },
  {
   "cell_type": "code",
   "execution_count": 341,
   "metadata": {},
   "outputs": [
    {
     "name": "stdout",
     "output_type": "stream",
     "text": [
      "Test accuracy: 88.0000%\n"
     ]
    }
   ],
   "source": [
    "valid_accuracy = 100*np.sum(ensemble_majority==np.argmax(valid_targets, axis=1))/len(ensemble_predictions)\n",
    "print('Test accuracy: %.4f%%' % valid_accuracy)"
   ]
  },
  {
   "cell_type": "code",
   "execution_count": null,
   "metadata": {},
   "outputs": [],
   "source": []
  },
  {
   "cell_type": "code",
   "execution_count": null,
   "metadata": {},
   "outputs": [],
   "source": []
  },
  {
   "cell_type": "code",
   "execution_count": null,
   "metadata": {},
   "outputs": [],
   "source": []
  },
  {
   "cell_type": "code",
   "execution_count": null,
   "metadata": {},
   "outputs": [],
   "source": []
  },
  {
   "cell_type": "code",
   "execution_count": null,
   "metadata": {},
   "outputs": [],
   "source": []
  },
  {
   "cell_type": "code",
   "execution_count": null,
   "metadata": {},
   "outputs": [],
   "source": []
  }
 ],
 "metadata": {
  "kernelspec": {
   "display_name": "Python 2",
   "language": "python",
   "name": "python2"
  },
  "language_info": {
   "codemirror_mode": {
    "name": "ipython",
    "version": 2
   },
   "file_extension": ".py",
   "mimetype": "text/x-python",
   "name": "python",
   "nbconvert_exporter": "python",
   "pygments_lexer": "ipython2",
   "version": "2.7.12"
  }
 },
 "nbformat": 4,
 "nbformat_minor": 2
}
