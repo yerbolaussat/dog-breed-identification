{
 "cells": [
  {
   "cell_type": "code",
   "execution_count": 2,
   "metadata": {},
   "outputs": [
    {
     "name": "stderr",
     "output_type": "stream",
     "text": [
      "Using TensorFlow backend.\n"
     ]
    },
    {
     "name": "stdout",
     "output_type": "stream",
     "text": [
      "There are 133 total dog categories.\n",
      "There are 8351 total dog images.\n",
      "\n",
      "There are 6680 training dog images.\n",
      "There are 835 validation dog images.\n",
      "There are 836 test dog images.\n"
     ]
    }
   ],
   "source": [
    "from sklearn.datasets import load_files       \n",
    "from keras.utils import np_utils\n",
    "import numpy as np\n",
    "from glob import glob\n",
    "\n",
    "# define function to load train, test, and validation datasets\n",
    "def load_dataset(path):\n",
    "    data = load_files(path)\n",
    "    dog_files = np.array(data['filenames'])\n",
    "    dog_targets = np_utils.to_categorical(np.array(data['target']), 133)\n",
    "    return dog_files, dog_targets\n",
    "\n",
    "# load train, test, and validation datasets\n",
    "train_files, train_targets = load_dataset('dogImages/train')\n",
    "valid_files, valid_targets = load_dataset('dogImages/valid')\n",
    "test_files, test_targets = load_dataset('dogImages/test')\n",
    "\n",
    "# load list of dog names\n",
    "dog_names = [item[20:-1] for item in sorted(glob(\"dogImages/train/*/\"))]\n",
    "\n",
    "# print statistics about the dataset\n",
    "print('There are %d total dog categories.' % len(dog_names))\n",
    "print('There are %s total dog images.\\n' % len(np.hstack([train_files, valid_files, test_files])))\n",
    "print('There are %d training dog images.' % len(train_files))\n",
    "print('There are %d validation dog images.' % len(valid_files))\n",
    "print('There are %d test dog images.'% len(test_files))"
   ]
  },
  {
   "cell_type": "code",
   "execution_count": 43,
   "metadata": {},
   "outputs": [],
   "source": [
    "all_targets = np.vstack([train_targets, valid_targets, test_targets])\n"
   ]
  },
  {
   "cell_type": "code",
   "execution_count": 100,
   "metadata": {},
   "outputs": [
    {
     "data": {
      "image/png": "[encoded data removed]",
      "text/plain": [
       "<matplotlib.figure.Figure at 0x7f6f46448750>"
      ]
     },
     "metadata": {},
     "output_type": "display_data"
    }
   ],
   "source": [
    "x =  np.argmax(all_targets,axis=1)\n",
    "plt.title(\"Number of Photos per Dog Breed\")\n",
    "plt.xlabel(\"breed code\")\n",
    "plt.ylabel(\"Number of photos\")\n",
    "plt.hist(x, bins=133);\n",
    "plt.savefig('plots/histogram.png')"
   ]
  },
  {
   "cell_type": "code",
   "execution_count": 102,
   "metadata": {},
   "outputs": [
    {
     "name": "stdout",
     "output_type": "stream",
     "text": [
      "Norwegian_buhund 33\n",
      "Alaskan_malamute 96\n"
     ]
    }
   ],
   "source": [
    "%matplotlib inline\n",
    "num_per_class = []\n",
    "total = 0\n",
    "for i in range(133):\n",
    "    per_class_i = len(np.where(np.argmax(all_targets, axis = 1) == i)[0])\n",
    "    num_per_class.append(per_class_i)\n",
    "    total+=per_class_i\n",
    "    \n",
    "num_per_class_array = np.array(num_per_class)\n",
    "\n",
    "# print num_per_class_array\n",
    "\n",
    "hist, bin_edges=np.histogram(num_per_class_array, bins='auto')\n",
    "# print hist\n",
    "\n",
    "min_i = np.argmin(num_per_class)\n",
    "max_i = np.argmax(num_per_class)\n",
    "print dog_names[min_i],num_per_class[min_i]\n",
    "print dog_names[max_i],num_per_class[max_i]"
   ]
  },
  {
   "cell_type": "code",
   "execution_count": 2,
   "metadata": {},
   "outputs": [],
   "source": [
    "train_tensors = np.load('train_tensors.npy')\n",
    "valid_tensors = np.load('valid_tensors.npy')\n",
    "test_tensors = np.load('test_tensors.npy')"
   ]
  },
  {
   "cell_type": "code",
   "execution_count": null,
   "metadata": {},
   "outputs": [],
   "source": [
    "# Train a small network from scratch"
   ]
  },
  {
   "cell_type": "code",
   "execution_count": 3,
   "metadata": {},
   "outputs": [],
   "source": [
    "from keras.preprocessing.image import ImageDataGenerator\n",
    "\n",
    "# create and configure augmented image generator\n",
    "datagen = ImageDataGenerator(\n",
    "    rotation_range = 20,\n",
    "    width_shift_range=0.1,  # randomly shift images horizontally (10% of total width)\n",
    "    height_shift_range=0.1,  # randomly shift images vertically (10% of total height)\n",
    "    horizontal_flip=True, # randomly flip images horizontally\n",
    "    shear_range = 0.2, # rnadomly applying shear transformation\n",
    "    zoom_range = 0.2, # randomly zooming inside pictures\n",
    "    fill_mode = 'nearest')\n",
    "# fit augmented image generator on data\n",
    "datagen.fit(train_tensors)"
   ]
  },
  {
   "cell_type": "code",
   "execution_count": 4,
   "metadata": {},
   "outputs": [
    {
     "name": "stdout",
     "output_type": "stream",
     "text": [
      "(6680, 224, 224, 3)\n"
     ]
    }
   ],
   "source": [
    "print(train_tensors.shape)"
   ]
  },
  {
   "cell_type": "code",
   "execution_count": 9,
   "metadata": {},
   "outputs": [
    {
     "name": "stdout",
     "output_type": "stream",
     "text": [
      "_________________________________________________________________\n",
      "Layer (type)                 Output Shape              Param #   \n",
      "=================================================================\n",
      "batch_normalization_7 (Batch (None, 224, 224, 3)       12        \n",
      "_________________________________________________________________\n",
      "conv2d_6 (Conv2D)            (None, 222, 222, 16)      448       \n",
      "_________________________________________________________________\n",
      "max_pooling2d_6 (MaxPooling2 (None, 111, 111, 16)      0         \n",
      "_________________________________________________________________\n",
      "batch_normalization_8 (Batch (None, 111, 111, 16)      64        \n",
      "_________________________________________________________________\n",
      "conv2d_7 (Conv2D)            (None, 109, 109, 32)      4640      \n",
      "_________________________________________________________________\n",
      "max_pooling2d_7 (MaxPooling2 (None, 54, 54, 32)        0         \n",
      "_________________________________________________________________\n",
      "batch_normalization_9 (Batch (None, 54, 54, 32)        128       \n",
      "_________________________________________________________________\n",
      "conv2d_8 (Conv2D)            (None, 52, 52, 64)        18496     \n",
      "_________________________________________________________________\n",
      "max_pooling2d_8 (MaxPooling2 (None, 26, 26, 64)        0         \n",
      "_________________________________________________________________\n",
      "batch_normalization_10 (Batc (None, 26, 26, 64)        256       \n",
      "_________________________________________________________________\n",
      "conv2d_9 (Conv2D)            (None, 24, 24, 128)       73856     \n",
      "_________________________________________________________________\n",
      "max_pooling2d_9 (MaxPooling2 (None, 12, 12, 128)       0         \n",
      "_________________________________________________________________\n",
      "batch_normalization_11 (Batc (None, 12, 12, 128)       512       \n",
      "_________________________________________________________________\n",
      "conv2d_10 (Conv2D)           (None, 10, 10, 256)       295168    \n",
      "_________________________________________________________________\n",
      "max_pooling2d_10 (MaxPooling (None, 5, 5, 256)         0         \n",
      "_________________________________________________________________\n",
      "batch_normalization_12 (Batc (None, 5, 5, 256)         1024      \n",
      "_________________________________________________________________\n",
      "global_average_pooling2d_2 ( (None, 256)               0         \n",
      "_________________________________________________________________\n",
      "dropout_3 (Dropout)          (None, 256)               0         \n",
      "_________________________________________________________________\n",
      "dense_3 (Dense)              (None, 133)               34181     \n",
      "=================================================================\n",
      "Total params: 428,785\n",
      "Trainable params: 427,787\n",
      "Non-trainable params: 998\n",
      "_________________________________________________________________\n"
     ]
    }
   ],
   "source": [
    "from keras.layers import Conv2D, MaxPooling2D, GlobalAveragePooling2D\n",
    "from keras.layers import Dropout, Flatten, Dense, Activation\n",
    "from keras.models import Sequential\n",
    "from keras.layers.normalization import BatchNormalization\n",
    "\n",
    "model = Sequential()\n",
    "model.add(BatchNormalization(input_shape=(224, 224, 3)))\n",
    "model.add(Conv2D(filters=16, kernel_size=3, kernel_initializer='he_normal', activation='relu'))\n",
    "model.add(MaxPooling2D(pool_size=2))\n",
    "model.add(BatchNormalization())\n",
    "\n",
    "model.add(Conv2D(filters=32, kernel_size=3, kernel_initializer='he_normal', activation='relu'))\n",
    "model.add(MaxPooling2D(pool_size=2))\n",
    "model.add(BatchNormalization())\n",
    "\n",
    "model.add(Conv2D(filters=64, kernel_size=3, kernel_initializer='he_normal', activation='relu'))\n",
    "model.add(MaxPooling2D(pool_size=2))\n",
    "model.add(BatchNormalization())\n",
    "\n",
    "model.add(Conv2D(filters=128, kernel_size=3, kernel_initializer='he_normal', activation='relu'))\n",
    "model.add(MaxPooling2D(pool_size=2))\n",
    "model.add(BatchNormalization())\n",
    "\n",
    "model.add(Conv2D(filters=256, kernel_size=3, kernel_initializer='he_normal', activation='relu'))\n",
    "model.add(MaxPooling2D(pool_size=2))\n",
    "model.add(BatchNormalization())\n",
    "\n",
    "model.add(GlobalAveragePooling2D())\n",
    "model.add(Dropout(0.5))\n",
    "\n",
    "# # Use with data augmentation example\n",
    "# model.add(Dense(266, activation='relu'))\n",
    "# model.add(Dropout(0.5))\n",
    "# # END: Use with data augmentation example\n",
    "\n",
    "\n",
    "model.add(Dense(133, activation='softmax'))\n",
    "\n",
    "model.compile(optimizer='adam', loss='categorical_crossentropy', metrics=['accuracy'])\n",
    "\n",
    "model.summary()"
   ]
  },
  {
   "cell_type": "code",
   "execution_count": 10,
   "metadata": {},
   "outputs": [
    {
     "data": {
      "image/svg+xml": [
       "<svg height=\"1432pt\" viewBox=\"0.00 0.00 331.00 1432.00\" width=\"331pt\" xmlns=\"http://www.w3.org/2000/svg\" xmlns:xlink=\"http://www.w3.org/1999/xlink\">\n",
       "<g class=\"graph\" id=\"graph0\" transform=\"scale(1 1) rotate(0) translate(4 1428)\">\n",
       "<title>G</title>\n",
       "<polygon fill=\"white\" points=\"-4,4 -4,-1428 327,-1428 327,4 -4,4\" stroke=\"none\"/>\n",
       "<!-- 140193571720976 -->\n",
       "<g class=\"node\" id=\"node1\"><title>140193571720976</title>\n",
       "<polygon fill=\"none\" points=\"39.5,-1387.5 39.5,-1423.5 283.5,-1423.5 283.5,-1387.5 39.5,-1387.5\" stroke=\"black\"/>\n",
       "<text font-family=\"Times,serif\" font-size=\"14.00\" text-anchor=\"middle\" x=\"161.5\" y=\"-1401.8\">batch_normalization_7_input: InputLayer</text>\n",
       "</g>\n",
       "<!-- 140193571720400 -->\n",
       "<g class=\"node\" id=\"node2\"><title>140193571720400</title>\n",
       "<polygon fill=\"none\" points=\"31.5,-1314.5 31.5,-1350.5 291.5,-1350.5 291.5,-1314.5 31.5,-1314.5\" stroke=\"black\"/>\n",
       "<text font-family=\"Times,serif\" font-size=\"14.00\" text-anchor=\"middle\" x=\"161.5\" y=\"-1328.8\">batch_normalization_7: BatchNormalization</text>\n",
       "</g>\n",
       "<!-- 140193571720976&#45;&gt;140193571720400 -->\n",
       "<g class=\"edge\" id=\"edge1\"><title>140193571720976-&gt;140193571720400</title>\n",
       "<path d=\"M161.5,-1387.31C161.5,-1379.29 161.5,-1369.55 161.5,-1360.57\" fill=\"none\" stroke=\"black\"/>\n",
       "<polygon fill=\"black\" points=\"165,-1360.53 161.5,-1350.53 158,-1360.53 165,-1360.53\" stroke=\"black\"/>\n",
       "</g>\n",
       "<!-- 140193571720528 -->\n",
       "<g class=\"node\" id=\"node3\"><title>140193571720528</title>\n",
       "<polygon fill=\"none\" points=\"100,-1241.5 100,-1277.5 223,-1277.5 223,-1241.5 100,-1241.5\" stroke=\"black\"/>\n",
       "<text font-family=\"Times,serif\" font-size=\"14.00\" text-anchor=\"middle\" x=\"161.5\" y=\"-1255.8\">conv2d_6: Conv2D</text>\n",
       "</g>\n",
       "<!-- 140193571720400&#45;&gt;140193571720528 -->\n",
       "<g class=\"edge\" id=\"edge2\"><title>140193571720400-&gt;140193571720528</title>\n",
       "<path d=\"M161.5,-1314.31C161.5,-1306.29 161.5,-1296.55 161.5,-1287.57\" fill=\"none\" stroke=\"black\"/>\n",
       "<polygon fill=\"black\" points=\"165,-1287.53 161.5,-1277.53 158,-1287.53 165,-1287.53\" stroke=\"black\"/>\n",
       "</g>\n",
       "<!-- 140193571721104 -->\n",
       "<g class=\"node\" id=\"node4\"><title>140193571721104</title>\n",
       "<polygon fill=\"none\" points=\"58,-1168.5 58,-1204.5 265,-1204.5 265,-1168.5 58,-1168.5\" stroke=\"black\"/>\n",
       "<text font-family=\"Times,serif\" font-size=\"14.00\" text-anchor=\"middle\" x=\"161.5\" y=\"-1182.8\">max_pooling2d_6: MaxPooling2D</text>\n",
       "</g>\n",
       "<!-- 140193571720528&#45;&gt;140193571721104 -->\n",
       "<g class=\"edge\" id=\"edge3\"><title>140193571720528-&gt;140193571721104</title>\n",
       "<path d=\"M161.5,-1241.31C161.5,-1233.29 161.5,-1223.55 161.5,-1214.57\" fill=\"none\" stroke=\"black\"/>\n",
       "<polygon fill=\"black\" points=\"165,-1214.53 161.5,-1204.53 158,-1214.53 165,-1214.53\" stroke=\"black\"/>\n",
       "</g>\n",
       "<!-- 140193571052240 -->\n",
       "<g class=\"node\" id=\"node5\"><title>140193571052240</title>\n",
       "<polygon fill=\"none\" points=\"31.5,-1095.5 31.5,-1131.5 291.5,-1131.5 291.5,-1095.5 31.5,-1095.5\" stroke=\"black\"/>\n",
       "<text font-family=\"Times,serif\" font-size=\"14.00\" text-anchor=\"middle\" x=\"161.5\" y=\"-1109.8\">batch_normalization_8: BatchNormalization</text>\n",
       "</g>\n",
       "<!-- 140193571721104&#45;&gt;140193571052240 -->\n",
       "<g class=\"edge\" id=\"edge4\"><title>140193571721104-&gt;140193571052240</title>\n",
       "<path d=\"M161.5,-1168.31C161.5,-1160.29 161.5,-1150.55 161.5,-1141.57\" fill=\"none\" stroke=\"black\"/>\n",
       "<polygon fill=\"black\" points=\"165,-1141.53 161.5,-1131.53 158,-1141.53 165,-1141.53\" stroke=\"black\"/>\n",
       "</g>\n",
       "<!-- 140193571541840 -->\n",
       "<g class=\"node\" id=\"node6\"><title>140193571541840</title>\n",
       "<polygon fill=\"none\" points=\"100,-1022.5 100,-1058.5 223,-1058.5 223,-1022.5 100,-1022.5\" stroke=\"black\"/>\n",
       "<text font-family=\"Times,serif\" font-size=\"14.00\" text-anchor=\"middle\" x=\"161.5\" y=\"-1036.8\">conv2d_7: Conv2D</text>\n",
       "</g>\n",
       "<!-- 140193571052240&#45;&gt;140193571541840 -->\n",
       "<g class=\"edge\" id=\"edge5\"><title>140193571052240-&gt;140193571541840</title>\n",
       "<path d=\"M161.5,-1095.31C161.5,-1087.29 161.5,-1077.55 161.5,-1068.57\" fill=\"none\" stroke=\"black\"/>\n",
       "<polygon fill=\"black\" points=\"165,-1068.53 161.5,-1058.53 158,-1068.53 165,-1068.53\" stroke=\"black\"/>\n",
       "</g>\n",
       "<!-- 140193571542160 -->\n",
       "<g class=\"node\" id=\"node7\"><title>140193571542160</title>\n",
       "<polygon fill=\"none\" points=\"58,-949.5 58,-985.5 265,-985.5 265,-949.5 58,-949.5\" stroke=\"black\"/>\n",
       "<text font-family=\"Times,serif\" font-size=\"14.00\" text-anchor=\"middle\" x=\"161.5\" y=\"-963.8\">max_pooling2d_7: MaxPooling2D</text>\n",
       "</g>\n",
       "<!-- 140193571541840&#45;&gt;140193571542160 -->\n",
       "<g class=\"edge\" id=\"edge6\"><title>140193571541840-&gt;140193571542160</title>\n",
       "<path d=\"M161.5,-1022.31C161.5,-1014.29 161.5,-1004.55 161.5,-995.569\" fill=\"none\" stroke=\"black\"/>\n",
       "<polygon fill=\"black\" points=\"165,-995.529 161.5,-985.529 158,-995.529 165,-995.529\" stroke=\"black\"/>\n",
       "</g>\n",
       "<!-- 140193436350288 -->\n",
       "<g class=\"node\" id=\"node8\"><title>140193436350288</title>\n",
       "<polygon fill=\"none\" points=\"31.5,-876.5 31.5,-912.5 291.5,-912.5 291.5,-876.5 31.5,-876.5\" stroke=\"black\"/>\n",
       "<text font-family=\"Times,serif\" font-size=\"14.00\" text-anchor=\"middle\" x=\"161.5\" y=\"-890.8\">batch_normalization_9: BatchNormalization</text>\n",
       "</g>\n",
       "<!-- 140193571542160&#45;&gt;140193436350288 -->\n",
       "<g class=\"edge\" id=\"edge7\"><title>140193571542160-&gt;140193436350288</title>\n",
       "<path d=\"M161.5,-949.313C161.5,-941.289 161.5,-931.547 161.5,-922.569\" fill=\"none\" stroke=\"black\"/>\n",
       "<polygon fill=\"black\" points=\"165,-922.529 161.5,-912.529 158,-922.529 165,-922.529\" stroke=\"black\"/>\n",
       "</g>\n",
       "<!-- 140193436129808 -->\n",
       "<g class=\"node\" id=\"node9\"><title>140193436129808</title>\n",
       "<polygon fill=\"none\" points=\"100,-803.5 100,-839.5 223,-839.5 223,-803.5 100,-803.5\" stroke=\"black\"/>\n",
       "<text font-family=\"Times,serif\" font-size=\"14.00\" text-anchor=\"middle\" x=\"161.5\" y=\"-817.8\">conv2d_8: Conv2D</text>\n",
       "</g>\n",
       "<!-- 140193436350288&#45;&gt;140193436129808 -->\n",
       "<g class=\"edge\" id=\"edge8\"><title>140193436350288-&gt;140193436129808</title>\n",
       "<path d=\"M161.5,-876.313C161.5,-868.289 161.5,-858.547 161.5,-849.569\" fill=\"none\" stroke=\"black\"/>\n",
       "<polygon fill=\"black\" points=\"165,-849.529 161.5,-839.529 158,-849.529 165,-849.529\" stroke=\"black\"/>\n",
       "</g>\n",
       "<!-- 140193436130320 -->\n",
       "<g class=\"node\" id=\"node10\"><title>140193436130320</title>\n",
       "<polygon fill=\"none\" points=\"58,-730.5 58,-766.5 265,-766.5 265,-730.5 58,-730.5\" stroke=\"black\"/>\n",
       "<text font-family=\"Times,serif\" font-size=\"14.00\" text-anchor=\"middle\" x=\"161.5\" y=\"-744.8\">max_pooling2d_8: MaxPooling2D</text>\n",
       "</g>\n",
       "<!-- 140193436129808&#45;&gt;140193436130320 -->\n",
       "<g class=\"edge\" id=\"edge9\"><title>140193436129808-&gt;140193436130320</title>\n",
       "<path d=\"M161.5,-803.313C161.5,-795.289 161.5,-785.547 161.5,-776.569\" fill=\"none\" stroke=\"black\"/>\n",
       "<polygon fill=\"black\" points=\"165,-776.529 161.5,-766.529 158,-776.529 165,-776.529\" stroke=\"black\"/>\n",
       "</g>\n",
       "<!-- 140193435956048 -->\n",
       "<g class=\"node\" id=\"node11\"><title>140193435956048</title>\n",
       "<polygon fill=\"none\" points=\"28.5,-657.5 28.5,-693.5 294.5,-693.5 294.5,-657.5 28.5,-657.5\" stroke=\"black\"/>\n",
       "<text font-family=\"Times,serif\" font-size=\"14.00\" text-anchor=\"middle\" x=\"161.5\" y=\"-671.8\">batch_normalization_10: BatchNormalization</text>\n",
       "</g>\n",
       "<!-- 140193436130320&#45;&gt;140193435956048 -->\n",
       "<g class=\"edge\" id=\"edge10\"><title>140193436130320-&gt;140193435956048</title>\n",
       "<path d=\"M161.5,-730.313C161.5,-722.289 161.5,-712.547 161.5,-703.569\" fill=\"none\" stroke=\"black\"/>\n",
       "<polygon fill=\"black\" points=\"165,-703.529 161.5,-693.529 158,-703.529 165,-703.529\" stroke=\"black\"/>\n",
       "</g>\n",
       "<!-- 140193435638608 -->\n",
       "<g class=\"node\" id=\"node12\"><title>140193435638608</title>\n",
       "<polygon fill=\"none\" points=\"100,-584.5 100,-620.5 223,-620.5 223,-584.5 100,-584.5\" stroke=\"black\"/>\n",
       "<text font-family=\"Times,serif\" font-size=\"14.00\" text-anchor=\"middle\" x=\"161.5\" y=\"-598.8\">conv2d_9: Conv2D</text>\n",
       "</g>\n",
       "<!-- 140193435956048&#45;&gt;140193435638608 -->\n",
       "<g class=\"edge\" id=\"edge11\"><title>140193435956048-&gt;140193435638608</title>\n",
       "<path d=\"M161.5,-657.313C161.5,-649.289 161.5,-639.547 161.5,-630.569\" fill=\"none\" stroke=\"black\"/>\n",
       "<polygon fill=\"black\" points=\"165,-630.529 161.5,-620.529 158,-630.529 165,-630.529\" stroke=\"black\"/>\n",
       "</g>\n",
       "<!-- 140188873668112 -->\n",
       "<g class=\"node\" id=\"node13\"><title>140188873668112</title>\n",
       "<polygon fill=\"none\" points=\"58,-511.5 58,-547.5 265,-547.5 265,-511.5 58,-511.5\" stroke=\"black\"/>\n",
       "<text font-family=\"Times,serif\" font-size=\"14.00\" text-anchor=\"middle\" x=\"161.5\" y=\"-525.8\">max_pooling2d_9: MaxPooling2D</text>\n",
       "</g>\n",
       "<!-- 140193435638608&#45;&gt;140188873668112 -->\n",
       "<g class=\"edge\" id=\"edge12\"><title>140193435638608-&gt;140188873668112</title>\n",
       "<path d=\"M161.5,-584.313C161.5,-576.289 161.5,-566.547 161.5,-557.569\" fill=\"none\" stroke=\"black\"/>\n",
       "<polygon fill=\"black\" points=\"165,-557.529 161.5,-547.529 158,-557.529 165,-557.529\" stroke=\"black\"/>\n",
       "</g>\n",
       "<!-- 140188873416400 -->\n",
       "<g class=\"node\" id=\"node14\"><title>140188873416400</title>\n",
       "<polygon fill=\"none\" points=\"28.5,-438.5 28.5,-474.5 294.5,-474.5 294.5,-438.5 28.5,-438.5\" stroke=\"black\"/>\n",
       "<text font-family=\"Times,serif\" font-size=\"14.00\" text-anchor=\"middle\" x=\"161.5\" y=\"-452.8\">batch_normalization_11: BatchNormalization</text>\n",
       "</g>\n",
       "<!-- 140188873668112&#45;&gt;140188873416400 -->\n",
       "<g class=\"edge\" id=\"edge13\"><title>140188873668112-&gt;140188873416400</title>\n",
       "<path d=\"M161.5,-511.313C161.5,-503.289 161.5,-493.547 161.5,-484.569\" fill=\"none\" stroke=\"black\"/>\n",
       "<polygon fill=\"black\" points=\"165,-484.529 161.5,-474.529 158,-484.529 165,-484.529\" stroke=\"black\"/>\n",
       "</g>\n",
       "<!-- 140188525504336 -->\n",
       "<g class=\"node\" id=\"node15\"><title>140188525504336</title>\n",
       "<polygon fill=\"none\" points=\"96.5,-365.5 96.5,-401.5 226.5,-401.5 226.5,-365.5 96.5,-365.5\" stroke=\"black\"/>\n",
       "<text font-family=\"Times,serif\" font-size=\"14.00\" text-anchor=\"middle\" x=\"161.5\" y=\"-379.8\">conv2d_10: Conv2D</text>\n",
       "</g>\n",
       "<!-- 140188873416400&#45;&gt;140188525504336 -->\n",
       "<g class=\"edge\" id=\"edge14\"><title>140188873416400-&gt;140188525504336</title>\n",
       "<path d=\"M161.5,-438.313C161.5,-430.289 161.5,-420.547 161.5,-411.569\" fill=\"none\" stroke=\"black\"/>\n",
       "<polygon fill=\"black\" points=\"165,-411.529 161.5,-401.529 158,-411.529 165,-411.529\" stroke=\"black\"/>\n",
       "</g>\n",
       "<!-- 140188525504400 -->\n",
       "<g class=\"node\" id=\"node16\"><title>140188525504400</title>\n",
       "<polygon fill=\"none\" points=\"54.5,-292.5 54.5,-328.5 268.5,-328.5 268.5,-292.5 54.5,-292.5\" stroke=\"black\"/>\n",
       "<text font-family=\"Times,serif\" font-size=\"14.00\" text-anchor=\"middle\" x=\"161.5\" y=\"-306.8\">max_pooling2d_10: MaxPooling2D</text>\n",
       "</g>\n",
       "<!-- 140188525504336&#45;&gt;140188525504400 -->\n",
       "<g class=\"edge\" id=\"edge15\"><title>140188525504336-&gt;140188525504400</title>\n",
       "<path d=\"M161.5,-365.313C161.5,-357.289 161.5,-347.547 161.5,-338.569\" fill=\"none\" stroke=\"black\"/>\n",
       "<polygon fill=\"black\" points=\"165,-338.529 161.5,-328.529 158,-338.529 165,-338.529\" stroke=\"black\"/>\n",
       "</g>\n",
       "<!-- 140188525353552 -->\n",
       "<g class=\"node\" id=\"node17\"><title>140188525353552</title>\n",
       "<polygon fill=\"none\" points=\"28.5,-219.5 28.5,-255.5 294.5,-255.5 294.5,-219.5 28.5,-219.5\" stroke=\"black\"/>\n",
       "<text font-family=\"Times,serif\" font-size=\"14.00\" text-anchor=\"middle\" x=\"161.5\" y=\"-233.8\">batch_normalization_12: BatchNormalization</text>\n",
       "</g>\n",
       "<!-- 140188525504400&#45;&gt;140188525353552 -->\n",
       "<g class=\"edge\" id=\"edge16\"><title>140188525504400-&gt;140188525353552</title>\n",
       "<path d=\"M161.5,-292.313C161.5,-284.289 161.5,-274.547 161.5,-265.569\" fill=\"none\" stroke=\"black\"/>\n",
       "<polygon fill=\"black\" points=\"165,-265.529 161.5,-255.529 158,-265.529 165,-265.529\" stroke=\"black\"/>\n",
       "</g>\n",
       "<!-- 140188525114064 -->\n",
       "<g class=\"node\" id=\"node18\"><title>140188525114064</title>\n",
       "<polygon fill=\"none\" points=\"0,-146.5 0,-182.5 323,-182.5 323,-146.5 0,-146.5\" stroke=\"black\"/>\n",
       "<text font-family=\"Times,serif\" font-size=\"14.00\" text-anchor=\"middle\" x=\"161.5\" y=\"-160.8\">global_average_pooling2d_2: GlobalAveragePooling2D</text>\n",
       "</g>\n",
       "<!-- 140188525353552&#45;&gt;140188525114064 -->\n",
       "<g class=\"edge\" id=\"edge17\"><title>140188525353552-&gt;140188525114064</title>\n",
       "<path d=\"M161.5,-219.313C161.5,-211.289 161.5,-201.547 161.5,-192.569\" fill=\"none\" stroke=\"black\"/>\n",
       "<polygon fill=\"black\" points=\"165,-192.529 161.5,-182.529 158,-192.529 165,-192.529\" stroke=\"black\"/>\n",
       "</g>\n",
       "<!-- 140188525206352 -->\n",
       "<g class=\"node\" id=\"node19\"><title>140188525206352</title>\n",
       "<polygon fill=\"none\" points=\"99,-73.5 99,-109.5 224,-109.5 224,-73.5 99,-73.5\" stroke=\"black\"/>\n",
       "<text font-family=\"Times,serif\" font-size=\"14.00\" text-anchor=\"middle\" x=\"161.5\" y=\"-87.8\">dropout_3: Dropout</text>\n",
       "</g>\n",
       "<!-- 140188525114064&#45;&gt;140188525206352 -->\n",
       "<g class=\"edge\" id=\"edge18\"><title>140188525114064-&gt;140188525206352</title>\n",
       "<path d=\"M161.5,-146.313C161.5,-138.289 161.5,-128.547 161.5,-119.569\" fill=\"none\" stroke=\"black\"/>\n",
       "<polygon fill=\"black\" points=\"165,-119.529 161.5,-109.529 158,-119.529 165,-119.529\" stroke=\"black\"/>\n",
       "</g>\n",
       "<!-- 140188524758544 -->\n",
       "<g class=\"node\" id=\"node20\"><title>140188524758544</title>\n",
       "<polygon fill=\"none\" points=\"110.5,-0.5 110.5,-36.5 212.5,-36.5 212.5,-0.5 110.5,-0.5\" stroke=\"black\"/>\n",
       "<text font-family=\"Times,serif\" font-size=\"14.00\" text-anchor=\"middle\" x=\"161.5\" y=\"-14.8\">dense_3: Dense</text>\n",
       "</g>\n",
       "<!-- 140188525206352&#45;&gt;140188524758544 -->\n",
       "<g class=\"edge\" id=\"edge19\"><title>140188525206352-&gt;140188524758544</title>\n",
       "<path d=\"M161.5,-73.3129C161.5,-65.2895 161.5,-55.5475 161.5,-46.5691\" fill=\"none\" stroke=\"black\"/>\n",
       "<polygon fill=\"black\" points=\"165,-46.5288 161.5,-36.5288 158,-46.5289 165,-46.5288\" stroke=\"black\"/>\n",
       "</g>\n",
       "</g>\n",
       "</svg>"
      ],
      "text/plain": [
       "<IPython.core.display.SVG object>"
      ]
     },
     "execution_count": 10,
     "metadata": {},
     "output_type": "execute_result"
    }
   ],
   "source": [
    "from IPython.display import SVG\n",
    "from keras.utils.vis_utils import model_to_dot\n",
    "\n",
    "SVG(model_to_dot(model).create(prog='dot', format='svg'))"
   ]
  },
  {
   "cell_type": "code",
   "execution_count": 11,
   "metadata": {},
   "outputs": [],
   "source": [
    "from keras.utils import plot_model\n",
    "plot_model(model, to_file='plots/scratch.png')"
   ]
  },
  {
   "cell_type": "code",
   "execution_count": 12,
   "metadata": {
    "scrolled": true
   },
   "outputs": [
    {
     "name": "stdout",
     "output_type": "stream",
     "text": [
      "Train on 6680 samples, validate on 835 samples\n",
      "Epoch 1/30\n",
      "6656/6680 [============================>.] - ETA: 0s - loss: 4.7943 - acc: 0.0306Epoch 00001: val_loss improved from inf to 4.82143, saving model to saved_models/weights.from_scratch.hdf5\n",
      "6680/6680 [==============================] - 49s 7ms/step - loss: 4.7934 - acc: 0.0305 - val_loss: 4.8214 - val_acc: 0.0263\n",
      "Epoch 2/30\n",
      "6656/6680 [============================>.] - ETA: 0s - loss: 4.3430 - acc: 0.0661Epoch 00002: val_loss improved from 4.82143 to 4.12369, saving model to saved_models/weights.from_scratch.hdf5\n",
      "6680/6680 [==============================] - 47s 7ms/step - loss: 4.3414 - acc: 0.0665 - val_loss: 4.1237 - val_acc: 0.0838\n",
      "Epoch 3/30\n",
      "6656/6680 [============================>.] - ETA: 0s - loss: 4.0569 - acc: 0.0898Epoch 00003: val_loss improved from 4.12369 to 4.03756, saving model to saved_models/weights.from_scratch.hdf5\n",
      "6680/6680 [==============================] - 47s 7ms/step - loss: 4.0568 - acc: 0.0897 - val_loss: 4.0376 - val_acc: 0.1126\n",
      "Epoch 4/30\n",
      "6656/6680 [============================>.] - ETA: 0s - loss: 3.8025 - acc: 0.1223Epoch 00004: val_loss improved from 4.03756 to 3.90580, saving model to saved_models/weights.from_scratch.hdf5\n",
      "6680/6680 [==============================] - 47s 7ms/step - loss: 3.8023 - acc: 0.1225 - val_loss: 3.9058 - val_acc: 0.1066\n",
      "Epoch 5/30\n",
      "6656/6680 [============================>.] - ETA: 0s - loss: 3.5409 - acc: 0.1635Epoch 00005: val_loss improved from 3.90580 to 3.59004, saving model to saved_models/weights.from_scratch.hdf5\n",
      "6680/6680 [==============================] - 47s 7ms/step - loss: 3.5404 - acc: 0.1630 - val_loss: 3.5900 - val_acc: 0.1413\n",
      "Epoch 6/30\n",
      "6656/6680 [============================>.] - ETA: 0s - loss: 3.3300 - acc: 0.1949Epoch 00006: val_loss improved from 3.59004 to 3.43046, saving model to saved_models/weights.from_scratch.hdf5\n",
      "6680/6680 [==============================] - 47s 7ms/step - loss: 3.3311 - acc: 0.1948 - val_loss: 3.4305 - val_acc: 0.1916\n",
      "Epoch 7/30\n",
      "6656/6680 [============================>.] - ETA: 0s - loss: 3.0758 - acc: 0.2414Epoch 00007: val_loss improved from 3.43046 to 3.29768, saving model to saved_models/weights.from_scratch.hdf5\n",
      "6680/6680 [==============================] - 47s 7ms/step - loss: 3.0760 - acc: 0.2415 - val_loss: 3.2977 - val_acc: 0.1952\n",
      "Epoch 8/30\n",
      "6656/6680 [============================>.] - ETA: 0s - loss: 2.8472 - acc: 0.2891Epoch 00008: val_loss improved from 3.29768 to 3.16487, saving model to saved_models/weights.from_scratch.hdf5\n",
      "6680/6680 [==============================] - 47s 7ms/step - loss: 2.8470 - acc: 0.2889 - val_loss: 3.1649 - val_acc: 0.2443\n",
      "Epoch 9/30\n",
      "6656/6680 [============================>.] - ETA: 0s - loss: 2.6340 - acc: 0.3355Epoch 00009: val_loss improved from 3.16487 to 3.00825, saving model to saved_models/weights.from_scratch.hdf5\n",
      "6680/6680 [==============================] - 47s 7ms/step - loss: 2.6341 - acc: 0.3353 - val_loss: 3.0083 - val_acc: 0.2431\n",
      "Epoch 10/30\n",
      "6656/6680 [============================>.] - ETA: 0s - loss: 2.4330 - acc: 0.3824Epoch 00010: val_loss improved from 3.00825 to 2.93683, saving model to saved_models/weights.from_scratch.hdf5\n",
      "6680/6680 [==============================] - 47s 7ms/step - loss: 2.4327 - acc: 0.3825 - val_loss: 2.9368 - val_acc: 0.2695\n",
      "Epoch 11/30\n",
      "6656/6680 [============================>.] - ETA: 0s - loss: 2.1946 - acc: 0.4377Epoch 00011: val_loss did not improve\n",
      "6680/6680 [==============================] - 46s 7ms/step - loss: 2.1934 - acc: 0.4380 - val_loss: 3.0736 - val_acc: 0.2467\n",
      "Epoch 12/30\n",
      "6656/6680 [============================>.] - ETA: 0s - loss: 1.9816 - acc: 0.4857Epoch 00012: val_loss improved from 2.93683 to 2.76950, saving model to saved_models/weights.from_scratch.hdf5\n",
      "6680/6680 [==============================] - 47s 7ms/step - loss: 1.9813 - acc: 0.4861 - val_loss: 2.7695 - val_acc: 0.3090\n",
      "Epoch 13/30\n",
      "6656/6680 [============================>.] - ETA: 0s - loss: 1.7604 - acc: 0.5332Epoch 00013: val_loss did not improve\n",
      "6680/6680 [==============================] - 47s 7ms/step - loss: 1.7595 - acc: 0.5329 - val_loss: 2.8073 - val_acc: 0.3030\n",
      "Epoch 14/30\n",
      "6656/6680 [============================>.] - ETA: 0s - loss: 1.5791 - acc: 0.5916Epoch 00014: val_loss improved from 2.76950 to 2.59151, saving model to saved_models/weights.from_scratch.hdf5\n",
      "6680/6680 [==============================] - 47s 7ms/step - loss: 1.5794 - acc: 0.5918 - val_loss: 2.5915 - val_acc: 0.3234\n",
      "Epoch 15/30\n",
      "6656/6680 [============================>.] - ETA: 0s - loss: 1.3924 - acc: 0.6387Epoch 00015: val_loss did not improve\n",
      "6680/6680 [==============================] - 47s 7ms/step - loss: 1.3927 - acc: 0.6385 - val_loss: 2.7497 - val_acc: 0.2970\n",
      "Epoch 16/30\n",
      "6656/6680 [============================>.] - ETA: 0s - loss: 1.2033 - acc: 0.6932Epoch 00016: val_loss improved from 2.59151 to 2.57355, saving model to saved_models/weights.from_scratch.hdf5\n",
      "6680/6680 [==============================] - 47s 7ms/step - loss: 1.2030 - acc: 0.6934 - val_loss: 2.5735 - val_acc: 0.3545\n",
      "Epoch 17/30\n",
      "6656/6680 [============================>.] - ETA: 0s - loss: 1.0519 - acc: 0.7323Epoch 00017: val_loss did not improve\n",
      "6680/6680 [==============================] - 47s 7ms/step - loss: 1.0522 - acc: 0.7325 - val_loss: 2.6768 - val_acc: 0.3150\n",
      "Epoch 18/30\n",
      "6656/6680 [============================>.] - ETA: 0s - loss: 0.8916 - acc: 0.7758Epoch 00018: val_loss did not improve\n",
      "6680/6680 [==============================] - 47s 7ms/step - loss: 0.8911 - acc: 0.7757 - val_loss: 2.8541 - val_acc: 0.3246\n",
      "Epoch 19/30\n",
      "6656/6680 [============================>.] - ETA: 0s - loss: 0.7762 - acc: 0.8104Epoch 00019: val_loss did not improve\n",
      "6680/6680 [==============================] - 47s 7ms/step - loss: 0.7757 - acc: 0.8105 - val_loss: 2.7442 - val_acc: 0.3162\n",
      "Epoch 20/30\n",
      "6656/6680 [============================>.] - ETA: 0s - loss: 0.6494 - acc: 0.8445Epoch 00020: val_loss did not improve\n",
      "6680/6680 [==============================] - 47s 7ms/step - loss: 0.6494 - acc: 0.8443 - val_loss: 2.6483 - val_acc: 0.3605\n",
      "Epoch 21/30\n",
      "6656/6680 [============================>.] - ETA: 0s - loss: 0.5487 - acc: 0.8723Epoch 00021: val_loss did not improve\n",
      "6680/6680 [==============================] - 46s 7ms/step - loss: 0.5500 - acc: 0.8716 - val_loss: 2.7014 - val_acc: 0.3641\n",
      "Epoch 22/30\n",
      "6656/6680 [============================>.] - ETA: 0s - loss: 0.4680 - acc: 0.8969Epoch 00022: val_loss did not improve\n",
      "6680/6680 [==============================] - 47s 7ms/step - loss: 0.4677 - acc: 0.8972 - val_loss: 2.7746 - val_acc: 0.3210\n",
      "Epoch 23/30\n",
      "6656/6680 [============================>.] - ETA: 0s - loss: 0.4286 - acc: 0.9038Epoch 00023: val_loss did not improve\n",
      "6680/6680 [==============================] - 47s 7ms/step - loss: 0.4295 - acc: 0.9034 - val_loss: 2.8362 - val_acc: 0.3377\n",
      "Epoch 24/30\n",
      "6656/6680 [============================>.] - ETA: 0s - loss: 0.3600 - acc: 0.9208Epoch 00024: val_loss did not improve\n",
      "6680/6680 [==============================] - 47s 7ms/step - loss: 0.3602 - acc: 0.9208 - val_loss: 2.9527 - val_acc: 0.3353\n",
      "Epoch 25/30\n",
      "6656/6680 [============================>.] - ETA: 0s - loss: 0.3033 - acc: 0.9358Epoch 00025: val_loss did not improve\n",
      "6680/6680 [==============================] - 47s 7ms/step - loss: 0.3037 - acc: 0.9356 - val_loss: 2.8093 - val_acc: 0.3497\n",
      "Epoch 26/30\n",
      "6656/6680 [============================>.] - ETA: 0s - loss: 0.2819 - acc: 0.9389Epoch 00026: val_loss did not improve\n",
      "6680/6680 [==============================] - 47s 7ms/step - loss: 0.2817 - acc: 0.9391 - val_loss: 2.8770 - val_acc: 0.3629\n",
      "Epoch 27/30\n",
      "6656/6680 [============================>.] - ETA: 0s - loss: 0.2315 - acc: 0.9558Epoch 00027: val_loss did not improve\n",
      "6680/6680 [==============================] - 47s 7ms/step - loss: 0.2323 - acc: 0.9555 - val_loss: 3.2975 - val_acc: 0.3222\n",
      "Epoch 28/30\n",
      "6656/6680 [============================>.] - ETA: 0s - loss: 0.2309 - acc: 0.9524Epoch 00028: val_loss did not improve\n",
      "6680/6680 [==============================] - 47s 7ms/step - loss: 0.2309 - acc: 0.9524 - val_loss: 3.2281 - val_acc: 0.3138\n",
      "Epoch 29/30\n",
      "6656/6680 [============================>.] - ETA: 0s - loss: 0.2206 - acc: 0.9530Epoch 00029: val_loss did not improve\n",
      "6680/6680 [==============================] - 47s 7ms/step - loss: 0.2218 - acc: 0.9524 - val_loss: 3.0571 - val_acc: 0.3353\n",
      "Epoch 30/30\n",
      "6656/6680 [============================>.] - ETA: 0s - loss: 0.2165 - acc: 0.9519Epoch 00030: val_loss did not improve\n",
      "6680/6680 [==============================] - 47s 7ms/step - loss: 0.2170 - acc: 0.9513 - val_loss: 3.0300 - val_acc: 0.3353\n"
     ]
    }
   ],
   "source": [
    "# NO DATA AUGMENTATION\n",
    "\n",
    "from keras.callbacks import ModelCheckpoint  \n",
    "from keras.callbacks import EarlyStopping\n",
    "\n",
    "epochs = 30\n",
    "batch_size = 32\n",
    "\n",
    "checkpointer = ModelCheckpoint(filepath='saved_models/weights.from_scratch.hdf5', \n",
    "                               verbose=1, save_best_only=True)\n",
    "\n",
    "### Using Image Augmentation\n",
    "history_scratch = model.fit(train_tensors, train_targets, batch_size=batch_size,\n",
    "                    validation_data=(valid_tensors, valid_targets), \n",
    "                    epochs=epochs, callbacks=[checkpointer, EarlyStopping(min_delta=1e-7, patience=15)], verbose=1)"
   ]
  },
  {
   "cell_type": "code",
   "execution_count": 17,
   "metadata": {},
   "outputs": [
    {
     "data": {
      "text/plain": [
       "<matplotlib.figure.Figure at 0x7f7fc7646150>"
      ]
     },
     "metadata": {},
     "output_type": "display_data"
    },
    {
     "data": {
      "image/png": "[encoded data removed]",
      "text/plain": [
       "<matplotlib.figure.Figure at 0x7f7fc7549a10>"
      ]
     },
     "metadata": {},
     "output_type": "display_data"
    }
   ],
   "source": [
    "import matplotlib.pyplot as plt\n",
    "plt.subplots(figsize = (10,10))\n",
    "plt.subplot(2, 1, 1)\n",
    "\n",
    "plt.plot(history_scratch.history['acc'], label = \"Training Acc\")\n",
    "plt.plot(history_scratch.history['val_acc'], label = \"Validation Acc\")\n",
    "\n",
    "plt.legend()\n",
    "plt.xlabel(\"Epochs\")\n",
    "plt.ylabel(\"Accuracy\")\n",
    "plt.title(\"Accuracy vs Number of Iterations\")\n",
    "plt.grid()\n",
    "\n",
    "\n",
    "plt.subplot(2, 1, 2)\n",
    "plt.plot(history_scratch.history['loss'], label = \"Training Loss\")\n",
    "plt.plot(history_scratch.history['val_loss'], label = \"Validation loss\")\n",
    "plt.legend()\n",
    "plt.xlabel(\"Epochs\")\n",
    "plt.ylabel(\"Loss\")\n",
    "plt.title(\"Loss vs Number of Iterations\")\n",
    "plt.grid()\n",
    "plt.savefig('plots/training_scratch.png')\n",
    "plt.show()\n",
    "\n"
   ]
  },
  {
   "cell_type": "code",
   "execution_count": 18,
   "metadata": {},
   "outputs": [],
   "source": [
    "model.load_weights('saved_models/weights.from_scratch.hdf5')"
   ]
  },
  {
   "cell_type": "code",
   "execution_count": 19,
   "metadata": {},
   "outputs": [
    {
     "name": "stdout",
     "output_type": "stream",
     "text": [
      "Test accuracy: 35.8852%\n"
     ]
    }
   ],
   "source": [
    "dog_breed_predictions = [np.argmax(model.predict(np.expand_dims(tensor, axis=0))) for tensor in test_tensors]\n",
    "\n",
    "# report test accuracy\n",
    "test_accuracy = 100.0*np.sum(np.array(dog_breed_predictions)==np.argmax(test_targets, axis=1))/len(dog_breed_predictions)\n",
    "print('Test accuracy: %.4f%%' % test_accuracy)"
   ]
  },
  {
   "cell_type": "code",
   "execution_count": 20,
   "metadata": {},
   "outputs": [
    {
     "name": "stdout",
     "output_type": "stream",
     "text": [
      "Validation accuracy: 35.4491%\n"
     ]
    }
   ],
   "source": [
    "dog_breed_predictions = [np.argmax(model.predict(np.expand_dims(tensor, axis=0))) for tensor in valid_tensors]\n",
    "\n",
    "# report test accuracy\n",
    "valid_accuracy = 100.0*np.sum(np.array(dog_breed_predictions)==np.argmax(valid_targets, axis=1))/len(dog_breed_predictions)\n",
    "print('Validation accuracy: %.4f%%' % valid_accuracy)"
   ]
  },
  {
   "cell_type": "code",
   "execution_count": null,
   "metadata": {},
   "outputs": [],
   "source": [
    "pic_i = 16\n",
    "print(np.argmax(model.predict(test_tensors[pic_i:pic_i+1])))\n",
    "print(model.predict(test_tensors[pic_i:pic_i+1]).argsort())\n",
    "print(np.argmax(test_targets[pic_i]))"
   ]
  },
  {
   "cell_type": "code",
   "execution_count": null,
   "metadata": {},
   "outputs": [],
   "source": []
  },
  {
   "cell_type": "code",
   "execution_count": null,
   "metadata": {},
   "outputs": [],
   "source": []
  },
  {
   "cell_type": "code",
   "execution_count": null,
   "metadata": {},
   "outputs": [],
   "source": []
  },
  {
   "cell_type": "code",
   "execution_count": null,
   "metadata": {},
   "outputs": [],
   "source": []
  },
  {
   "cell_type": "code",
   "execution_count": null,
   "metadata": {},
   "outputs": [],
   "source": []
  },
  {
   "cell_type": "code",
   "execution_count": null,
   "metadata": {},
   "outputs": [],
   "source": [
    "# DATA AUGMENTATION"
   ]
  },
  {
   "cell_type": "code",
   "execution_count": 24,
   "metadata": {},
   "outputs": [
    {
     "name": "stdout",
     "output_type": "stream",
     "text": [
      "_________________________________________________________________\n",
      "Layer (type)                 Output Shape              Param #   \n",
      "=================================================================\n",
      "batch_normalization_13 (Batc (None, 224, 224, 3)       12        \n",
      "_________________________________________________________________\n",
      "conv2d_11 (Conv2D)           (None, 222, 222, 16)      448       \n",
      "_________________________________________________________________\n",
      "max_pooling2d_11 (MaxPooling (None, 111, 111, 16)      0         \n",
      "_________________________________________________________________\n",
      "batch_normalization_14 (Batc (None, 111, 111, 16)      64        \n",
      "_________________________________________________________________\n",
      "conv2d_12 (Conv2D)           (None, 109, 109, 32)      4640      \n",
      "_________________________________________________________________\n",
      "max_pooling2d_12 (MaxPooling (None, 54, 54, 32)        0         \n",
      "_________________________________________________________________\n",
      "batch_normalization_15 (Batc (None, 54, 54, 32)        128       \n",
      "_________________________________________________________________\n",
      "conv2d_13 (Conv2D)           (None, 52, 52, 64)        18496     \n",
      "_________________________________________________________________\n",
      "max_pooling2d_13 (MaxPooling (None, 26, 26, 64)        0         \n",
      "_________________________________________________________________\n",
      "batch_normalization_16 (Batc (None, 26, 26, 64)        256       \n",
      "_________________________________________________________________\n",
      "conv2d_14 (Conv2D)           (None, 24, 24, 128)       73856     \n",
      "_________________________________________________________________\n",
      "max_pooling2d_14 (MaxPooling (None, 12, 12, 128)       0         \n",
      "_________________________________________________________________\n",
      "batch_normalization_17 (Batc (None, 12, 12, 128)       512       \n",
      "_________________________________________________________________\n",
      "conv2d_15 (Conv2D)           (None, 10, 10, 256)       295168    \n",
      "_________________________________________________________________\n",
      "max_pooling2d_15 (MaxPooling (None, 5, 5, 256)         0         \n",
      "_________________________________________________________________\n",
      "batch_normalization_18 (Batc (None, 5, 5, 256)         1024      \n",
      "_________________________________________________________________\n",
      "global_average_pooling2d_3 ( (None, 256)               0         \n",
      "_________________________________________________________________\n",
      "dropout_4 (Dropout)          (None, 256)               0         \n",
      "_________________________________________________________________\n",
      "dense_4 (Dense)              (None, 133)               34181     \n",
      "=================================================================\n",
      "Total params: 428,785\n",
      "Trainable params: 427,787\n",
      "Non-trainable params: 998\n",
      "_________________________________________________________________\n"
     ]
    }
   ],
   "source": [
    "from keras.layers import Conv2D, MaxPooling2D, GlobalAveragePooling2D\n",
    "from keras.layers import Dropout, Flatten, Dense, Activation\n",
    "from keras.layers.normalization import BatchNormalization\n",
    "\n",
    "model_aug = Sequential()\n",
    "model_aug.add(BatchNormalization(input_shape=(224, 224, 3)))\n",
    "model_aug.add(Conv2D(filters=16, kernel_size=3, kernel_initializer='he_normal', activation='relu'))\n",
    "model_aug.add(MaxPooling2D(pool_size=2))\n",
    "model_aug.add(BatchNormalization())\n",
    "\n",
    "model_aug.add(Conv2D(filters=32, kernel_size=3, kernel_initializer='he_normal', activation='relu'))\n",
    "model_aug.add(MaxPooling2D(pool_size=2))\n",
    "model_aug.add(BatchNormalization())\n",
    "\n",
    "model_aug.add(Conv2D(filters=64, kernel_size=3, kernel_initializer='he_normal', activation='relu'))\n",
    "model_aug.add(MaxPooling2D(pool_size=2))\n",
    "model_aug.add(BatchNormalization())\n",
    "\n",
    "model_aug.add(Conv2D(filters=128, kernel_size=3, kernel_initializer='he_normal', activation='relu'))\n",
    "model_aug.add(MaxPooling2D(pool_size=2))\n",
    "model_aug.add(BatchNormalization())\n",
    "\n",
    "model_aug.add(Conv2D(filters=256, kernel_size=3, kernel_initializer='he_normal', activation='relu'))\n",
    "model_aug.add(MaxPooling2D(pool_size=2))\n",
    "model_aug.add(BatchNormalization())\n",
    "\n",
    "model_aug.add(GlobalAveragePooling2D())\n",
    "model_aug.add(Dropout(0.5))\n",
    "\n",
    "# # Use with data augmentation example\n",
    "# model_aug.add(Dense(266, activation='relu'))\n",
    "# model_aug.add(Dropout(0.5))\n",
    "# # END: Use with data augmentation example\n",
    "\n",
    "\n",
    "model_aug.add(Dense(133, activation='softmax'))\n",
    "\n",
    "model_aug.compile(optimizer='adam', loss='categorical_crossentropy', metrics=['accuracy'])\n",
    "\n",
    "model_aug.summary()"
   ]
  },
  {
   "cell_type": "code",
   "execution_count": 25,
   "metadata": {},
   "outputs": [],
   "source": [
    "from keras.utils import plot_model\n",
    "plot_model(model_aug, to_file='plots/scratch_aug.png')"
   ]
  },
  {
   "cell_type": "code",
   "execution_count": 26,
   "metadata": {},
   "outputs": [
    {
     "name": "stdout",
     "output_type": "stream",
     "text": [
      "Epoch 1/30\n",
      "207/208 [============================>.] - ETA: 0s - loss: 2.6057 - acc: 0.3271Epoch 00001: val_loss improved from inf to 2.77955, saving model to saved_models/scratch_aug.hdf5\n",
      "209/208 [==============================] - 62s 297ms/step - loss: 2.6054 - acc: 0.3263 - val_loss: 2.7795 - val_acc: 0.3389\n",
      "Epoch 2/30\n",
      "207/208 [============================>.] - ETA: 0s - loss: 2.3938 - acc: 0.3702Epoch 00002: val_loss improved from 2.77955 to 2.74379, saving model to saved_models/scratch_aug.hdf5\n",
      "209/208 [==============================] - 60s 288ms/step - loss: 2.3910 - acc: 0.3708 - val_loss: 2.7438 - val_acc: 0.3174\n",
      "Epoch 3/30\n",
      "207/208 [============================>.] - ETA: 0s - loss: 2.2873 - acc: 0.3971Epoch 00003: val_loss improved from 2.74379 to 2.41106, saving model to saved_models/scratch_aug.hdf5\n",
      "209/208 [==============================] - 60s 286ms/step - loss: 2.2923 - acc: 0.3961 - val_loss: 2.4111 - val_acc: 0.3856\n",
      "Epoch 4/30\n",
      "207/208 [============================>.] - ETA: 0s - loss: 2.1771 - acc: 0.4108Epoch 00004: val_loss did not improve\n",
      "209/208 [==============================] - 60s 288ms/step - loss: 2.1780 - acc: 0.4110 - val_loss: 2.4894 - val_acc: 0.3665\n",
      "Epoch 5/30\n",
      "207/208 [============================>.] - ETA: 0s - loss: 2.0769 - acc: 0.4370Epoch 00005: val_loss improved from 2.41106 to 2.27456, saving model to saved_models/scratch_aug.hdf5\n",
      "209/208 [==============================] - 60s 289ms/step - loss: 2.0753 - acc: 0.4367 - val_loss: 2.2746 - val_acc: 0.4048\n",
      "Epoch 6/30\n",
      "207/208 [============================>.] - ETA: 0s - loss: 2.0579 - acc: 0.4471Epoch 00006: val_loss improved from 2.27456 to 2.26388, saving model to saved_models/scratch_aug.hdf5\n",
      "209/208 [==============================] - 60s 287ms/step - loss: 2.0637 - acc: 0.4457 - val_loss: 2.2639 - val_acc: 0.4180\n",
      "Epoch 7/30\n",
      "207/208 [============================>.] - ETA: 0s - loss: 1.9835 - acc: 0.4620Epoch 00007: val_loss improved from 2.26388 to 2.17685, saving model to saved_models/scratch_aug.hdf5\n",
      "209/208 [==============================] - 61s 290ms/step - loss: 1.9841 - acc: 0.4630 - val_loss: 2.1769 - val_acc: 0.4240\n",
      "Epoch 8/30\n",
      "207/208 [============================>.] - ETA: 0s - loss: 1.9337 - acc: 0.4784Epoch 00008: val_loss improved from 2.17685 to 2.07647, saving model to saved_models/scratch_aug.hdf5\n",
      "209/208 [==============================] - 60s 286ms/step - loss: 1.9411 - acc: 0.4779 - val_loss: 2.0765 - val_acc: 0.4527\n",
      "Epoch 9/30\n",
      "207/208 [============================>.] - ETA: 0s - loss: 1.8423 - acc: 0.4972Epoch 00009: val_loss did not improve\n",
      "209/208 [==============================] - 60s 286ms/step - loss: 1.8481 - acc: 0.4961 - val_loss: 2.1029 - val_acc: 0.4527\n",
      "Epoch 10/30\n",
      "207/208 [============================>.] - ETA: 0s - loss: 1.8089 - acc: 0.4963Epoch 00010: val_loss improved from 2.07647 to 1.98636, saving model to saved_models/scratch_aug.hdf5\n",
      "209/208 [==============================] - 60s 289ms/step - loss: 1.8089 - acc: 0.4976 - val_loss: 1.9864 - val_acc: 0.4850\n",
      "Epoch 11/30\n",
      "207/208 [============================>.] - ETA: 0s - loss: 1.7783 - acc: 0.5080Epoch 00011: val_loss did not improve\n",
      "209/208 [==============================] - 60s 288ms/step - loss: 1.7843 - acc: 0.5066 - val_loss: 2.0485 - val_acc: 0.4659\n",
      "Epoch 12/30\n",
      "207/208 [============================>.] - ETA: 0s - loss: 1.7372 - acc: 0.5214Epoch 00012: val_loss improved from 1.98636 to 1.92197, saving model to saved_models/scratch_aug.hdf5\n",
      "209/208 [==============================] - 60s 287ms/step - loss: 1.7326 - acc: 0.5219 - val_loss: 1.9220 - val_acc: 0.4910\n",
      "Epoch 13/30\n",
      "207/208 [============================>.] - ETA: 0s - loss: 1.6918 - acc: 0.5284Epoch 00013: val_loss did not improve\n",
      "209/208 [==============================] - 60s 287ms/step - loss: 1.6910 - acc: 0.5291 - val_loss: 2.0379 - val_acc: 0.4635\n",
      "Epoch 14/30\n",
      "207/208 [============================>.] - ETA: 0s - loss: 1.6593 - acc: 0.5383Epoch 00014: val_loss did not improve\n",
      "209/208 [==============================] - 60s 286ms/step - loss: 1.6554 - acc: 0.5397 - val_loss: 2.0084 - val_acc: 0.4778\n",
      "Epoch 15/30\n",
      "207/208 [============================>.] - ETA: 0s - loss: 1.6491 - acc: 0.5346Epoch 00015: val_loss improved from 1.92197 to 1.89070, saving model to saved_models/scratch_aug.hdf5\n",
      "209/208 [==============================] - 60s 286ms/step - loss: 1.6466 - acc: 0.5360 - val_loss: 1.8907 - val_acc: 0.4826\n",
      "Epoch 16/30\n",
      "207/208 [============================>.] - ETA: 0s - loss: 1.5821 - acc: 0.5481Epoch 00016: val_loss did not improve\n",
      "209/208 [==============================] - 60s 286ms/step - loss: 1.5772 - acc: 0.5504 - val_loss: 1.9385 - val_acc: 0.4994\n",
      "Epoch 17/30\n",
      "207/208 [============================>.] - ETA: 0s - loss: 1.5814 - acc: 0.5520Epoch 00017: val_loss improved from 1.89070 to 1.88560, saving model to saved_models/scratch_aug.hdf5\n",
      "209/208 [==============================] - 60s 287ms/step - loss: 1.5830 - acc: 0.5522 - val_loss: 1.8856 - val_acc: 0.4898\n",
      "Epoch 18/30\n",
      "207/208 [============================>.] - ETA: 0s - loss: 1.5543 - acc: 0.5588Epoch 00018: val_loss did not improve\n",
      "209/208 [==============================] - 60s 286ms/step - loss: 1.5555 - acc: 0.5580 - val_loss: 1.9124 - val_acc: 0.4886\n",
      "Epoch 19/30\n",
      "207/208 [============================>.] - ETA: 0s - loss: 1.5116 - acc: 0.5646Epoch 00019: val_loss improved from 1.88560 to 1.86082, saving model to saved_models/scratch_aug.hdf5\n",
      "209/208 [==============================] - 60s 287ms/step - loss: 1.5072 - acc: 0.5652 - val_loss: 1.8608 - val_acc: 0.5150\n",
      "Epoch 20/30\n",
      "207/208 [============================>.] - ETA: 0s - loss: 1.4881 - acc: 0.5758Epoch 00020: val_loss did not improve\n",
      "209/208 [==============================] - 59s 284ms/step - loss: 1.4877 - acc: 0.5758 - val_loss: 1.8819 - val_acc: 0.5030\n",
      "Epoch 21/30\n",
      "207/208 [============================>.] - ETA: 0s - loss: 1.4597 - acc: 0.5831Epoch 00021: val_loss improved from 1.86082 to 1.81064, saving model to saved_models/scratch_aug.hdf5\n",
      "209/208 [==============================] - 60s 288ms/step - loss: 1.4629 - acc: 0.5819 - val_loss: 1.8106 - val_acc: 0.5222\n",
      "Epoch 22/30\n",
      "207/208 [============================>.] - ETA: 0s - loss: 1.4228 - acc: 0.5928Epoch 00022: val_loss improved from 1.81064 to 1.76869, saving model to saved_models/scratch_aug.hdf5\n",
      "209/208 [==============================] - 61s 290ms/step - loss: 1.4227 - acc: 0.5934 - val_loss: 1.7687 - val_acc: 0.5246\n",
      "Epoch 23/30\n",
      "207/208 [============================>.] - ETA: 0s - loss: 1.4325 - acc: 0.5940Epoch 00023: val_loss did not improve\n",
      "209/208 [==============================] - 60s 285ms/step - loss: 1.4322 - acc: 0.5931 - val_loss: 1.8188 - val_acc: 0.5210\n",
      "Epoch 24/30\n",
      "207/208 [============================>.] - ETA: 0s - loss: 1.4014 - acc: 0.5978Epoch 00024: val_loss did not improve\n",
      "209/208 [==============================] - 60s 286ms/step - loss: 1.4021 - acc: 0.5968 - val_loss: 1.9213 - val_acc: 0.4934\n",
      "Epoch 25/30\n",
      "207/208 [============================>.] - ETA: 0s - loss: 1.3815 - acc: 0.6024Epoch 00025: val_loss did not improve\n",
      "209/208 [==============================] - 60s 289ms/step - loss: 1.3829 - acc: 0.6022 - val_loss: 1.7963 - val_acc: 0.5269\n",
      "Epoch 26/30\n",
      "207/208 [============================>.] - ETA: 0s - loss: 1.3760 - acc: 0.6061Epoch 00026: val_loss did not improve\n",
      "209/208 [==============================] - 60s 287ms/step - loss: 1.3743 - acc: 0.6061 - val_loss: 1.8177 - val_acc: 0.5174\n",
      "Epoch 27/30\n",
      "207/208 [============================>.] - ETA: 0s - loss: 1.3261 - acc: 0.6192Epoch 00027: val_loss improved from 1.76869 to 1.68630, saving model to saved_models/scratch_aug.hdf5\n",
      "209/208 [==============================] - 60s 286ms/step - loss: 1.3275 - acc: 0.6181 - val_loss: 1.6863 - val_acc: 0.5425\n",
      "Epoch 28/30\n",
      "207/208 [============================>.] - ETA: 0s - loss: 1.3227 - acc: 0.6154Epoch 00028: val_loss did not improve\n",
      "209/208 [==============================] - 60s 285ms/step - loss: 1.3197 - acc: 0.6165 - val_loss: 1.6998 - val_acc: 0.5389\n",
      "Epoch 29/30\n",
      "207/208 [============================>.] - ETA: 0s - loss: 1.2951 - acc: 0.6226Epoch 00029: val_loss did not improve\n",
      "209/208 [==============================] - 59s 283ms/step - loss: 1.3010 - acc: 0.6212 - val_loss: 1.6889 - val_acc: 0.5341\n"
     ]
    },
    {
     "name": "stdout",
     "output_type": "stream",
     "text": [
      "Epoch 30/30\n",
      "207/208 [============================>.] - ETA: 0s - loss: 1.2802 - acc: 0.6347Epoch 00030: val_loss improved from 1.68630 to 1.64466, saving model to saved_models/scratch_aug.hdf5\n",
      "209/208 [==============================] - 60s 285ms/step - loss: 1.2753 - acc: 0.6357 - val_loss: 1.6447 - val_acc: 0.5677\n"
     ]
    }
   ],
   "source": [
    "# WITH DATA AUGMENTATION (need to recompile the model before running)\n",
    "\n",
    "from keras.callbacks import ModelCheckpoint  \n",
    "from keras.callbacks import EarlyStopping\n",
    "\n",
    "epochs = 30\n",
    "batch_size = 32\n",
    "\n",
    "checkpointer = ModelCheckpoint(filepath='saved_models/scratch_aug.hdf5', \n",
    "                               verbose=1, save_best_only=True)\n",
    "\n",
    "### Using Image Augmentation\n",
    "history_scratch_aug = model.fit_generator(datagen.flow(train_tensors, train_targets, batch_size=batch_size),\n",
    "                    validation_data=(valid_tensors, valid_targets), \n",
    "                    steps_per_epoch=train_tensors.shape[0] // batch_size,\n",
    "                    epochs=epochs, callbacks=[checkpointer, EarlyStopping(min_delta=1e-7, patience=15)], verbose=1)"
   ]
  },
  {
   "cell_type": "code",
   "execution_count": 30,
   "metadata": {},
   "outputs": [
    {
     "data": {
      "text/plain": [
       "<matplotlib.figure.Figure at 0x7f7fccd077d0>"
      ]
     },
     "metadata": {},
     "output_type": "display_data"
    },
    {
     "data": {
      "image/png": "[encoded data removed]",
      "text/plain": [
       "<matplotlib.figure.Figure at 0x7f7fccc61b10>"
      ]
     },
     "metadata": {},
     "output_type": "display_data"
    }
   ],
   "source": [
    "import matplotlib.pyplot as plt\n",
    "plt.subplots(figsize = (10,10))\n",
    "plt.subplot(2, 1, 1)\n",
    "\n",
    "plt.plot(history_scratch_aug.history['acc'], label = \"Training Acc\")\n",
    "plt.plot(history_scratch_aug.history['val_acc'], label = \"Validation Acc\")\n",
    "\n",
    "plt.legend()\n",
    "plt.xlabel(\"Epochs\")\n",
    "plt.ylabel(\"Accuracy\")\n",
    "plt.title(\"Accuracy vs Number of Iterations\")\n",
    "plt.grid()\n",
    "\n",
    "\n",
    "plt.subplot(2, 1, 2)\n",
    "plt.plot(history_scratch_aug.history['loss'], label = \"Training Loss\")\n",
    "plt.plot(history_scratch_aug.history['val_loss'], label = \"Validation loss\")\n",
    "plt.legend()\n",
    "plt.xlabel(\"Epochs\")\n",
    "plt.ylabel(\"Loss\")\n",
    "plt.title(\"Loss vs Number of Iterations\")\n",
    "plt.grid()\n",
    "plt.savefig('plots/training_scratch_aug.png')\n",
    "plt.show()"
   ]
  },
  {
   "cell_type": "code",
   "execution_count": 31,
   "metadata": {},
   "outputs": [],
   "source": [
    "model.load_weights('saved_models/scratch_aug.hdf5')"
   ]
  },
  {
   "cell_type": "code",
   "execution_count": 32,
   "metadata": {},
   "outputs": [
    {
     "name": "stdout",
     "output_type": "stream",
     "text": [
      "Test accuracy: 54.4258%\n"
     ]
    }
   ],
   "source": [
    "dog_breed_predictions = [np.argmax(model.predict(np.expand_dims(tensor, axis=0))) for tensor in test_tensors]\n",
    "\n",
    "# report test accuracy\n",
    "test_accuracy = 100.0*np.sum(np.array(dog_breed_predictions)==np.argmax(test_targets, axis=1))/len(dog_breed_predictions)\n",
    "print('Test accuracy: %.4f%%' % test_accuracy)"
   ]
  },
  {
   "cell_type": "code",
   "execution_count": 33,
   "metadata": {},
   "outputs": [
    {
     "name": "stdout",
     "output_type": "stream",
     "text": [
      "Validation accuracy: 56.7665%\n"
     ]
    }
   ],
   "source": [
    "dog_breed_predictions = [np.argmax(model.predict(np.expand_dims(tensor, axis=0))) for tensor in valid_tensors]\n",
    "\n",
    "# report test accuracy\n",
    "valid_accuracy = 100.0*np.sum(np.array(dog_breed_predictions)==np.argmax(valid_targets, axis=1))/len(dog_breed_predictions)\n",
    "print('Validation accuracy: %.4f%%' % valid_accuracy)"
   ]
  },
  {
   "cell_type": "code",
   "execution_count": null,
   "metadata": {},
   "outputs": [],
   "source": []
  },
  {
   "cell_type": "code",
   "execution_count": null,
   "metadata": {},
   "outputs": [],
   "source": []
  },
  {
   "cell_type": "code",
   "execution_count": null,
   "metadata": {},
   "outputs": [],
   "source": []
  },
  {
   "cell_type": "code",
   "execution_count": null,
   "metadata": {},
   "outputs": [],
   "source": []
  },
  {
   "cell_type": "code",
   "execution_count": null,
   "metadata": {},
   "outputs": [],
   "source": []
  },
  {
   "cell_type": "code",
   "execution_count": null,
   "metadata": {},
   "outputs": [],
   "source": []
  },
  {
   "cell_type": "code",
   "execution_count": null,
   "metadata": {},
   "outputs": [],
   "source": []
  },
  {
   "cell_type": "code",
   "execution_count": null,
   "metadata": {},
   "outputs": [],
   "source": []
  },
  {
   "cell_type": "code",
   "execution_count": null,
   "metadata": {},
   "outputs": [],
   "source": []
  },
  {
   "cell_type": "code",
   "execution_count": null,
   "metadata": {},
   "outputs": [],
   "source": [
    "#RESNET-50"
   ]
  },
  {
   "cell_type": "code",
   "execution_count": 3,
   "metadata": {},
   "outputs": [],
   "source": [
    "# Alternatively just use saved pretrained features\n",
    "bottleneck_features = np.load('bottleneck_features/DogResnet50Data.npz')\n",
    "train_resnet_features = bottleneck_features['train']\n",
    "valid_resnet_features = bottleneck_features['valid']\n",
    "test_resnet_features = bottleneck_features['test']"
   ]
  },
  {
   "cell_type": "code",
   "execution_count": 35,
   "metadata": {},
   "outputs": [
    {
     "name": "stdout",
     "output_type": "stream",
     "text": [
      "_________________________________________________________________\n",
      "Layer (type)                 Output Shape              Param #   \n",
      "=================================================================\n",
      "global_average_pooling2d_4 ( (None, 2048)              0         \n",
      "_________________________________________________________________\n",
      "batch_normalization_19 (Batc (None, 2048)              8192      \n",
      "_________________________________________________________________\n",
      "dropout_5 (Dropout)          (None, 2048)              0         \n",
      "_________________________________________________________________\n",
      "dense_5 (Dense)              (None, 266)               545034    \n",
      "_________________________________________________________________\n",
      "batch_normalization_20 (Batc (None, 266)               1064      \n",
      "_________________________________________________________________\n",
      "dropout_6 (Dropout)          (None, 266)               0         \n",
      "_________________________________________________________________\n",
      "dense_6 (Dense)              (None, 133)               35511     \n",
      "=================================================================\n",
      "Total params: 589,801\n",
      "Trainable params: 585,173\n",
      "Non-trainable params: 4,628\n",
      "_________________________________________________________________\n"
     ]
    }
   ],
   "source": [
    "import keras\n",
    "from keras.models import Sequential\n",
    "from keras.layers import Flatten, Dense, Dropout\n",
    "from keras import regularizers\n",
    "from keras.layers import Conv2D, MaxPooling2D, GlobalAveragePooling2D\n",
    "\n",
    "ResNet_model = Sequential()\n",
    "ResNet_model.add(GlobalAveragePooling2D(input_shape=train_resnet_features.shape[1:]))\n",
    "ResNet_model.add(BatchNormalization())\n",
    "ResNet_model.add(Dropout(0.5))\n",
    "\n",
    "ResNet_model.add(Dense(2 * 133,activation='relu'))\n",
    "ResNet_model.add(BatchNormalization())\n",
    "ResNet_model.add(Dropout(0.5))\n",
    "\n",
    "ResNet_model.add(Dense(133, activation='softmax'))\n",
    "\n",
    "ResNet_model.compile(loss='categorical_crossentropy', optimizer='adam', metrics=['accuracy'])\n",
    "\n",
    "ResNet_model.summary()"
   ]
  },
  {
   "cell_type": "code",
   "execution_count": 36,
   "metadata": {},
   "outputs": [],
   "source": [
    "from keras.utils import plot_model\n",
    "plot_model(ResNet_model, to_file='plots/resnet.png')"
   ]
  },
  {
   "cell_type": "code",
   "execution_count": 37,
   "metadata": {},
   "outputs": [
    {
     "name": "stdout",
     "output_type": "stream",
     "text": [
      "Train on 6680 samples, validate on 835 samples\n",
      "Epoch 1/30\n",
      "6400/6680 [===========================>..] - ETA: 0s - loss: 3.9297 - acc: 0.1955Epoch 00001: val_loss improved from inf to 2.09327, saving model to saved_models/resnet_transfer.hdf5\n",
      "6680/6680 [==============================] - 1s 206us/step - loss: 3.8759 - acc: 0.2019 - val_loss: 2.0933 - val_acc: 0.5796\n",
      "Epoch 2/30\n",
      "6400/6680 [===========================>..] - ETA: 0s - loss: 1.7565 - acc: 0.5598Epoch 00002: val_loss improved from 2.09327 to 1.31338, saving model to saved_models/resnet_transfer.hdf5\n",
      "6680/6680 [==============================] - 0s 69us/step - loss: 1.7492 - acc: 0.5609 - val_loss: 1.3134 - val_acc: 0.7210\n",
      "Epoch 3/30\n",
      "6400/6680 [===========================>..] - ETA: 0s - loss: 1.1696 - acc: 0.6928Epoch 00003: val_loss improved from 1.31338 to 0.98105, saving model to saved_models/resnet_transfer.hdf5\n",
      "6680/6680 [==============================] - 0s 67us/step - loss: 1.1717 - acc: 0.6922 - val_loss: 0.9811 - val_acc: 0.7617\n",
      "Epoch 4/30\n",
      "6400/6680 [===========================>..] - ETA: 0s - loss: 0.9308 - acc: 0.7527Epoch 00004: val_loss improved from 0.98105 to 0.80871, saving model to saved_models/resnet_transfer.hdf5\n",
      "6680/6680 [==============================] - 0s 68us/step - loss: 0.9298 - acc: 0.7522 - val_loss: 0.8087 - val_acc: 0.7916\n",
      "Epoch 5/30\n",
      "6400/6680 [===========================>..] - ETA: 0s - loss: 0.7549 - acc: 0.7941Epoch 00005: val_loss improved from 0.80871 to 0.72105, saving model to saved_models/resnet_transfer.hdf5\n",
      "6680/6680 [==============================] - 0s 67us/step - loss: 0.7571 - acc: 0.7934 - val_loss: 0.7211 - val_acc: 0.7880\n",
      "Epoch 6/30\n",
      "6400/6680 [===========================>..] - ETA: 0s - loss: 0.6481 - acc: 0.8152Epoch 00006: val_loss improved from 0.72105 to 0.65529, saving model to saved_models/resnet_transfer.hdf5\n",
      "6680/6680 [==============================] - 0s 68us/step - loss: 0.6426 - acc: 0.8175 - val_loss: 0.6553 - val_acc: 0.8156\n",
      "Epoch 7/30\n",
      "6400/6680 [===========================>..] - ETA: 0s - loss: 0.5617 - acc: 0.8373Epoch 00007: val_loss improved from 0.65529 to 0.62109, saving model to saved_models/resnet_transfer.hdf5\n",
      "6680/6680 [==============================] - 0s 68us/step - loss: 0.5592 - acc: 0.8386 - val_loss: 0.6211 - val_acc: 0.8204\n",
      "Epoch 8/30\n",
      "6400/6680 [===========================>..] - ETA: 0s - loss: 0.4939 - acc: 0.8606Epoch 00008: val_loss improved from 0.62109 to 0.59119, saving model to saved_models/resnet_transfer.hdf5\n",
      "6680/6680 [==============================] - 0s 68us/step - loss: 0.4925 - acc: 0.8606 - val_loss: 0.5912 - val_acc: 0.8287\n",
      "Epoch 9/30\n",
      "6400/6680 [===========================>..] - ETA: 0s - loss: 0.4407 - acc: 0.8752Epoch 00009: val_loss improved from 0.59119 to 0.58016, saving model to saved_models/resnet_transfer.hdf5\n",
      "6680/6680 [==============================] - 0s 69us/step - loss: 0.4386 - acc: 0.8766 - val_loss: 0.5802 - val_acc: 0.8204\n",
      "Epoch 10/30\n",
      "6272/6680 [===========================>..] - ETA: 0s - loss: 0.3946 - acc: 0.8938Epoch 00010: val_loss improved from 0.58016 to 0.56492, saving model to saved_models/resnet_transfer.hdf5\n",
      "6680/6680 [==============================] - 0s 69us/step - loss: 0.3970 - acc: 0.8916 - val_loss: 0.5649 - val_acc: 0.8287\n",
      "Epoch 11/30\n",
      "6144/6680 [==========================>...] - ETA: 0s - loss: 0.3637 - acc: 0.8960Epoch 00011: val_loss improved from 0.56492 to 0.55816, saving model to saved_models/resnet_transfer.hdf5\n",
      "6680/6680 [==============================] - 0s 70us/step - loss: 0.3650 - acc: 0.8954 - val_loss: 0.5582 - val_acc: 0.8335\n",
      "Epoch 12/30\n",
      "6144/6680 [==========================>...] - ETA: 0s - loss: 0.3282 - acc: 0.9069Epoch 00012: val_loss improved from 0.55816 to 0.55543, saving model to saved_models/resnet_transfer.hdf5\n",
      "6680/6680 [==============================] - 0s 71us/step - loss: 0.3280 - acc: 0.9070 - val_loss: 0.5554 - val_acc: 0.8335\n",
      "Epoch 13/30\n",
      "6272/6680 [===========================>..] - ETA: 0s - loss: 0.3037 - acc: 0.9161Epoch 00013: val_loss improved from 0.55543 to 0.55053, saving model to saved_models/resnet_transfer.hdf5\n",
      "6680/6680 [==============================] - 0s 69us/step - loss: 0.3049 - acc: 0.9153 - val_loss: 0.5505 - val_acc: 0.8347\n",
      "Epoch 14/30\n",
      "6144/6680 [==========================>...] - ETA: 0s - loss: 0.2887 - acc: 0.9181Epoch 00014: val_loss improved from 0.55053 to 0.53281, saving model to saved_models/resnet_transfer.hdf5\n",
      "6680/6680 [==============================] - 0s 72us/step - loss: 0.2900 - acc: 0.9175 - val_loss: 0.5328 - val_acc: 0.8395\n",
      "Epoch 15/30\n",
      "6016/6680 [==========================>...] - ETA: 0s - loss: 0.2588 - acc: 0.9277Epoch 00015: val_loss did not improve\n",
      "6680/6680 [==============================] - 0s 66us/step - loss: 0.2612 - acc: 0.9278 - val_loss: 0.5384 - val_acc: 0.8359\n",
      "Epoch 16/30\n",
      "5888/6680 [=========================>....] - ETA: 0s - loss: 0.2476 - acc: 0.9268Epoch 00016: val_loss improved from 0.53281 to 0.53261, saving model to saved_models/resnet_transfer.hdf5\n",
      "6680/6680 [==============================] - 0s 65us/step - loss: 0.2469 - acc: 0.9266 - val_loss: 0.5326 - val_acc: 0.8335\n",
      "Epoch 17/30\n",
      "6400/6680 [===========================>..] - ETA: 0s - loss: 0.2343 - acc: 0.9334Epoch 00017: val_loss improved from 0.53261 to 0.52580, saving model to saved_models/resnet_transfer.hdf5\n",
      "6680/6680 [==============================] - 0s 67us/step - loss: 0.2353 - acc: 0.9328 - val_loss: 0.5258 - val_acc: 0.8359\n",
      "Epoch 18/30\n",
      "6400/6680 [===========================>..] - ETA: 0s - loss: 0.2205 - acc: 0.9359Epoch 00018: val_loss improved from 0.52580 to 0.52268, saving model to saved_models/resnet_transfer.hdf5\n",
      "6680/6680 [==============================] - 0s 67us/step - loss: 0.2198 - acc: 0.9370 - val_loss: 0.5227 - val_acc: 0.8323\n",
      "Epoch 19/30\n",
      "6656/6680 [============================>.] - ETA: 0s - loss: 0.2173 - acc: 0.9361Epoch 00019: val_loss improved from 0.52268 to 0.52243, saving model to saved_models/resnet_transfer.hdf5\n",
      "6680/6680 [==============================] - 0s 66us/step - loss: 0.2176 - acc: 0.9362 - val_loss: 0.5224 - val_acc: 0.8347\n",
      "Epoch 20/30\n",
      "5888/6680 [=========================>....] - ETA: 0s - loss: 0.2013 - acc: 0.9407Epoch 00020: val_loss did not improve\n",
      "6680/6680 [==============================] - 0s 59us/step - loss: 0.2014 - acc: 0.9409 - val_loss: 0.5239 - val_acc: 0.8383\n",
      "Epoch 21/30\n",
      "6272/6680 [===========================>..] - ETA: 0s - loss: 0.1895 - acc: 0.9474Epoch 00021: val_loss did not improve\n",
      "6680/6680 [==============================] - 0s 58us/step - loss: 0.1934 - acc: 0.9451 - val_loss: 0.5249 - val_acc: 0.8359\n",
      "Epoch 22/30\n",
      "6016/6680 [==========================>...] - ETA: 0s - loss: 0.1849 - acc: 0.9432Epoch 00022: val_loss did not improve\n",
      "6680/6680 [==============================] - 0s 58us/step - loss: 0.1894 - acc: 0.9415 - val_loss: 0.5398 - val_acc: 0.8323\n",
      "Epoch 23/30\n",
      "6272/6680 [===========================>..] - ETA: 0s - loss: 0.1781 - acc: 0.9518Epoch 00023: val_loss did not improve\n",
      "6680/6680 [==============================] - 0s 58us/step - loss: 0.1803 - acc: 0.9513 - val_loss: 0.5288 - val_acc: 0.8383\n",
      "Epoch 24/30\n",
      "6272/6680 [===========================>..] - ETA: 0s - loss: 0.1705 - acc: 0.9495Epoch 00024: val_loss did not improve\n",
      "6680/6680 [==============================] - 0s 58us/step - loss: 0.1704 - acc: 0.9501 - val_loss: 0.5277 - val_acc: 0.8323\n",
      "Epoch 25/30\n",
      "6144/6680 [==========================>...] - ETA: 0s - loss: 0.1587 - acc: 0.9525Epoch 00025: val_loss did not improve\n",
      "6680/6680 [==============================] - 0s 58us/step - loss: 0.1576 - acc: 0.9528 - val_loss: 0.5249 - val_acc: 0.8455\n",
      "Epoch 26/30\n",
      "6144/6680 [==========================>...] - ETA: 0s - loss: 0.1470 - acc: 0.9565Epoch 00026: val_loss did not improve\n",
      "6680/6680 [==============================] - 0s 58us/step - loss: 0.1487 - acc: 0.9551 - val_loss: 0.5226 - val_acc: 0.8371\n",
      "Epoch 27/30\n",
      "6272/6680 [===========================>..] - ETA: 0s - loss: 0.1450 - acc: 0.9563Epoch 00027: val_loss improved from 0.52243 to 0.51931, saving model to saved_models/resnet_transfer.hdf5\n",
      "6680/6680 [==============================] - 0s 61us/step - loss: 0.1470 - acc: 0.9557 - val_loss: 0.5193 - val_acc: 0.8407\n"
     ]
    },
    {
     "name": "stdout",
     "output_type": "stream",
     "text": [
      "Epoch 28/30\n",
      "6272/6680 [===========================>..] - ETA: 0s - loss: 0.1479 - acc: 0.9557Epoch 00028: val_loss did not improve\n",
      "6680/6680 [==============================] - 0s 58us/step - loss: 0.1496 - acc: 0.9542 - val_loss: 0.5261 - val_acc: 0.8323\n",
      "Epoch 29/30\n",
      "6016/6680 [==========================>...] - ETA: 0s - loss: 0.1510 - acc: 0.9566Epoch 00029: val_loss improved from 0.51931 to 0.49699, saving model to saved_models/resnet_transfer.hdf5\n",
      "6680/6680 [==============================] - 0s 62us/step - loss: 0.1514 - acc: 0.9557 - val_loss: 0.4970 - val_acc: 0.8371\n",
      "Epoch 30/30\n",
      "6144/6680 [==========================>...] - ETA: 0s - loss: 0.1429 - acc: 0.9556Epoch 00030: val_loss did not improve\n",
      "6680/6680 [==============================] - 0s 58us/step - loss: 0.1443 - acc: 0.9548 - val_loss: 0.5099 - val_acc: 0.8383\n"
     ]
    }
   ],
   "source": [
    "from keras.callbacks import EarlyStopping\n",
    "from keras.callbacks import ModelCheckpoint  \n",
    "\n",
    "checkpointer = ModelCheckpoint(filepath='saved_models/resnet_transfer.hdf5', \n",
    "                               verbose=1, save_best_only=True)\n",
    "\n",
    "\n",
    "history_resnet = ResNet_model.fit(train_resnet_features, train_targets, \n",
    "          batch_size = 128,\n",
    "          epochs=30,\n",
    "          verbose=1,\n",
    "          validation_data=(valid_resnet_features, valid_targets),\n",
    "          callbacks=[checkpointer, EarlyStopping(min_delta=1e-7, patience=15)\n",
    "          ])"
   ]
  },
  {
   "cell_type": "code",
   "execution_count": 38,
   "metadata": {},
   "outputs": [
    {
     "data": {
      "image/png": "[encoded data removed]",
      "text/plain": [
       "<matplotlib.figure.Figure at 0x7f7fcca39350>"
      ]
     },
     "metadata": {},
     "output_type": "display_data"
    }
   ],
   "source": [
    "import matplotlib.pyplot as plt\n",
    "plt.subplots(figsize = (10,10))\n",
    "plt.subplot(2, 1, 1)\n",
    "\n",
    "plt.plot(history_resnet.history['acc'], label = \"Training Acc\")\n",
    "plt.plot(history_resnet.history['val_acc'], label = \"Validation Acc\")\n",
    "\n",
    "plt.legend()\n",
    "plt.xlabel(\"Epochs\")\n",
    "plt.ylabel(\"Accuracy\")\n",
    "plt.title(\"Accuracy vs Number of Iterations\")\n",
    "plt.grid()\n",
    "\n",
    "\n",
    "plt.subplot(2, 1, 2)\n",
    "plt.plot(history_resnet.history['loss'], label = \"Training Loss\")\n",
    "plt.plot(history_resnet.history['val_loss'], label = \"Validation loss\")\n",
    "plt.legend()\n",
    "plt.xlabel(\"Epochs\")\n",
    "plt.ylabel(\"Loss\")\n",
    "plt.title(\"Loss vs Number of Iterations\")\n",
    "plt.grid()\n",
    "plt.savefig('plots/training_resnet.png')\n",
    "plt.show()"
   ]
  },
  {
   "cell_type": "code",
   "execution_count": 39,
   "metadata": {},
   "outputs": [],
   "source": [
    "### Load the model weights with the best validation loss.\n",
    "ResNet_model.load_weights('saved_models/resnet_transfer.hdf5')"
   ]
  },
  {
   "cell_type": "code",
   "execution_count": 40,
   "metadata": {},
   "outputs": [
    {
     "name": "stdout",
     "output_type": "stream",
     "text": [
      "Test accuracy: 82.6555%\n"
     ]
    }
   ],
   "source": [
    "# get index of predicted dog breed for each image in test set\n",
    "ResNet50_predictions = [np.argmax(ResNet_model.predict(np.expand_dims(feature, axis=0))) for feature in test_resnet_features]\n",
    "\n",
    "# report test accuracy\n",
    "test_accuracy = 100.0*np.sum(np.array(ResNet50_predictions)==np.argmax(test_targets, axis=1))/len(ResNet50_predictions)\n",
    "print('Test accuracy: %.4f%%' % test_accuracy)"
   ]
  },
  {
   "cell_type": "code",
   "execution_count": 41,
   "metadata": {},
   "outputs": [
    {
     "name": "stdout",
     "output_type": "stream",
     "text": [
      "Validation accuracy: 83.7126%\n"
     ]
    }
   ],
   "source": [
    "# get index of predicted dog breed for each image in test set\n",
    "ResNet50_predictions = [np.argmax(ResNet_model.predict(np.expand_dims(feature, axis=0))) for feature in valid_resnet_features]\n",
    "\n",
    "# report test accuracy\n",
    "valid_accuracy = 100.0*np.sum(np.array(ResNet50_predictions)==np.argmax(valid_targets, axis=1))/len(ResNet50_predictions)\n",
    "print('Validation accuracy: %.4f%%' % valid_accuracy)"
   ]
  },
  {
   "cell_type": "code",
   "execution_count": null,
   "metadata": {},
   "outputs": [],
   "source": []
  },
  {
   "cell_type": "code",
   "execution_count": null,
   "metadata": {},
   "outputs": [],
   "source": []
  },
  {
   "cell_type": "code",
   "execution_count": null,
   "metadata": {},
   "outputs": [],
   "source": []
  },
  {
   "cell_type": "code",
   "execution_count": null,
   "metadata": {},
   "outputs": [],
   "source": []
  },
  {
   "cell_type": "code",
   "execution_count": null,
   "metadata": {},
   "outputs": [],
   "source": [
    "# INCEPTION"
   ]
  },
  {
   "cell_type": "code",
   "execution_count": 4,
   "metadata": {},
   "outputs": [],
   "source": [
    "# Alternatively just use saved pretrained features\n",
    "bottleneck_features = np.load('bottleneck_features/DogInceptionV3Data.npz')\n",
    "train_inception_features = bottleneck_features['train']\n",
    "valid_inception_features = bottleneck_features['valid']\n",
    "test_inception_features = bottleneck_features['test']"
   ]
  },
  {
   "cell_type": "code",
   "execution_count": 6,
   "metadata": {},
   "outputs": [
    {
     "name": "stdout",
     "output_type": "stream",
     "text": [
      "_________________________________________________________________\n",
      "Layer (type)                 Output Shape              Param #   \n",
      "=================================================================\n",
      "global_average_pooling2d_2 ( (None, 2048)              0         \n",
      "_________________________________________________________________\n",
      "batch_normalization_1 (Batch (None, 2048)              8192      \n",
      "_________________________________________________________________\n",
      "dropout_1 (Dropout)          (None, 2048)              0         \n",
      "_________________________________________________________________\n",
      "dense_1 (Dense)              (None, 266)               545034    \n",
      "_________________________________________________________________\n",
      "batch_normalization_2 (Batch (None, 266)               1064      \n",
      "_________________________________________________________________\n",
      "dropout_2 (Dropout)          (None, 266)               0         \n",
      "_________________________________________________________________\n",
      "dense_2 (Dense)              (None, 133)               35511     \n",
      "=================================================================\n",
      "Total params: 589,801\n",
      "Trainable params: 585,173\n",
      "Non-trainable params: 4,628\n",
      "_________________________________________________________________\n"
     ]
    }
   ],
   "source": [
    "import keras\n",
    "from keras.models import Sequential\n",
    "from keras.layers import Flatten, Dense, Dropout\n",
    "from keras import regularizers\n",
    "from keras.layers import Conv2D, MaxPooling2D, GlobalAveragePooling2D\n",
    "from keras.layers.normalization import BatchNormalization\n",
    "\n",
    "inception_model = Sequential()\n",
    "inception_model.add(GlobalAveragePooling2D(input_shape=train_inception_features.shape[1:]))\n",
    "inception_model.add(BatchNormalization())\n",
    "inception_model.add(Dropout(0.5))\n",
    "\n",
    "inception_model.add(Dense(2 * 133,activation='relu'))\n",
    "inception_model.add(BatchNormalization())\n",
    "inception_model.add(Dropout(0.5))\n",
    "\n",
    "inception_model.add(Dense(133, activation='softmax'))\n",
    "\n",
    "inception_model.compile(loss='categorical_crossentropy', optimizer='adam', metrics=['accuracy'])\n",
    "\n",
    "inception_model.summary()"
   ]
  },
  {
   "cell_type": "code",
   "execution_count": 44,
   "metadata": {},
   "outputs": [],
   "source": [
    "from keras.utils import plot_model\n",
    "plot_model(inception_model, to_file='plots/inception.png')"
   ]
  },
  {
   "cell_type": "code",
   "execution_count": 7,
   "metadata": {},
   "outputs": [
    {
     "name": "stdout",
     "output_type": "stream",
     "text": [
      "Train on 6680 samples, validate on 835 samples\n",
      "Epoch 1/30\n",
      "6624/6680 [============================>.] - ETA: 0s - loss: 1.9437 - acc: 0.5373Epoch 00001: val_loss improved from inf to 0.60544, saving model to saved_models/inception_transfer.hdf5\n",
      "6680/6680 [==============================] - 12s 2ms/step - loss: 1.9362 - acc: 0.5389 - val_loss: 0.6054 - val_acc: 0.8024\n",
      "Epoch 2/30\n",
      "6624/6680 [============================>.] - ETA: 0s - loss: 0.9287 - acc: 0.7317Epoch 00002: val_loss improved from 0.60544 to 0.53920, saving model to saved_models/inception_transfer.hdf5\n",
      "6680/6680 [==============================] - 6s 937us/step - loss: 0.9318 - acc: 0.7311 - val_loss: 0.5392 - val_acc: 0.8240\n",
      "Epoch 3/30\n",
      "6672/6680 [============================>.] - ETA: 0s - loss: 0.7976 - acc: 0.7627Epoch 00003: val_loss improved from 0.53920 to 0.53676, saving model to saved_models/inception_transfer.hdf5\n",
      "6680/6680 [==============================] - 6s 944us/step - loss: 0.7976 - acc: 0.7626 - val_loss: 0.5368 - val_acc: 0.8395\n",
      "Epoch 4/30\n",
      "6672/6680 [============================>.] - ETA: 0s - loss: 0.7088 - acc: 0.7840Epoch 00004: val_loss did not improve\n",
      "6680/6680 [==============================] - 6s 945us/step - loss: 0.7090 - acc: 0.7840 - val_loss: 0.5484 - val_acc: 0.8395\n",
      "Epoch 5/30\n",
      "6648/6680 [============================>.] - ETA: 0s - loss: 0.6627 - acc: 0.7983Epoch 00005: val_loss did not improve\n",
      "6680/6680 [==============================] - 6s 947us/step - loss: 0.6649 - acc: 0.7978 - val_loss: 0.5413 - val_acc: 0.8383\n",
      "Epoch 6/30\n",
      "6624/6680 [============================>.] - ETA: 0s - loss: 0.5971 - acc: 0.8184Epoch 00006: val_loss improved from 0.53676 to 0.53109, saving model to saved_models/inception_transfer.hdf5\n",
      "6680/6680 [==============================] - 6s 952us/step - loss: 0.5974 - acc: 0.8178 - val_loss: 0.5311 - val_acc: 0.8395\n",
      "Epoch 7/30\n",
      "6624/6680 [============================>.] - ETA: 0s - loss: 0.5692 - acc: 0.8264Epoch 00007: val_loss did not improve\n",
      "6680/6680 [==============================] - 6s 953us/step - loss: 0.5683 - acc: 0.8265 - val_loss: 0.5651 - val_acc: 0.8491\n",
      "Epoch 8/30\n",
      "6664/6680 [============================>.] - ETA: 0s - loss: 0.5503 - acc: 0.8274Epoch 00008: val_loss did not improve\n",
      "6680/6680 [==============================] - 7s 973us/step - loss: 0.5512 - acc: 0.8272 - val_loss: 0.5359 - val_acc: 0.8551\n",
      "Epoch 9/30\n",
      "6624/6680 [============================>.] - ETA: 0s - loss: 0.5482 - acc: 0.8258Epoch 00009: val_loss did not improve\n",
      "6680/6680 [==============================] - 7s 973us/step - loss: 0.5470 - acc: 0.8260 - val_loss: 0.5428 - val_acc: 0.8467\n",
      "Epoch 10/30\n",
      "6648/6680 [============================>.] - ETA: 0s - loss: 0.5075 - acc: 0.8384Epoch 00010: val_loss did not improve\n",
      "6680/6680 [==============================] - 6s 951us/step - loss: 0.5076 - acc: 0.8386 - val_loss: 0.6098 - val_acc: 0.8503\n",
      "Epoch 11/30\n",
      "6672/6680 [============================>.] - ETA: 0s - loss: 0.4910 - acc: 0.8420Epoch 00011: val_loss did not improve\n",
      "6680/6680 [==============================] - 7s 976us/step - loss: 0.4911 - acc: 0.8419 - val_loss: 0.6080 - val_acc: 0.8335\n",
      "Epoch 12/30\n",
      "6624/6680 [============================>.] - ETA: 0s - loss: 0.4529 - acc: 0.8527Epoch 00012: val_loss did not improve\n",
      "6680/6680 [==============================] - 6s 973us/step - loss: 0.4535 - acc: 0.8528 - val_loss: 0.5748 - val_acc: 0.8551\n",
      "Epoch 13/30\n",
      "6672/6680 [============================>.] - ETA: 0s - loss: 0.4232 - acc: 0.8621Epoch 00013: val_loss did not improve\n",
      "6680/6680 [==============================] - 6s 939us/step - loss: 0.4229 - acc: 0.8623 - val_loss: 0.5958 - val_acc: 0.8383\n",
      "Epoch 14/30\n",
      "6672/6680 [============================>.] - ETA: 0s - loss: 0.4303 - acc: 0.8615Epoch 00014: val_loss did not improve\n",
      "6680/6680 [==============================] - 6s 961us/step - loss: 0.4314 - acc: 0.8612 - val_loss: 0.5920 - val_acc: 0.8611\n",
      "Epoch 15/30\n",
      "6672/6680 [============================>.] - ETA: 0s - loss: 0.4169 - acc: 0.8659Epoch 00015: val_loss did not improve\n",
      "6680/6680 [==============================] - 6s 964us/step - loss: 0.4170 - acc: 0.8657 - val_loss: 0.6298 - val_acc: 0.8407\n",
      "Epoch 16/30\n",
      "6616/6680 [============================>.] - ETA: 0s - loss: 0.4186 - acc: 0.8674Epoch 00016: val_loss did not improve\n",
      "6680/6680 [==============================] - 6s 939us/step - loss: 0.4190 - acc: 0.8672 - val_loss: 0.5691 - val_acc: 0.8515\n",
      "Epoch 17/30\n",
      "6632/6680 [============================>.] - ETA: 0s - loss: 0.3855 - acc: 0.8756Epoch 00017: val_loss did not improve\n",
      "6680/6680 [==============================] - 6s 959us/step - loss: 0.3878 - acc: 0.8754 - val_loss: 0.5972 - val_acc: 0.8527\n",
      "Epoch 18/30\n",
      "6672/6680 [============================>.] - ETA: 0s - loss: 0.3856 - acc: 0.8769Epoch 00018: val_loss did not improve\n",
      "6680/6680 [==============================] - 6s 966us/step - loss: 0.3856 - acc: 0.8769 - val_loss: 0.5694 - val_acc: 0.8539\n",
      "Epoch 19/30\n",
      "6656/6680 [============================>.] - ETA: 0s - loss: 0.3628 - acc: 0.8861Epoch 00019: val_loss did not improve\n",
      "6680/6680 [==============================] - 6s 950us/step - loss: 0.3623 - acc: 0.8864 - val_loss: 0.5592 - val_acc: 0.8455\n",
      "Epoch 20/30\n",
      "6672/6680 [============================>.] - ETA: 0s - loss: 0.3548 - acc: 0.8850Epoch 00020: val_loss did not improve\n",
      "6680/6680 [==============================] - 6s 969us/step - loss: 0.3552 - acc: 0.8850 - val_loss: 0.5885 - val_acc: 0.8683\n",
      "Epoch 21/30\n",
      "6624/6680 [============================>.] - ETA: 0s - loss: 0.3581 - acc: 0.8836Epoch 00021: val_loss did not improve\n",
      "6680/6680 [==============================] - 6s 973us/step - loss: 0.3576 - acc: 0.8835 - val_loss: 0.5888 - val_acc: 0.8611\n"
     ]
    }
   ],
   "source": [
    "from keras.callbacks import EarlyStopping\n",
    "from keras.callbacks import ModelCheckpoint  \n",
    "\n",
    "checkpointer = ModelCheckpoint(filepath='saved_models/inception_transfer.hdf5', \n",
    "                               verbose=1, save_best_only=True)\n",
    "\n",
    "\n",
    "history_inception = inception_model.fit(train_inception_features, train_targets, \n",
    "          batch_size = 8,\n",
    "          epochs=30,\n",
    "          verbose=1,\n",
    "          validation_data=(valid_inception_features, valid_targets),\n",
    "          callbacks=[checkpointer, EarlyStopping(min_delta=1e-7, patience=15)\n",
    "          ])"
   ]
  },
  {
   "cell_type": "code",
   "execution_count": 8,
   "metadata": {},
   "outputs": [
    {
     "data": {
      "image/png": "[encoded data removed]",
      "text/plain": [
       "<matplotlib.figure.Figure at 0x7f9772926890>"
      ]
     },
     "metadata": {},
     "output_type": "display_data"
    }
   ],
   "source": [
    "import matplotlib.pyplot as plt\n",
    "plt.subplots(figsize = (10,10))\n",
    "plt.subplot(2, 1, 1)\n",
    "\n",
    "plt.plot(history_inception.history['acc'], label = \"Training Acc\")\n",
    "plt.plot(history_inception.history['val_acc'], label = \"Validation Acc\")\n",
    "\n",
    "plt.legend()\n",
    "plt.xlabel(\"Epochs\")\n",
    "plt.ylabel(\"Accuracy\")\n",
    "plt.title(\"Accuracy vs Number of Iterations\")\n",
    "plt.grid()\n",
    "\n",
    "\n",
    "plt.subplot(2, 1, 2)\n",
    "plt.plot(history_inception.history['loss'], label = \"Training Loss\")\n",
    "plt.plot(history_inception.history['val_loss'], label = \"Validation loss\")\n",
    "plt.legend()\n",
    "plt.xlabel(\"Epochs\")\n",
    "plt.ylabel(\"Loss\")\n",
    "plt.title(\"Loss vs Number of Iterations\")\n",
    "plt.grid()\n",
    "plt.savefig('plots/training_inception.png')\n",
    "plt.show()\n"
   ]
  },
  {
   "cell_type": "code",
   "execution_count": 47,
   "metadata": {},
   "outputs": [],
   "source": [
    "### Load the model weights with the best validation loss.\n",
    "inception_model.load_weights('saved_models/inception_transfer.hdf5')"
   ]
  },
  {
   "cell_type": "code",
   "execution_count": 49,
   "metadata": {},
   "outputs": [
    {
     "name": "stdout",
     "output_type": "stream",
     "text": [
      "Test accuracy: 83.1340%\n"
     ]
    }
   ],
   "source": [
    "# get index of predicted dog breed for each image in test set\n",
    "inception_predictions = [np.argmax(inception_model.predict(np.expand_dims(feature, axis=0))) for feature in test_inception_features]\n",
    "\n",
    "# report test accuracy\n",
    "test_accuracy = 100.0*np.sum(np.array(inception_predictions)==np.argmax(test_targets, axis=1))/len(inception_predictions)\n",
    "print('Test accuracy: %.4f%%' % test_accuracy)"
   ]
  },
  {
   "cell_type": "code",
   "execution_count": 50,
   "metadata": {},
   "outputs": [
    {
     "name": "stdout",
     "output_type": "stream",
     "text": [
      "Validation accuracy: 85.1497%\n"
     ]
    }
   ],
   "source": [
    "# get index of predicted dog breed for each image in test set\n",
    "inception_predictions = [np.argmax(inception_model.predict(np.expand_dims(feature, axis=0))) for feature in valid_inception_features]\n",
    "\n",
    "# report test accuracy\n",
    "valid_accuracy = 100.0*np.sum(np.array(inception_predictions)==np.argmax(valid_targets, axis=1))/len(inception_predictions)\n",
    "print('Validation accuracy: %.4f%%' % valid_accuracy)"
   ]
  },
  {
   "cell_type": "code",
   "execution_count": null,
   "metadata": {},
   "outputs": [],
   "source": []
  },
  {
   "cell_type": "code",
   "execution_count": null,
   "metadata": {},
   "outputs": [],
   "source": []
  },
  {
   "cell_type": "code",
   "execution_count": null,
   "metadata": {},
   "outputs": [],
   "source": []
  },
  {
   "cell_type": "code",
   "execution_count": null,
   "metadata": {},
   "outputs": [],
   "source": []
  },
  {
   "cell_type": "code",
   "execution_count": null,
   "metadata": {},
   "outputs": [],
   "source": []
  },
  {
   "cell_type": "code",
   "execution_count": null,
   "metadata": {},
   "outputs": [],
   "source": []
  },
  {
   "cell_type": "code",
   "execution_count": null,
   "metadata": {},
   "outputs": [],
   "source": []
  },
  {
   "cell_type": "code",
   "execution_count": null,
   "metadata": {},
   "outputs": [],
   "source": []
  },
  {
   "cell_type": "code",
   "execution_count": null,
   "metadata": {},
   "outputs": [],
   "source": []
  },
  {
   "cell_type": "code",
   "execution_count": null,
   "metadata": {},
   "outputs": [],
   "source": [
    "#XCEPTION"
   ]
  },
  {
   "cell_type": "code",
   "execution_count": 51,
   "metadata": {},
   "outputs": [],
   "source": [
    "# Alternatively just use saved pretrained features\n",
    "bottleneck_features = np.load('bottleneck_features/DogXceptionData.npz')\n",
    "train_xception_features = bottleneck_features['train']\n",
    "valid_xception_features = bottleneck_features['valid']\n",
    "test_xception_features = bottleneck_features['test']"
   ]
  },
  {
   "cell_type": "code",
   "execution_count": 52,
   "metadata": {},
   "outputs": [
    {
     "name": "stdout",
     "output_type": "stream",
     "text": [
      "_________________________________________________________________\n",
      "Layer (type)                 Output Shape              Param #   \n",
      "=================================================================\n",
      "global_average_pooling2d_6 ( (None, 2048)              0         \n",
      "_________________________________________________________________\n",
      "batch_normalization_23 (Batc (None, 2048)              8192      \n",
      "_________________________________________________________________\n",
      "dropout_9 (Dropout)          (None, 2048)              0         \n",
      "_________________________________________________________________\n",
      "dense_9 (Dense)              (None, 266)               545034    \n",
      "_________________________________________________________________\n",
      "batch_normalization_24 (Batc (None, 266)               1064      \n",
      "_________________________________________________________________\n",
      "dropout_10 (Dropout)         (None, 266)               0         \n",
      "_________________________________________________________________\n",
      "dense_10 (Dense)             (None, 133)               35511     \n",
      "=================================================================\n",
      "Total params: 589,801\n",
      "Trainable params: 585,173\n",
      "Non-trainable params: 4,628\n",
      "_________________________________________________________________\n"
     ]
    }
   ],
   "source": [
    "import keras\n",
    "from keras.models import Sequential\n",
    "from keras.layers import Flatten, Dense, Dropout\n",
    "from keras import regularizers\n",
    "from keras.layers import Conv2D, MaxPooling2D, GlobalAveragePooling2D\n",
    "\n",
    "xception_model = Sequential()\n",
    "xception_model.add(GlobalAveragePooling2D(input_shape=train_xception_features.shape[1:]))\n",
    "xception_model.add(BatchNormalization())\n",
    "xception_model.add(Dropout(0.5))\n",
    "\n",
    "xception_model.add(Dense(2 * 133,activation='relu'))\n",
    "xception_model.add(BatchNormalization())\n",
    "xception_model.add(Dropout(0.5))\n",
    "\n",
    "xception_model.add(Dense(133, activation='softmax'))\n",
    "\n",
    "xception_model.compile(loss='categorical_crossentropy', optimizer='adam', metrics=['accuracy'])\n",
    "\n",
    "xception_model.summary()"
   ]
  },
  {
   "cell_type": "code",
   "execution_count": 53,
   "metadata": {},
   "outputs": [],
   "source": [
    "from keras.utils import plot_model\n",
    "plot_model(xception_model, to_file='plots/xception.png')"
   ]
  },
  {
   "cell_type": "code",
   "execution_count": 54,
   "metadata": {},
   "outputs": [
    {
     "name": "stdout",
     "output_type": "stream",
     "text": [
      "Train on 6680 samples, validate on 835 samples\n",
      "Epoch 1/30\n",
      "6640/6680 [============================>.] - ETA: 0s - loss: 1.9555 - acc: 0.5354Epoch 00001: val_loss improved from inf to 0.66567, saving model to saved_models/xception_transfer.hdf5\n",
      "6680/6680 [==============================] - 9s 1ms/step - loss: 1.9511 - acc: 0.5362 - val_loss: 0.6657 - val_acc: 0.8048\n",
      "Epoch 2/30\n",
      "6632/6680 [============================>.] - ETA: 0s - loss: 0.9463 - acc: 0.7296Epoch 00002: val_loss improved from 0.66567 to 0.61436, saving model to saved_models/xception_transfer.hdf5\n",
      "6680/6680 [==============================] - 8s 1ms/step - loss: 0.9479 - acc: 0.7292 - val_loss: 0.6144 - val_acc: 0.8251\n",
      "Epoch 3/30\n",
      "6656/6680 [============================>.] - ETA: 0s - loss: 0.8382 - acc: 0.7521Epoch 00003: val_loss improved from 0.61436 to 0.55726, saving model to saved_models/xception_transfer.hdf5\n",
      "6680/6680 [==============================] - 7s 1ms/step - loss: 0.8374 - acc: 0.7522 - val_loss: 0.5573 - val_acc: 0.8120\n",
      "Epoch 4/30\n",
      "6664/6680 [============================>.] - ETA: 0s - loss: 0.7309 - acc: 0.7866Epoch 00004: val_loss improved from 0.55726 to 0.54176, saving model to saved_models/xception_transfer.hdf5\n",
      "6680/6680 [==============================] - 7s 1ms/step - loss: 0.7305 - acc: 0.7867 - val_loss: 0.5418 - val_acc: 0.8275\n",
      "Epoch 5/30\n",
      "6632/6680 [============================>.] - ETA: 0s - loss: 0.6870 - acc: 0.7945Epoch 00005: val_loss improved from 0.54176 to 0.53645, saving model to saved_models/xception_transfer.hdf5\n",
      "6680/6680 [==============================] - 7s 1ms/step - loss: 0.6862 - acc: 0.7948 - val_loss: 0.5364 - val_acc: 0.8443\n",
      "Epoch 6/30\n",
      "6624/6680 [============================>.] - ETA: 0s - loss: 0.6464 - acc: 0.8069Epoch 00006: val_loss improved from 0.53645 to 0.52423, saving model to saved_models/xception_transfer.hdf5\n",
      "6680/6680 [==============================] - 7s 1ms/step - loss: 0.6487 - acc: 0.8063 - val_loss: 0.5242 - val_acc: 0.8419\n",
      "Epoch 7/30\n",
      "6648/6680 [============================>.] - ETA: 0s - loss: 0.6123 - acc: 0.8084Epoch 00007: val_loss did not improve\n",
      "6680/6680 [==============================] - 7s 1ms/step - loss: 0.6110 - acc: 0.8088 - val_loss: 0.5856 - val_acc: 0.8359\n",
      "Epoch 8/30\n",
      "6664/6680 [============================>.] - ETA: 0s - loss: 0.5971 - acc: 0.8106Epoch 00008: val_loss did not improve\n",
      "6680/6680 [==============================] - 7s 1ms/step - loss: 0.5980 - acc: 0.8106 - val_loss: 0.5714 - val_acc: 0.8359\n",
      "Epoch 9/30\n",
      "6648/6680 [============================>.] - ETA: 0s - loss: 0.5773 - acc: 0.8207Epoch 00009: val_loss did not improve\n",
      "6680/6680 [==============================] - 7s 1ms/step - loss: 0.5781 - acc: 0.8204 - val_loss: 0.5364 - val_acc: 0.8431\n",
      "Epoch 10/30\n",
      "6664/6680 [============================>.] - ETA: 0s - loss: 0.5368 - acc: 0.8322Epoch 00010: val_loss did not improve\n",
      "6680/6680 [==============================] - 7s 1ms/step - loss: 0.5369 - acc: 0.8322 - val_loss: 0.5612 - val_acc: 0.8299\n",
      "Epoch 11/30\n",
      "6672/6680 [============================>.] - ETA: 0s - loss: 0.5391 - acc: 0.8299Epoch 00011: val_loss did not improve\n",
      "6680/6680 [==============================] - 7s 1ms/step - loss: 0.5386 - acc: 0.8299 - val_loss: 0.5428 - val_acc: 0.8431\n",
      "Epoch 12/30\n",
      "6672/6680 [============================>.] - ETA: 0s - loss: 0.4989 - acc: 0.8422Epoch 00012: val_loss did not improve\n",
      "6680/6680 [==============================] - 7s 1ms/step - loss: 0.4993 - acc: 0.8421 - val_loss: 0.5555 - val_acc: 0.8383\n",
      "Epoch 13/30\n",
      "6664/6680 [============================>.] - ETA: 0s - loss: 0.4866 - acc: 0.8456Epoch 00013: val_loss did not improve\n",
      "6680/6680 [==============================] - 7s 1ms/step - loss: 0.4869 - acc: 0.8454 - val_loss: 0.5672 - val_acc: 0.8371\n",
      "Epoch 14/30\n",
      "6672/6680 [============================>.] - ETA: 0s - loss: 0.4891 - acc: 0.8405Epoch 00014: val_loss did not improve\n",
      "6680/6680 [==============================] - 7s 1ms/step - loss: 0.4887 - acc: 0.8406 - val_loss: 0.5723 - val_acc: 0.8347\n",
      "Epoch 15/30\n",
      "6624/6680 [============================>.] - ETA: 0s - loss: 0.4564 - acc: 0.8525Epoch 00015: val_loss did not improve\n",
      "6680/6680 [==============================] - 7s 1ms/step - loss: 0.4572 - acc: 0.8525 - val_loss: 0.5746 - val_acc: 0.8371\n",
      "Epoch 16/30\n",
      "6640/6680 [============================>.] - ETA: 0s - loss: 0.4780 - acc: 0.8474Epoch 00016: val_loss did not improve\n",
      "6680/6680 [==============================] - 7s 1ms/step - loss: 0.4771 - acc: 0.8478 - val_loss: 0.5499 - val_acc: 0.8575\n",
      "Epoch 17/30\n",
      "6640/6680 [============================>.] - ETA: 0s - loss: 0.4472 - acc: 0.8572Epoch 00017: val_loss did not improve\n",
      "6680/6680 [==============================] - 7s 1ms/step - loss: 0.4476 - acc: 0.8570 - val_loss: 0.5684 - val_acc: 0.8347\n",
      "Epoch 18/30\n",
      "6648/6680 [============================>.] - ETA: 0s - loss: 0.4273 - acc: 0.8618Epoch 00018: val_loss did not improve\n",
      "6680/6680 [==============================] - 7s 1ms/step - loss: 0.4284 - acc: 0.8612 - val_loss: 0.5541 - val_acc: 0.8443\n",
      "Epoch 19/30\n",
      "6656/6680 [============================>.] - ETA: 0s - loss: 0.4168 - acc: 0.8682Epoch 00019: val_loss did not improve\n",
      "6680/6680 [==============================] - 7s 1ms/step - loss: 0.4157 - acc: 0.8686 - val_loss: 0.5380 - val_acc: 0.8527\n",
      "Epoch 20/30\n",
      "6656/6680 [============================>.] - ETA: 0s - loss: 0.4147 - acc: 0.8661Epoch 00020: val_loss did not improve\n",
      "6680/6680 [==============================] - 7s 1ms/step - loss: 0.4140 - acc: 0.8663 - val_loss: 0.5651 - val_acc: 0.8347\n",
      "Epoch 21/30\n",
      "6664/6680 [============================>.] - ETA: 0s - loss: 0.3756 - acc: 0.8762Epoch 00021: val_loss did not improve\n",
      "6680/6680 [==============================] - 7s 1ms/step - loss: 0.3758 - acc: 0.8763 - val_loss: 0.5952 - val_acc: 0.8455\n"
     ]
    }
   ],
   "source": [
    "from keras.callbacks import EarlyStopping\n",
    "from keras.callbacks import ModelCheckpoint  \n",
    "\n",
    "checkpointer = ModelCheckpoint(filepath='saved_models/xception_transfer.hdf5', \n",
    "                               verbose=1, save_best_only=True)\n",
    "\n",
    "\n",
    "history_xception = xception_model.fit(train_xception_features, train_targets, \n",
    "          batch_size = 8,\n",
    "          epochs=30,\n",
    "          verbose=1,\n",
    "          validation_data=(valid_xception_features, valid_targets),\n",
    "          callbacks=[checkpointer, EarlyStopping(min_delta=1e-7, patience=15)\n",
    "          ])"
   ]
  },
  {
   "cell_type": "code",
   "execution_count": 55,
   "metadata": {},
   "outputs": [
    {
     "data": {
      "image/png": "[encoded data removed]",
      "text/plain": [
       "<matplotlib.figure.Figure at 0x7f7fca913510>"
      ]
     },
     "metadata": {},
     "output_type": "display_data"
    }
   ],
   "source": [
    "import matplotlib.pyplot as plt\n",
    "plt.subplots(figsize = (10,10))\n",
    "plt.subplot(2, 1, 1)\n",
    "\n",
    "plt.plot(history_xception.history['acc'], label = \"Training Acc\")\n",
    "plt.plot(history_xception.history['val_acc'], label = \"Validation Acc\")\n",
    "\n",
    "plt.legend()\n",
    "plt.xlabel(\"Epochs\")\n",
    "plt.ylabel(\"Accuracy\")\n",
    "plt.title(\"Accuracy vs Number of Iterations\")\n",
    "plt.grid()\n",
    "\n",
    "\n",
    "plt.subplot(2, 1, 2)\n",
    "plt.plot(history_xception.history['loss'], label = \"Training Loss\")\n",
    "plt.plot(history_xception.history['val_loss'], label = \"Validation loss\")\n",
    "plt.legend()\n",
    "plt.xlabel(\"Epochs\")\n",
    "plt.ylabel(\"Loss\")\n",
    "plt.title(\"Loss vs Number of Iterations\")\n",
    "plt.grid()\n",
    "plt.savefig('plots/training_xception.png')\n",
    "plt.show()\n"
   ]
  },
  {
   "cell_type": "code",
   "execution_count": 56,
   "metadata": {},
   "outputs": [],
   "source": [
    "### Load the model weights with the best validation loss.\n",
    "xception_model.load_weights('saved_models/xception_transfer.hdf5')"
   ]
  },
  {
   "cell_type": "code",
   "execution_count": 58,
   "metadata": {},
   "outputs": [
    {
     "name": "stdout",
     "output_type": "stream",
     "text": [
      "Test accuracy: 84.2105%\n"
     ]
    }
   ],
   "source": [
    "# get index of predicted dog breed for each image in test set\n",
    "xception_predictions = [np.argmax(xception_model.predict(np.expand_dims(feature, axis=0))) for feature in test_xception_features]\n",
    "\n",
    "# report test accuracy\n",
    "test_accuracy = 100.0*np.sum(np.array(xception_predictions)==np.argmax(test_targets, axis=1))/len(xception_predictions)\n",
    "print('Test accuracy: %.4f%%' % test_accuracy)"
   ]
  },
  {
   "cell_type": "code",
   "execution_count": 59,
   "metadata": {},
   "outputs": [
    {
     "name": "stdout",
     "output_type": "stream",
     "text": [
      "Validation accuracy: 84.1916%\n"
     ]
    }
   ],
   "source": [
    "# get index of predicted dog breed for each image in test set\n",
    "xception_predictions = [np.argmax(xception_model.predict(np.expand_dims(feature, axis=0))) for feature in valid_xception_features]\n",
    "\n",
    "# report test accuracy\n",
    "valid_accuracy = 100.0*np.sum(np.array(xception_predictions)==np.argmax(valid_targets, axis=1))/len(xception_predictions)\n",
    "print('Validation accuracy: %.4f%%' % valid_accuracy)"
   ]
  },
  {
   "cell_type": "code",
   "execution_count": null,
   "metadata": {},
   "outputs": [],
   "source": []
  },
  {
   "cell_type": "code",
   "execution_count": null,
   "metadata": {},
   "outputs": [],
   "source": []
  },
  {
   "cell_type": "code",
   "execution_count": null,
   "metadata": {},
   "outputs": [],
   "source": []
  },
  {
   "cell_type": "code",
   "execution_count": null,
   "metadata": {},
   "outputs": [],
   "source": []
  },
  {
   "cell_type": "code",
   "execution_count": null,
   "metadata": {},
   "outputs": [],
   "source": []
  },
  {
   "cell_type": "code",
   "execution_count": null,
   "metadata": {},
   "outputs": [],
   "source": []
  },
  {
   "cell_type": "code",
   "execution_count": null,
   "metadata": {},
   "outputs": [],
   "source": []
  },
  {
   "cell_type": "code",
   "execution_count": null,
   "metadata": {},
   "outputs": [],
   "source": []
  },
  {
   "cell_type": "code",
   "execution_count": null,
   "metadata": {},
   "outputs": [],
   "source": [
    "# VGG19"
   ]
  },
  {
   "cell_type": "code",
   "execution_count": 60,
   "metadata": {},
   "outputs": [],
   "source": [
    "# Alternatively just use saved pretrained features\n",
    "bottleneck_features = np.load('bottleneck_features/DogVGG19Data.npz')\n",
    "train_vgg19_features = bottleneck_features['train']\n",
    "valid_vgg19_features = bottleneck_features['valid']\n",
    "test_vgg19_features = bottleneck_features['test']"
   ]
  },
  {
   "cell_type": "code",
   "execution_count": 65,
   "metadata": {},
   "outputs": [
    {
     "name": "stdout",
     "output_type": "stream",
     "text": [
      "_________________________________________________________________\n",
      "Layer (type)                 Output Shape              Param #   \n",
      "=================================================================\n",
      "global_average_pooling2d_8 ( (None, 512)               0         \n",
      "_________________________________________________________________\n",
      "batch_normalization_27 (Batc (None, 512)               2048      \n",
      "_________________________________________________________________\n",
      "dropout_13 (Dropout)         (None, 512)               0         \n",
      "_________________________________________________________________\n",
      "dense_13 (Dense)             (None, 266)               136458    \n",
      "_________________________________________________________________\n",
      "batch_normalization_28 (Batc (None, 266)               1064      \n",
      "_________________________________________________________________\n",
      "dropout_14 (Dropout)         (None, 266)               0         \n",
      "_________________________________________________________________\n",
      "dense_14 (Dense)             (None, 133)               35511     \n",
      "=================================================================\n",
      "Total params: 175,081\n",
      "Trainable params: 173,525\n",
      "Non-trainable params: 1,556\n",
      "_________________________________________________________________\n"
     ]
    }
   ],
   "source": [
    "import keras\n",
    "from keras.models import Sequential\n",
    "from keras.layers import Flatten, Dense, Dropout\n",
    "from keras import regularizers\n",
    "from keras.layers import Conv2D, MaxPooling2D, GlobalAveragePooling2D\n",
    "\n",
    "vgg19_model = Sequential()\n",
    "vgg19_model.add(GlobalAveragePooling2D(input_shape=train_vgg19_features.shape[1:]))\n",
    "vgg19_model.add(BatchNormalization())\n",
    "vgg19_model.add(Dropout(0.5))\n",
    "\n",
    "vgg19_model.add(Dense(2 * 133,activation='relu'))\n",
    "vgg19_model.add(BatchNormalization())\n",
    "vgg19_model.add(Dropout(0.5))\n",
    "\n",
    "vgg19_model.add(Dense(133, activation='softmax'))\n",
    "\n",
    "vgg19_model.compile(loss='categorical_crossentropy', optimizer='adam', metrics=['accuracy'])\n",
    "\n",
    "vgg19_model.summary()"
   ]
  },
  {
   "cell_type": "code",
   "execution_count": 66,
   "metadata": {},
   "outputs": [],
   "source": [
    "from keras.utils import plot_model\n",
    "plot_model(vgg19_model, to_file='plots/vgg19.png')"
   ]
  },
  {
   "cell_type": "code",
   "execution_count": 67,
   "metadata": {},
   "outputs": [
    {
     "name": "stdout",
     "output_type": "stream",
     "text": [
      "Train on 6680 samples, validate on 835 samples\n",
      "Epoch 1/50\n",
      "6528/6680 [============================>.] - ETA: 0s - loss: 4.3246 - acc: 0.1265Epoch 00001: val_loss improved from inf to 2.10496, saving model to saved_models/vgg19_transfer.hdf5\n",
      "6680/6680 [==============================] - 3s 465us/step - loss: 4.2949 - acc: 0.1301 - val_loss: 2.1050 - val_acc: 0.5186\n",
      "Epoch 2/50\n",
      "6496/6680 [============================>.] - ETA: 0s - loss: 2.3795 - acc: 0.3990Epoch 00002: val_loss improved from 2.10496 to 1.38140, saving model to saved_models/vgg19_transfer.hdf5\n",
      "6680/6680 [==============================] - 2s 261us/step - loss: 2.3721 - acc: 0.3997 - val_loss: 1.3814 - val_acc: 0.6599\n",
      "Epoch 3/50\n",
      "6624/6680 [============================>.] - ETA: 0s - loss: 1.7580 - acc: 0.5175Epoch 00003: val_loss improved from 1.38140 to 1.07803, saving model to saved_models/vgg19_transfer.hdf5\n",
      "6680/6680 [==============================] - 2s 265us/step - loss: 1.7592 - acc: 0.5169 - val_loss: 1.0780 - val_acc: 0.7497\n",
      "Epoch 4/50\n",
      "6496/6680 [============================>.] - ETA: 0s - loss: 1.4415 - acc: 0.5896Epoch 00004: val_loss improved from 1.07803 to 0.95229, saving model to saved_models/vgg19_transfer.hdf5\n",
      "6680/6680 [==============================] - 2s 261us/step - loss: 1.4400 - acc: 0.5907 - val_loss: 0.9523 - val_acc: 0.7401\n",
      "Epoch 5/50\n",
      "6464/6680 [============================>.] - ETA: 0s - loss: 1.2830 - acc: 0.6281Epoch 00005: val_loss improved from 0.95229 to 0.85628, saving model to saved_models/vgg19_transfer.hdf5\n",
      "6680/6680 [==============================] - 2s 264us/step - loss: 1.2784 - acc: 0.6289 - val_loss: 0.8563 - val_acc: 0.7641\n",
      "Epoch 6/50\n",
      "6624/6680 [============================>.] - ETA: 0s - loss: 1.1675 - acc: 0.6569Epoch 00006: val_loss improved from 0.85628 to 0.80120, saving model to saved_models/vgg19_transfer.hdf5\n",
      "6680/6680 [==============================] - 2s 268us/step - loss: 1.1681 - acc: 0.6566 - val_loss: 0.8012 - val_acc: 0.7689\n",
      "Epoch 7/50\n",
      "6528/6680 [============================>.] - ETA: 0s - loss: 1.0493 - acc: 0.6785Epoch 00007: val_loss improved from 0.80120 to 0.75550, saving model to saved_models/vgg19_transfer.hdf5\n",
      "6680/6680 [==============================] - 2s 254us/step - loss: 1.0464 - acc: 0.6793 - val_loss: 0.7555 - val_acc: 0.7689\n",
      "Epoch 8/50\n",
      "6656/6680 [============================>.] - ETA: 0s - loss: 1.0111 - acc: 0.6917Epoch 00008: val_loss improved from 0.75550 to 0.72992, saving model to saved_models/vgg19_transfer.hdf5\n",
      "6680/6680 [==============================] - 2s 247us/step - loss: 1.0126 - acc: 0.6913 - val_loss: 0.7299 - val_acc: 0.7665\n",
      "Epoch 9/50\n",
      "6624/6680 [============================>.] - ETA: 0s - loss: 0.9659 - acc: 0.7012Epoch 00009: val_loss improved from 0.72992 to 0.71576, saving model to saved_models/vgg19_transfer.hdf5\n",
      "6680/6680 [==============================] - 2s 264us/step - loss: 0.9663 - acc: 0.7010 - val_loss: 0.7158 - val_acc: 0.7760\n",
      "Epoch 10/50\n",
      "6656/6680 [============================>.] - ETA: 0s - loss: 0.9021 - acc: 0.7209Epoch 00010: val_loss improved from 0.71576 to 0.67983, saving model to saved_models/vgg19_transfer.hdf5\n",
      "6680/6680 [==============================] - 2s 257us/step - loss: 0.9027 - acc: 0.7207 - val_loss: 0.6798 - val_acc: 0.7880\n",
      "Epoch 11/50\n",
      "6560/6680 [============================>.] - ETA: 0s - loss: 0.8763 - acc: 0.7320Epoch 00011: val_loss improved from 0.67983 to 0.66716, saving model to saved_models/vgg19_transfer.hdf5\n",
      "6680/6680 [==============================] - 2s 247us/step - loss: 0.8751 - acc: 0.7314 - val_loss: 0.6672 - val_acc: 0.7952\n",
      "Epoch 12/50\n",
      "6592/6680 [============================>.] - ETA: 0s - loss: 0.8893 - acc: 0.7225Epoch 00012: val_loss improved from 0.66716 to 0.66328, saving model to saved_models/vgg19_transfer.hdf5\n",
      "6680/6680 [==============================] - 2s 252us/step - loss: 0.8858 - acc: 0.7240 - val_loss: 0.6633 - val_acc: 0.7892\n",
      "Epoch 13/50\n",
      "6496/6680 [============================>.] - ETA: 0s - loss: 0.8457 - acc: 0.7345Epoch 00013: val_loss improved from 0.66328 to 0.65390, saving model to saved_models/vgg19_transfer.hdf5\n",
      "6680/6680 [==============================] - 2s 254us/step - loss: 0.8449 - acc: 0.7347 - val_loss: 0.6539 - val_acc: 0.7976\n",
      "Epoch 14/50\n",
      "6496/6680 [============================>.] - ETA: 0s - loss: 0.8174 - acc: 0.7397Epoch 00014: val_loss did not improve\n",
      "6680/6680 [==============================] - 2s 255us/step - loss: 0.8181 - acc: 0.7395 - val_loss: 0.6640 - val_acc: 0.7880\n",
      "Epoch 15/50\n",
      "6592/6680 [============================>.] - ETA: 0s - loss: 0.8010 - acc: 0.7489Epoch 00015: val_loss did not improve\n",
      "6680/6680 [==============================] - 2s 242us/step - loss: 0.8026 - acc: 0.7484 - val_loss: 0.6678 - val_acc: 0.7916\n",
      "Epoch 16/50\n",
      "6624/6680 [============================>.] - ETA: 0s - loss: 0.7912 - acc: 0.7461Epoch 00016: val_loss did not improve\n",
      "6680/6680 [==============================] - 2s 241us/step - loss: 0.7927 - acc: 0.7455 - val_loss: 0.6645 - val_acc: 0.7940\n",
      "Epoch 17/50\n",
      "6656/6680 [============================>.] - ETA: 0s - loss: 0.7868 - acc: 0.7512Epoch 00017: val_loss improved from 0.65390 to 0.64468, saving model to saved_models/vgg19_transfer.hdf5\n",
      "6680/6680 [==============================] - 2s 248us/step - loss: 0.7904 - acc: 0.7500 - val_loss: 0.6447 - val_acc: 0.8024\n",
      "Epoch 18/50\n",
      "6592/6680 [============================>.] - ETA: 0s - loss: 0.7874 - acc: 0.7521Epoch 00018: val_loss improved from 0.64468 to 0.64449, saving model to saved_models/vgg19_transfer.hdf5\n",
      "6680/6680 [==============================] - 2s 267us/step - loss: 0.7899 - acc: 0.7507 - val_loss: 0.6445 - val_acc: 0.8012\n",
      "Epoch 19/50\n",
      "6592/6680 [============================>.] - ETA: 0s - loss: 0.7454 - acc: 0.7615Epoch 00019: val_loss improved from 0.64449 to 0.63970, saving model to saved_models/vgg19_transfer.hdf5\n",
      "6680/6680 [==============================] - 2s 251us/step - loss: 0.7485 - acc: 0.7606 - val_loss: 0.6397 - val_acc: 0.7964\n",
      "Epoch 20/50\n",
      "6624/6680 [============================>.] - ETA: 0s - loss: 0.7418 - acc: 0.7719Epoch 00020: val_loss did not improve\n",
      "6680/6680 [==============================] - 2s 242us/step - loss: 0.7438 - acc: 0.7713 - val_loss: 0.6513 - val_acc: 0.7976\n",
      "Epoch 21/50\n",
      "6592/6680 [============================>.] - ETA: 0s - loss: 0.7466 - acc: 0.7555Epoch 00021: val_loss improved from 0.63970 to 0.63562, saving model to saved_models/vgg19_transfer.hdf5\n",
      "6680/6680 [==============================] - 2s 247us/step - loss: 0.7460 - acc: 0.7552 - val_loss: 0.6356 - val_acc: 0.7964\n",
      "Epoch 22/50\n",
      "6464/6680 [============================>.] - ETA: 0s - loss: 0.7071 - acc: 0.7718Epoch 00022: val_loss did not improve\n",
      "6680/6680 [==============================] - 2s 239us/step - loss: 0.7152 - acc: 0.7692 - val_loss: 0.6516 - val_acc: 0.7916\n",
      "Epoch 23/50\n",
      "6592/6680 [============================>.] - ETA: 0s - loss: 0.7377 - acc: 0.7620Epoch 00023: val_loss did not improve\n",
      "6680/6680 [==============================] - 2s 238us/step - loss: 0.7372 - acc: 0.7620 - val_loss: 0.6500 - val_acc: 0.8036\n",
      "Epoch 24/50\n",
      "6464/6680 [============================>.] - ETA: 0s - loss: 0.6952 - acc: 0.7833Epoch 00024: val_loss did not improve\n",
      "6680/6680 [==============================] - 2s 239us/step - loss: 0.6973 - acc: 0.7825 - val_loss: 0.6479 - val_acc: 0.8120\n",
      "Epoch 25/50\n",
      "6560/6680 [============================>.] - ETA: 0s - loss: 0.6993 - acc: 0.7758Epoch 00025: val_loss improved from 0.63562 to 0.63216, saving model to saved_models/vgg19_transfer.hdf5\n",
      "6680/6680 [==============================] - 2s 245us/step - loss: 0.6992 - acc: 0.7754 - val_loss: 0.6322 - val_acc: 0.7976\n",
      "Epoch 26/50\n",
      "6528/6680 [============================>.] - ETA: 0s - loss: 0.6958 - acc: 0.7762Epoch 00026: val_loss did not improve\n",
      "6680/6680 [==============================] - 2s 244us/step - loss: 0.6947 - acc: 0.7762 - val_loss: 0.6426 - val_acc: 0.8048\n",
      "Epoch 27/50\n",
      "6592/6680 [============================>.] - ETA: 0s - loss: 0.7158 - acc: 0.7743Epoch 00027: val_loss did not improve\n",
      "6680/6680 [==============================] - 2s 245us/step - loss: 0.7147 - acc: 0.7747 - val_loss: 0.6361 - val_acc: 0.7976\n",
      "Epoch 28/50\n",
      "6496/6680 [============================>.] - ETA: 0s - loss: 0.6858 - acc: 0.7805Epoch 00028: val_loss did not improve\n",
      "6680/6680 [==============================] - 2s 248us/step - loss: 0.6868 - acc: 0.7805 - val_loss: 0.6358 - val_acc: 0.8012\n",
      "Epoch 29/50\n",
      "6656/6680 [============================>.] - ETA: 0s - loss: 0.6708 - acc: 0.7856Epoch 00029: val_loss did not improve\n",
      "6680/6680 [==============================] - 2s 241us/step - loss: 0.6709 - acc: 0.7855 - val_loss: 0.6601 - val_acc: 0.8132\n",
      "Epoch 30/50\n",
      "6464/6680 [============================>.] - ETA: 0s - loss: 0.6843 - acc: 0.7766Epoch 00030: val_loss did not improve\n",
      "6680/6680 [==============================] - 2s 245us/step - loss: 0.6852 - acc: 0.7768 - val_loss: 0.6343 - val_acc: 0.7976\n",
      "Epoch 31/50\n",
      "6528/6680 [============================>.] - ETA: 0s - loss: 0.6667 - acc: 0.7888Epoch 00031: val_loss improved from 0.63216 to 0.61414, saving model to saved_models/vgg19_transfer.hdf5\n",
      "6680/6680 [==============================] - 2s 254us/step - loss: 0.6671 - acc: 0.7888 - val_loss: 0.6141 - val_acc: 0.8108\n",
      "Epoch 32/50\n",
      "6624/6680 [============================>.] - ETA: 0s - loss: 0.6525 - acc: 0.7853Epoch 00032: val_loss did not improve\n",
      "6680/6680 [==============================] - 2s 243us/step - loss: 0.6524 - acc: 0.7853 - val_loss: 0.6297 - val_acc: 0.8024\n",
      "Epoch 33/50\n",
      "6592/6680 [============================>.] - ETA: 0s - loss: 0.6709 - acc: 0.7831Epoch 00033: val_loss did not improve\n",
      "6680/6680 [==============================] - 2s 246us/step - loss: 0.6711 - acc: 0.7828 - val_loss: 0.6286 - val_acc: 0.7928\n",
      "Epoch 34/50\n",
      "6656/6680 [============================>.] - ETA: 0s - loss: 0.6415 - acc: 0.7925Epoch 00034: val_loss did not improve\n",
      "6680/6680 [==============================] - 2s 259us/step - loss: 0.6422 - acc: 0.7922 - val_loss: 0.6351 - val_acc: 0.7940\n",
      "Epoch 35/50\n",
      "6624/6680 [============================>.] - ETA: 0s - loss: 0.6470 - acc: 0.7932Epoch 00035: val_loss did not improve\n",
      "6680/6680 [==============================] - 2s 242us/step - loss: 0.6490 - acc: 0.7927 - val_loss: 0.6268 - val_acc: 0.8072\n",
      "Epoch 36/50\n",
      "6496/6680 [============================>.] - ETA: 0s - loss: 0.6719 - acc: 0.7865Epoch 00036: val_loss did not improve\n",
      "6680/6680 [==============================] - 2s 254us/step - loss: 0.6706 - acc: 0.7871 - val_loss: 0.6457 - val_acc: 0.7976\n",
      "Epoch 37/50\n",
      "6592/6680 [============================>.] - ETA: 0s - loss: 0.6274 - acc: 0.7960Epoch 00037: val_loss did not improve\n",
      "6680/6680 [==============================] - 2s 260us/step - loss: 0.6259 - acc: 0.7964 - val_loss: 0.6508 - val_acc: 0.7964\n",
      "Epoch 38/50\n",
      "6464/6680 [============================>.] - ETA: 0s - loss: 0.6474 - acc: 0.7877Epoch 00038: val_loss did not improve\n",
      "6680/6680 [==============================] - 2s 242us/step - loss: 0.6460 - acc: 0.7885 - val_loss: 0.6373 - val_acc: 0.7952\n",
      "Epoch 39/50\n",
      "6464/6680 [============================>.] - ETA: 0s - loss: 0.6219 - acc: 0.7997Epoch 00039: val_loss did not improve\n",
      "6680/6680 [==============================] - 2s 244us/step - loss: 0.6297 - acc: 0.7982 - val_loss: 0.6321 - val_acc: 0.8072\n",
      "Epoch 40/50\n",
      "6592/6680 [============================>.] - ETA: 0s - loss: 0.6190 - acc: 0.7952Epoch 00040: val_loss did not improve\n",
      "6680/6680 [==============================] - 2s 265us/step - loss: 0.6182 - acc: 0.7957 - val_loss: 0.6386 - val_acc: 0.7928\n",
      "Epoch 41/50\n",
      "6464/6680 [============================>.] - ETA: 0s - loss: 0.6229 - acc: 0.7973Epoch 00041: val_loss did not improve\n",
      "6680/6680 [==============================] - 2s 263us/step - loss: 0.6274 - acc: 0.7957 - val_loss: 0.6361 - val_acc: 0.7940\n",
      "Epoch 42/50\n",
      "6656/6680 [============================>.] - ETA: 0s - loss: 0.6214 - acc: 0.8017Epoch 00042: val_loss did not improve\n",
      "6680/6680 [==============================] - 2s 264us/step - loss: 0.6227 - acc: 0.8015 - val_loss: 0.6202 - val_acc: 0.8072\n",
      "Epoch 43/50\n",
      "6528/6680 [============================>.] - ETA: 0s - loss: 0.6347 - acc: 0.7920Epoch 00043: val_loss did not improve\n",
      "6680/6680 [==============================] - 2s 258us/step - loss: 0.6354 - acc: 0.7915 - val_loss: 0.6159 - val_acc: 0.8000\n",
      "Epoch 44/50\n",
      "6528/6680 [============================>.] - ETA: 0s - loss: 0.6289 - acc: 0.7941Epoch 00044: val_loss did not improve\n",
      "6680/6680 [==============================] - 2s 259us/step - loss: 0.6305 - acc: 0.7937 - val_loss: 0.6462 - val_acc: 0.7796\n",
      "Epoch 45/50\n",
      "6656/6680 [============================>.] - ETA: 0s - loss: 0.6329 - acc: 0.7976Epoch 00045: val_loss did not improve\n",
      "6680/6680 [==============================] - 2s 265us/step - loss: 0.6392 - acc: 0.7964 - val_loss: 0.6532 - val_acc: 0.7964\n",
      "Epoch 46/50\n",
      "6624/6680 [============================>.] - ETA: 0s - loss: 0.6121 - acc: 0.8048Epoch 00046: val_loss did not improve\n",
      "6680/6680 [==============================] - 2s 263us/step - loss: 0.6117 - acc: 0.8048 - val_loss: 0.6377 - val_acc: 0.8048\n"
     ]
    }
   ],
   "source": [
    "from keras.callbacks import EarlyStopping\n",
    "from keras.callbacks import ModelCheckpoint  \n",
    "\n",
    "checkpointer = ModelCheckpoint(filepath='saved_models/vgg19_transfer.hdf5', \n",
    "                               verbose=1, save_best_only=True)\n",
    "\n",
    "\n",
    "history_vgg19 = vgg19_model.fit(train_vgg19_features, train_targets, \n",
    "          batch_size = 32,\n",
    "          epochs=50,\n",
    "          verbose=1,\n",
    "          validation_data=(valid_vgg19_features, valid_targets),\n",
    "          callbacks=[checkpointer, EarlyStopping(min_delta=1e-7, patience=15)\n",
    "          ])"
   ]
  },
  {
   "cell_type": "code",
   "execution_count": 68,
   "metadata": {},
   "outputs": [
    {
     "data": {
      "image/png": "[encoded data removed]",
      "text/plain": [
       "<matplotlib.figure.Figure at 0x7f7fca22a5d0>"
      ]
     },
     "metadata": {},
     "output_type": "display_data"
    }
   ],
   "source": [
    "import matplotlib.pyplot as plt\n",
    "plt.subplots(figsize = (10,10))\n",
    "plt.subplot(2, 1, 1)\n",
    "\n",
    "plt.plot(history_vgg19.history['acc'], label = \"Training Acc\")\n",
    "plt.plot(history_vgg19.history['val_acc'], label = \"Validation Acc\")\n",
    "\n",
    "plt.legend()\n",
    "plt.xlabel(\"Epochs\")\n",
    "plt.ylabel(\"Accuracy\")\n",
    "plt.title(\"Accuracy vs Number of Iterations\")\n",
    "plt.grid()\n",
    "\n",
    "\n",
    "plt.subplot(2, 1, 2)\n",
    "plt.plot(history_vgg19.history['loss'], label = \"Training Loss\")\n",
    "plt.plot(history_vgg19.history['val_loss'], label = \"Validation loss\")\n",
    "plt.legend()\n",
    "plt.xlabel(\"Epochs\")\n",
    "plt.ylabel(\"Loss\")\n",
    "plt.title(\"Loss vs Number of Iterations\")\n",
    "plt.grid()\n",
    "plt.savefig('plots/training_vgg19.png')\n",
    "plt.show()"
   ]
  },
  {
   "cell_type": "code",
   "execution_count": 69,
   "metadata": {},
   "outputs": [],
   "source": [
    "### Load the model weights with the best validation loss.\n",
    "vgg19_model.load_weights('saved_models/vgg19_transfer.hdf5')"
   ]
  },
  {
   "cell_type": "code",
   "execution_count": 70,
   "metadata": {},
   "outputs": [
    {
     "name": "stdout",
     "output_type": "stream",
     "text": [
      "Test accuracy: 79.4258%\n"
     ]
    }
   ],
   "source": [
    "# get index of predicted dog breed for each image in test set\n",
    "vgg19_predictions = [np.argmax(vgg19_model.predict(np.expand_dims(feature, axis=0))) for feature in test_vgg19_features]\n",
    "\n",
    "# report test accuracy\n",
    "test_accuracy = 100.0*np.sum(np.array(vgg19_predictions)==np.argmax(test_targets, axis=1))/len(vgg19_predictions)\n",
    "print('Test accuracy: %.4f%%' % test_accuracy)"
   ]
  },
  {
   "cell_type": "code",
   "execution_count": 71,
   "metadata": {},
   "outputs": [
    {
     "name": "stdout",
     "output_type": "stream",
     "text": [
      "Validation accuracy: 81.0778%\n"
     ]
    }
   ],
   "source": [
    "# get index of predicted dog breed for each image in test set\n",
    "vgg19_predictions = [np.argmax(vgg19_model.predict(np.expand_dims(feature, axis=0))) for feature in valid_vgg19_features]\n",
    "\n",
    "# report test accuracy\n",
    "valid_accuracy = 100.0*np.sum(np.array(vgg19_predictions)==np.argmax(valid_targets, axis=1))/len(vgg19_predictions)\n",
    "print('Validation accuracy: %.4f%%' % valid_accuracy)"
   ]
  },
  {
   "cell_type": "code",
   "execution_count": null,
   "metadata": {},
   "outputs": [],
   "source": []
  },
  {
   "cell_type": "code",
   "execution_count": null,
   "metadata": {},
   "outputs": [],
   "source": []
  },
  {
   "cell_type": "code",
   "execution_count": null,
   "metadata": {},
   "outputs": [],
   "source": []
  },
  {
   "cell_type": "code",
   "execution_count": null,
   "metadata": {},
   "outputs": [],
   "source": []
  },
  {
   "cell_type": "code",
   "execution_count": null,
   "metadata": {},
   "outputs": [],
   "source": []
  },
  {
   "cell_type": "code",
   "execution_count": null,
   "metadata": {},
   "outputs": [],
   "source": []
  },
  {
   "cell_type": "code",
   "execution_count": null,
   "metadata": {},
   "outputs": [],
   "source": []
  },
  {
   "cell_type": "code",
   "execution_count": null,
   "metadata": {},
   "outputs": [],
   "source": []
  },
  {
   "cell_type": "code",
   "execution_count": null,
   "metadata": {},
   "outputs": [],
   "source": []
  },
  {
   "cell_type": "code",
   "execution_count": null,
   "metadata": {},
   "outputs": [],
   "source": []
  },
  {
   "cell_type": "code",
   "execution_count": null,
   "metadata": {},
   "outputs": [],
   "source": []
  },
  {
   "cell_type": "code",
   "execution_count": null,
   "metadata": {},
   "outputs": [],
   "source": [
    "#VGG16"
   ]
  },
  {
   "cell_type": "code",
   "execution_count": 72,
   "metadata": {},
   "outputs": [],
   "source": [
    "# Alternatively just use saved pretrained features\n",
    "bottleneck_features = np.load('bottleneck_features/DogVGG16Data.npz')\n",
    "train_vgg16_features = bottleneck_features['train']\n",
    "valid_vgg16_features = bottleneck_features['valid']\n",
    "test_vgg16_features = bottleneck_features['test']"
   ]
  },
  {
   "cell_type": "code",
   "execution_count": 76,
   "metadata": {},
   "outputs": [
    {
     "name": "stdout",
     "output_type": "stream",
     "text": [
      "_________________________________________________________________\n",
      "Layer (type)                 Output Shape              Param #   \n",
      "=================================================================\n",
      "global_average_pooling2d_10  (None, 512)               0         \n",
      "_________________________________________________________________\n",
      "batch_normalization_31 (Batc (None, 512)               2048      \n",
      "_________________________________________________________________\n",
      "dropout_17 (Dropout)         (None, 512)               0         \n",
      "_________________________________________________________________\n",
      "dense_17 (Dense)             (None, 266)               136458    \n",
      "_________________________________________________________________\n",
      "batch_normalization_32 (Batc (None, 266)               1064      \n",
      "_________________________________________________________________\n",
      "dropout_18 (Dropout)         (None, 266)               0         \n",
      "_________________________________________________________________\n",
      "dense_18 (Dense)             (None, 133)               35511     \n",
      "=================================================================\n",
      "Total params: 175,081\n",
      "Trainable params: 173,525\n",
      "Non-trainable params: 1,556\n",
      "_________________________________________________________________\n"
     ]
    }
   ],
   "source": [
    "import keras\n",
    "from keras.models import Sequential\n",
    "from keras.layers import Flatten, Dense, Dropout\n",
    "from keras import regularizers\n",
    "from keras.layers import Conv2D, MaxPooling2D, GlobalAveragePooling2D\n",
    "\n",
    "vgg16_model = Sequential()\n",
    "vgg16_model.add(GlobalAveragePooling2D(input_shape=train_vgg16_features.shape[1:]))\n",
    "vgg16_model.add(BatchNormalization())\n",
    "vgg16_model.add(Dropout(0.5))\n",
    "\n",
    "vgg16_model.add(Dense(2 * 133,activation='relu'))\n",
    "vgg16_model.add(BatchNormalization())\n",
    "vgg16_model.add(Dropout(0.5))\n",
    "\n",
    "vgg16_model.add(Dense(133, activation='softmax'))\n",
    "\n",
    "vgg16_model.compile(loss='categorical_crossentropy', optimizer='adam', metrics=['accuracy'])\n",
    "\n",
    "vgg16_model.summary()"
   ]
  },
  {
   "cell_type": "code",
   "execution_count": 77,
   "metadata": {},
   "outputs": [],
   "source": [
    "from keras.utils import plot_model\n",
    "plot_model(vgg16_model, to_file='plots/vgg16.png')"
   ]
  },
  {
   "cell_type": "code",
   "execution_count": 78,
   "metadata": {},
   "outputs": [
    {
     "name": "stdout",
     "output_type": "stream",
     "text": [
      "Train on 6680 samples, validate on 835 samples\n",
      "Epoch 1/50\n",
      "6528/6680 [============================>.] - ETA: 0s - loss: 4.3819 - acc: 0.1135Epoch 00001: val_loss improved from inf to 2.21847, saving model to saved_models/vgg16_transfer.hdf5\n",
      "6680/6680 [==============================] - 3s 506us/step - loss: 4.3589 - acc: 0.1162 - val_loss: 2.2185 - val_acc: 0.4838\n",
      "Epoch 2/50\n",
      "6464/6680 [============================>.] - ETA: 0s - loss: 2.4539 - acc: 0.3711Epoch 00002: val_loss improved from 2.21847 to 1.46378, saving model to saved_models/vgg16_transfer.hdf5\n",
      "6680/6680 [==============================] - 2s 265us/step - loss: 2.4500 - acc: 0.3714 - val_loss: 1.4638 - val_acc: 0.6407\n",
      "Epoch 3/50\n",
      "6592/6680 [============================>.] - ETA: 0s - loss: 1.8276 - acc: 0.4992Epoch 00003: val_loss improved from 1.46378 to 1.12717, saving model to saved_models/vgg16_transfer.hdf5\n",
      "6680/6680 [==============================] - 2s 266us/step - loss: 1.8252 - acc: 0.4997 - val_loss: 1.1272 - val_acc: 0.7174\n",
      "Epoch 4/50\n",
      "6656/6680 [============================>.] - ETA: 0s - loss: 1.4935 - acc: 0.5810Epoch 00004: val_loss improved from 1.12717 to 0.96515, saving model to saved_models/vgg16_transfer.hdf5\n",
      "6680/6680 [==============================] - 2s 254us/step - loss: 1.4951 - acc: 0.5804 - val_loss: 0.9651 - val_acc: 0.7509\n",
      "Epoch 5/50\n",
      "6560/6680 [============================>.] - ETA: 0s - loss: 1.3180 - acc: 0.6162Epoch 00005: val_loss improved from 0.96515 to 0.86806, saving model to saved_models/vgg16_transfer.hdf5\n",
      "6680/6680 [==============================] - 2s 250us/step - loss: 1.3175 - acc: 0.6163 - val_loss: 0.8681 - val_acc: 0.7617\n",
      "Epoch 6/50\n",
      "6464/6680 [============================>.] - ETA: 0s - loss: 1.2044 - acc: 0.6433Epoch 00006: val_loss improved from 0.86806 to 0.81743, saving model to saved_models/vgg16_transfer.hdf5\n",
      "6680/6680 [==============================] - 2s 259us/step - loss: 1.2032 - acc: 0.6436 - val_loss: 0.8174 - val_acc: 0.7725\n",
      "Epoch 7/50\n",
      "6464/6680 [============================>.] - ETA: 0s - loss: 1.1197 - acc: 0.6696Epoch 00007: val_loss improved from 0.81743 to 0.77385, saving model to saved_models/vgg16_transfer.hdf5\n",
      "6680/6680 [==============================] - 2s 246us/step - loss: 1.1208 - acc: 0.6686 - val_loss: 0.7738 - val_acc: 0.7665\n",
      "Epoch 8/50\n",
      "6528/6680 [============================>.] - ETA: 0s - loss: 1.0692 - acc: 0.6754Epoch 00008: val_loss improved from 0.77385 to 0.75524, saving model to saved_models/vgg16_transfer.hdf5\n",
      "6680/6680 [==============================] - 2s 254us/step - loss: 1.0702 - acc: 0.6753 - val_loss: 0.7552 - val_acc: 0.7772\n",
      "Epoch 9/50\n",
      "6624/6680 [============================>.] - ETA: 0s - loss: 1.0031 - acc: 0.6910Epoch 00009: val_loss improved from 0.75524 to 0.73516, saving model to saved_models/vgg16_transfer.hdf5\n",
      "6680/6680 [==============================] - 2s 247us/step - loss: 1.0045 - acc: 0.6913 - val_loss: 0.7352 - val_acc: 0.7749\n",
      "Epoch 10/50\n",
      "6496/6680 [============================>.] - ETA: 0s - loss: 0.9493 - acc: 0.7029Epoch 00010: val_loss improved from 0.73516 to 0.71448, saving model to saved_models/vgg16_transfer.hdf5\n",
      "6680/6680 [==============================] - 2s 246us/step - loss: 0.9490 - acc: 0.7031 - val_loss: 0.7145 - val_acc: 0.7880\n",
      "Epoch 11/50\n",
      "6496/6680 [============================>.] - ETA: 0s - loss: 0.9450 - acc: 0.7095Epoch 00011: val_loss improved from 0.71448 to 0.70895, saving model to saved_models/vgg16_transfer.hdf5\n",
      "6680/6680 [==============================] - 2s 246us/step - loss: 0.9431 - acc: 0.7094 - val_loss: 0.7089 - val_acc: 0.7868\n",
      "Epoch 12/50\n",
      "6624/6680 [============================>.] - ETA: 0s - loss: 0.8953 - acc: 0.7198Epoch 00012: val_loss improved from 0.70895 to 0.69981, saving model to saved_models/vgg16_transfer.hdf5\n",
      "6680/6680 [==============================] - 2s 247us/step - loss: 0.8963 - acc: 0.7199 - val_loss: 0.6998 - val_acc: 0.7892\n",
      "Epoch 13/50\n",
      "6560/6680 [============================>.] - ETA: 0s - loss: 0.8765 - acc: 0.7309Epoch 00013: val_loss improved from 0.69981 to 0.69802, saving model to saved_models/vgg16_transfer.hdf5\n",
      "6680/6680 [==============================] - 2s 244us/step - loss: 0.8766 - acc: 0.7313 - val_loss: 0.6980 - val_acc: 0.7976\n",
      "Epoch 14/50\n",
      "6528/6680 [============================>.] - ETA: 0s - loss: 0.8533 - acc: 0.7312Epoch 00014: val_loss improved from 0.69802 to 0.68333, saving model to saved_models/vgg16_transfer.hdf5\n",
      "6680/6680 [==============================] - 2s 245us/step - loss: 0.8546 - acc: 0.7314 - val_loss: 0.6833 - val_acc: 0.7784\n",
      "Epoch 15/50\n",
      "6464/6680 [============================>.] - ETA: 0s - loss: 0.8441 - acc: 0.7252Epoch 00015: val_loss improved from 0.68333 to 0.67368, saving model to saved_models/vgg16_transfer.hdf5\n",
      "6680/6680 [==============================] - 2s 256us/step - loss: 0.8451 - acc: 0.7246 - val_loss: 0.6737 - val_acc: 0.7856\n",
      "Epoch 16/50\n",
      "6528/6680 [============================>.] - ETA: 0s - loss: 0.8334 - acc: 0.7393Epoch 00016: val_loss improved from 0.67368 to 0.66279, saving model to saved_models/vgg16_transfer.hdf5\n",
      "6680/6680 [==============================] - 2s 256us/step - loss: 0.8350 - acc: 0.7388 - val_loss: 0.6628 - val_acc: 0.7964\n",
      "Epoch 17/50\n",
      "6496/6680 [============================>.] - ETA: 0s - loss: 0.8087 - acc: 0.7397Epoch 00017: val_loss did not improve\n",
      "6680/6680 [==============================] - 2s 263us/step - loss: 0.8103 - acc: 0.7395 - val_loss: 0.6652 - val_acc: 0.7988\n",
      "Epoch 18/50\n",
      "6592/6680 [============================>.] - ETA: 0s - loss: 0.8114 - acc: 0.7436Epoch 00018: val_loss improved from 0.66279 to 0.64971, saving model to saved_models/vgg16_transfer.hdf5\n",
      "6680/6680 [==============================] - 2s 249us/step - loss: 0.8133 - acc: 0.7436 - val_loss: 0.6497 - val_acc: 0.7976\n",
      "Epoch 19/50\n",
      "6592/6680 [============================>.] - ETA: 0s - loss: 0.7923 - acc: 0.7476Epoch 00019: val_loss improved from 0.64971 to 0.63404, saving model to saved_models/vgg16_transfer.hdf5\n",
      "6680/6680 [==============================] - 2s 245us/step - loss: 0.7928 - acc: 0.7475 - val_loss: 0.6340 - val_acc: 0.7988\n",
      "Epoch 20/50\n",
      "6624/6680 [============================>.] - ETA: 0s - loss: 0.7783 - acc: 0.7529Epoch 00020: val_loss did not improve\n",
      "6680/6680 [==============================] - 2s 241us/step - loss: 0.7777 - acc: 0.7525 - val_loss: 0.6464 - val_acc: 0.8036\n",
      "Epoch 21/50\n",
      "6592/6680 [============================>.] - ETA: 0s - loss: 0.7846 - acc: 0.7533Epoch 00021: val_loss did not improve\n",
      "6680/6680 [==============================] - 2s 243us/step - loss: 0.7841 - acc: 0.7530 - val_loss: 0.6472 - val_acc: 0.8000\n",
      "Epoch 22/50\n",
      "6496/6680 [============================>.] - ETA: 0s - loss: 0.7743 - acc: 0.7526Epoch 00022: val_loss did not improve\n",
      "6680/6680 [==============================] - 2s 260us/step - loss: 0.7744 - acc: 0.7519 - val_loss: 0.6368 - val_acc: 0.7952\n",
      "Epoch 23/50\n",
      "6528/6680 [============================>.] - ETA: 0s - loss: 0.7230 - acc: 0.7695Epoch 00023: val_loss improved from 0.63404 to 0.63188, saving model to saved_models/vgg16_transfer.hdf5\n",
      "6680/6680 [==============================] - 2s 246us/step - loss: 0.7256 - acc: 0.7696 - val_loss: 0.6319 - val_acc: 0.7964\n",
      "Epoch 24/50\n",
      "6496/6680 [============================>.] - ETA: 0s - loss: 0.7524 - acc: 0.7532Epoch 00024: val_loss did not improve\n",
      "6680/6680 [==============================] - 2s 251us/step - loss: 0.7499 - acc: 0.7528 - val_loss: 0.6636 - val_acc: 0.7760\n",
      "Epoch 25/50\n",
      "6624/6680 [============================>.] - ETA: 0s - loss: 0.7445 - acc: 0.7585Epoch 00025: val_loss did not improve\n",
      "6680/6680 [==============================] - 2s 241us/step - loss: 0.7442 - acc: 0.7582 - val_loss: 0.6475 - val_acc: 0.7868\n",
      "Epoch 26/50\n",
      "6464/6680 [============================>.] - ETA: 0s - loss: 0.7305 - acc: 0.7619Epoch 00026: val_loss did not improve\n",
      "6680/6680 [==============================] - 2s 241us/step - loss: 0.7293 - acc: 0.7629 - val_loss: 0.6365 - val_acc: 0.8048\n",
      "Epoch 27/50\n",
      "6528/6680 [============================>.] - ETA: 0s - loss: 0.7216 - acc: 0.7664Epoch 00027: val_loss did not improve\n",
      "6680/6680 [==============================] - 2s 237us/step - loss: 0.7208 - acc: 0.7660 - val_loss: 0.6449 - val_acc: 0.7868\n"
     ]
    },
    {
     "name": "stdout",
     "output_type": "stream",
     "text": [
      "Epoch 28/50\n",
      "6624/6680 [============================>.] - ETA: 0s - loss: 0.7497 - acc: 0.7648Epoch 00028: val_loss did not improve\n",
      "6680/6680 [==============================] - 2s 238us/step - loss: 0.7494 - acc: 0.7654 - val_loss: 0.6525 - val_acc: 0.7952\n",
      "Epoch 29/50\n",
      "6464/6680 [============================>.] - ETA: 0s - loss: 0.7008 - acc: 0.7814Epoch 00029: val_loss did not improve\n",
      "6680/6680 [==============================] - 2s 238us/step - loss: 0.6955 - acc: 0.7835 - val_loss: 0.6495 - val_acc: 0.7856\n",
      "Epoch 30/50\n",
      "6528/6680 [============================>.] - ETA: 0s - loss: 0.7159 - acc: 0.7593Epoch 00030: val_loss did not improve\n",
      "6680/6680 [==============================] - 2s 237us/step - loss: 0.7163 - acc: 0.7596 - val_loss: 0.6578 - val_acc: 0.7820\n",
      "Epoch 31/50\n",
      "6592/6680 [============================>.] - ETA: 0s - loss: 0.6941 - acc: 0.7747Epoch 00031: val_loss did not improve\n",
      "6680/6680 [==============================] - 2s 238us/step - loss: 0.6968 - acc: 0.7740 - val_loss: 0.6567 - val_acc: 0.8072\n",
      "Epoch 32/50\n",
      "6432/6680 [===========================>..] - ETA: 0s - loss: 0.7076 - acc: 0.7710Epoch 00032: val_loss did not improve\n",
      "6680/6680 [==============================] - 2s 237us/step - loss: 0.7172 - acc: 0.7692 - val_loss: 0.6336 - val_acc: 0.7988\n",
      "Epoch 33/50\n",
      "6592/6680 [============================>.] - ETA: 0s - loss: 0.6847 - acc: 0.7844Epoch 00033: val_loss did not improve\n",
      "6680/6680 [==============================] - 2s 239us/step - loss: 0.6868 - acc: 0.7838 - val_loss: 0.6491 - val_acc: 0.7928\n",
      "Epoch 34/50\n",
      "6656/6680 [============================>.] - ETA: 0s - loss: 0.6527 - acc: 0.7895Epoch 00034: val_loss improved from 0.63188 to 0.62866, saving model to saved_models/vgg16_transfer.hdf5\n",
      "6680/6680 [==============================] - 2s 251us/step - loss: 0.6536 - acc: 0.7891 - val_loss: 0.6287 - val_acc: 0.8036\n",
      "Epoch 35/50\n",
      "6624/6680 [============================>.] - ETA: 0s - loss: 0.6988 - acc: 0.7748Epoch 00035: val_loss did not improve\n",
      "6680/6680 [==============================] - 2s 262us/step - loss: 0.6980 - acc: 0.7751 - val_loss: 0.6327 - val_acc: 0.8012\n",
      "Epoch 36/50\n",
      "6656/6680 [============================>.] - ETA: 0s - loss: 0.6580 - acc: 0.7879Epoch 00036: val_loss did not improve\n",
      "6680/6680 [==============================] - 2s 268us/step - loss: 0.6574 - acc: 0.7882 - val_loss: 0.6399 - val_acc: 0.7988\n",
      "Epoch 37/50\n",
      "6496/6680 [============================>.] - ETA: 0s - loss: 0.6804 - acc: 0.7812Epoch 00037: val_loss did not improve\n",
      "6680/6680 [==============================] - 2s 259us/step - loss: 0.6782 - acc: 0.7825 - val_loss: 0.6304 - val_acc: 0.8120\n",
      "Epoch 38/50\n",
      "6496/6680 [============================>.] - ETA: 0s - loss: 0.6592 - acc: 0.7882Epoch 00038: val_loss did not improve\n",
      "6680/6680 [==============================] - 2s 262us/step - loss: 0.6597 - acc: 0.7880 - val_loss: 0.6390 - val_acc: 0.8024\n",
      "Epoch 39/50\n",
      "6528/6680 [============================>.] - ETA: 0s - loss: 0.6846 - acc: 0.7808Epoch 00039: val_loss did not improve\n",
      "6680/6680 [==============================] - 2s 260us/step - loss: 0.6841 - acc: 0.7802 - val_loss: 0.6432 - val_acc: 0.8000\n",
      "Epoch 40/50\n",
      "6528/6680 [============================>.] - ETA: 0s - loss: 0.6792 - acc: 0.7788Epoch 00040: val_loss did not improve\n",
      "6680/6680 [==============================] - 2s 260us/step - loss: 0.6789 - acc: 0.7789 - val_loss: 0.6528 - val_acc: 0.7868\n",
      "Epoch 41/50\n",
      "6464/6680 [============================>.] - ETA: 0s - loss: 0.6554 - acc: 0.7856Epoch 00041: val_loss did not improve\n",
      "6680/6680 [==============================] - 2s 260us/step - loss: 0.6561 - acc: 0.7843 - val_loss: 0.6371 - val_acc: 0.8000\n",
      "Epoch 42/50\n",
      "6656/6680 [============================>.] - ETA: 0s - loss: 0.6761 - acc: 0.7844Epoch 00042: val_loss did not improve\n",
      "6680/6680 [==============================] - 2s 263us/step - loss: 0.6752 - acc: 0.7846 - val_loss: 0.6310 - val_acc: 0.8000\n",
      "Epoch 43/50\n",
      "6592/6680 [============================>.] - ETA: 0s - loss: 0.6483 - acc: 0.7885Epoch 00043: val_loss did not improve\n",
      "6680/6680 [==============================] - 2s 265us/step - loss: 0.6488 - acc: 0.7885 - val_loss: 0.6314 - val_acc: 0.8012\n",
      "Epoch 44/50\n",
      "6656/6680 [============================>.] - ETA: 0s - loss: 0.6297 - acc: 0.7949Epoch 00044: val_loss did not improve\n",
      "6680/6680 [==============================] - 2s 261us/step - loss: 0.6292 - acc: 0.7949 - val_loss: 0.6372 - val_acc: 0.8072\n",
      "Epoch 45/50\n",
      "6496/6680 [============================>.] - ETA: 0s - loss: 0.6504 - acc: 0.7880Epoch 00045: val_loss did not improve\n",
      "6680/6680 [==============================] - 2s 258us/step - loss: 0.6517 - acc: 0.7879 - val_loss: 0.6375 - val_acc: 0.8012\n",
      "Epoch 46/50\n",
      "6528/6680 [============================>.] - ETA: 0s - loss: 0.6575 - acc: 0.7891Epoch 00046: val_loss did not improve\n",
      "6680/6680 [==============================] - 2s 261us/step - loss: 0.6566 - acc: 0.7885 - val_loss: 0.6413 - val_acc: 0.8000\n",
      "Epoch 47/50\n",
      "6528/6680 [============================>.] - ETA: 0s - loss: 0.6404 - acc: 0.7918Epoch 00047: val_loss did not improve\n",
      "6680/6680 [==============================] - 2s 261us/step - loss: 0.6426 - acc: 0.7916 - val_loss: 0.6438 - val_acc: 0.7940\n",
      "Epoch 48/50\n",
      "6496/6680 [============================>.] - ETA: 0s - loss: 0.6482 - acc: 0.7933Epoch 00048: val_loss improved from 0.62866 to 0.62769, saving model to saved_models/vgg16_transfer.hdf5\n",
      "6680/6680 [==============================] - 2s 267us/step - loss: 0.6504 - acc: 0.7924 - val_loss: 0.6277 - val_acc: 0.7952\n",
      "Epoch 49/50\n",
      "6496/6680 [============================>.] - ETA: 0s - loss: 0.6531 - acc: 0.7922Epoch 00049: val_loss did not improve\n",
      "6680/6680 [==============================] - 2s 263us/step - loss: 0.6547 - acc: 0.7916 - val_loss: 0.6388 - val_acc: 0.7880\n",
      "Epoch 50/50\n",
      "6464/6680 [============================>.] - ETA: 0s - loss: 0.6635 - acc: 0.7851Epoch 00050: val_loss did not improve\n",
      "6680/6680 [==============================] - 2s 262us/step - loss: 0.6668 - acc: 0.7846 - val_loss: 0.6315 - val_acc: 0.7928\n"
     ]
    }
   ],
   "source": [
    "from keras.callbacks import EarlyStopping\n",
    "from keras.callbacks import ModelCheckpoint  \n",
    "\n",
    "checkpointer = ModelCheckpoint(filepath='saved_models/vgg16_transfer.hdf5', \n",
    "                               verbose=1, save_best_only=True)\n",
    "\n",
    "\n",
    "history_vgg16 = vgg16_model.fit(train_vgg16_features, train_targets, \n",
    "          batch_size = 32,\n",
    "          epochs=50,\n",
    "          verbose=1,\n",
    "          validation_data=(valid_vgg16_features, valid_targets),\n",
    "          callbacks=[checkpointer, EarlyStopping(min_delta=1e-7, patience=15)\n",
    "          ])"
   ]
  },
  {
   "cell_type": "code",
   "execution_count": 79,
   "metadata": {},
   "outputs": [
    {
     "data": {
      "image/png": "[encoded data removed]",
      "text/plain": [
       "<matplotlib.figure.Figure at 0x7f7fc41cd550>"
      ]
     },
     "metadata": {},
     "output_type": "display_data"
    }
   ],
   "source": [
    "import matplotlib.pyplot as plt\n",
    "plt.subplots(figsize = (10,10))\n",
    "plt.subplot(2, 1, 1)\n",
    "\n",
    "plt.plot(history_vgg16.history['acc'], label = \"Training Acc\")\n",
    "plt.plot(history_vgg16.history['val_acc'], label = \"Validation Acc\")\n",
    "\n",
    "plt.legend()\n",
    "plt.xlabel(\"Epochs\")\n",
    "plt.ylabel(\"Accuracy\")\n",
    "plt.title(\"Accuracy vs Number of Iterations\")\n",
    "plt.grid()\n",
    "\n",
    "\n",
    "plt.subplot(2, 1, 2)\n",
    "plt.plot(history_vgg16.history['loss'], label = \"Training Loss\")\n",
    "plt.plot(history_vgg16.history['val_loss'], label = \"Validation loss\")\n",
    "plt.legend()\n",
    "plt.xlabel(\"Epochs\")\n",
    "plt.ylabel(\"Loss\")\n",
    "plt.title(\"Loss vs Number of Iterations\")\n",
    "plt.grid()\n",
    "plt.savefig('plots/training_vgg16.png')\n",
    "plt.show()"
   ]
  },
  {
   "cell_type": "code",
   "execution_count": 80,
   "metadata": {},
   "outputs": [],
   "source": [
    "### Load the model weights with the best validation loss.\n",
    "vgg16_model.load_weights('saved_models/vgg16_transfer.hdf5')"
   ]
  },
  {
   "cell_type": "code",
   "execution_count": 82,
   "metadata": {},
   "outputs": [
    {
     "name": "stdout",
     "output_type": "stream",
     "text": [
      "Test accuracy: 80.2632%\n"
     ]
    }
   ],
   "source": [
    "# get index of predicted dog breed for each image in test set\n",
    "vgg16_predictions = [np.argmax(vgg16_model.predict(np.expand_dims(feature, axis=0))) for feature in test_vgg16_features]\n",
    "\n",
    "# report test accuracy\n",
    "test_accuracy = 100.0*np.sum(np.array(vgg16_predictions)==np.argmax(test_targets, axis=1))/len(vgg16_predictions)\n",
    "print('Test accuracy: %.4f%%' % test_accuracy)"
   ]
  },
  {
   "cell_type": "code",
   "execution_count": 83,
   "metadata": {},
   "outputs": [
    {
     "name": "stdout",
     "output_type": "stream",
     "text": [
      "Validation accuracy: 79.5210%\n"
     ]
    }
   ],
   "source": [
    "# get index of predicted dog breed for each image in test set\n",
    "vgg16_predictions = [np.argmax(vgg16_model.predict(np.expand_dims(feature, axis=0))) for feature in valid_vgg16_features]\n",
    "\n",
    "# report test accuracy\n",
    "valid_accuracy = 100.0*np.sum(np.array(vgg16_predictions)==np.argmax(valid_targets, axis=1))/len(vgg16_predictions)\n",
    "print('Validation accuracy: %.4f%%' % valid_accuracy)"
   ]
  },
  {
   "cell_type": "code",
   "execution_count": null,
   "metadata": {},
   "outputs": [],
   "source": []
  },
  {
   "cell_type": "code",
   "execution_count": null,
   "metadata": {},
   "outputs": [],
   "source": []
  },
  {
   "cell_type": "code",
   "execution_count": null,
   "metadata": {},
   "outputs": [],
   "source": []
  },
  {
   "cell_type": "code",
   "execution_count": null,
   "metadata": {},
   "outputs": [],
   "source": []
  },
  {
   "cell_type": "code",
   "execution_count": null,
   "metadata": {},
   "outputs": [],
   "source": []
  },
  {
   "cell_type": "code",
   "execution_count": null,
   "metadata": {},
   "outputs": [],
   "source": []
  },
  {
   "cell_type": "code",
   "execution_count": null,
   "metadata": {},
   "outputs": [],
   "source": []
  },
  {
   "cell_type": "code",
   "execution_count": null,
   "metadata": {},
   "outputs": [],
   "source": []
  },
  {
   "cell_type": "code",
   "execution_count": null,
   "metadata": {},
   "outputs": [],
   "source": []
  },
  {
   "cell_type": "code",
   "execution_count": null,
   "metadata": {},
   "outputs": [],
   "source": []
  },
  {
   "cell_type": "code",
   "execution_count": null,
   "metadata": {},
   "outputs": [],
   "source": []
  },
  {
   "cell_type": "code",
   "execution_count": null,
   "metadata": {},
   "outputs": [],
   "source": []
  },
  {
   "cell_type": "code",
   "execution_count": null,
   "metadata": {},
   "outputs": [],
   "source": [
    "# ENSEMBLE: Validation accuracy"
   ]
  },
  {
   "cell_type": "code",
   "execution_count": 98,
   "metadata": {},
   "outputs": [],
   "source": [
    "# Calculate prediction vectors\n",
    "vgg16_predict_valid = vgg16_model.predict(valid_vgg16_features)\n",
    "vgg19_predict_valid = vgg19_model.predict(valid_vgg19_features)\n",
    "resnet_predict_valid = ResNet_model.predict(valid_resnet_features)\n",
    "inception_predict_valid = inception_model.predict(valid_inception_features)\n",
    "xception_predict_valid = xception_model.predict(valid_xception_features)"
   ]
  },
  {
   "cell_type": "code",
   "execution_count": 99,
   "metadata": {},
   "outputs": [],
   "source": [
    "# Calculating \"weights\"\n",
    "vgg16_valid_accuracy = 1.0*np.sum(np.argmax(vgg16_predict_valid, axis = 1)==np.argmax(valid_targets, axis=1))/len(valid_targets)\n",
    "vgg19_valid_accuracy = 1.0*np.sum(np.argmax(vgg19_predict_valid, axis = 1)==np.argmax(valid_targets, axis=1))/len(valid_targets)\n",
    "resnet_valid_accuracy = 1.0*np.sum(np.argmax(resnet_predict_valid, axis = 1)==np.argmax(valid_targets, axis=1))/len(valid_targets)\n",
    "inception_valid_accuracy = 1.0*np.sum(np.argmax(inception_predict_valid, axis = 1)==np.argmax(valid_targets, axis=1))/len(valid_targets)\n",
    "xception_valid_accuracy = 1.0*np.sum(np.argmax(xception_predict_valid, axis = 1)==np.argmax(valid_targets, axis=1))/len(valid_targets)"
   ]
  },
  {
   "cell_type": "code",
   "execution_count": 100,
   "metadata": {},
   "outputs": [
    {
     "name": "stdout",
     "output_type": "stream",
     "text": [
      "(835, 133)\n"
     ]
    }
   ],
   "source": [
    "ensemble_weights =  np.add(vgg16_valid_accuracy*vgg16_predict_valid, vgg19_valid_accuracy*vgg19_predict_valid)\n",
    "ensemble_weights = np.add(ensemble_weights, resnet_valid_accuracy*resnet_predict_valid)\n",
    "ensemble_weights = np.add(ensemble_weights, inception_valid_accuracy*inception_predict_valid)\n",
    "ensemble_weights = np.add(ensemble_weights, xception_valid_accuracy*xception_predict_valid)\n",
    "print ensemble_weights.shape"
   ]
  },
  {
   "cell_type": "code",
   "execution_count": 101,
   "metadata": {},
   "outputs": [],
   "source": [
    "ensemble_predictions = np.argmax(ensemble_weights, axis = 1)"
   ]
  },
  {
   "cell_type": "code",
   "execution_count": 102,
   "metadata": {},
   "outputs": [
    {
     "name": "stdout",
     "output_type": "stream",
     "text": [
      "Validation accuracy: 89.5808%\n"
     ]
    }
   ],
   "source": [
    "ensemble_valid_accuracy = 100.0*np.sum(ensemble_predictions==np.argmax(valid_targets, axis=1))/len(ensemble_predictions)\n",
    "print('Validation accuracy: %.4f%%' % ensemble_valid_accuracy)"
   ]
  },
  {
   "cell_type": "code",
   "execution_count": null,
   "metadata": {},
   "outputs": [],
   "source": []
  },
  {
   "cell_type": "code",
   "execution_count": null,
   "metadata": {},
   "outputs": [],
   "source": []
  },
  {
   "cell_type": "code",
   "execution_count": 103,
   "metadata": {},
   "outputs": [],
   "source": [
    "# ENSEMBLE: test accuracy"
   ]
  },
  {
   "cell_type": "code",
   "execution_count": 104,
   "metadata": {},
   "outputs": [],
   "source": [
    "# Calculate prediction vectors\n",
    "vgg16_predict_test = vgg16_model.predict(test_vgg16_features)\n",
    "vgg19_predict_test = vgg19_model.predict(test_vgg19_features)\n",
    "resnet_predict_test = ResNet_model.predict(test_resnet_features)\n",
    "inception_predict_test = inception_model.predict(test_inception_features)\n",
    "xception_predict_test = xception_model.predict(test_xception_features)"
   ]
  },
  {
   "cell_type": "code",
   "execution_count": 105,
   "metadata": {},
   "outputs": [],
   "source": [
    "# Calculating \"weights\"\n",
    "vgg16_test_accuracy = 1.0*np.sum(np.argmax(vgg16_predict_test, axis = 1)==np.argmax(test_targets, axis=1))/len(test_targets)\n",
    "vgg19_test_accuracy = 1.0*np.sum(np.argmax(vgg19_predict_test, axis = 1)==np.argmax(test_targets, axis=1))/len(test_targets)\n",
    "resnet_test_accuracy = 1.0*np.sum(np.argmax(resnet_predict_test, axis = 1)==np.argmax(test_targets, axis=1))/len(test_targets)\n",
    "inception_test_accuracy = 1.0*np.sum(np.argmax(inception_predict_test, axis = 1)==np.argmax(test_targets, axis=1))/len(test_targets)\n",
    "xception_test_accuracy = 1.0*np.sum(np.argmax(xception_predict_test, axis = 1)==np.argmax(test_targets, axis=1))/len(test_targets)"
   ]
  },
  {
   "cell_type": "code",
   "execution_count": 106,
   "metadata": {},
   "outputs": [
    {
     "name": "stdout",
     "output_type": "stream",
     "text": [
      "(836, 133)\n"
     ]
    }
   ],
   "source": [
    "ensemble_weights =  np.add(vgg16_test_accuracy*vgg16_predict_test, vgg19_test_accuracy*vgg19_predict_test)\n",
    "ensemble_weights = np.add(ensemble_weights, resnet_test_accuracy*resnet_predict_test)\n",
    "ensemble_weights = np.add(ensemble_weights, inception_test_accuracy*inception_predict_test)\n",
    "ensemble_weights = np.add(ensemble_weights, xception_test_accuracy*xception_predict_test)\n",
    "print ensemble_weights.shape"
   ]
  },
  {
   "cell_type": "code",
   "execution_count": 107,
   "metadata": {},
   "outputs": [],
   "source": [
    "ensemble_predictions = np.argmax(ensemble_weights, axis = 1)"
   ]
  },
  {
   "cell_type": "code",
   "execution_count": 108,
   "metadata": {},
   "outputs": [
    {
     "name": "stdout",
     "output_type": "stream",
     "text": [
      "testation accuracy: 87.5598%\n"
     ]
    }
   ],
   "source": [
    "ensemble_test_accuracy = 100.0*np.sum(ensemble_predictions==np.argmax(test_targets, axis=1))/len(ensemble_predictions)\n",
    "print('testation accuracy: %.4f%%' % ensemble_test_accuracy)"
   ]
  },
  {
   "cell_type": "code",
   "execution_count": null,
   "metadata": {},
   "outputs": [],
   "source": []
  },
  {
   "cell_type": "code",
   "execution_count": null,
   "metadata": {},
   "outputs": [],
   "source": []
  },
  {
   "cell_type": "code",
   "execution_count": null,
   "metadata": {},
   "outputs": [],
   "source": []
  },
  {
   "cell_type": "code",
   "execution_count": null,
   "metadata": {},
   "outputs": [],
   "source": []
  },
  {
   "cell_type": "code",
   "execution_count": null,
   "metadata": {},
   "outputs": [],
   "source": []
  },
  {
   "cell_type": "code",
   "execution_count": null,
   "metadata": {},
   "outputs": [],
   "source": []
  },
  {
   "cell_type": "code",
   "execution_count": null,
   "metadata": {},
   "outputs": [],
   "source": []
  },
  {
   "cell_type": "code",
   "execution_count": null,
   "metadata": {},
   "outputs": [],
   "source": []
  },
  {
   "cell_type": "code",
   "execution_count": null,
   "metadata": {},
   "outputs": [],
   "source": []
  },
  {
   "cell_type": "code",
   "execution_count": null,
   "metadata": {},
   "outputs": [],
   "source": []
  }
 ],
 "metadata": {
  "kernelspec": {
   "display_name": "Python 2",
   "language": "python",
   "name": "python2"
  },
  "language_info": {
   "codemirror_mode": {
    "name": "ipython",
    "version": 2
   },
   "file_extension": ".py",
   "mimetype": "text/x-python",
   "name": "python",
   "nbconvert_exporter": "python",
   "pygments_lexer": "ipython2",
   "version": "2.7.12"
  }
 },
 "nbformat": 4,
 "nbformat_minor": 2
}
